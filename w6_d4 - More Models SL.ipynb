{
 "cells": [
  {
   "cell_type": "code",
   "execution_count": 1,
   "metadata": {},
   "outputs": [],
   "source": [
    "import pandas as pd\n",
    "from sklearn.datasets import load_diabetes, load_wine\n",
    "from sklearn.model_selection import train_test_split as tts"
   ]
  },
  {
   "cell_type": "code",
   "execution_count": 2,
   "metadata": {},
   "outputs": [
    {
     "data": {
      "text/html": [
       "<div>\n",
       "<style scoped>\n",
       "    .dataframe tbody tr th:only-of-type {\n",
       "        vertical-align: middle;\n",
       "    }\n",
       "\n",
       "    .dataframe tbody tr th {\n",
       "        vertical-align: top;\n",
       "    }\n",
       "\n",
       "    .dataframe thead th {\n",
       "        text-align: right;\n",
       "    }\n",
       "</style>\n",
       "<table border=\"1\" class=\"dataframe\">\n",
       "  <thead>\n",
       "    <tr style=\"text-align: right;\">\n",
       "      <th></th>\n",
       "      <th>age</th>\n",
       "      <th>sex</th>\n",
       "      <th>bmi</th>\n",
       "      <th>bp</th>\n",
       "      <th>s1</th>\n",
       "      <th>s2</th>\n",
       "      <th>s3</th>\n",
       "      <th>s4</th>\n",
       "      <th>s5</th>\n",
       "      <th>s6</th>\n",
       "      <th>target</th>\n",
       "    </tr>\n",
       "  </thead>\n",
       "  <tbody>\n",
       "    <tr>\n",
       "      <td>0</td>\n",
       "      <td>0.038076</td>\n",
       "      <td>0.050680</td>\n",
       "      <td>0.061696</td>\n",
       "      <td>0.021872</td>\n",
       "      <td>-0.044223</td>\n",
       "      <td>-0.034821</td>\n",
       "      <td>-0.043401</td>\n",
       "      <td>-0.002592</td>\n",
       "      <td>0.019908</td>\n",
       "      <td>-0.017646</td>\n",
       "      <td>151.0</td>\n",
       "    </tr>\n",
       "    <tr>\n",
       "      <td>1</td>\n",
       "      <td>-0.001882</td>\n",
       "      <td>-0.044642</td>\n",
       "      <td>-0.051474</td>\n",
       "      <td>-0.026328</td>\n",
       "      <td>-0.008449</td>\n",
       "      <td>-0.019163</td>\n",
       "      <td>0.074412</td>\n",
       "      <td>-0.039493</td>\n",
       "      <td>-0.068330</td>\n",
       "      <td>-0.092204</td>\n",
       "      <td>75.0</td>\n",
       "    </tr>\n",
       "    <tr>\n",
       "      <td>2</td>\n",
       "      <td>0.085299</td>\n",
       "      <td>0.050680</td>\n",
       "      <td>0.044451</td>\n",
       "      <td>-0.005671</td>\n",
       "      <td>-0.045599</td>\n",
       "      <td>-0.034194</td>\n",
       "      <td>-0.032356</td>\n",
       "      <td>-0.002592</td>\n",
       "      <td>0.002864</td>\n",
       "      <td>-0.025930</td>\n",
       "      <td>141.0</td>\n",
       "    </tr>\n",
       "    <tr>\n",
       "      <td>3</td>\n",
       "      <td>-0.089063</td>\n",
       "      <td>-0.044642</td>\n",
       "      <td>-0.011595</td>\n",
       "      <td>-0.036656</td>\n",
       "      <td>0.012191</td>\n",
       "      <td>0.024991</td>\n",
       "      <td>-0.036038</td>\n",
       "      <td>0.034309</td>\n",
       "      <td>0.022692</td>\n",
       "      <td>-0.009362</td>\n",
       "      <td>206.0</td>\n",
       "    </tr>\n",
       "    <tr>\n",
       "      <td>4</td>\n",
       "      <td>0.005383</td>\n",
       "      <td>-0.044642</td>\n",
       "      <td>-0.036385</td>\n",
       "      <td>0.021872</td>\n",
       "      <td>0.003935</td>\n",
       "      <td>0.015596</td>\n",
       "      <td>0.008142</td>\n",
       "      <td>-0.002592</td>\n",
       "      <td>-0.031991</td>\n",
       "      <td>-0.046641</td>\n",
       "      <td>135.0</td>\n",
       "    </tr>\n",
       "  </tbody>\n",
       "</table>\n",
       "</div>"
      ],
      "text/plain": [
       "        age       sex       bmi        bp        s1        s2        s3  \\\n",
       "0  0.038076  0.050680  0.061696  0.021872 -0.044223 -0.034821 -0.043401   \n",
       "1 -0.001882 -0.044642 -0.051474 -0.026328 -0.008449 -0.019163  0.074412   \n",
       "2  0.085299  0.050680  0.044451 -0.005671 -0.045599 -0.034194 -0.032356   \n",
       "3 -0.089063 -0.044642 -0.011595 -0.036656  0.012191  0.024991 -0.036038   \n",
       "4  0.005383 -0.044642 -0.036385  0.021872  0.003935  0.015596  0.008142   \n",
       "\n",
       "         s4        s5        s6  target  \n",
       "0 -0.002592  0.019908 -0.017646   151.0  \n",
       "1 -0.039493 -0.068330 -0.092204    75.0  \n",
       "2 -0.002592  0.002864 -0.025930   141.0  \n",
       "3  0.034309  0.022692 -0.009362   206.0  \n",
       "4 -0.002592 -0.031991 -0.046641   135.0  "
      ]
     },
     "execution_count": 2,
     "metadata": {},
     "output_type": "execute_result"
    }
   ],
   "source": [
    "diabetes=pd.DataFrame(load_diabetes().data, columns=load_diabetes().feature_names)\n",
    "diabetes['target']=load_diabetes().target\n",
    "\n",
    "diabetes.head()"
   ]
  },
  {
   "cell_type": "code",
   "execution_count": 3,
   "metadata": {},
   "outputs": [
    {
     "data": {
      "text/plain": [
       "array([0, 1, 2])"
      ]
     },
     "execution_count": 3,
     "metadata": {},
     "output_type": "execute_result"
    }
   ],
   "source": [
    "wine=pd.DataFrame(load_wine().data, columns=load_wine().feature_names)\n",
    "wine['target']=load_wine().target\n",
    "\n",
    "wine.target.unique()"
   ]
  },
  {
   "cell_type": "code",
   "execution_count": 4,
   "metadata": {},
   "outputs": [],
   "source": [
    "X_train_d, X_test_d, y_train_d, y_test_d = tts(diabetes.drop('target', axis=1), diabetes.target)"
   ]
  },
  {
   "cell_type": "code",
   "execution_count": 5,
   "metadata": {},
   "outputs": [],
   "source": [
    "X_train_v, X_test_v, y_train_v, y_test_v = tts(wine.drop('target', axis=1), wine.target)"
   ]
  },
  {
   "cell_type": "markdown",
   "metadata": {},
   "source": [
    "# Gradiente Descendente Estocástico SGD\n",
    "\n",
    "![](data/grad1.png)\n",
    "\n",
    "![](data/grad2.jpg)"
   ]
  },
  {
   "cell_type": "markdown",
   "metadata": {},
   "source": [
    "Es una derivación numérica. Lo estocástico viene de la elección de la muestra, en vez de coger todos los datos solo coge uno. Reduce el costo computacional. Sirve como regresor o como clasificador."
   ]
  },
  {
   "cell_type": "markdown",
   "metadata": {},
   "source": [
    "##### SGDR"
   ]
  },
  {
   "cell_type": "code",
   "execution_count": 6,
   "metadata": {},
   "outputs": [],
   "source": [
    "from sklearn.linear_model import SGDRegressor as SGDR"
   ]
  },
  {
   "cell_type": "code",
   "execution_count": 7,
   "metadata": {},
   "outputs": [
    {
     "name": "stdout",
     "output_type": "stream",
     "text": [
      "train R2: 0.46433705303018913 -- test R2: 0.5975451048580351\n"
     ]
    }
   ],
   "source": [
    "sgdr=SGDR(max_iter=8000)\n",
    "\n",
    "sgdr.fit(X_train_d, y_train_d)\n",
    "\n",
    "train_score=sgdr.score(X_train_d, y_train_d) #R2\n",
    "test_score=sgdr.score(X_test_d, y_test_d)\n",
    "\n",
    "print ('train R2:',train_score, '-- test R2:', test_score)"
   ]
  },
  {
   "cell_type": "code",
   "execution_count": 8,
   "metadata": {},
   "outputs": [
    {
     "data": {
      "text/plain": [
       "SGDRegressor(alpha=0.0001, average=False, early_stopping=False, epsilon=0.1,\n",
       "             eta0=0.01, fit_intercept=True, l1_ratio=0.15,\n",
       "             learning_rate='invscaling', loss='squared_loss', max_iter=8000,\n",
       "             n_iter_no_change=5, penalty='l2', power_t=0.25, random_state=None,\n",
       "             shuffle=True, tol=0.001, validation_fraction=0.1, verbose=0,\n",
       "             warm_start=False)"
      ]
     },
     "execution_count": 8,
     "metadata": {},
     "output_type": "execute_result"
    }
   ],
   "source": [
    "sgdr"
   ]
  },
  {
   "cell_type": "markdown",
   "metadata": {},
   "source": [
    "##### SGDC"
   ]
  },
  {
   "cell_type": "code",
   "execution_count": 9,
   "metadata": {},
   "outputs": [],
   "source": [
    "from sklearn.linear_model import SGDClassifier as SGDC"
   ]
  },
  {
   "cell_type": "code",
   "execution_count": 10,
   "metadata": {},
   "outputs": [
    {
     "name": "stdout",
     "output_type": "stream",
     "text": [
      "train Acc: 0.6015037593984962 -- test Acc: 0.6222222222222222\n"
     ]
    }
   ],
   "source": [
    "sgdc=SGDC(max_iter=8000)\n",
    "\n",
    "sgdc.fit(X_train_v, y_train_v)\n",
    "\n",
    "train_score=sgdc.score(X_train_v, y_train_v) # Accuracy\n",
    "test_score=sgdc.score(X_test_v, y_test_v)\n",
    "\n",
    "print ('train Acc:',train_score, '-- test Acc:', test_score)"
   ]
  },
  {
   "cell_type": "code",
   "execution_count": 11,
   "metadata": {},
   "outputs": [
    {
     "data": {
      "text/plain": [
       "SGDClassifier(alpha=0.0001, average=False, class_weight=None,\n",
       "              early_stopping=False, epsilon=0.1, eta0=0.0, fit_intercept=True,\n",
       "              l1_ratio=0.15, learning_rate='optimal', loss='hinge',\n",
       "              max_iter=8000, n_iter_no_change=5, n_jobs=None, penalty='l2',\n",
       "              power_t=0.5, random_state=None, shuffle=True, tol=0.001,\n",
       "              validation_fraction=0.1, verbose=0, warm_start=False)"
      ]
     },
     "execution_count": 11,
     "metadata": {},
     "output_type": "execute_result"
    }
   ],
   "source": [
    "sgdc"
   ]
  },
  {
   "cell_type": "markdown",
   "metadata": {},
   "source": [
    "# Naive Bayes\n",
    "\n",
    "$$P(clase|data)= \\frac{P(data|clase)·P(clase)}{P(data)}$$\n",
    "\n",
    "\n"
   ]
  },
  {
   "cell_type": "markdown",
   "metadata": {},
   "source": [
    "+ P(data|clase) es $N(\\mu, \\sigma)$ (datos normalizados)\n",
    "\n",
    "+ P(clase) es el a priori \n",
    "\n",
    "+ P(data) no se calcula\n",
    "\n",
    "+ P(clase|data) el a posteriori, lo que se busca"
   ]
  },
  {
   "cell_type": "markdown",
   "metadata": {},
   "source": [
    "Lo de Naive viene de la suposición de independencia condicional entre predictores, lo cuál no suele ser verdad.\n",
    "\n",
    "\n",
    "$$\\hat{y}=argmax [P(y) \\prod_{i=1}^{n} P(x_i|y)]$$"
   ]
  },
  {
   "cell_type": "markdown",
   "metadata": {},
   "source": [
    "### GNB (Gaussian Naive Bayes)"
   ]
  },
  {
   "cell_type": "code",
   "execution_count": 12,
   "metadata": {},
   "outputs": [
    {
     "name": "stdout",
     "output_type": "stream",
     "text": [
      "train Acc: 0.9849624060150376 -- test Acc: 1.0\n"
     ]
    }
   ],
   "source": [
    "from sklearn.naive_bayes import GaussianNB as GNB\n",
    "\n",
    "gnb=GNB()\n",
    "\n",
    "gnb.fit(X_train_v, y_train_v)\n",
    "\n",
    "train_score=gnb.score(X_train_v, y_train_v) # Accuracy\n",
    "test_score=gnb.score(X_test_v, y_test_v)\n",
    "\n",
    "print ('train Acc:',train_score, '-- test Acc:', test_score)"
   ]
  },
  {
   "cell_type": "code",
   "execution_count": 13,
   "metadata": {},
   "outputs": [
    {
     "data": {
      "text/plain": [
       "GaussianNB(priors=None, var_smoothing=1e-09)"
      ]
     },
     "execution_count": 13,
     "metadata": {},
     "output_type": "execute_result"
    }
   ],
   "source": [
    "gnb"
   ]
  },
  {
   "cell_type": "markdown",
   "metadata": {},
   "source": [
    "### MNB (Multinomial Naive Bayes)"
   ]
  },
  {
   "cell_type": "code",
   "execution_count": 14,
   "metadata": {},
   "outputs": [
    {
     "name": "stdout",
     "output_type": "stream",
     "text": [
      "train Acc: 0.8421052631578947 -- test Acc: 0.8888888888888888\n"
     ]
    }
   ],
   "source": [
    "from sklearn.naive_bayes import MultinomialNB as MNB\n",
    "\n",
    "mnb=MNB()\n",
    "\n",
    "mnb.fit(X_train_v, y_train_v)\n",
    "\n",
    "train_score=mnb.score(X_train_v, y_train_v) # Accuracy\n",
    "test_score=mnb.score(X_test_v, y_test_v)\n",
    "\n",
    "print ('train Acc:',train_score, '-- test Acc:', test_score)"
   ]
  },
  {
   "cell_type": "code",
   "execution_count": 15,
   "metadata": {},
   "outputs": [
    {
     "data": {
      "text/plain": [
       "MultinomialNB(alpha=1.0, class_prior=None, fit_prior=True)"
      ]
     },
     "execution_count": 15,
     "metadata": {},
     "output_type": "execute_result"
    }
   ],
   "source": [
    "mnb"
   ]
  },
  {
   "cell_type": "markdown",
   "metadata": {},
   "source": [
    "### CNB (Complement Naive Bayes)"
   ]
  },
  {
   "cell_type": "code",
   "execution_count": 16,
   "metadata": {},
   "outputs": [
    {
     "name": "stdout",
     "output_type": "stream",
     "text": [
      "train Acc: 0.6541353383458647 -- test Acc: 0.6666666666666666\n"
     ]
    }
   ],
   "source": [
    "from sklearn.naive_bayes import ComplementNB as CNB\n",
    "\n",
    "cnb=CNB()\n",
    "\n",
    "cnb.fit(X_train_v, y_train_v)\n",
    "\n",
    "train_score=cnb.score(X_train_v, y_train_v) # Accuracy\n",
    "test_score=cnb.score(X_test_v, y_test_v)\n",
    "\n",
    "print ('train Acc:',train_score, '-- test Acc:', test_score)"
   ]
  },
  {
   "cell_type": "code",
   "execution_count": 17,
   "metadata": {},
   "outputs": [
    {
     "data": {
      "text/plain": [
       "ComplementNB(alpha=1.0, class_prior=None, fit_prior=True, norm=False)"
      ]
     },
     "execution_count": 17,
     "metadata": {},
     "output_type": "execute_result"
    }
   ],
   "source": [
    "cnb"
   ]
  },
  {
   "cell_type": "markdown",
   "metadata": {},
   "source": [
    "### BNB (Bernoulli Naive Bayes)"
   ]
  },
  {
   "cell_type": "code",
   "execution_count": 18,
   "metadata": {},
   "outputs": [
    {
     "name": "stdout",
     "output_type": "stream",
     "text": [
      "train Acc: 0.40601503759398494 -- test Acc: 0.37777777777777777\n"
     ]
    }
   ],
   "source": [
    "from sklearn.naive_bayes import BernoulliNB as BNB\n",
    "\n",
    "bnb=BNB()\n",
    "\n",
    "bnb.fit(X_train_v, y_train_v)\n",
    "\n",
    "train_score=bnb.score(X_train_v, y_train_v) # Accuracy\n",
    "test_score=bnb.score(X_test_v, y_test_v)\n",
    "\n",
    "print ('train Acc:',train_score, '-- test Acc:', test_score)"
   ]
  },
  {
   "cell_type": "code",
   "execution_count": 19,
   "metadata": {},
   "outputs": [
    {
     "data": {
      "text/plain": [
       "BernoulliNB(alpha=1.0, binarize=0.0, class_prior=None, fit_prior=True)"
      ]
     },
     "execution_count": 19,
     "metadata": {},
     "output_type": "execute_result"
    }
   ],
   "source": [
    "bnb"
   ]
  },
  {
   "cell_type": "markdown",
   "metadata": {},
   "source": [
    "# K-Nearest Neighbors\n",
    "\n",
    "![](data/knn.png)"
   ]
  },
  {
   "cell_type": "markdown",
   "metadata": {},
   "source": [
    "Este modelo se basa en al idea de vecindario, según sea lo que rodea al nuevo dato, así se clasificará.\n",
    "\n",
    "Básicamente se trata de calcular las distancias (euclídea o L1 normalmente) entre los datos, para asignar el valor (etiqueta) al nuevo dato según sean sus vecinos.\n",
    "\n",
    "Se suele tomar $k$ como un número impar para poder tomar una decisión en caso de empate."
   ]
  },
  {
   "cell_type": "markdown",
   "metadata": {},
   "source": [
    "#### KNNR"
   ]
  },
  {
   "cell_type": "code",
   "execution_count": 20,
   "metadata": {},
   "outputs": [],
   "source": [
    "from sklearn.neighbors import KNeighborsRegressor as KNNR"
   ]
  },
  {
   "cell_type": "code",
   "execution_count": 21,
   "metadata": {},
   "outputs": [
    {
     "name": "stdout",
     "output_type": "stream",
     "text": [
      "train R2: 0.503972532161827 -- test R2: 0.5400907717444046\n"
     ]
    }
   ],
   "source": [
    "knnr=KNNR(n_neighbors=7)\n",
    "knnr.fit(X_train_d, y_train_d)\n",
    "\n",
    "train_score=knnr.score(X_train_d, y_train_d) #R2\n",
    "test_score=knnr.score(X_test_d, y_test_d)\n",
    "\n",
    "print ('train R2:',train_score, '-- test R2:', test_score)"
   ]
  },
  {
   "cell_type": "code",
   "execution_count": 22,
   "metadata": {},
   "outputs": [
    {
     "data": {
      "text/plain": [
       "KNeighborsRegressor(algorithm='auto', leaf_size=30, metric='minkowski',\n",
       "                    metric_params=None, n_jobs=None, n_neighbors=7, p=2,\n",
       "                    weights='uniform')"
      ]
     },
     "execution_count": 22,
     "metadata": {},
     "output_type": "execute_result"
    }
   ],
   "source": [
    "knnr"
   ]
  },
  {
   "cell_type": "markdown",
   "metadata": {},
   "source": [
    "#### KNNC"
   ]
  },
  {
   "cell_type": "code",
   "execution_count": 23,
   "metadata": {},
   "outputs": [],
   "source": [
    "from sklearn.neighbors import KNeighborsClassifier as KNNC"
   ]
  },
  {
   "cell_type": "code",
   "execution_count": 24,
   "metadata": {},
   "outputs": [
    {
     "name": "stdout",
     "output_type": "stream",
     "text": [
      "train Acc: 0.7819548872180451 -- test Acc: 0.8\n"
     ]
    }
   ],
   "source": [
    "knnc=KNNC(n_neighbors=5, metric='euclidean')\n",
    "knnc.fit(X_train_v, y_train_v)\n",
    "\n",
    "train_score=knnc.score(X_train_v, y_train_v) #R2\n",
    "test_score=knnc.score(X_test_v, y_test_v)\n",
    "\n",
    "print ('train Acc:',train_score, '-- test Acc:', test_score)"
   ]
  },
  {
   "cell_type": "code",
   "execution_count": 25,
   "metadata": {},
   "outputs": [
    {
     "data": {
      "text/plain": [
       "KNeighborsClassifier(algorithm='auto', leaf_size=30, metric='euclidean',\n",
       "                     metric_params=None, n_jobs=None, n_neighbors=5, p=2,\n",
       "                     weights='uniform')"
      ]
     },
     "execution_count": 25,
     "metadata": {},
     "output_type": "execute_result"
    }
   ],
   "source": [
    "knnc"
   ]
  },
  {
   "cell_type": "markdown",
   "metadata": {},
   "source": [
    "# Ensemble Models\n",
    "\n",
    "\n",
    "### Bagging  -  Boosting\n",
    "\n",
    "\n",
    "![](data/boost.png)"
   ]
  },
  {
   "cell_type": "code",
   "execution_count": 26,
   "metadata": {},
   "outputs": [
    {
     "data": {
      "text/plain": [
       "array([0, 0, 0, 0, 0, 0, 0, 0, 0, 0, 0, 0, 0, 0, 0, 0, 0, 0, 0, 0, 0, 0,\n",
       "       0, 0, 0, 0, 0, 0, 0, 0, 0, 0, 0, 0, 0, 0, 0, 0, 0, 0, 0, 0, 0, 0,\n",
       "       0])"
      ]
     },
     "execution_count": 26,
     "metadata": {},
     "output_type": "execute_result"
    }
   ],
   "source": [
    "# ejemplo\n",
    "\n",
    "knnc=KNNC(n_neighbors=5, metric='euclidean')\n",
    "knnc.fit(X_train_v, y_train_v)\n",
    "y_pred=knnc.predict(X_test_v)\n",
    "\n",
    "knnc2=KNNC(n_neighbors=5, metric='euclidean')\n",
    "knnc2.fit([y_pred for i in range(45)], y_test_v)\n",
    "\n",
    "knnc2.predict([y_pred for i in range(45)])"
   ]
  },
  {
   "cell_type": "markdown",
   "metadata": {},
   "source": [
    "#### Gradient Boost Regressor"
   ]
  },
  {
   "cell_type": "code",
   "execution_count": 27,
   "metadata": {},
   "outputs": [],
   "source": [
    "from sklearn.ensemble import GradientBoostingRegressor as GBR"
   ]
  },
  {
   "cell_type": "code",
   "execution_count": 28,
   "metadata": {},
   "outputs": [
    {
     "name": "stdout",
     "output_type": "stream",
     "text": [
      "train R2: 0.8438096738773168 -- test R2: 0.5793028475108932\n"
     ]
    }
   ],
   "source": [
    "gbr=GBR()\n",
    "gbr.fit(X_train_d, y_train_d)\n",
    "\n",
    "train_score=gbr.score(X_train_d, y_train_d) #R2\n",
    "test_score=gbr.score(X_test_d, y_test_d)\n",
    "\n",
    "print ('train R2:',train_score, '-- test R2:', test_score)"
   ]
  },
  {
   "cell_type": "code",
   "execution_count": 29,
   "metadata": {},
   "outputs": [
    {
     "data": {
      "text/plain": [
       "GradientBoostingRegressor(alpha=0.9, ccp_alpha=0.0, criterion='friedman_mse',\n",
       "                          init=None, learning_rate=0.1, loss='ls', max_depth=3,\n",
       "                          max_features=None, max_leaf_nodes=None,\n",
       "                          min_impurity_decrease=0.0, min_impurity_split=None,\n",
       "                          min_samples_leaf=1, min_samples_split=2,\n",
       "                          min_weight_fraction_leaf=0.0, n_estimators=100,\n",
       "                          n_iter_no_change=None, presort='deprecated',\n",
       "                          random_state=None, subsample=1.0, tol=0.0001,\n",
       "                          validation_fraction=0.1, verbose=0, warm_start=False)"
      ]
     },
     "execution_count": 29,
     "metadata": {},
     "output_type": "execute_result"
    }
   ],
   "source": [
    "gbr"
   ]
  },
  {
   "cell_type": "markdown",
   "metadata": {},
   "source": [
    "#### Gradient Boost Classifier"
   ]
  },
  {
   "cell_type": "code",
   "execution_count": 30,
   "metadata": {},
   "outputs": [],
   "source": [
    "from sklearn.ensemble import GradientBoostingClassifier as GBC"
   ]
  },
  {
   "cell_type": "code",
   "execution_count": 31,
   "metadata": {},
   "outputs": [
    {
     "name": "stdout",
     "output_type": "stream",
     "text": [
      "train Acc: 1.0 -- test Acc: 0.9777777777777777\n"
     ]
    }
   ],
   "source": [
    "gbc=GBC()\n",
    "gbc.fit(X_train_v, y_train_v)\n",
    "\n",
    "train_score=gbc.score(X_train_v, y_train_v) #R2\n",
    "test_score=gbc.score(X_test_v, y_test_v)\n",
    "\n",
    "print ('train Acc:',train_score, '-- test Acc:', test_score)"
   ]
  },
  {
   "cell_type": "markdown",
   "metadata": {},
   "source": [
    "## Extreme Gradient Boosting"
   ]
  },
  {
   "cell_type": "code",
   "execution_count": 32,
   "metadata": {},
   "outputs": [],
   "source": [
    "# !pip3 install xgboost"
   ]
  },
  {
   "cell_type": "markdown",
   "metadata": {},
   "source": [
    "#### XGBR"
   ]
  },
  {
   "cell_type": "code",
   "execution_count": 33,
   "metadata": {},
   "outputs": [
    {
     "name": "stdout",
     "output_type": "stream",
     "text": [
      "[12:44:40] WARNING: src/objective/regression_obj.cu:152: reg:linear is now deprecated in favor of reg:squarederror.\n",
      "train R2: 0.8088588862645718 -- test R2: 0.558125147251999\n"
     ]
    },
    {
     "name": "stderr",
     "output_type": "stream",
     "text": [
      "/Users/data/Library/Python/3.7/lib/python/site-packages/xgboost/core.py:587: FutureWarning: Series.base is deprecated and will be removed in a future version\n",
      "  if getattr(data, 'base', None) is not None and \\\n"
     ]
    }
   ],
   "source": [
    "from xgboost import XGBRegressor as XGBR\n",
    "\n",
    "xgbr=XGBR()\n",
    "xgbr.fit(X_train_d, y_train_d)\n",
    "\n",
    "train_score=xgbr.score(X_train_d, y_train_d) #R2\n",
    "test_score=xgbr.score(X_test_d, y_test_d)\n",
    "\n",
    "print ('train R2:',train_score, '-- test R2:', test_score)"
   ]
  },
  {
   "cell_type": "code",
   "execution_count": 34,
   "metadata": {},
   "outputs": [
    {
     "data": {
      "text/plain": [
       "XGBRegressor(base_score=0.5, booster='gbtree', colsample_bylevel=1,\n",
       "             colsample_bynode=1, colsample_bytree=1, gamma=0,\n",
       "             importance_type='gain', learning_rate=0.1, max_delta_step=0,\n",
       "             max_depth=3, min_child_weight=1, missing=None, n_estimators=100,\n",
       "             n_jobs=1, nthread=None, objective='reg:linear', random_state=0,\n",
       "             reg_alpha=0, reg_lambda=1, scale_pos_weight=1, seed=None,\n",
       "             silent=None, subsample=1, verbosity=1)"
      ]
     },
     "execution_count": 34,
     "metadata": {},
     "output_type": "execute_result"
    }
   ],
   "source": [
    "xgbr"
   ]
  },
  {
   "cell_type": "markdown",
   "metadata": {},
   "source": [
    "#### XGBC"
   ]
  },
  {
   "cell_type": "code",
   "execution_count": 35,
   "metadata": {},
   "outputs": [
    {
     "name": "stdout",
     "output_type": "stream",
     "text": [
      "train Acc: 1.0 -- test Acc: 0.9777777777777777\n"
     ]
    }
   ],
   "source": [
    "from xgboost import XGBClassifier as XGBC\n",
    "\n",
    "xgbc=XGBC()\n",
    "xgbc.fit(X_train_v, y_train_v)\n",
    "\n",
    "train_score=xgbc.score(X_train_v, y_train_v) \n",
    "test_score=xgbc.score(X_test_v, y_test_v)\n",
    "\n",
    "print ('train Acc:',train_score, '-- test Acc:', test_score)"
   ]
  },
  {
   "cell_type": "markdown",
   "metadata": {},
   "source": [
    "### Catboost"
   ]
  },
  {
   "cell_type": "markdown",
   "metadata": {},
   "source": [
    "##### CTR"
   ]
  },
  {
   "cell_type": "code",
   "execution_count": 36,
   "metadata": {},
   "outputs": [
    {
     "name": "stdout",
     "output_type": "stream",
     "text": [
      "train R2: 0.9806705936614191 -- test R2: 0.5517019744814187\n"
     ]
    }
   ],
   "source": [
    "from catboost import CatBoostRegressor as CTR\n",
    "\n",
    "ctr=CTR(verbose=0)\n",
    "ctr.fit(X_train_d, y_train_d)\n",
    "\n",
    "train_score=ctr.score(X_train_d, y_train_d) #R2\n",
    "test_score=ctr.score(X_test_d, y_test_d)\n",
    "\n",
    "print ('train R2:',train_score, '-- test R2:', test_score)"
   ]
  },
  {
   "cell_type": "code",
   "execution_count": 37,
   "metadata": {},
   "outputs": [
    {
     "data": {
      "text/plain": [
       "<catboost.core.CatBoostRegressor at 0x11e8024d0>"
      ]
     },
     "execution_count": 37,
     "metadata": {},
     "output_type": "execute_result"
    }
   ],
   "source": [
    "ctr  # sus hiperparametros en https://catboost.ai/"
   ]
  },
  {
   "cell_type": "markdown",
   "metadata": {},
   "source": [
    "##### CTC"
   ]
  },
  {
   "cell_type": "code",
   "execution_count": 38,
   "metadata": {},
   "outputs": [
    {
     "name": "stdout",
     "output_type": "stream",
     "text": [
      "train Acc: 1.0 -- test Acc: 1.0\n"
     ]
    }
   ],
   "source": [
    "from catboost import CatBoostClassifier as CTC\n",
    "\n",
    "ctc=CTC(verbose=0)\n",
    "ctc.fit(X_train_v, y_train_v)\n",
    "\n",
    "train_score=ctc.score(X_train_v, y_train_v) \n",
    "test_score=ctc.score(X_test_v, y_test_v)\n",
    "\n",
    "print ('train Acc:',train_score, '-- test Acc:', test_score)"
   ]
  },
  {
   "cell_type": "markdown",
   "metadata": {},
   "source": [
    "## LightGBM"
   ]
  },
  {
   "cell_type": "code",
   "execution_count": 39,
   "metadata": {},
   "outputs": [],
   "source": [
    "#!pip3 install lightgbm"
   ]
  },
  {
   "cell_type": "markdown",
   "metadata": {},
   "source": [
    "#### LGBR"
   ]
  },
  {
   "cell_type": "code",
   "execution_count": 40,
   "metadata": {},
   "outputs": [
    {
     "name": "stdout",
     "output_type": "stream",
     "text": [
      "train R2: 0.9059514951330477 -- test R2: 0.45183166261278396\n"
     ]
    }
   ],
   "source": [
    "from lightgbm import LGBMRegressor as LGBMR\n",
    "\n",
    "lgbmr=LGBMR()\n",
    "lgbmr.fit(X_train_d, y_train_d)\n",
    "\n",
    "train_score=lgbmr.score(X_train_d, y_train_d) #R2\n",
    "test_score=lgbmr.score(X_test_d, y_test_d)\n",
    "\n",
    "print ('train R2:',train_score, '-- test R2:', test_score)"
   ]
  },
  {
   "cell_type": "code",
   "execution_count": 41,
   "metadata": {},
   "outputs": [
    {
     "data": {
      "text/plain": [
       "LGBMRegressor(boosting_type='gbdt', class_weight=None, colsample_bytree=1.0,\n",
       "              importance_type='split', learning_rate=0.1, max_depth=-1,\n",
       "              min_child_samples=20, min_child_weight=0.001, min_split_gain=0.0,\n",
       "              n_estimators=100, n_jobs=-1, num_leaves=31, objective=None,\n",
       "              random_state=None, reg_alpha=0.0, reg_lambda=0.0, silent=True,\n",
       "              subsample=1.0, subsample_for_bin=200000, subsample_freq=0)"
      ]
     },
     "execution_count": 41,
     "metadata": {},
     "output_type": "execute_result"
    }
   ],
   "source": [
    "lgbmr"
   ]
  },
  {
   "cell_type": "markdown",
   "metadata": {},
   "source": [
    "#### LGBC"
   ]
  },
  {
   "cell_type": "code",
   "execution_count": 42,
   "metadata": {},
   "outputs": [
    {
     "name": "stdout",
     "output_type": "stream",
     "text": [
      "train Acc: 1.0 -- test Acc: 1.0\n"
     ]
    }
   ],
   "source": [
    "from lightgbm import LGBMClassifier as LGBMC\n",
    "\n",
    "lgbmc=LGBMC(verbose=0)\n",
    "lgbmc.fit(X_train_v, y_train_v)\n",
    "\n",
    "train_score=lgbmc.score(X_train_v, y_train_v) \n",
    "test_score=lgbmc.score(X_test_v, y_test_v)\n",
    "\n",
    "print ('train Acc:',train_score, '-- test Acc:', test_score)"
   ]
  },
  {
   "cell_type": "code",
   "execution_count": 43,
   "metadata": {},
   "outputs": [
    {
     "data": {
      "text/plain": [
       "LGBMClassifier(boosting_type='gbdt', class_weight=None, colsample_bytree=1.0,\n",
       "               importance_type='split', learning_rate=0.1, max_depth=-1,\n",
       "               min_child_samples=20, min_child_weight=0.001, min_split_gain=0.0,\n",
       "               n_estimators=100, n_jobs=-1, num_leaves=31, objective=None,\n",
       "               random_state=None, reg_alpha=0.0, reg_lambda=0.0, silent=True,\n",
       "               subsample=1.0, subsample_for_bin=200000, subsample_freq=0,\n",
       "               verbose=0)"
      ]
     },
     "execution_count": 43,
     "metadata": {},
     "output_type": "execute_result"
    }
   ],
   "source": [
    "lgbmc"
   ]
  },
  {
   "cell_type": "markdown",
   "metadata": {},
   "source": [
    "  "
   ]
  },
  {
   "cell_type": "markdown",
   "metadata": {},
   "source": [
    "# H2o\n",
    "\n",
    "\n",
    "https://www.h2o.ai/"
   ]
  },
  {
   "cell_type": "code",
   "execution_count": 44,
   "metadata": {},
   "outputs": [],
   "source": [
    "import h2o\n",
    "from h2o.automl import H2OAutoML"
   ]
  },
  {
   "cell_type": "code",
   "execution_count": 45,
   "metadata": {},
   "outputs": [
    {
     "name": "stdout",
     "output_type": "stream",
     "text": [
      "Checking whether there is an H2O instance running at http://localhost:54321 ..... not found.\n",
      "Attempting to start a local H2O server...\n",
      "  Java Version: openjdk version \"1.8.0_222\"; OpenJDK Runtime Environment (AdoptOpenJDK)(build 1.8.0_222-b10); OpenJDK 64-Bit Server VM (AdoptOpenJDK)(build 25.222-b10, mixed mode)\n",
      "  Starting server from /Users/data/Library/Python/3.7/lib/python/site-packages/h2o/backend/bin/h2o.jar\n",
      "  Ice root: /var/folders/xx/_vmf5v917hb0dgxz9fw65cnh0000gn/T/tmpevp_k0rq\n",
      "  JVM stdout: /var/folders/xx/_vmf5v917hb0dgxz9fw65cnh0000gn/T/tmpevp_k0rq/h2o_data_started_from_python.out\n",
      "  JVM stderr: /var/folders/xx/_vmf5v917hb0dgxz9fw65cnh0000gn/T/tmpevp_k0rq/h2o_data_started_from_python.err\n",
      "  Server is running at http://127.0.0.1:54321\n",
      "Connecting to H2O server at http://127.0.0.1:54321 ... successful.\n",
      "Warning: Your H2O cluster version is too old (5 months and 23 days)! Please download and install the latest version from http://h2o.ai/download/\n"
     ]
    },
    {
     "data": {
      "text/html": [
       "<div style=\"overflow:auto\"><table style=\"width:50%\"><tr><td>H2O cluster uptime:</td>\n",
       "<td>01 secs</td></tr>\n",
       "<tr><td>H2O cluster timezone:</td>\n",
       "<td>America/Mexico_City</td></tr>\n",
       "<tr><td>H2O data parsing timezone:</td>\n",
       "<td>UTC</td></tr>\n",
       "<tr><td>H2O cluster version:</td>\n",
       "<td>3.26.0.10</td></tr>\n",
       "<tr><td>H2O cluster version age:</td>\n",
       "<td>5 months and 23 days !!!</td></tr>\n",
       "<tr><td>H2O cluster name:</td>\n",
       "<td>H2O_from_python_data_kejhad</td></tr>\n",
       "<tr><td>H2O cluster total nodes:</td>\n",
       "<td>1</td></tr>\n",
       "<tr><td>H2O cluster free memory:</td>\n",
       "<td>1.778 Gb</td></tr>\n",
       "<tr><td>H2O cluster total cores:</td>\n",
       "<td>0</td></tr>\n",
       "<tr><td>H2O cluster allowed cores:</td>\n",
       "<td>0</td></tr>\n",
       "<tr><td>H2O cluster status:</td>\n",
       "<td>accepting new members, healthy</td></tr>\n",
       "<tr><td>H2O connection url:</td>\n",
       "<td>http://127.0.0.1:54321</td></tr>\n",
       "<tr><td>H2O connection proxy:</td>\n",
       "<td>{'http': None, 'https': None}</td></tr>\n",
       "<tr><td>H2O internal security:</td>\n",
       "<td>False</td></tr>\n",
       "<tr><td>H2O API Extensions:</td>\n",
       "<td>Amazon S3, XGBoost, Algos, AutoML, Core V3, TargetEncoder, Core V4</td></tr>\n",
       "<tr><td>Python version:</td>\n",
       "<td>3.7.6 final</td></tr></table></div>"
      ],
      "text/plain": [
       "--------------------------  ------------------------------------------------------------------\n",
       "H2O cluster uptime:         01 secs\n",
       "H2O cluster timezone:       America/Mexico_City\n",
       "H2O data parsing timezone:  UTC\n",
       "H2O cluster version:        3.26.0.10\n",
       "H2O cluster version age:    5 months and 23 days !!!\n",
       "H2O cluster name:           H2O_from_python_data_kejhad\n",
       "H2O cluster total nodes:    1\n",
       "H2O cluster free memory:    1.778 Gb\n",
       "H2O cluster total cores:    0\n",
       "H2O cluster allowed cores:  0\n",
       "H2O cluster status:         accepting new members, healthy\n",
       "H2O connection url:         http://127.0.0.1:54321\n",
       "H2O connection proxy:       {'http': None, 'https': None}\n",
       "H2O internal security:      False\n",
       "H2O API Extensions:         Amazon S3, XGBoost, Algos, AutoML, Core V3, TargetEncoder, Core V4\n",
       "Python version:             3.7.6 final\n",
       "--------------------------  ------------------------------------------------------------------"
      ]
     },
     "metadata": {},
     "output_type": "display_data"
    }
   ],
   "source": [
    "h2o.init()"
   ]
  },
  {
   "cell_type": "code",
   "execution_count": 46,
   "metadata": {},
   "outputs": [
    {
     "name": "stdout",
     "output_type": "stream",
     "text": [
      "Parse progress: |█████████████████████████████████████████████████████████| 100%\n",
      "Parse progress: |█████████████████████████████████████████████████████████| 100%\n"
     ]
    }
   ],
   "source": [
    "url='https://s3.amazonaws.com/erin-data/higgs/'\n",
    "\n",
    "\n",
    "# parsear datos a h2o\n",
    "train=h2o.import_file(url + 'higgs_train_10k.csv')\n",
    "test=h2o.import_file(url + 'higgs_test_5k.csv')\n",
    "\n",
    "\n",
    "X=train.columns\n",
    "y='response'\n",
    "X.remove(y)"
   ]
  },
  {
   "cell_type": "code",
   "execution_count": 47,
   "metadata": {},
   "outputs": [],
   "source": [
    "# factor para clasificacion binaria\n",
    "\n",
    "train[y]=train[y].asfactor()\n",
    "test[y]=test[y].asfactor()"
   ]
  },
  {
   "cell_type": "code",
   "execution_count": 48,
   "metadata": {},
   "outputs": [
    {
     "name": "stdout",
     "output_type": "stream",
     "text": [
      "AutoML progress: |████████████████████████████████████████████████████████| 100%\n"
     ]
    }
   ],
   "source": [
    "# 20 modelos\n",
    "\n",
    "aml=H2OAutoML(max_models=20, seed=1)\n",
    "aml.train(x=X, y=y, training_frame=train)"
   ]
  },
  {
   "cell_type": "code",
   "execution_count": 49,
   "metadata": {},
   "outputs": [
    {
     "data": {
      "text/html": [
       "<table>\n",
       "<thead>\n",
       "<tr><th>model_id                                           </th><th style=\"text-align: right;\">     auc</th><th style=\"text-align: right;\">  logloss</th><th style=\"text-align: right;\">  mean_per_class_error</th><th style=\"text-align: right;\">    rmse</th><th style=\"text-align: right;\">     mse</th></tr>\n",
       "</thead>\n",
       "<tbody>\n",
       "<tr><td>StackedEnsemble_AllModels_AutoML_20200430_124508   </td><td style=\"text-align: right;\">0.790773</td><td style=\"text-align: right;\"> 0.550295</td><td style=\"text-align: right;\">              0.315257</td><td style=\"text-align: right;\">0.431716</td><td style=\"text-align: right;\">0.186378</td></tr>\n",
       "<tr><td>StackedEnsemble_BestOfFamily_AutoML_20200430_124508</td><td style=\"text-align: right;\">0.789645</td><td style=\"text-align: right;\"> 0.550905</td><td style=\"text-align: right;\">              0.313189</td><td style=\"text-align: right;\">0.432131</td><td style=\"text-align: right;\">0.186737</td></tr>\n",
       "<tr><td>XGBoost_grid_1_AutoML_20200430_124508_model_4      </td><td style=\"text-align: right;\">0.785011</td><td style=\"text-align: right;\"> 0.556344</td><td style=\"text-align: right;\">              0.318063</td><td style=\"text-align: right;\">0.434527</td><td style=\"text-align: right;\">0.188814</td></tr>\n",
       "<tr><td>XGBoost_3_AutoML_20200430_124508                   </td><td style=\"text-align: right;\">0.784844</td><td style=\"text-align: right;\"> 0.557121</td><td style=\"text-align: right;\">              0.311898</td><td style=\"text-align: right;\">0.434717</td><td style=\"text-align: right;\">0.188979</td></tr>\n",
       "<tr><td>XGBoost_2_AutoML_20200430_124508                   </td><td style=\"text-align: right;\">0.784043</td><td style=\"text-align: right;\"> 0.555627</td><td style=\"text-align: right;\">              0.312643</td><td style=\"text-align: right;\">0.434452</td><td style=\"text-align: right;\">0.188748</td></tr>\n",
       "<tr><td>XGBoost_grid_1_AutoML_20200430_124508_model_3      </td><td style=\"text-align: right;\">0.784037</td><td style=\"text-align: right;\"> 0.558918</td><td style=\"text-align: right;\">              0.327596</td><td style=\"text-align: right;\">0.435303</td><td style=\"text-align: right;\">0.189489</td></tr>\n",
       "<tr><td>XGBoost_grid_1_AutoML_20200430_124508_model_1      </td><td style=\"text-align: right;\">0.783577</td><td style=\"text-align: right;\"> 0.559298</td><td style=\"text-align: right;\">              0.336173</td><td style=\"text-align: right;\">0.435577</td><td style=\"text-align: right;\">0.189727</td></tr>\n",
       "<tr><td>XGBoost_1_AutoML_20200430_124508                   </td><td style=\"text-align: right;\">0.783156</td><td style=\"text-align: right;\"> 0.55631 </td><td style=\"text-align: right;\">              0.322884</td><td style=\"text-align: right;\">0.434894</td><td style=\"text-align: right;\">0.189132</td></tr>\n",
       "<tr><td>GBM_5_AutoML_20200430_124508                       </td><td style=\"text-align: right;\">0.780344</td><td style=\"text-align: right;\"> 0.558723</td><td style=\"text-align: right;\">              0.334826</td><td style=\"text-align: right;\">0.436138</td><td style=\"text-align: right;\">0.190216</td></tr>\n",
       "<tr><td>GBM_1_AutoML_20200430_124508                       </td><td style=\"text-align: right;\">0.780286</td><td style=\"text-align: right;\"> 0.560701</td><td style=\"text-align: right;\">              0.316822</td><td style=\"text-align: right;\">0.43642 </td><td style=\"text-align: right;\">0.190462</td></tr>\n",
       "<tr><td>GBM_2_AutoML_20200430_124508                       </td><td style=\"text-align: right;\">0.77971 </td><td style=\"text-align: right;\"> 0.560845</td><td style=\"text-align: right;\">              0.332059</td><td style=\"text-align: right;\">0.436651</td><td style=\"text-align: right;\">0.190664</td></tr>\n",
       "<tr><td>GBM_3_AutoML_20200430_124508                       </td><td style=\"text-align: right;\">0.774661</td><td style=\"text-align: right;\"> 0.56568 </td><td style=\"text-align: right;\">              0.33475 </td><td style=\"text-align: right;\">0.43918 </td><td style=\"text-align: right;\">0.192879</td></tr>\n",
       "<tr><td>XGBoost_grid_1_AutoML_20200430_124508_model_2      </td><td style=\"text-align: right;\">0.773   </td><td style=\"text-align: right;\"> 0.577489</td><td style=\"text-align: right;\">              0.34726 </td><td style=\"text-align: right;\">0.443367</td><td style=\"text-align: right;\">0.196575</td></tr>\n",
       "<tr><td>GBM_4_AutoML_20200430_124508                       </td><td style=\"text-align: right;\">0.769793</td><td style=\"text-align: right;\"> 0.571616</td><td style=\"text-align: right;\">              0.338649</td><td style=\"text-align: right;\">0.441869</td><td style=\"text-align: right;\">0.195248</td></tr>\n",
       "<tr><td>GBM_grid_1_AutoML_20200430_124508_model_1          </td><td style=\"text-align: right;\">0.769752</td><td style=\"text-align: right;\"> 0.572583</td><td style=\"text-align: right;\">              0.344331</td><td style=\"text-align: right;\">0.442452</td><td style=\"text-align: right;\">0.195764</td></tr>\n",
       "<tr><td>DRF_1_AutoML_20200430_124508                       </td><td style=\"text-align: right;\">0.76334 </td><td style=\"text-align: right;\"> 0.580105</td><td style=\"text-align: right;\">              0.342391</td><td style=\"text-align: right;\">0.445477</td><td style=\"text-align: right;\">0.198449</td></tr>\n",
       "<tr><td>XRT_1_AutoML_20200430_124508                       </td><td style=\"text-align: right;\">0.76257 </td><td style=\"text-align: right;\"> 0.582324</td><td style=\"text-align: right;\">              0.347   </td><td style=\"text-align: right;\">0.446207</td><td style=\"text-align: right;\">0.199101</td></tr>\n",
       "<tr><td>GBM_grid_1_AutoML_20200430_124508_model_2          </td><td style=\"text-align: right;\">0.752753</td><td style=\"text-align: right;\"> 0.931836</td><td style=\"text-align: right;\">              0.345093</td><td style=\"text-align: right;\">0.496916</td><td style=\"text-align: right;\">0.246926</td></tr>\n",
       "<tr><td>DeepLearning_grid_1_AutoML_20200430_124508_model_2 </td><td style=\"text-align: right;\">0.740726</td><td style=\"text-align: right;\"> 0.597107</td><td style=\"text-align: right;\">              0.361358</td><td style=\"text-align: right;\">0.45351 </td><td style=\"text-align: right;\">0.205671</td></tr>\n",
       "<tr><td>DeepLearning_grid_1_AutoML_20200430_124508_model_1 </td><td style=\"text-align: right;\">0.692751</td><td style=\"text-align: right;\"> 0.657308</td><td style=\"text-align: right;\">              0.406303</td><td style=\"text-align: right;\">0.475645</td><td style=\"text-align: right;\">0.226238</td></tr>\n",
       "<tr><td>GLM_grid_1_AutoML_20200430_124508_model_1          </td><td style=\"text-align: right;\">0.682648</td><td style=\"text-align: right;\"> 0.63852 </td><td style=\"text-align: right;\">              0.397234</td><td style=\"text-align: right;\">0.472683</td><td style=\"text-align: right;\">0.223429</td></tr>\n",
       "<tr><td>DeepLearning_1_AutoML_20200430_124508              </td><td style=\"text-align: right;\">0.682453</td><td style=\"text-align: right;\"> 0.641888</td><td style=\"text-align: right;\">              0.404674</td><td style=\"text-align: right;\">0.473444</td><td style=\"text-align: right;\">0.224149</td></tr>\n",
       "</tbody>\n",
       "</table>"
      ]
     },
     "metadata": {},
     "output_type": "display_data"
    },
    {
     "data": {
      "text/plain": []
     },
     "execution_count": 49,
     "metadata": {},
     "output_type": "execute_result"
    }
   ],
   "source": [
    "lb=aml.leaderboard\n",
    "\n",
    "lb.head(rows=lb.nrows)"
   ]
  },
  {
   "cell_type": "code",
   "execution_count": 50,
   "metadata": {
    "scrolled": false
   },
   "outputs": [
    {
     "name": "stdout",
     "output_type": "stream",
     "text": [
      "Model Details\n",
      "=============\n",
      "H2OStackedEnsembleEstimator :  Stacked Ensemble\n",
      "Model Key:  StackedEnsemble_AllModels_AutoML_20200430_124508\n",
      "\n",
      "No model summary for this model\n",
      "\n",
      "ModelMetricsBinomialGLM: stackedensemble\n",
      "** Reported on train data. **\n",
      "\n",
      "MSE: 0.10650946605525893\n",
      "RMSE: 0.3263578803327092\n",
      "LogLoss: 0.36394390778795854\n",
      "Null degrees of freedom: 9999\n",
      "Residual degrees of freedom: 9986\n",
      "Null deviance: 13828.113387424273\n",
      "Residual deviance: 7278.878155759171\n",
      "AIC: 7306.878155759171\n",
      "AUC: 0.9530689931652081\n",
      "pr_auc: 0.9574066686102832\n",
      "Gini: 0.9061379863304162\n",
      "\n",
      "Confusion Matrix (Act/Pred) for max f1 @ threshold = 0.46266883041175016: \n"
     ]
    },
    {
     "data": {
      "text/html": [
       "<div>\n",
       "<style scoped>\n",
       "    .dataframe tbody tr th:only-of-type {\n",
       "        vertical-align: middle;\n",
       "    }\n",
       "\n",
       "    .dataframe tbody tr th {\n",
       "        vertical-align: top;\n",
       "    }\n",
       "\n",
       "    .dataframe thead th {\n",
       "        text-align: right;\n",
       "    }\n",
       "</style>\n",
       "<table border=\"1\" class=\"dataframe\">\n",
       "  <thead>\n",
       "    <tr style=\"text-align: right;\">\n",
       "      <th></th>\n",
       "      <th></th>\n",
       "      <th>0</th>\n",
       "      <th>1</th>\n",
       "      <th>Error</th>\n",
       "      <th>Rate</th>\n",
       "    </tr>\n",
       "  </thead>\n",
       "  <tbody>\n",
       "    <tr>\n",
       "      <td>0</td>\n",
       "      <td>0</td>\n",
       "      <td>3831.0</td>\n",
       "      <td>874.0</td>\n",
       "      <td>0.1858</td>\n",
       "      <td>(874.0/4705.0)</td>\n",
       "    </tr>\n",
       "    <tr>\n",
       "      <td>1</td>\n",
       "      <td>1</td>\n",
       "      <td>371.0</td>\n",
       "      <td>4924.0</td>\n",
       "      <td>0.0701</td>\n",
       "      <td>(371.0/5295.0)</td>\n",
       "    </tr>\n",
       "    <tr>\n",
       "      <td>2</td>\n",
       "      <td>Total</td>\n",
       "      <td>4202.0</td>\n",
       "      <td>5798.0</td>\n",
       "      <td>0.1245</td>\n",
       "      <td>(1245.0/10000.0)</td>\n",
       "    </tr>\n",
       "  </tbody>\n",
       "</table>\n",
       "</div>"
      ],
      "text/plain": [
       "               0       1   Error               Rate\n",
       "0      0  3831.0   874.0  0.1858     (874.0/4705.0)\n",
       "1      1   371.0  4924.0  0.0701     (371.0/5295.0)\n",
       "2  Total  4202.0  5798.0  0.1245   (1245.0/10000.0)"
      ]
     },
     "metadata": {},
     "output_type": "display_data"
    },
    {
     "name": "stdout",
     "output_type": "stream",
     "text": [
      "\n",
      "Maximum Metrics: Maximum metrics at their respective thresholds\n"
     ]
    },
    {
     "data": {
      "text/html": [
       "<div>\n",
       "<style scoped>\n",
       "    .dataframe tbody tr th:only-of-type {\n",
       "        vertical-align: middle;\n",
       "    }\n",
       "\n",
       "    .dataframe tbody tr th {\n",
       "        vertical-align: top;\n",
       "    }\n",
       "\n",
       "    .dataframe thead th {\n",
       "        text-align: right;\n",
       "    }\n",
       "</style>\n",
       "<table border=\"1\" class=\"dataframe\">\n",
       "  <thead>\n",
       "    <tr style=\"text-align: right;\">\n",
       "      <th></th>\n",
       "      <th>metric</th>\n",
       "      <th>threshold</th>\n",
       "      <th>value</th>\n",
       "      <th>idx</th>\n",
       "    </tr>\n",
       "  </thead>\n",
       "  <tbody>\n",
       "    <tr>\n",
       "      <td>0</td>\n",
       "      <td>max f1</td>\n",
       "      <td>0.462669</td>\n",
       "      <td>0.887767</td>\n",
       "      <td>221.0</td>\n",
       "    </tr>\n",
       "    <tr>\n",
       "      <td>1</td>\n",
       "      <td>max f2</td>\n",
       "      <td>0.383789</td>\n",
       "      <td>0.928538</td>\n",
       "      <td>253.0</td>\n",
       "    </tr>\n",
       "    <tr>\n",
       "      <td>2</td>\n",
       "      <td>max f0point5</td>\n",
       "      <td>0.630102</td>\n",
       "      <td>0.898773</td>\n",
       "      <td>154.0</td>\n",
       "    </tr>\n",
       "    <tr>\n",
       "      <td>3</td>\n",
       "      <td>max accuracy</td>\n",
       "      <td>0.500292</td>\n",
       "      <td>0.876400</td>\n",
       "      <td>207.0</td>\n",
       "    </tr>\n",
       "    <tr>\n",
       "      <td>4</td>\n",
       "      <td>max precision</td>\n",
       "      <td>0.945924</td>\n",
       "      <td>1.000000</td>\n",
       "      <td>0.0</td>\n",
       "    </tr>\n",
       "    <tr>\n",
       "      <td>5</td>\n",
       "      <td>max recall</td>\n",
       "      <td>0.165414</td>\n",
       "      <td>1.000000</td>\n",
       "      <td>350.0</td>\n",
       "    </tr>\n",
       "    <tr>\n",
       "      <td>6</td>\n",
       "      <td>max specificity</td>\n",
       "      <td>0.945924</td>\n",
       "      <td>1.000000</td>\n",
       "      <td>0.0</td>\n",
       "    </tr>\n",
       "    <tr>\n",
       "      <td>7</td>\n",
       "      <td>max absolute_mcc</td>\n",
       "      <td>0.469901</td>\n",
       "      <td>0.753015</td>\n",
       "      <td>218.0</td>\n",
       "    </tr>\n",
       "    <tr>\n",
       "      <td>8</td>\n",
       "      <td>max min_per_class_accuracy</td>\n",
       "      <td>0.531416</td>\n",
       "      <td>0.874410</td>\n",
       "      <td>195.0</td>\n",
       "    </tr>\n",
       "    <tr>\n",
       "      <td>9</td>\n",
       "      <td>max mean_per_class_accuracy</td>\n",
       "      <td>0.528675</td>\n",
       "      <td>0.875155</td>\n",
       "      <td>196.0</td>\n",
       "    </tr>\n",
       "    <tr>\n",
       "      <td>10</td>\n",
       "      <td>max tns</td>\n",
       "      <td>0.945924</td>\n",
       "      <td>4705.000000</td>\n",
       "      <td>0.0</td>\n",
       "    </tr>\n",
       "    <tr>\n",
       "      <td>11</td>\n",
       "      <td>max fns</td>\n",
       "      <td>0.945924</td>\n",
       "      <td>5290.000000</td>\n",
       "      <td>0.0</td>\n",
       "    </tr>\n",
       "    <tr>\n",
       "      <td>12</td>\n",
       "      <td>max fps</td>\n",
       "      <td>0.048631</td>\n",
       "      <td>4705.000000</td>\n",
       "      <td>399.0</td>\n",
       "    </tr>\n",
       "    <tr>\n",
       "      <td>13</td>\n",
       "      <td>max tps</td>\n",
       "      <td>0.165414</td>\n",
       "      <td>5295.000000</td>\n",
       "      <td>350.0</td>\n",
       "    </tr>\n",
       "    <tr>\n",
       "      <td>14</td>\n",
       "      <td>max tnr</td>\n",
       "      <td>0.945924</td>\n",
       "      <td>1.000000</td>\n",
       "      <td>0.0</td>\n",
       "    </tr>\n",
       "    <tr>\n",
       "      <td>15</td>\n",
       "      <td>max fnr</td>\n",
       "      <td>0.945924</td>\n",
       "      <td>0.999056</td>\n",
       "      <td>0.0</td>\n",
       "    </tr>\n",
       "    <tr>\n",
       "      <td>16</td>\n",
       "      <td>max fpr</td>\n",
       "      <td>0.048631</td>\n",
       "      <td>1.000000</td>\n",
       "      <td>399.0</td>\n",
       "    </tr>\n",
       "    <tr>\n",
       "      <td>17</td>\n",
       "      <td>max tpr</td>\n",
       "      <td>0.165414</td>\n",
       "      <td>1.000000</td>\n",
       "      <td>350.0</td>\n",
       "    </tr>\n",
       "  </tbody>\n",
       "</table>\n",
       "</div>"
      ],
      "text/plain": [
       "                         metric  threshold        value    idx\n",
       "0                        max f1   0.462669     0.887767  221.0\n",
       "1                        max f2   0.383789     0.928538  253.0\n",
       "2                  max f0point5   0.630102     0.898773  154.0\n",
       "3                  max accuracy   0.500292     0.876400  207.0\n",
       "4                 max precision   0.945924     1.000000    0.0\n",
       "5                    max recall   0.165414     1.000000  350.0\n",
       "6               max specificity   0.945924     1.000000    0.0\n",
       "7              max absolute_mcc   0.469901     0.753015  218.0\n",
       "8    max min_per_class_accuracy   0.531416     0.874410  195.0\n",
       "9   max mean_per_class_accuracy   0.528675     0.875155  196.0\n",
       "10                      max tns   0.945924  4705.000000    0.0\n",
       "11                      max fns   0.945924  5290.000000    0.0\n",
       "12                      max fps   0.048631  4705.000000  399.0\n",
       "13                      max tps   0.165414  5295.000000  350.0\n",
       "14                      max tnr   0.945924     1.000000    0.0\n",
       "15                      max fnr   0.945924     0.999056    0.0\n",
       "16                      max fpr   0.048631     1.000000  399.0\n",
       "17                      max tpr   0.165414     1.000000  350.0"
      ]
     },
     "metadata": {},
     "output_type": "display_data"
    },
    {
     "name": "stdout",
     "output_type": "stream",
     "text": [
      "\n",
      "Gains/Lift Table: Avg response rate: 52,95 %, avg score: 53,44 %\n"
     ]
    },
    {
     "data": {
      "text/html": [
       "<div>\n",
       "<style scoped>\n",
       "    .dataframe tbody tr th:only-of-type {\n",
       "        vertical-align: middle;\n",
       "    }\n",
       "\n",
       "    .dataframe tbody tr th {\n",
       "        vertical-align: top;\n",
       "    }\n",
       "\n",
       "    .dataframe thead th {\n",
       "        text-align: right;\n",
       "    }\n",
       "</style>\n",
       "<table border=\"1\" class=\"dataframe\">\n",
       "  <thead>\n",
       "    <tr style=\"text-align: right;\">\n",
       "      <th></th>\n",
       "      <th></th>\n",
       "      <th>group</th>\n",
       "      <th>cumulative_data_fraction</th>\n",
       "      <th>lower_threshold</th>\n",
       "      <th>lift</th>\n",
       "      <th>cumulative_lift</th>\n",
       "      <th>response_rate</th>\n",
       "      <th>score</th>\n",
       "      <th>cumulative_response_rate</th>\n",
       "      <th>cumulative_score</th>\n",
       "      <th>capture_rate</th>\n",
       "      <th>cumulative_capture_rate</th>\n",
       "      <th>gain</th>\n",
       "      <th>cumulative_gain</th>\n",
       "    </tr>\n",
       "  </thead>\n",
       "  <tbody>\n",
       "    <tr>\n",
       "      <td>0</td>\n",
       "      <td></td>\n",
       "      <td>1</td>\n",
       "      <td>0.01</td>\n",
       "      <td>0.925078</td>\n",
       "      <td>1.888574</td>\n",
       "      <td>1.888574</td>\n",
       "      <td>1.000</td>\n",
       "      <td>0.932116</td>\n",
       "      <td>1.000000</td>\n",
       "      <td>0.932116</td>\n",
       "      <td>0.018886</td>\n",
       "      <td>0.018886</td>\n",
       "      <td>88.857413</td>\n",
       "      <td>88.857413</td>\n",
       "    </tr>\n",
       "    <tr>\n",
       "      <td>1</td>\n",
       "      <td></td>\n",
       "      <td>2</td>\n",
       "      <td>0.02</td>\n",
       "      <td>0.918915</td>\n",
       "      <td>1.888574</td>\n",
       "      <td>1.888574</td>\n",
       "      <td>1.000</td>\n",
       "      <td>0.922051</td>\n",
       "      <td>1.000000</td>\n",
       "      <td>0.927083</td>\n",
       "      <td>0.018886</td>\n",
       "      <td>0.037771</td>\n",
       "      <td>88.857413</td>\n",
       "      <td>88.857413</td>\n",
       "    </tr>\n",
       "    <tr>\n",
       "      <td>2</td>\n",
       "      <td></td>\n",
       "      <td>3</td>\n",
       "      <td>0.03</td>\n",
       "      <td>0.914263</td>\n",
       "      <td>1.888574</td>\n",
       "      <td>1.888574</td>\n",
       "      <td>1.000</td>\n",
       "      <td>0.916478</td>\n",
       "      <td>1.000000</td>\n",
       "      <td>0.923548</td>\n",
       "      <td>0.018886</td>\n",
       "      <td>0.056657</td>\n",
       "      <td>88.857413</td>\n",
       "      <td>88.857413</td>\n",
       "    </tr>\n",
       "    <tr>\n",
       "      <td>3</td>\n",
       "      <td></td>\n",
       "      <td>4</td>\n",
       "      <td>0.04</td>\n",
       "      <td>0.910117</td>\n",
       "      <td>1.888574</td>\n",
       "      <td>1.888574</td>\n",
       "      <td>1.000</td>\n",
       "      <td>0.912098</td>\n",
       "      <td>1.000000</td>\n",
       "      <td>0.920686</td>\n",
       "      <td>0.018886</td>\n",
       "      <td>0.075543</td>\n",
       "      <td>88.857413</td>\n",
       "      <td>88.857413</td>\n",
       "    </tr>\n",
       "    <tr>\n",
       "      <td>4</td>\n",
       "      <td></td>\n",
       "      <td>5</td>\n",
       "      <td>0.05</td>\n",
       "      <td>0.905256</td>\n",
       "      <td>1.888574</td>\n",
       "      <td>1.888574</td>\n",
       "      <td>1.000</td>\n",
       "      <td>0.907594</td>\n",
       "      <td>1.000000</td>\n",
       "      <td>0.918067</td>\n",
       "      <td>0.018886</td>\n",
       "      <td>0.094429</td>\n",
       "      <td>88.857413</td>\n",
       "      <td>88.857413</td>\n",
       "    </tr>\n",
       "    <tr>\n",
       "      <td>5</td>\n",
       "      <td></td>\n",
       "      <td>6</td>\n",
       "      <td>0.10</td>\n",
       "      <td>0.883624</td>\n",
       "      <td>1.888574</td>\n",
       "      <td>1.888574</td>\n",
       "      <td>1.000</td>\n",
       "      <td>0.894631</td>\n",
       "      <td>1.000000</td>\n",
       "      <td>0.906349</td>\n",
       "      <td>0.094429</td>\n",
       "      <td>0.188857</td>\n",
       "      <td>88.857413</td>\n",
       "      <td>88.857413</td>\n",
       "    </tr>\n",
       "    <tr>\n",
       "      <td>6</td>\n",
       "      <td></td>\n",
       "      <td>7</td>\n",
       "      <td>0.15</td>\n",
       "      <td>0.858595</td>\n",
       "      <td>1.881020</td>\n",
       "      <td>1.886056</td>\n",
       "      <td>0.996</td>\n",
       "      <td>0.870823</td>\n",
       "      <td>0.998667</td>\n",
       "      <td>0.894507</td>\n",
       "      <td>0.094051</td>\n",
       "      <td>0.282908</td>\n",
       "      <td>88.101983</td>\n",
       "      <td>88.605603</td>\n",
       "    </tr>\n",
       "    <tr>\n",
       "      <td>7</td>\n",
       "      <td></td>\n",
       "      <td>8</td>\n",
       "      <td>0.20</td>\n",
       "      <td>0.830512</td>\n",
       "      <td>1.881020</td>\n",
       "      <td>1.884797</td>\n",
       "      <td>0.996</td>\n",
       "      <td>0.844980</td>\n",
       "      <td>0.998000</td>\n",
       "      <td>0.882126</td>\n",
       "      <td>0.094051</td>\n",
       "      <td>0.376959</td>\n",
       "      <td>88.101983</td>\n",
       "      <td>88.479698</td>\n",
       "    </tr>\n",
       "    <tr>\n",
       "      <td>8</td>\n",
       "      <td></td>\n",
       "      <td>9</td>\n",
       "      <td>0.30</td>\n",
       "      <td>0.757385</td>\n",
       "      <td>1.790368</td>\n",
       "      <td>1.853321</td>\n",
       "      <td>0.948</td>\n",
       "      <td>0.796018</td>\n",
       "      <td>0.981333</td>\n",
       "      <td>0.853423</td>\n",
       "      <td>0.179037</td>\n",
       "      <td>0.555996</td>\n",
       "      <td>79.036827</td>\n",
       "      <td>85.332074</td>\n",
       "    </tr>\n",
       "    <tr>\n",
       "      <td>9</td>\n",
       "      <td></td>\n",
       "      <td>10</td>\n",
       "      <td>0.40</td>\n",
       "      <td>0.667887</td>\n",
       "      <td>1.616619</td>\n",
       "      <td>1.794145</td>\n",
       "      <td>0.856</td>\n",
       "      <td>0.713009</td>\n",
       "      <td>0.950000</td>\n",
       "      <td>0.818320</td>\n",
       "      <td>0.161662</td>\n",
       "      <td>0.717658</td>\n",
       "      <td>61.661945</td>\n",
       "      <td>79.414542</td>\n",
       "    </tr>\n",
       "    <tr>\n",
       "      <td>10</td>\n",
       "      <td></td>\n",
       "      <td>11</td>\n",
       "      <td>0.50</td>\n",
       "      <td>0.557686</td>\n",
       "      <td>1.333333</td>\n",
       "      <td>1.701983</td>\n",
       "      <td>0.706</td>\n",
       "      <td>0.613794</td>\n",
       "      <td>0.901200</td>\n",
       "      <td>0.777414</td>\n",
       "      <td>0.133333</td>\n",
       "      <td>0.850992</td>\n",
       "      <td>33.333333</td>\n",
       "      <td>70.198300</td>\n",
       "    </tr>\n",
       "    <tr>\n",
       "      <td>11</td>\n",
       "      <td></td>\n",
       "      <td>12</td>\n",
       "      <td>0.60</td>\n",
       "      <td>0.438975</td>\n",
       "      <td>0.917847</td>\n",
       "      <td>1.571294</td>\n",
       "      <td>0.486</td>\n",
       "      <td>0.497151</td>\n",
       "      <td>0.832000</td>\n",
       "      <td>0.730704</td>\n",
       "      <td>0.091785</td>\n",
       "      <td>0.942776</td>\n",
       "      <td>-8.215297</td>\n",
       "      <td>57.129367</td>\n",
       "    </tr>\n",
       "    <tr>\n",
       "      <td>12</td>\n",
       "      <td></td>\n",
       "      <td>13</td>\n",
       "      <td>0.70</td>\n",
       "      <td>0.327958</td>\n",
       "      <td>0.440038</td>\n",
       "      <td>1.409686</td>\n",
       "      <td>0.233</td>\n",
       "      <td>0.381282</td>\n",
       "      <td>0.746429</td>\n",
       "      <td>0.680786</td>\n",
       "      <td>0.044004</td>\n",
       "      <td>0.986780</td>\n",
       "      <td>-55.996223</td>\n",
       "      <td>40.968569</td>\n",
       "    </tr>\n",
       "    <tr>\n",
       "      <td>13</td>\n",
       "      <td></td>\n",
       "      <td>14</td>\n",
       "      <td>0.80</td>\n",
       "      <td>0.231463</td>\n",
       "      <td>0.113314</td>\n",
       "      <td>1.247639</td>\n",
       "      <td>0.060</td>\n",
       "      <td>0.278768</td>\n",
       "      <td>0.660625</td>\n",
       "      <td>0.630534</td>\n",
       "      <td>0.011331</td>\n",
       "      <td>0.998111</td>\n",
       "      <td>-88.668555</td>\n",
       "      <td>24.763928</td>\n",
       "    </tr>\n",
       "    <tr>\n",
       "      <td>14</td>\n",
       "      <td></td>\n",
       "      <td>15</td>\n",
       "      <td>0.90</td>\n",
       "      <td>0.151917</td>\n",
       "      <td>0.018886</td>\n",
       "      <td>1.111111</td>\n",
       "      <td>0.010</td>\n",
       "      <td>0.193101</td>\n",
       "      <td>0.588333</td>\n",
       "      <td>0.581930</td>\n",
       "      <td>0.001889</td>\n",
       "      <td>1.000000</td>\n",
       "      <td>-98.111426</td>\n",
       "      <td>11.111111</td>\n",
       "    </tr>\n",
       "    <tr>\n",
       "      <td>15</td>\n",
       "      <td></td>\n",
       "      <td>16</td>\n",
       "      <td>1.00</td>\n",
       "      <td>0.046134</td>\n",
       "      <td>0.000000</td>\n",
       "      <td>1.000000</td>\n",
       "      <td>0.000</td>\n",
       "      <td>0.107037</td>\n",
       "      <td>0.529500</td>\n",
       "      <td>0.534441</td>\n",
       "      <td>0.000000</td>\n",
       "      <td>1.000000</td>\n",
       "      <td>-100.000000</td>\n",
       "      <td>0.000000</td>\n",
       "    </tr>\n",
       "  </tbody>\n",
       "</table>\n",
       "</div>"
      ],
      "text/plain": [
       "      group  cumulative_data_fraction  lower_threshold      lift  \\\n",
       "0         1                      0.01         0.925078  1.888574   \n",
       "1         2                      0.02         0.918915  1.888574   \n",
       "2         3                      0.03         0.914263  1.888574   \n",
       "3         4                      0.04         0.910117  1.888574   \n",
       "4         5                      0.05         0.905256  1.888574   \n",
       "5         6                      0.10         0.883624  1.888574   \n",
       "6         7                      0.15         0.858595  1.881020   \n",
       "7         8                      0.20         0.830512  1.881020   \n",
       "8         9                      0.30         0.757385  1.790368   \n",
       "9        10                      0.40         0.667887  1.616619   \n",
       "10       11                      0.50         0.557686  1.333333   \n",
       "11       12                      0.60         0.438975  0.917847   \n",
       "12       13                      0.70         0.327958  0.440038   \n",
       "13       14                      0.80         0.231463  0.113314   \n",
       "14       15                      0.90         0.151917  0.018886   \n",
       "15       16                      1.00         0.046134  0.000000   \n",
       "\n",
       "    cumulative_lift  response_rate     score  cumulative_response_rate  \\\n",
       "0          1.888574          1.000  0.932116                  1.000000   \n",
       "1          1.888574          1.000  0.922051                  1.000000   \n",
       "2          1.888574          1.000  0.916478                  1.000000   \n",
       "3          1.888574          1.000  0.912098                  1.000000   \n",
       "4          1.888574          1.000  0.907594                  1.000000   \n",
       "5          1.888574          1.000  0.894631                  1.000000   \n",
       "6          1.886056          0.996  0.870823                  0.998667   \n",
       "7          1.884797          0.996  0.844980                  0.998000   \n",
       "8          1.853321          0.948  0.796018                  0.981333   \n",
       "9          1.794145          0.856  0.713009                  0.950000   \n",
       "10         1.701983          0.706  0.613794                  0.901200   \n",
       "11         1.571294          0.486  0.497151                  0.832000   \n",
       "12         1.409686          0.233  0.381282                  0.746429   \n",
       "13         1.247639          0.060  0.278768                  0.660625   \n",
       "14         1.111111          0.010  0.193101                  0.588333   \n",
       "15         1.000000          0.000  0.107037                  0.529500   \n",
       "\n",
       "    cumulative_score  capture_rate  cumulative_capture_rate        gain  \\\n",
       "0           0.932116      0.018886                 0.018886   88.857413   \n",
       "1           0.927083      0.018886                 0.037771   88.857413   \n",
       "2           0.923548      0.018886                 0.056657   88.857413   \n",
       "3           0.920686      0.018886                 0.075543   88.857413   \n",
       "4           0.918067      0.018886                 0.094429   88.857413   \n",
       "5           0.906349      0.094429                 0.188857   88.857413   \n",
       "6           0.894507      0.094051                 0.282908   88.101983   \n",
       "7           0.882126      0.094051                 0.376959   88.101983   \n",
       "8           0.853423      0.179037                 0.555996   79.036827   \n",
       "9           0.818320      0.161662                 0.717658   61.661945   \n",
       "10          0.777414      0.133333                 0.850992   33.333333   \n",
       "11          0.730704      0.091785                 0.942776   -8.215297   \n",
       "12          0.680786      0.044004                 0.986780  -55.996223   \n",
       "13          0.630534      0.011331                 0.998111  -88.668555   \n",
       "14          0.581930      0.001889                 1.000000  -98.111426   \n",
       "15          0.534441      0.000000                 1.000000 -100.000000   \n",
       "\n",
       "    cumulative_gain  \n",
       "0         88.857413  \n",
       "1         88.857413  \n",
       "2         88.857413  \n",
       "3         88.857413  \n",
       "4         88.857413  \n",
       "5         88.857413  \n",
       "6         88.605603  \n",
       "7         88.479698  \n",
       "8         85.332074  \n",
       "9         79.414542  \n",
       "10        70.198300  \n",
       "11        57.129367  \n",
       "12        40.968569  \n",
       "13        24.763928  \n",
       "14        11.111111  \n",
       "15         0.000000  "
      ]
     },
     "metadata": {},
     "output_type": "display_data"
    },
    {
     "name": "stdout",
     "output_type": "stream",
     "text": [
      "\n",
      "\n",
      "ModelMetricsBinomialGLM: stackedensemble\n",
      "** Reported on cross-validation data. **\n",
      "\n",
      "MSE: 0.18637843686143707\n",
      "RMSE: 0.43171568984858205\n",
      "LogLoss: 0.5502947079551636\n",
      "Null degrees of freedom: 9999\n",
      "Residual degrees of freedom: 9986\n",
      "Null deviance: 13829.717313823481\n",
      "Residual deviance: 11005.89415910327\n",
      "AIC: 11033.89415910327\n",
      "AUC: 0.7907729406062504\n",
      "pr_auc: 0.8071853776255421\n",
      "Gini: 0.5815458812125007\n",
      "\n",
      "Confusion Matrix (Act/Pred) for max f1 @ threshold = 0.357244074646632: \n"
     ]
    },
    {
     "data": {
      "text/html": [
       "<div>\n",
       "<style scoped>\n",
       "    .dataframe tbody tr th:only-of-type {\n",
       "        vertical-align: middle;\n",
       "    }\n",
       "\n",
       "    .dataframe tbody tr th {\n",
       "        vertical-align: top;\n",
       "    }\n",
       "\n",
       "    .dataframe thead th {\n",
       "        text-align: right;\n",
       "    }\n",
       "</style>\n",
       "<table border=\"1\" class=\"dataframe\">\n",
       "  <thead>\n",
       "    <tr style=\"text-align: right;\">\n",
       "      <th></th>\n",
       "      <th></th>\n",
       "      <th>0</th>\n",
       "      <th>1</th>\n",
       "      <th>Error</th>\n",
       "      <th>Rate</th>\n",
       "    </tr>\n",
       "  </thead>\n",
       "  <tbody>\n",
       "    <tr>\n",
       "      <td>0</td>\n",
       "      <td>0</td>\n",
       "      <td>2340.0</td>\n",
       "      <td>2365.0</td>\n",
       "      <td>0.5027</td>\n",
       "      <td>(2365.0/4705.0)</td>\n",
       "    </tr>\n",
       "    <tr>\n",
       "      <td>1</td>\n",
       "      <td>1</td>\n",
       "      <td>677.0</td>\n",
       "      <td>4618.0</td>\n",
       "      <td>0.1279</td>\n",
       "      <td>(677.0/5295.0)</td>\n",
       "    </tr>\n",
       "    <tr>\n",
       "      <td>2</td>\n",
       "      <td>Total</td>\n",
       "      <td>3017.0</td>\n",
       "      <td>6983.0</td>\n",
       "      <td>0.3042</td>\n",
       "      <td>(3042.0/10000.0)</td>\n",
       "    </tr>\n",
       "  </tbody>\n",
       "</table>\n",
       "</div>"
      ],
      "text/plain": [
       "               0       1   Error               Rate\n",
       "0      0  2340.0  2365.0  0.5027    (2365.0/4705.0)\n",
       "1      1   677.0  4618.0  0.1279     (677.0/5295.0)\n",
       "2  Total  3017.0  6983.0  0.3042   (3042.0/10000.0)"
      ]
     },
     "metadata": {},
     "output_type": "display_data"
    },
    {
     "name": "stdout",
     "output_type": "stream",
     "text": [
      "\n",
      "Maximum Metrics: Maximum metrics at their respective thresholds\n"
     ]
    },
    {
     "data": {
      "text/html": [
       "<div>\n",
       "<style scoped>\n",
       "    .dataframe tbody tr th:only-of-type {\n",
       "        vertical-align: middle;\n",
       "    }\n",
       "\n",
       "    .dataframe tbody tr th {\n",
       "        vertical-align: top;\n",
       "    }\n",
       "\n",
       "    .dataframe thead th {\n",
       "        text-align: right;\n",
       "    }\n",
       "</style>\n",
       "<table border=\"1\" class=\"dataframe\">\n",
       "  <thead>\n",
       "    <tr style=\"text-align: right;\">\n",
       "      <th></th>\n",
       "      <th>metric</th>\n",
       "      <th>threshold</th>\n",
       "      <th>value</th>\n",
       "      <th>idx</th>\n",
       "    </tr>\n",
       "  </thead>\n",
       "  <tbody>\n",
       "    <tr>\n",
       "      <td>0</td>\n",
       "      <td>max f1</td>\n",
       "      <td>0.357244</td>\n",
       "      <td>0.752240</td>\n",
       "      <td>267.0</td>\n",
       "    </tr>\n",
       "    <tr>\n",
       "      <td>1</td>\n",
       "      <td>max f2</td>\n",
       "      <td>0.175415</td>\n",
       "      <td>0.860944</td>\n",
       "      <td>352.0</td>\n",
       "    </tr>\n",
       "    <tr>\n",
       "      <td>2</td>\n",
       "      <td>max f0point5</td>\n",
       "      <td>0.584872</td>\n",
       "      <td>0.739462</td>\n",
       "      <td>165.0</td>\n",
       "    </tr>\n",
       "    <tr>\n",
       "      <td>3</td>\n",
       "      <td>max accuracy</td>\n",
       "      <td>0.519738</td>\n",
       "      <td>0.716600</td>\n",
       "      <td>192.0</td>\n",
       "    </tr>\n",
       "    <tr>\n",
       "      <td>4</td>\n",
       "      <td>max precision</td>\n",
       "      <td>0.940966</td>\n",
       "      <td>1.000000</td>\n",
       "      <td>0.0</td>\n",
       "    </tr>\n",
       "    <tr>\n",
       "      <td>5</td>\n",
       "      <td>max recall</td>\n",
       "      <td>0.064629</td>\n",
       "      <td>1.000000</td>\n",
       "      <td>395.0</td>\n",
       "    </tr>\n",
       "    <tr>\n",
       "      <td>6</td>\n",
       "      <td>max specificity</td>\n",
       "      <td>0.940966</td>\n",
       "      <td>1.000000</td>\n",
       "      <td>0.0</td>\n",
       "    </tr>\n",
       "    <tr>\n",
       "      <td>7</td>\n",
       "      <td>max absolute_mcc</td>\n",
       "      <td>0.543305</td>\n",
       "      <td>0.433341</td>\n",
       "      <td>182.0</td>\n",
       "    </tr>\n",
       "    <tr>\n",
       "      <td>8</td>\n",
       "      <td>max min_per_class_accuracy</td>\n",
       "      <td>0.525142</td>\n",
       "      <td>0.715197</td>\n",
       "      <td>189.0</td>\n",
       "    </tr>\n",
       "    <tr>\n",
       "      <td>9</td>\n",
       "      <td>max mean_per_class_accuracy</td>\n",
       "      <td>0.543305</td>\n",
       "      <td>0.717044</td>\n",
       "      <td>182.0</td>\n",
       "    </tr>\n",
       "    <tr>\n",
       "      <td>10</td>\n",
       "      <td>max tns</td>\n",
       "      <td>0.940966</td>\n",
       "      <td>4705.000000</td>\n",
       "      <td>0.0</td>\n",
       "    </tr>\n",
       "    <tr>\n",
       "      <td>11</td>\n",
       "      <td>max fns</td>\n",
       "      <td>0.940966</td>\n",
       "      <td>5285.000000</td>\n",
       "      <td>0.0</td>\n",
       "    </tr>\n",
       "    <tr>\n",
       "      <td>12</td>\n",
       "      <td>max fps</td>\n",
       "      <td>0.051992</td>\n",
       "      <td>4705.000000</td>\n",
       "      <td>399.0</td>\n",
       "    </tr>\n",
       "    <tr>\n",
       "      <td>13</td>\n",
       "      <td>max tps</td>\n",
       "      <td>0.064629</td>\n",
       "      <td>5295.000000</td>\n",
       "      <td>395.0</td>\n",
       "    </tr>\n",
       "    <tr>\n",
       "      <td>14</td>\n",
       "      <td>max tnr</td>\n",
       "      <td>0.940966</td>\n",
       "      <td>1.000000</td>\n",
       "      <td>0.0</td>\n",
       "    </tr>\n",
       "    <tr>\n",
       "      <td>15</td>\n",
       "      <td>max fnr</td>\n",
       "      <td>0.940966</td>\n",
       "      <td>0.998111</td>\n",
       "      <td>0.0</td>\n",
       "    </tr>\n",
       "    <tr>\n",
       "      <td>16</td>\n",
       "      <td>max fpr</td>\n",
       "      <td>0.051992</td>\n",
       "      <td>1.000000</td>\n",
       "      <td>399.0</td>\n",
       "    </tr>\n",
       "    <tr>\n",
       "      <td>17</td>\n",
       "      <td>max tpr</td>\n",
       "      <td>0.064629</td>\n",
       "      <td>1.000000</td>\n",
       "      <td>395.0</td>\n",
       "    </tr>\n",
       "  </tbody>\n",
       "</table>\n",
       "</div>"
      ],
      "text/plain": [
       "                         metric  threshold        value    idx\n",
       "0                        max f1   0.357244     0.752240  267.0\n",
       "1                        max f2   0.175415     0.860944  352.0\n",
       "2                  max f0point5   0.584872     0.739462  165.0\n",
       "3                  max accuracy   0.519738     0.716600  192.0\n",
       "4                 max precision   0.940966     1.000000    0.0\n",
       "5                    max recall   0.064629     1.000000  395.0\n",
       "6               max specificity   0.940966     1.000000    0.0\n",
       "7              max absolute_mcc   0.543305     0.433341  182.0\n",
       "8    max min_per_class_accuracy   0.525142     0.715197  189.0\n",
       "9   max mean_per_class_accuracy   0.543305     0.717044  182.0\n",
       "10                      max tns   0.940966  4705.000000    0.0\n",
       "11                      max fns   0.940966  5285.000000    0.0\n",
       "12                      max fps   0.051992  4705.000000  399.0\n",
       "13                      max tps   0.064629  5295.000000  395.0\n",
       "14                      max tnr   0.940966     1.000000    0.0\n",
       "15                      max fnr   0.940966     0.998111    0.0\n",
       "16                      max fpr   0.051992     1.000000  399.0\n",
       "17                      max tpr   0.064629     1.000000  395.0"
      ]
     },
     "metadata": {},
     "output_type": "display_data"
    },
    {
     "name": "stdout",
     "output_type": "stream",
     "text": [
      "\n",
      "Gains/Lift Table: Avg response rate: 52,95 %, avg score: 52,94 %\n"
     ]
    },
    {
     "data": {
      "text/html": [
       "<div>\n",
       "<style scoped>\n",
       "    .dataframe tbody tr th:only-of-type {\n",
       "        vertical-align: middle;\n",
       "    }\n",
       "\n",
       "    .dataframe tbody tr th {\n",
       "        vertical-align: top;\n",
       "    }\n",
       "\n",
       "    .dataframe thead th {\n",
       "        text-align: right;\n",
       "    }\n",
       "</style>\n",
       "<table border=\"1\" class=\"dataframe\">\n",
       "  <thead>\n",
       "    <tr style=\"text-align: right;\">\n",
       "      <th></th>\n",
       "      <th></th>\n",
       "      <th>group</th>\n",
       "      <th>cumulative_data_fraction</th>\n",
       "      <th>lower_threshold</th>\n",
       "      <th>lift</th>\n",
       "      <th>cumulative_lift</th>\n",
       "      <th>response_rate</th>\n",
       "      <th>score</th>\n",
       "      <th>cumulative_response_rate</th>\n",
       "      <th>cumulative_score</th>\n",
       "      <th>capture_rate</th>\n",
       "      <th>cumulative_capture_rate</th>\n",
       "      <th>gain</th>\n",
       "      <th>cumulative_gain</th>\n",
       "    </tr>\n",
       "  </thead>\n",
       "  <tbody>\n",
       "    <tr>\n",
       "      <td>0</td>\n",
       "      <td></td>\n",
       "      <td>1</td>\n",
       "      <td>0.01</td>\n",
       "      <td>0.919179</td>\n",
       "      <td>1.831917</td>\n",
       "      <td>1.831917</td>\n",
       "      <td>0.970</td>\n",
       "      <td>0.926844</td>\n",
       "      <td>0.970000</td>\n",
       "      <td>0.926844</td>\n",
       "      <td>0.018319</td>\n",
       "      <td>0.018319</td>\n",
       "      <td>83.191690</td>\n",
       "      <td>83.191690</td>\n",
       "    </tr>\n",
       "    <tr>\n",
       "      <td>1</td>\n",
       "      <td></td>\n",
       "      <td>2</td>\n",
       "      <td>0.02</td>\n",
       "      <td>0.910754</td>\n",
       "      <td>1.850803</td>\n",
       "      <td>1.841360</td>\n",
       "      <td>0.980</td>\n",
       "      <td>0.914680</td>\n",
       "      <td>0.975000</td>\n",
       "      <td>0.920762</td>\n",
       "      <td>0.018508</td>\n",
       "      <td>0.036827</td>\n",
       "      <td>85.080264</td>\n",
       "      <td>84.135977</td>\n",
       "    </tr>\n",
       "    <tr>\n",
       "      <td>2</td>\n",
       "      <td></td>\n",
       "      <td>3</td>\n",
       "      <td>0.03</td>\n",
       "      <td>0.904518</td>\n",
       "      <td>1.831917</td>\n",
       "      <td>1.838212</td>\n",
       "      <td>0.970</td>\n",
       "      <td>0.907732</td>\n",
       "      <td>0.973333</td>\n",
       "      <td>0.916419</td>\n",
       "      <td>0.018319</td>\n",
       "      <td>0.055146</td>\n",
       "      <td>83.191690</td>\n",
       "      <td>83.821215</td>\n",
       "    </tr>\n",
       "    <tr>\n",
       "      <td>3</td>\n",
       "      <td></td>\n",
       "      <td>4</td>\n",
       "      <td>0.04</td>\n",
       "      <td>0.897667</td>\n",
       "      <td>1.718602</td>\n",
       "      <td>1.808310</td>\n",
       "      <td>0.910</td>\n",
       "      <td>0.901151</td>\n",
       "      <td>0.957500</td>\n",
       "      <td>0.912602</td>\n",
       "      <td>0.017186</td>\n",
       "      <td>0.072332</td>\n",
       "      <td>71.860246</td>\n",
       "      <td>80.830973</td>\n",
       "    </tr>\n",
       "    <tr>\n",
       "      <td>4</td>\n",
       "      <td></td>\n",
       "      <td>5</td>\n",
       "      <td>0.05</td>\n",
       "      <td>0.892617</td>\n",
       "      <td>1.794145</td>\n",
       "      <td>1.805477</td>\n",
       "      <td>0.950</td>\n",
       "      <td>0.895057</td>\n",
       "      <td>0.956000</td>\n",
       "      <td>0.909093</td>\n",
       "      <td>0.017941</td>\n",
       "      <td>0.090274</td>\n",
       "      <td>79.414542</td>\n",
       "      <td>80.547686</td>\n",
       "    </tr>\n",
       "    <tr>\n",
       "      <td>5</td>\n",
       "      <td></td>\n",
       "      <td>6</td>\n",
       "      <td>0.10</td>\n",
       "      <td>0.865449</td>\n",
       "      <td>1.726157</td>\n",
       "      <td>1.765817</td>\n",
       "      <td>0.914</td>\n",
       "      <td>0.879097</td>\n",
       "      <td>0.935000</td>\n",
       "      <td>0.894095</td>\n",
       "      <td>0.086308</td>\n",
       "      <td>0.176582</td>\n",
       "      <td>72.615675</td>\n",
       "      <td>76.581681</td>\n",
       "    </tr>\n",
       "    <tr>\n",
       "      <td>6</td>\n",
       "      <td></td>\n",
       "      <td>7</td>\n",
       "      <td>0.15</td>\n",
       "      <td>0.833238</td>\n",
       "      <td>1.612842</td>\n",
       "      <td>1.714825</td>\n",
       "      <td>0.854</td>\n",
       "      <td>0.849640</td>\n",
       "      <td>0.908000</td>\n",
       "      <td>0.879276</td>\n",
       "      <td>0.080642</td>\n",
       "      <td>0.257224</td>\n",
       "      <td>61.284230</td>\n",
       "      <td>71.482531</td>\n",
       "    </tr>\n",
       "    <tr>\n",
       "      <td>7</td>\n",
       "      <td></td>\n",
       "      <td>8</td>\n",
       "      <td>0.20</td>\n",
       "      <td>0.798690</td>\n",
       "      <td>1.537299</td>\n",
       "      <td>1.670444</td>\n",
       "      <td>0.814</td>\n",
       "      <td>0.816362</td>\n",
       "      <td>0.884500</td>\n",
       "      <td>0.863548</td>\n",
       "      <td>0.076865</td>\n",
       "      <td>0.334089</td>\n",
       "      <td>53.729934</td>\n",
       "      <td>67.044381</td>\n",
       "    </tr>\n",
       "    <tr>\n",
       "      <td>8</td>\n",
       "      <td></td>\n",
       "      <td>9</td>\n",
       "      <td>0.30</td>\n",
       "      <td>0.723331</td>\n",
       "      <td>1.380548</td>\n",
       "      <td>1.573812</td>\n",
       "      <td>0.731</td>\n",
       "      <td>0.762515</td>\n",
       "      <td>0.833333</td>\n",
       "      <td>0.829870</td>\n",
       "      <td>0.138055</td>\n",
       "      <td>0.472144</td>\n",
       "      <td>38.054769</td>\n",
       "      <td>57.381177</td>\n",
       "    </tr>\n",
       "    <tr>\n",
       "      <td>9</td>\n",
       "      <td></td>\n",
       "      <td>10</td>\n",
       "      <td>0.40</td>\n",
       "      <td>0.633329</td>\n",
       "      <td>1.182247</td>\n",
       "      <td>1.475921</td>\n",
       "      <td>0.626</td>\n",
       "      <td>0.678340</td>\n",
       "      <td>0.781500</td>\n",
       "      <td>0.791988</td>\n",
       "      <td>0.118225</td>\n",
       "      <td>0.590368</td>\n",
       "      <td>18.224740</td>\n",
       "      <td>47.592068</td>\n",
       "    </tr>\n",
       "    <tr>\n",
       "      <td>10</td>\n",
       "      <td></td>\n",
       "      <td>11</td>\n",
       "      <td>0.50</td>\n",
       "      <td>0.537427</td>\n",
       "      <td>1.135033</td>\n",
       "      <td>1.407743</td>\n",
       "      <td>0.601</td>\n",
       "      <td>0.586652</td>\n",
       "      <td>0.745400</td>\n",
       "      <td>0.750921</td>\n",
       "      <td>0.113503</td>\n",
       "      <td>0.703872</td>\n",
       "      <td>13.503305</td>\n",
       "      <td>40.774315</td>\n",
       "    </tr>\n",
       "    <tr>\n",
       "      <td>11</td>\n",
       "      <td></td>\n",
       "      <td>12</td>\n",
       "      <td>0.60</td>\n",
       "      <td>0.446546</td>\n",
       "      <td>0.855524</td>\n",
       "      <td>1.315707</td>\n",
       "      <td>0.453</td>\n",
       "      <td>0.491719</td>\n",
       "      <td>0.696667</td>\n",
       "      <td>0.707720</td>\n",
       "      <td>0.085552</td>\n",
       "      <td>0.789424</td>\n",
       "      <td>-14.447592</td>\n",
       "      <td>31.570664</td>\n",
       "    </tr>\n",
       "    <tr>\n",
       "      <td>12</td>\n",
       "      <td></td>\n",
       "      <td>13</td>\n",
       "      <td>0.70</td>\n",
       "      <td>0.354218</td>\n",
       "      <td>0.840415</td>\n",
       "      <td>1.247808</td>\n",
       "      <td>0.445</td>\n",
       "      <td>0.399003</td>\n",
       "      <td>0.660714</td>\n",
       "      <td>0.663618</td>\n",
       "      <td>0.084042</td>\n",
       "      <td>0.873466</td>\n",
       "      <td>-15.958451</td>\n",
       "      <td>24.780791</td>\n",
       "    </tr>\n",
       "    <tr>\n",
       "      <td>13</td>\n",
       "      <td></td>\n",
       "      <td>14</td>\n",
       "      <td>0.80</td>\n",
       "      <td>0.264601</td>\n",
       "      <td>0.617564</td>\n",
       "      <td>1.169027</td>\n",
       "      <td>0.327</td>\n",
       "      <td>0.308608</td>\n",
       "      <td>0.619000</td>\n",
       "      <td>0.619242</td>\n",
       "      <td>0.061756</td>\n",
       "      <td>0.935222</td>\n",
       "      <td>-38.243626</td>\n",
       "      <td>16.902738</td>\n",
       "    </tr>\n",
       "    <tr>\n",
       "      <td>14</td>\n",
       "      <td></td>\n",
       "      <td>15</td>\n",
       "      <td>0.90</td>\n",
       "      <td>0.174936</td>\n",
       "      <td>0.464589</td>\n",
       "      <td>1.090756</td>\n",
       "      <td>0.246</td>\n",
       "      <td>0.221592</td>\n",
       "      <td>0.577556</td>\n",
       "      <td>0.575058</td>\n",
       "      <td>0.046459</td>\n",
       "      <td>0.981681</td>\n",
       "      <td>-53.541076</td>\n",
       "      <td>9.075648</td>\n",
       "    </tr>\n",
       "    <tr>\n",
       "      <td>15</td>\n",
       "      <td></td>\n",
       "      <td>16</td>\n",
       "      <td>1.00</td>\n",
       "      <td>0.049258</td>\n",
       "      <td>0.183192</td>\n",
       "      <td>1.000000</td>\n",
       "      <td>0.097</td>\n",
       "      <td>0.118164</td>\n",
       "      <td>0.529500</td>\n",
       "      <td>0.529369</td>\n",
       "      <td>0.018319</td>\n",
       "      <td>1.000000</td>\n",
       "      <td>-81.680831</td>\n",
       "      <td>0.000000</td>\n",
       "    </tr>\n",
       "  </tbody>\n",
       "</table>\n",
       "</div>"
      ],
      "text/plain": [
       "      group  cumulative_data_fraction  lower_threshold      lift  \\\n",
       "0         1                      0.01         0.919179  1.831917   \n",
       "1         2                      0.02         0.910754  1.850803   \n",
       "2         3                      0.03         0.904518  1.831917   \n",
       "3         4                      0.04         0.897667  1.718602   \n",
       "4         5                      0.05         0.892617  1.794145   \n",
       "5         6                      0.10         0.865449  1.726157   \n",
       "6         7                      0.15         0.833238  1.612842   \n",
       "7         8                      0.20         0.798690  1.537299   \n",
       "8         9                      0.30         0.723331  1.380548   \n",
       "9        10                      0.40         0.633329  1.182247   \n",
       "10       11                      0.50         0.537427  1.135033   \n",
       "11       12                      0.60         0.446546  0.855524   \n",
       "12       13                      0.70         0.354218  0.840415   \n",
       "13       14                      0.80         0.264601  0.617564   \n",
       "14       15                      0.90         0.174936  0.464589   \n",
       "15       16                      1.00         0.049258  0.183192   \n",
       "\n",
       "    cumulative_lift  response_rate     score  cumulative_response_rate  \\\n",
       "0          1.831917          0.970  0.926844                  0.970000   \n",
       "1          1.841360          0.980  0.914680                  0.975000   \n",
       "2          1.838212          0.970  0.907732                  0.973333   \n",
       "3          1.808310          0.910  0.901151                  0.957500   \n",
       "4          1.805477          0.950  0.895057                  0.956000   \n",
       "5          1.765817          0.914  0.879097                  0.935000   \n",
       "6          1.714825          0.854  0.849640                  0.908000   \n",
       "7          1.670444          0.814  0.816362                  0.884500   \n",
       "8          1.573812          0.731  0.762515                  0.833333   \n",
       "9          1.475921          0.626  0.678340                  0.781500   \n",
       "10         1.407743          0.601  0.586652                  0.745400   \n",
       "11         1.315707          0.453  0.491719                  0.696667   \n",
       "12         1.247808          0.445  0.399003                  0.660714   \n",
       "13         1.169027          0.327  0.308608                  0.619000   \n",
       "14         1.090756          0.246  0.221592                  0.577556   \n",
       "15         1.000000          0.097  0.118164                  0.529500   \n",
       "\n",
       "    cumulative_score  capture_rate  cumulative_capture_rate       gain  \\\n",
       "0           0.926844      0.018319                 0.018319  83.191690   \n",
       "1           0.920762      0.018508                 0.036827  85.080264   \n",
       "2           0.916419      0.018319                 0.055146  83.191690   \n",
       "3           0.912602      0.017186                 0.072332  71.860246   \n",
       "4           0.909093      0.017941                 0.090274  79.414542   \n",
       "5           0.894095      0.086308                 0.176582  72.615675   \n",
       "6           0.879276      0.080642                 0.257224  61.284230   \n",
       "7           0.863548      0.076865                 0.334089  53.729934   \n",
       "8           0.829870      0.138055                 0.472144  38.054769   \n",
       "9           0.791988      0.118225                 0.590368  18.224740   \n",
       "10          0.750921      0.113503                 0.703872  13.503305   \n",
       "11          0.707720      0.085552                 0.789424 -14.447592   \n",
       "12          0.663618      0.084042                 0.873466 -15.958451   \n",
       "13          0.619242      0.061756                 0.935222 -38.243626   \n",
       "14          0.575058      0.046459                 0.981681 -53.541076   \n",
       "15          0.529369      0.018319                 1.000000 -81.680831   \n",
       "\n",
       "    cumulative_gain  \n",
       "0         83.191690  \n",
       "1         84.135977  \n",
       "2         83.821215  \n",
       "3         80.830973  \n",
       "4         80.547686  \n",
       "5         76.581681  \n",
       "6         71.482531  \n",
       "7         67.044381  \n",
       "8         57.381177  \n",
       "9         47.592068  \n",
       "10        40.774315  \n",
       "11        31.570664  \n",
       "12        24.780791  \n",
       "13        16.902738  \n",
       "14         9.075648  \n",
       "15         0.000000  "
      ]
     },
     "metadata": {},
     "output_type": "display_data"
    },
    {
     "name": "stdout",
     "output_type": "stream",
     "text": [
      "\n"
     ]
    },
    {
     "data": {
      "text/plain": []
     },
     "execution_count": 50,
     "metadata": {},
     "output_type": "execute_result"
    }
   ],
   "source": [
    "aml.leader  # mejor modelo"
   ]
  },
  {
   "cell_type": "code",
   "execution_count": 51,
   "metadata": {},
   "outputs": [
    {
     "name": "stdout",
     "output_type": "stream",
     "text": [
      "stackedensemble prediction progress: |████████████████████████████████████| 100%\n"
     ]
    },
    {
     "data": {
      "text/html": [
       "<table>\n",
       "<thead>\n",
       "<tr><th style=\"text-align: right;\">  predict</th><th style=\"text-align: right;\">      p0</th><th style=\"text-align: right;\">      p1</th></tr>\n",
       "</thead>\n",
       "<tbody>\n",
       "<tr><td style=\"text-align: right;\">        0</td><td style=\"text-align: right;\">0.736087</td><td style=\"text-align: right;\">0.263913</td></tr>\n",
       "<tr><td style=\"text-align: right;\">        0</td><td style=\"text-align: right;\">0.707972</td><td style=\"text-align: right;\">0.292028</td></tr>\n",
       "<tr><td style=\"text-align: right;\">        1</td><td style=\"text-align: right;\">0.506763</td><td style=\"text-align: right;\">0.493237</td></tr>\n",
       "<tr><td style=\"text-align: right;\">        1</td><td style=\"text-align: right;\">0.320217</td><td style=\"text-align: right;\">0.679783</td></tr>\n",
       "<tr><td style=\"text-align: right;\">        0</td><td style=\"text-align: right;\">0.650494</td><td style=\"text-align: right;\">0.349506</td></tr>\n",
       "<tr><td style=\"text-align: right;\">        1</td><td style=\"text-align: right;\">0.247843</td><td style=\"text-align: right;\">0.752157</td></tr>\n",
       "<tr><td style=\"text-align: right;\">        1</td><td style=\"text-align: right;\">0.266648</td><td style=\"text-align: right;\">0.733352</td></tr>\n",
       "<tr><td style=\"text-align: right;\">        1</td><td style=\"text-align: right;\">0.625065</td><td style=\"text-align: right;\">0.374935</td></tr>\n",
       "<tr><td style=\"text-align: right;\">        1</td><td style=\"text-align: right;\">0.605614</td><td style=\"text-align: right;\">0.394386</td></tr>\n",
       "<tr><td style=\"text-align: right;\">        0</td><td style=\"text-align: right;\">0.818213</td><td style=\"text-align: right;\">0.181787</td></tr>\n",
       "</tbody>\n",
       "</table>"
      ]
     },
     "metadata": {},
     "output_type": "display_data"
    },
    {
     "data": {
      "text/plain": []
     },
     "execution_count": 51,
     "metadata": {},
     "output_type": "execute_result"
    }
   ],
   "source": [
    "pred=aml.leader.predict(test)\n",
    "\n",
    "pred"
   ]
  },
  {
   "cell_type": "code",
   "execution_count": 52,
   "metadata": {
    "scrolled": true
   },
   "outputs": [
    {
     "data": {
      "text/html": [
       "<table>\n",
       "<thead>\n",
       "<tr><th style=\"text-align: right;\">  response</th><th style=\"text-align: right;\">      x1</th><th style=\"text-align: right;\">       x2</th><th style=\"text-align: right;\">       x3</th><th style=\"text-align: right;\">      x4</th><th style=\"text-align: right;\">        x5</th><th style=\"text-align: right;\">      x6</th><th style=\"text-align: right;\">        x7</th><th style=\"text-align: right;\">       x8</th><th style=\"text-align: right;\">     x9</th><th style=\"text-align: right;\">     x10</th><th style=\"text-align: right;\">        x11</th><th style=\"text-align: right;\">       x12</th><th style=\"text-align: right;\">    x13</th><th style=\"text-align: right;\">     x14</th><th style=\"text-align: right;\">       x15</th><th style=\"text-align: right;\">      x16</th><th style=\"text-align: right;\">    x17</th><th style=\"text-align: right;\">     x18</th><th style=\"text-align: right;\">        x19</th><th style=\"text-align: right;\">       x20</th><th style=\"text-align: right;\">    x21</th><th style=\"text-align: right;\">     x22</th><th style=\"text-align: right;\">     x23</th><th style=\"text-align: right;\">     x24</th><th style=\"text-align: right;\">     x25</th><th style=\"text-align: right;\">     x26</th><th style=\"text-align: right;\">     x27</th><th style=\"text-align: right;\">     x28</th></tr>\n",
       "</thead>\n",
       "<tbody>\n",
       "<tr><td style=\"text-align: right;\">         0</td><td style=\"text-align: right;\">0.623878</td><td style=\"text-align: right;\"> 0.459659</td><td style=\"text-align: right;\">-0.316512</td><td style=\"text-align: right;\">1.55701 </td><td style=\"text-align: right;\"> 0.644784 </td><td style=\"text-align: right;\">0.455929</td><td style=\"text-align: right;\">-2.24983  </td><td style=\"text-align: right;\">-0.361949</td><td style=\"text-align: right;\">0      </td><td style=\"text-align: right;\">0.832978</td><td style=\"text-align: right;\"> 1.41147   </td><td style=\"text-align: right;\"> 1.52846  </td><td style=\"text-align: right;\">0      </td><td style=\"text-align: right;\">0.722857</td><td style=\"text-align: right;\"> 1.00964  </td><td style=\"text-align: right;\"> 0.999539</td><td style=\"text-align: right;\">0      </td><td style=\"text-align: right;\">1.19099 </td><td style=\"text-align: right;\"> 0.81404   </td><td style=\"text-align: right;\">-0.879803 </td><td style=\"text-align: right;\">3.10196</td><td style=\"text-align: right;\">0.583344</td><td style=\"text-align: right;\">0.790246</td><td style=\"text-align: right;\">1.04087 </td><td style=\"text-align: right;\">0.848858</td><td style=\"text-align: right;\">0.229702</td><td style=\"text-align: right;\">0.65594 </td><td style=\"text-align: right;\">0.677857</td></tr>\n",
       "<tr><td style=\"text-align: right;\">         0</td><td style=\"text-align: right;\">1.68204 </td><td style=\"text-align: right;\"> 0.774251</td><td style=\"text-align: right;\"> 1.32875 </td><td style=\"text-align: right;\">0.234729</td><td style=\"text-align: right;\">-0.55783  </td><td style=\"text-align: right;\">0.442921</td><td style=\"text-align: right;\">-0.0832048</td><td style=\"text-align: right;\"> 1.08119 </td><td style=\"text-align: right;\">2.17308</td><td style=\"text-align: right;\">1.14585 </td><td style=\"text-align: right;\"> 0.16228   </td><td style=\"text-align: right;\">-0.268187 </td><td style=\"text-align: right;\">0      </td><td style=\"text-align: right;\">1.21407 </td><td style=\"text-align: right;\"> 0.194966 </td><td style=\"text-align: right;\">-1.15627 </td><td style=\"text-align: right;\">2.54822</td><td style=\"text-align: right;\">1.01915 </td><td style=\"text-align: right;\">-0.759163  </td><td style=\"text-align: right;\"> 0.136347 </td><td style=\"text-align: right;\">0      </td><td style=\"text-align: right;\">0.94183 </td><td style=\"text-align: right;\">0.941976</td><td style=\"text-align: right;\">0.98816 </td><td style=\"text-align: right;\">0.86435 </td><td style=\"text-align: right;\">0.835132</td><td style=\"text-align: right;\">0.767871</td><td style=\"text-align: right;\">0.833013</td></tr>\n",
       "<tr><td style=\"text-align: right;\">         1</td><td style=\"text-align: right;\">1.09403 </td><td style=\"text-align: right;\">-0.88734 </td><td style=\"text-align: right;\"> 0.949229</td><td style=\"text-align: right;\">0.410261</td><td style=\"text-align: right;\">-1.55868  </td><td style=\"text-align: right;\">0.523352</td><td style=\"text-align: right;\"> 0.131675 </td><td style=\"text-align: right;\"> 0.304513</td><td style=\"text-align: right;\">0      </td><td style=\"text-align: right;\">1.11916 </td><td style=\"text-align: right;\"> 1.09383   </td><td style=\"text-align: right;\">-0.396352 </td><td style=\"text-align: right;\">2.21487</td><td style=\"text-align: right;\">0.6289  </td><td style=\"text-align: right;\"> 0.628245 </td><td style=\"text-align: right;\"> 1.45775 </td><td style=\"text-align: right;\">0      </td><td style=\"text-align: right;\">0.523082</td><td style=\"text-align: right;\"> 0.508394  </td><td style=\"text-align: right;\"> 0.988137 </td><td style=\"text-align: right;\">0      </td><td style=\"text-align: right;\">0.929989</td><td style=\"text-align: right;\">0.973742</td><td style=\"text-align: right;\">0.989141</td><td style=\"text-align: right;\">0.780519</td><td style=\"text-align: right;\">0.749821</td><td style=\"text-align: right;\">0.887545</td><td style=\"text-align: right;\">0.925278</td></tr>\n",
       "<tr><td style=\"text-align: right;\">         0</td><td style=\"text-align: right;\">1.33871 </td><td style=\"text-align: right;\">-0.899027</td><td style=\"text-align: right;\">-1.25534 </td><td style=\"text-align: right;\">0.884285</td><td style=\"text-align: right;\">-0.747925 </td><td style=\"text-align: right;\">0.547445</td><td style=\"text-align: right;\">-0.79518  </td><td style=\"text-align: right;\"> 0.174235</td><td style=\"text-align: right;\">2.17308</td><td style=\"text-align: right;\">0.771663</td><td style=\"text-align: right;\">-0.31855   </td><td style=\"text-align: right;\"> 1.02356  </td><td style=\"text-align: right;\">2.21487</td><td style=\"text-align: right;\">0.408495</td><td style=\"text-align: right;\">-1.1431   </td><td style=\"text-align: right;\"> 0.139699</td><td style=\"text-align: right;\">0      </td><td style=\"text-align: right;\">1.29395 </td><td style=\"text-align: right;\">-1.34131   </td><td style=\"text-align: right;\"> 1.61685  </td><td style=\"text-align: right;\">0      </td><td style=\"text-align: right;\">0.79204 </td><td style=\"text-align: right;\">0.76921 </td><td style=\"text-align: right;\">0.984082</td><td style=\"text-align: right;\">1.06928 </td><td style=\"text-align: right;\">0.700852</td><td style=\"text-align: right;\">0.83083 </td><td style=\"text-align: right;\">0.71671 </td></tr>\n",
       "<tr><td style=\"text-align: right;\">         0</td><td style=\"text-align: right;\">0.699095</td><td style=\"text-align: right;\"> 1.43363 </td><td style=\"text-align: right;\">-1.72253 </td><td style=\"text-align: right;\">0.650113</td><td style=\"text-align: right;\">-0.167574 </td><td style=\"text-align: right;\">0.967464</td><td style=\"text-align: right;\"> 0.737696 </td><td style=\"text-align: right;\">-0.886391</td><td style=\"text-align: right;\">2.17308</td><td style=\"text-align: right;\">1.66797 </td><td style=\"text-align: right;\"> 0.446892  </td><td style=\"text-align: right;\"> 0.851008 </td><td style=\"text-align: right;\">0      </td><td style=\"text-align: right;\">0.59641 </td><td style=\"text-align: right;\"> 0.156736 </td><td style=\"text-align: right;\"> 0.340513</td><td style=\"text-align: right;\">0      </td><td style=\"text-align: right;\">0.694684</td><td style=\"text-align: right;\">-0.00046069</td><td style=\"text-align: right;\">-1.14949  </td><td style=\"text-align: right;\">3.10196</td><td style=\"text-align: right;\">0.714182</td><td style=\"text-align: right;\">0.839843</td><td style=\"text-align: right;\">0.984067</td><td style=\"text-align: right;\">0.917766</td><td style=\"text-align: right;\">0.388553</td><td style=\"text-align: right;\">0.91664 </td><td style=\"text-align: right;\">0.886331</td></tr>\n",
       "<tr><td style=\"text-align: right;\">         1</td><td style=\"text-align: right;\">0.842208</td><td style=\"text-align: right;\">-0.144202</td><td style=\"text-align: right;\">-1.702   </td><td style=\"text-align: right;\">0.685875</td><td style=\"text-align: right;\"> 0.544338 </td><td style=\"text-align: right;\">0.578774</td><td style=\"text-align: right;\">-0.221837 </td><td style=\"text-align: right;\">-0.586474</td><td style=\"text-align: right;\">1.08654</td><td style=\"text-align: right;\">0.909401</td><td style=\"text-align: right;\"> 2.81316   </td><td style=\"text-align: right;\">-0.0706666</td><td style=\"text-align: right;\">0      </td><td style=\"text-align: right;\">1.54986 </td><td style=\"text-align: right;\">-0.85182  </td><td style=\"text-align: right;\"> 1.58811 </td><td style=\"text-align: right;\">0      </td><td style=\"text-align: right;\">1.14986 </td><td style=\"text-align: right;\"> 0.590011  </td><td style=\"text-align: right;\"> 0.0597691</td><td style=\"text-align: right;\">0      </td><td style=\"text-align: right;\">0.872279</td><td style=\"text-align: right;\">0.684341</td><td style=\"text-align: right;\">0.99032 </td><td style=\"text-align: right;\">0.510151</td><td style=\"text-align: right;\">0.720446</td><td style=\"text-align: right;\">0.555454</td><td style=\"text-align: right;\">0.535795</td></tr>\n",
       "<tr><td style=\"text-align: right;\">         1</td><td style=\"text-align: right;\">0.456242</td><td style=\"text-align: right;\"> 1.74043 </td><td style=\"text-align: right;\"> 0.258427</td><td style=\"text-align: right;\">1.45223 </td><td style=\"text-align: right;\">-0.0513728</td><td style=\"text-align: right;\">0.675328</td><td style=\"text-align: right;\">-0.797161 </td><td style=\"text-align: right;\">-1.34763 </td><td style=\"text-align: right;\">2.17308</td><td style=\"text-align: right;\">0.56858 </td><td style=\"text-align: right;\">-0.482712  </td><td style=\"text-align: right;\">-1.73738  </td><td style=\"text-align: right;\">0      </td><td style=\"text-align: right;\">0.539333</td><td style=\"text-align: right;\"> 1.17621  </td><td style=\"text-align: right;\"> 1.06666 </td><td style=\"text-align: right;\">0      </td><td style=\"text-align: right;\">0.980687</td><td style=\"text-align: right;\">-0.125384  </td><td style=\"text-align: right;\"> 0.0869597</td><td style=\"text-align: right;\">3.10196</td><td style=\"text-align: right;\">0.994118</td><td style=\"text-align: right;\">0.960552</td><td style=\"text-align: right;\">1.00353 </td><td style=\"text-align: right;\">0.57609 </td><td style=\"text-align: right;\">0.876509</td><td style=\"text-align: right;\">0.85138 </td><td style=\"text-align: right;\">0.801164</td></tr>\n",
       "<tr><td style=\"text-align: right;\">         0</td><td style=\"text-align: right;\">0.933712</td><td style=\"text-align: right;\"> 1.35084 </td><td style=\"text-align: right;\"> 0.773338</td><td style=\"text-align: right;\">0.532638</td><td style=\"text-align: right;\">-0.679537 </td><td style=\"text-align: right;\">0.718017</td><td style=\"text-align: right;\"> 0.745618 </td><td style=\"text-align: right;\">-1.4962  </td><td style=\"text-align: right;\">1.08654</td><td style=\"text-align: right;\">0.274218</td><td style=\"text-align: right;\"> 1.07537   </td><td style=\"text-align: right;\"> 1.56341  </td><td style=\"text-align: right;\">0      </td><td style=\"text-align: right;\">0.39146 </td><td style=\"text-align: right;\">-0.59422  </td><td style=\"text-align: right;\"> 0.170209</td><td style=\"text-align: right;\">2.54822</td><td style=\"text-align: right;\">0.573711</td><td style=\"text-align: right;\"> 2.12157   </td><td style=\"text-align: right;\"> 0.256763 </td><td style=\"text-align: right;\">0      </td><td style=\"text-align: right;\">0.625972</td><td style=\"text-align: right;\">0.773067</td><td style=\"text-align: right;\">0.987348</td><td style=\"text-align: right;\">0.674946</td><td style=\"text-align: right;\">0.829309</td><td style=\"text-align: right;\">0.645423</td><td style=\"text-align: right;\">0.597715</td></tr>\n",
       "<tr><td style=\"text-align: right;\">         0</td><td style=\"text-align: right;\">0.7335  </td><td style=\"text-align: right;\">-0.998372</td><td style=\"text-align: right;\">-1.68702 </td><td style=\"text-align: right;\">0.951169</td><td style=\"text-align: right;\">-0.591779 </td><td style=\"text-align: right;\">1.14912 </td><td style=\"text-align: right;\">-0.942724 </td><td style=\"text-align: right;\">-0.424039</td><td style=\"text-align: right;\">2.17308</td><td style=\"text-align: right;\">1.04185 </td><td style=\"text-align: right;\"> 1.10063   </td><td style=\"text-align: right;\"> 1.27434  </td><td style=\"text-align: right;\">0      </td><td style=\"text-align: right;\">0.713549</td><td style=\"text-align: right;\"> 0.0201984</td><td style=\"text-align: right;\"> 0.343287</td><td style=\"text-align: right;\">2.54822</td><td style=\"text-align: right;\">1.44706 </td><td style=\"text-align: right;\"> 0.165271  </td><td style=\"text-align: right;\"> 1.40599  </td><td style=\"text-align: right;\">0      </td><td style=\"text-align: right;\">0.798081</td><td style=\"text-align: right;\">0.852638</td><td style=\"text-align: right;\">0.990337</td><td style=\"text-align: right;\">0.799596</td><td style=\"text-align: right;\">0.918739</td><td style=\"text-align: right;\">1.27283 </td><td style=\"text-align: right;\">1.07795 </td></tr>\n",
       "<tr><td style=\"text-align: right;\">         0</td><td style=\"text-align: right;\">0.968118</td><td style=\"text-align: right;\"> 1.719   </td><td style=\"text-align: right;\"> 0.030934</td><td style=\"text-align: right;\">1.80122 </td><td style=\"text-align: right;\">-0.867323 </td><td style=\"text-align: right;\">0.631357</td><td style=\"text-align: right;\">-0.810034 </td><td style=\"text-align: right;\"> 1.20648 </td><td style=\"text-align: right;\">0      </td><td style=\"text-align: right;\">0.88699 </td><td style=\"text-align: right;\"> 0.00103165</td><td style=\"text-align: right;\"> 1.57395  </td><td style=\"text-align: right;\">0      </td><td style=\"text-align: right;\">1.02721 </td><td style=\"text-align: right;\"> 0.512643 </td><td style=\"text-align: right;\"> 0.381009</td><td style=\"text-align: right;\">2.54822</td><td style=\"text-align: right;\">1.08511 </td><td style=\"text-align: right;\"> 0.54837   </td><td style=\"text-align: right;\">-0.86704  </td><td style=\"text-align: right;\">3.10196</td><td style=\"text-align: right;\">0.844315</td><td style=\"text-align: right;\">1.03113 </td><td style=\"text-align: right;\">1.32327 </td><td style=\"text-align: right;\">1.11639 </td><td style=\"text-align: right;\">0.728902</td><td style=\"text-align: right;\">0.805447</td><td style=\"text-align: right;\">1.19234 </td></tr>\n",
       "</tbody>\n",
       "</table>"
      ]
     },
     "metadata": {},
     "output_type": "display_data"
    },
    {
     "data": {
      "text/plain": []
     },
     "execution_count": 52,
     "metadata": {},
     "output_type": "execute_result"
    }
   ],
   "source": [
    "test"
   ]
  },
  {
   "cell_type": "markdown",
   "metadata": {},
   "source": [
    "  "
   ]
  },
  {
   "cell_type": "markdown",
   "metadata": {},
   "source": [
    "   "
   ]
  },
  {
   "cell_type": "markdown",
   "metadata": {},
   "source": [
    "# Stacking\n",
    "\n",
    "\n",
    "![](data/stacking.png)"
   ]
  },
  {
   "cell_type": "code",
   "execution_count": 79,
   "metadata": {},
   "outputs": [
    {
     "data": {
      "text/html": [
       "<div>\n",
       "<style scoped>\n",
       "    .dataframe tbody tr th:only-of-type {\n",
       "        vertical-align: middle;\n",
       "    }\n",
       "\n",
       "    .dataframe tbody tr th {\n",
       "        vertical-align: top;\n",
       "    }\n",
       "\n",
       "    .dataframe thead th {\n",
       "        text-align: right;\n",
       "    }\n",
       "</style>\n",
       "<table border=\"1\" class=\"dataframe\">\n",
       "  <thead>\n",
       "    <tr style=\"text-align: right;\">\n",
       "      <th></th>\n",
       "      <th>Unnamed: 0</th>\n",
       "      <th>carat</th>\n",
       "      <th>cut</th>\n",
       "      <th>color</th>\n",
       "      <th>clarity</th>\n",
       "      <th>depth</th>\n",
       "      <th>table</th>\n",
       "      <th>price</th>\n",
       "      <th>x</th>\n",
       "      <th>y</th>\n",
       "      <th>z</th>\n",
       "    </tr>\n",
       "  </thead>\n",
       "  <tbody>\n",
       "    <tr>\n",
       "      <td>0</td>\n",
       "      <td>1</td>\n",
       "      <td>0.23</td>\n",
       "      <td>Ideal</td>\n",
       "      <td>E</td>\n",
       "      <td>SI2</td>\n",
       "      <td>61.5</td>\n",
       "      <td>55.0</td>\n",
       "      <td>326</td>\n",
       "      <td>3.95</td>\n",
       "      <td>3.98</td>\n",
       "      <td>2.43</td>\n",
       "    </tr>\n",
       "    <tr>\n",
       "      <td>1</td>\n",
       "      <td>2</td>\n",
       "      <td>0.21</td>\n",
       "      <td>Premium</td>\n",
       "      <td>E</td>\n",
       "      <td>SI1</td>\n",
       "      <td>59.8</td>\n",
       "      <td>61.0</td>\n",
       "      <td>326</td>\n",
       "      <td>3.89</td>\n",
       "      <td>3.84</td>\n",
       "      <td>2.31</td>\n",
       "    </tr>\n",
       "    <tr>\n",
       "      <td>2</td>\n",
       "      <td>3</td>\n",
       "      <td>0.23</td>\n",
       "      <td>Good</td>\n",
       "      <td>E</td>\n",
       "      <td>VS1</td>\n",
       "      <td>56.9</td>\n",
       "      <td>65.0</td>\n",
       "      <td>327</td>\n",
       "      <td>4.05</td>\n",
       "      <td>4.07</td>\n",
       "      <td>2.31</td>\n",
       "    </tr>\n",
       "    <tr>\n",
       "      <td>3</td>\n",
       "      <td>4</td>\n",
       "      <td>0.29</td>\n",
       "      <td>Premium</td>\n",
       "      <td>I</td>\n",
       "      <td>VS2</td>\n",
       "      <td>62.4</td>\n",
       "      <td>58.0</td>\n",
       "      <td>334</td>\n",
       "      <td>4.20</td>\n",
       "      <td>4.23</td>\n",
       "      <td>2.63</td>\n",
       "    </tr>\n",
       "    <tr>\n",
       "      <td>4</td>\n",
       "      <td>5</td>\n",
       "      <td>0.31</td>\n",
       "      <td>Good</td>\n",
       "      <td>J</td>\n",
       "      <td>SI2</td>\n",
       "      <td>63.3</td>\n",
       "      <td>58.0</td>\n",
       "      <td>335</td>\n",
       "      <td>4.34</td>\n",
       "      <td>4.35</td>\n",
       "      <td>2.75</td>\n",
       "    </tr>\n",
       "  </tbody>\n",
       "</table>\n",
       "</div>"
      ],
      "text/plain": [
       "   Unnamed: 0  carat      cut color clarity  depth  table  price     x     y  \\\n",
       "0           1   0.23    Ideal     E     SI2   61.5   55.0    326  3.95  3.98   \n",
       "1           2   0.21  Premium     E     SI1   59.8   61.0    326  3.89  3.84   \n",
       "2           3   0.23     Good     E     VS1   56.9   65.0    327  4.05  4.07   \n",
       "3           4   0.29  Premium     I     VS2   62.4   58.0    334  4.20  4.23   \n",
       "4           5   0.31     Good     J     SI2   63.3   58.0    335  4.34  4.35   \n",
       "\n",
       "      z  \n",
       "0  2.43  \n",
       "1  2.31  \n",
       "2  2.31  \n",
       "3  2.63  \n",
       "4  2.75  "
      ]
     },
     "execution_count": 79,
     "metadata": {},
     "output_type": "execute_result"
    }
   ],
   "source": [
    "df=pd.read_csv('data/diamonds.csv')\n",
    "\n",
    "df.head()"
   ]
  },
  {
   "cell_type": "code",
   "execution_count": 81,
   "metadata": {},
   "outputs": [
    {
     "data": {
      "text/html": [
       "<div>\n",
       "<style scoped>\n",
       "    .dataframe tbody tr th:only-of-type {\n",
       "        vertical-align: middle;\n",
       "    }\n",
       "\n",
       "    .dataframe tbody tr th {\n",
       "        vertical-align: top;\n",
       "    }\n",
       "\n",
       "    .dataframe thead th {\n",
       "        text-align: right;\n",
       "    }\n",
       "</style>\n",
       "<table border=\"1\" class=\"dataframe\">\n",
       "  <thead>\n",
       "    <tr style=\"text-align: right;\">\n",
       "      <th></th>\n",
       "      <th>carat</th>\n",
       "      <th>depth</th>\n",
       "      <th>table</th>\n",
       "      <th>price</th>\n",
       "      <th>x</th>\n",
       "      <th>y</th>\n",
       "      <th>z</th>\n",
       "    </tr>\n",
       "  </thead>\n",
       "  <tbody>\n",
       "    <tr>\n",
       "      <td>0</td>\n",
       "      <td>0.23</td>\n",
       "      <td>61.5</td>\n",
       "      <td>55.0</td>\n",
       "      <td>326</td>\n",
       "      <td>3.95</td>\n",
       "      <td>3.98</td>\n",
       "      <td>2.43</td>\n",
       "    </tr>\n",
       "    <tr>\n",
       "      <td>1</td>\n",
       "      <td>0.21</td>\n",
       "      <td>59.8</td>\n",
       "      <td>61.0</td>\n",
       "      <td>326</td>\n",
       "      <td>3.89</td>\n",
       "      <td>3.84</td>\n",
       "      <td>2.31</td>\n",
       "    </tr>\n",
       "    <tr>\n",
       "      <td>2</td>\n",
       "      <td>0.23</td>\n",
       "      <td>56.9</td>\n",
       "      <td>65.0</td>\n",
       "      <td>327</td>\n",
       "      <td>4.05</td>\n",
       "      <td>4.07</td>\n",
       "      <td>2.31</td>\n",
       "    </tr>\n",
       "    <tr>\n",
       "      <td>3</td>\n",
       "      <td>0.29</td>\n",
       "      <td>62.4</td>\n",
       "      <td>58.0</td>\n",
       "      <td>334</td>\n",
       "      <td>4.20</td>\n",
       "      <td>4.23</td>\n",
       "      <td>2.63</td>\n",
       "    </tr>\n",
       "    <tr>\n",
       "      <td>4</td>\n",
       "      <td>0.31</td>\n",
       "      <td>63.3</td>\n",
       "      <td>58.0</td>\n",
       "      <td>335</td>\n",
       "      <td>4.34</td>\n",
       "      <td>4.35</td>\n",
       "      <td>2.75</td>\n",
       "    </tr>\n",
       "  </tbody>\n",
       "</table>\n",
       "</div>"
      ],
      "text/plain": [
       "   carat  depth  table  price     x     y     z\n",
       "0   0.23   61.5   55.0    326  3.95  3.98  2.43\n",
       "1   0.21   59.8   61.0    326  3.89  3.84  2.31\n",
       "2   0.23   56.9   65.0    327  4.05  4.07  2.31\n",
       "3   0.29   62.4   58.0    334  4.20  4.23  2.63\n",
       "4   0.31   63.3   58.0    335  4.34  4.35  2.75"
      ]
     },
     "execution_count": 81,
     "metadata": {},
     "output_type": "execute_result"
    }
   ],
   "source": [
    "df=df._get_numeric_data().drop('Unnamed: 0', axis=1)\n",
    "\n",
    "df.head()"
   ]
  },
  {
   "cell_type": "code",
   "execution_count": 82,
   "metadata": {},
   "outputs": [],
   "source": [
    "X=df.drop('price', axis=1)\n",
    "\n",
    "y=df.price"
   ]
  },
  {
   "cell_type": "code",
   "execution_count": 83,
   "metadata": {},
   "outputs": [],
   "source": [
    "X_train, X_temp, y_train, y_temp = tts(X, y,  test_size=0.5)"
   ]
  },
  {
   "cell_type": "code",
   "execution_count": 85,
   "metadata": {},
   "outputs": [],
   "source": [
    "X_meta, X_test, y_meta, y_test = tts(X_temp, y_temp,  test_size=0.5)"
   ]
  },
  {
   "cell_type": "code",
   "execution_count": 86,
   "metadata": {},
   "outputs": [
    {
     "name": "stderr",
     "output_type": "stream",
     "text": [
      "/Users/data/Library/Python/3.7/lib/python/site-packages/xgboost/core.py:587: FutureWarning: Series.base is deprecated and will be removed in a future version\n",
      "  if getattr(data, 'base', None) is not None and \\\n"
     ]
    },
    {
     "name": "stdout",
     "output_type": "stream",
     "text": [
      "[15:23:10] WARNING: src/objective/regression_obj.cu:152: reg:linear is now deprecated in favor of reg:squarederror.\n"
     ]
    },
    {
     "data": {
      "text/html": [
       "<div>\n",
       "<style scoped>\n",
       "    .dataframe tbody tr th:only-of-type {\n",
       "        vertical-align: middle;\n",
       "    }\n",
       "\n",
       "    .dataframe tbody tr th {\n",
       "        vertical-align: top;\n",
       "    }\n",
       "\n",
       "    .dataframe thead th {\n",
       "        text-align: right;\n",
       "    }\n",
       "</style>\n",
       "<table border=\"1\" class=\"dataframe\">\n",
       "  <thead>\n",
       "    <tr style=\"text-align: right;\">\n",
       "      <th></th>\n",
       "      <th>xgbr</th>\n",
       "      <th>lgbmr</th>\n",
       "      <th>ctr</th>\n",
       "      <th>gbr</th>\n",
       "    </tr>\n",
       "  </thead>\n",
       "  <tbody>\n",
       "    <tr>\n",
       "      <td>0</td>\n",
       "      <td>2346.551025</td>\n",
       "      <td>2325.126068</td>\n",
       "      <td>2361.205794</td>\n",
       "      <td>2318.388185</td>\n",
       "    </tr>\n",
       "    <tr>\n",
       "      <td>1</td>\n",
       "      <td>5408.369141</td>\n",
       "      <td>5469.714998</td>\n",
       "      <td>5474.839060</td>\n",
       "      <td>5398.098191</td>\n",
       "    </tr>\n",
       "    <tr>\n",
       "      <td>2</td>\n",
       "      <td>5795.081543</td>\n",
       "      <td>5884.824479</td>\n",
       "      <td>5922.771909</td>\n",
       "      <td>5801.145701</td>\n",
       "    </tr>\n",
       "    <tr>\n",
       "      <td>3</td>\n",
       "      <td>2233.523682</td>\n",
       "      <td>2247.616445</td>\n",
       "      <td>1859.234427</td>\n",
       "      <td>2242.958707</td>\n",
       "    </tr>\n",
       "    <tr>\n",
       "      <td>4</td>\n",
       "      <td>702.432129</td>\n",
       "      <td>708.843516</td>\n",
       "      <td>656.178418</td>\n",
       "      <td>700.174944</td>\n",
       "    </tr>\n",
       "  </tbody>\n",
       "</table>\n",
       "</div>"
      ],
      "text/plain": [
       "          xgbr        lgbmr          ctr          gbr\n",
       "0  2346.551025  2325.126068  2361.205794  2318.388185\n",
       "1  5408.369141  5469.714998  5474.839060  5398.098191\n",
       "2  5795.081543  5884.824479  5922.771909  5801.145701\n",
       "3  2233.523682  2247.616445  1859.234427  2242.958707\n",
       "4   702.432129   708.843516   656.178418   700.174944"
      ]
     },
     "execution_count": 86,
     "metadata": {},
     "output_type": "execute_result"
    }
   ],
   "source": [
    "n_df=pd.DataFrame()\n",
    "\n",
    "# predicciones de los modelos\n",
    "\n",
    "n_df['xgbr']=xgbr.fit(X_train, y_train).predict(X_meta)\n",
    "n_df['lgbmr']=lgbmr.fit(X_train, y_train).predict(X_meta)\n",
    "n_df['ctr']=ctr.fit(X_train, y_train).predict(X_meta)\n",
    "n_df['gbr']=gbr.fit(X_train, y_train).predict(X_meta)\n",
    "#mas\n",
    "\n",
    "n_df.head()"
   ]
  },
  {
   "cell_type": "code",
   "execution_count": 87,
   "metadata": {},
   "outputs": [],
   "source": [
    "from sklearn.linear_model import LinearRegression as LinReg"
   ]
  },
  {
   "cell_type": "code",
   "execution_count": 88,
   "metadata": {},
   "outputs": [
    {
     "data": {
      "text/plain": [
       "LinearRegression(copy_X=True, fit_intercept=True, n_jobs=None, normalize=False)"
      ]
     },
     "execution_count": 88,
     "metadata": {},
     "output_type": "execute_result"
    }
   ],
   "source": [
    "linreg=LinReg()\n",
    "\n",
    "linreg.fit(n_df.values, y_meta)   # datos del df de predicciones y el target original (!!!!!dimensiones)"
   ]
  },
  {
   "cell_type": "code",
   "execution_count": 92,
   "metadata": {},
   "outputs": [],
   "source": [
    "# Fase de testeo, solo predict\n",
    "\n",
    "n_df['xgbr']=xgbr.predict(X_test)\n",
    "n_df['lgbmr']=lgbmr.predict(X_test)\n",
    "n_df['ctr']=ctr.predict(X_test)\n",
    "n_df['gbr']=gbr.predict(X_test)"
   ]
  },
  {
   "cell_type": "code",
   "execution_count": 93,
   "metadata": {},
   "outputs": [
    {
     "data": {
      "text/plain": [
       "array([ 8884.44545965, 10698.96498406,   929.61598941, ...,\n",
       "        1673.40635898,  1739.18059096, 10305.10627639])"
      ]
     },
     "execution_count": 93,
     "metadata": {},
     "output_type": "execute_result"
    }
   ],
   "source": [
    "# prediccion final\n",
    "\n",
    "linreg.predict(n_df.values)"
   ]
  },
  {
   "cell_type": "code",
   "execution_count": 101,
   "metadata": {},
   "outputs": [
    {
     "data": {
      "text/plain": [
       "0.8908886731231576"
      ]
     },
     "execution_count": 101,
     "metadata": {},
     "output_type": "execute_result"
    }
   ],
   "source": [
    "linreg.score(n_df.values, y_test)"
   ]
  },
  {
   "cell_type": "markdown",
   "metadata": {},
   "source": [
    "#### mlxtend"
   ]
  },
  {
   "cell_type": "code",
   "execution_count": 95,
   "metadata": {},
   "outputs": [],
   "source": [
    "from mlxtend.regressor import StackingRegressor\n",
    "\n",
    "import warnings\n",
    "warnings.simplefilter('ignore')"
   ]
  },
  {
   "cell_type": "code",
   "execution_count": 96,
   "metadata": {},
   "outputs": [],
   "source": [
    "metamodelo=StackingRegressor(regressors=[xgbr, lgbmr, ctr, gbr], meta_regressor=linreg)"
   ]
  },
  {
   "cell_type": "code",
   "execution_count": 97,
   "metadata": {},
   "outputs": [
    {
     "name": "stdout",
     "output_type": "stream",
     "text": [
      "[15:34:46] WARNING: src/objective/regression_obj.cu:152: reg:linear is now deprecated in favor of reg:squarederror.\n"
     ]
    },
    {
     "data": {
      "text/plain": [
       "StackingRegressor(meta_regressor=LinearRegression(copy_X=True,\n",
       "                                                  fit_intercept=True,\n",
       "                                                  n_jobs=None,\n",
       "                                                  normalize=False),\n",
       "                  refit=True,\n",
       "                  regressors=[XGBRegressor(base_score=0.5, booster='gbtree',\n",
       "                                           colsample_bylevel=1,\n",
       "                                           colsample_bynode=1,\n",
       "                                           colsample_bytree=1, gamma=0,\n",
       "                                           importance_type='gain',\n",
       "                                           learning_rate=0.1, max_delta_step=0,\n",
       "                                           max_depth=3, min_child_weight=1,\n",
       "                                           missing=None, n_es...\n",
       "                                                        max_leaf_nodes=None,\n",
       "                                                        min_impurity_decrease=0.0,\n",
       "                                                        min_impurity_split=None,\n",
       "                                                        min_samples_leaf=1,\n",
       "                                                        min_samples_split=2,\n",
       "                                                        min_weight_fraction_leaf=0.0,\n",
       "                                                        n_estimators=100,\n",
       "                                                        n_iter_no_change=None,\n",
       "                                                        presort='deprecated',\n",
       "                                                        random_state=None,\n",
       "                                                        subsample=1.0,\n",
       "                                                        tol=0.0001,\n",
       "                                                        validation_fraction=0.1,\n",
       "                                                        verbose=0,\n",
       "                                                        warm_start=False)],\n",
       "                  store_train_meta_features=False,\n",
       "                  use_features_in_secondary=False, verbose=0)"
      ]
     },
     "execution_count": 97,
     "metadata": {},
     "output_type": "execute_result"
    }
   ],
   "source": [
    "metamodelo.fit(X_train, y_train)"
   ]
  },
  {
   "cell_type": "code",
   "execution_count": 98,
   "metadata": {},
   "outputs": [
    {
     "data": {
      "text/plain": [
       "0.8795842773067033"
      ]
     },
     "execution_count": 98,
     "metadata": {},
     "output_type": "execute_result"
    }
   ],
   "source": [
    "metamodelo.score(X_test, y_test)  # R2"
   ]
  },
  {
   "cell_type": "code",
   "execution_count": 100,
   "metadata": {},
   "outputs": [
    {
     "name": "stdout",
     "output_type": "stream",
     "text": [
      "0.8895128755548343\n",
      "0.8891787378448663\n",
      "0.8905998580453106\n",
      "0.8891106475601585\n"
     ]
    }
   ],
   "source": [
    "print (xgbr.score(X_test, y_test))\n",
    "print (lgbmr.score(X_test, y_test))\n",
    "print (ctr.score(X_test, y_test))\n",
    "print (gbr.score(X_test, y_test))"
   ]
  },
  {
   "cell_type": "markdown",
   "metadata": {},
   "source": [
    "# Límites de decisión"
   ]
  },
  {
   "cell_type": "code",
   "execution_count": 53,
   "metadata": {},
   "outputs": [],
   "source": [
    "from IPython.display import set_matplotlib_formats\n",
    "set_matplotlib_formats('svg')\n",
    "import matplotlib.pyplot as plt\n",
    "from matplotlib.colors import ListedColormap\n",
    "%matplotlib inline\n",
    "import numpy as np\n",
    "import pandas as pd\n",
    "from sklearn.datasets import make_classification"
   ]
  },
  {
   "cell_type": "code",
   "execution_count": 54,
   "metadata": {},
   "outputs": [],
   "source": [
    "X,y=make_classification(n_features=2, n_redundant=0, \n",
    "                        n_informative=2, random_state=42, \n",
    "                        n_clusters_per_class=1, n_samples=5000)"
   ]
  },
  {
   "cell_type": "code",
   "execution_count": 55,
   "metadata": {},
   "outputs": [
    {
     "data": {
      "image/png": "[encoded data removed]",
      "text/plain": [
       "<Figure size 576x432 with 1 Axes>"
      ]
     },
     "metadata": {
      "needs_background": "light"
     },
     "output_type": "display_data"
    }
   ],
   "source": [
    "plt.figure(figsize=(8,6))\n",
    "plt.scatter(x=X[:,0], y=X[:,1], c=y, marker='x', zorder=2)\n",
    "plt.grid();"
   ]
  },
  {
   "cell_type": "code",
   "execution_count": 72,
   "metadata": {},
   "outputs": [],
   "source": [
    "def plot_limite(X, y, trained_model):\n",
    "    \n",
    "    plt.figure(figsize=(8, 8))\n",
    "    \n",
    "    x_min, x_max = X[:, 0].min() - .5, X[:, 0].max() + .5\n",
    "    y_min, y_max = X[:, 1].min() - .5, X[:, 1].max() + .5\n",
    "    \n",
    "    xx, yy = np.meshgrid(np.arange(x_min, x_max, .2),\n",
    "                         np.arange(y_min, y_max, .2))\n",
    "    \n",
    "    if hasattr(trained_model, 'decision_function'):\n",
    "       # distancia al hiperplano\n",
    "       Z = trained_model.decision_function(np.c_[xx.ravel(), yy.ravel()])\n",
    "    else:\n",
    "       # probabilidad de pertenencia a las clases (0, 1)\n",
    "       Z = trained_model.predict_proba(np.c_[xx.ravel(), yy.ravel()])[:, 1]\n",
    "\n",
    "    Z = Z.reshape(xx.shape)\n",
    "    \n",
    "    plt.contourf(xx, yy, Z, cmap=plt.cm.RdBu, alpha=.8)\n",
    "    plt.scatter(X[:, 0], X[:, 1], \n",
    "                c=y,\n",
    "                cmap=ListedColormap(['#FF0000', '#0000FF']),\n",
    "                edgecolors='k')\n",
    "    \n",
    "    plt.title('decision boundary')\n",
    "    plt.text(xx.max() - .3, \n",
    "             yy.min() + .3, \n",
    "             (f'Score: {trained_model.score(X, y):.2f}').lstrip('0'),\n",
    "             size=10, horizontalalignment='right')"
   ]
  },
  {
   "cell_type": "code",
   "execution_count": 73,
   "metadata": {},
   "outputs": [],
   "source": [
    "X_train, X_test, y_train, y_test=tts(X,y)"
   ]
  },
  {
   "cell_type": "code",
   "execution_count": 74,
   "metadata": {},
   "outputs": [
    {
     "data": {
      "image/png": "[encoded data removed]",
      "text/plain": [
       "<Figure size 576x576 with 1 Axes>"
      ]
     },
     "metadata": {
      "needs_background": "light"
     },
     "output_type": "display_data"
    }
   ],
   "source": [
    "modelo=LGBMC().fit(X_train, y_train)\n",
    "plot_limite(X_test, y_test, modelo)"
   ]
  },
  {
   "cell_type": "code",
   "execution_count": 75,
   "metadata": {},
   "outputs": [],
   "source": [
    "from sklearn.ensemble import VotingClassifier\n",
    "from sklearn.ensemble import RandomForestClassifier as RFC\n",
    "from sklearn.svm import SVC\n",
    "from sklearn.linear_model import LogisticRegression as LogReg"
   ]
  },
  {
   "cell_type": "code",
   "execution_count": 76,
   "metadata": {},
   "outputs": [],
   "source": [
    "m1=SVC(gamma='auto', probability=True)\n",
    "m2=LogReg(solver='lbfgs')"
   ]
  },
  {
   "cell_type": "code",
   "execution_count": 77,
   "metadata": {},
   "outputs": [
    {
     "data": {
      "text/plain": [
       "VotingClassifier(estimators=[('lr',\n",
       "                              LogisticRegression(C=1.0, class_weight=None,\n",
       "                                                 dual=False, fit_intercept=True,\n",
       "                                                 intercept_scaling=1,\n",
       "                                                 l1_ratio=None, max_iter=100,\n",
       "                                                 multi_class='auto',\n",
       "                                                 n_jobs=None, penalty='l2',\n",
       "                                                 random_state=None,\n",
       "                                                 solver='lbfgs', tol=0.0001,\n",
       "                                                 verbose=0, warm_start=False)),\n",
       "                             ('svc',\n",
       "                              SVC(C=1.0, break_ties=False, cache_size=200,\n",
       "                                  class_weight=None, coef0=0.0,\n",
       "                                  decision_function_shape='ovr', degree=3,\n",
       "                                  gamma='auto', kernel='rbf', max_iter=-1,\n",
       "                                  probability=True, random_state=None,\n",
       "                                  shrinking=True, tol=0.001, verbose=False))],\n",
       "                 flatten_transform=True, n_jobs=None, voting='soft',\n",
       "                 weights=None)"
      ]
     },
     "execution_count": 77,
     "metadata": {},
     "output_type": "execute_result"
    }
   ],
   "source": [
    "ensemble=VotingClassifier(estimators=[('lr', m2), ('svc', m1)],\n",
    "                          voting='soft')\n",
    "\n",
    "ensemble.fit(X_train, y_train)"
   ]
  },
  {
   "cell_type": "code",
   "execution_count": 78,
   "metadata": {},
   "outputs": [
    {
     "data": {
      "image/png": "[encoded data removed]",
      "text/plain": [
       "<Figure size 576x576 with 1 Axes>"
      ]
     },
     "metadata": {
      "needs_background": "light"
     },
     "output_type": "display_data"
    }
   ],
   "source": [
    "plot_limite(X_test, y_test, ensemble)"
   ]
  },
  {
   "cell_type": "code",
   "execution_count": null,
   "metadata": {},
   "outputs": [],
   "source": []
  }
 ],
 "metadata": {
  "kernelspec": {
   "display_name": "Python 3",
   "language": "python",
   "name": "python3"
  },
  "language_info": {
   "codemirror_mode": {
    "name": "ipython",
    "version": 3
   },
   "file_extension": ".py",
   "mimetype": "text/x-python",
   "name": "python",
   "nbconvert_exporter": "python",
   "pygments_lexer": "ipython3",
   "version": "3.7.6"
  }
 },
 "nbformat": 4,
 "nbformat_minor": 2
}
