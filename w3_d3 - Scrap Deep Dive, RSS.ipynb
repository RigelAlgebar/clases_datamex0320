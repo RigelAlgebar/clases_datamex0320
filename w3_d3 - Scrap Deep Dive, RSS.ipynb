{
 "cells": [
  {
   "cell_type": "markdown",
   "metadata": {},
   "source": [
    "# Ejemplo asincronico"
   ]
  },
  {
   "cell_type": "code",
   "execution_count": 1,
   "metadata": {},
   "outputs": [],
   "source": [
    "import requests\n",
    "import asyncio"
   ]
  },
  {
   "cell_type": "code",
   "execution_count": 2,
   "metadata": {},
   "outputs": [
    {
     "data": {
      "text/plain": [
       "<Response [200]>"
      ]
     },
     "execution_count": 2,
     "metadata": {},
     "output_type": "execute_result"
    }
   ],
   "source": [
    "url='https://s3-eu-west-1.amazonaws.com/'\n",
    "requests.get(url)"
   ]
  },
  {
   "cell_type": "code",
   "execution_count": 3,
   "metadata": {},
   "outputs": [],
   "source": [
    "urls = [\n",
    "    'https://s3-eu-west-1.amazonaws.com/ih-materials/uploads/data-static/documents/breakfast.jpg',\n",
    "    'https://s3-eu-west-1.amazonaws.com/ih-materials/uploads/data-static/documents/forbidden',\n",
    "    'https://s3-eu-west-1.amazonaws.com/ih-materials/uploads/data-static/documents/the-html5-breakfast-site.html'\n",
    "]"
   ]
  },
  {
   "cell_type": "code",
   "execution_count": 4,
   "metadata": {},
   "outputs": [
    {
     "ename": "RuntimeError",
     "evalue": "This event loop is already running",
     "output_type": "error",
     "traceback": [
      "\u001b[0;31m---------------------------------------------------------------------------\u001b[0m",
      "\u001b[0;31mRuntimeError\u001b[0m                              Traceback (most recent call last)",
      "\u001b[0;32m<ipython-input-4-78a2e4bea39a>\u001b[0m in \u001b[0;36m<module>\u001b[0;34m\u001b[0m\n\u001b[1;32m     12\u001b[0m \u001b[0;34m\u001b[0m\u001b[0m\n\u001b[1;32m     13\u001b[0m \u001b[0mloop\u001b[0m\u001b[0;34m=\u001b[0m\u001b[0masyncio\u001b[0m\u001b[0;34m.\u001b[0m\u001b[0mget_event_loop\u001b[0m\u001b[0;34m(\u001b[0m\u001b[0;34m)\u001b[0m\u001b[0;34m\u001b[0m\u001b[0;34m\u001b[0m\u001b[0m\n\u001b[0;32m---> 14\u001b[0;31m \u001b[0mloop\u001b[0m\u001b[0;34m.\u001b[0m\u001b[0mrun_until_complete\u001b[0m\u001b[0;34m(\u001b[0m\u001b[0mmain\u001b[0m\u001b[0;34m(\u001b[0m\u001b[0;34m)\u001b[0m\u001b[0;34m)\u001b[0m\u001b[0;34m\u001b[0m\u001b[0;34m\u001b[0m\u001b[0m\n\u001b[0m",
      "\u001b[0;32m/usr/local/Cellar/python/3.7.6_1/Frameworks/Python.framework/Versions/3.7/lib/python3.7/asyncio/base_events.py\u001b[0m in \u001b[0;36mrun_until_complete\u001b[0;34m(self, future)\u001b[0m\n\u001b[1;32m    568\u001b[0m         \u001b[0mfuture\u001b[0m\u001b[0;34m.\u001b[0m\u001b[0madd_done_callback\u001b[0m\u001b[0;34m(\u001b[0m\u001b[0m_run_until_complete_cb\u001b[0m\u001b[0;34m)\u001b[0m\u001b[0;34m\u001b[0m\u001b[0;34m\u001b[0m\u001b[0m\n\u001b[1;32m    569\u001b[0m         \u001b[0;32mtry\u001b[0m\u001b[0;34m:\u001b[0m\u001b[0;34m\u001b[0m\u001b[0;34m\u001b[0m\u001b[0m\n\u001b[0;32m--> 570\u001b[0;31m             \u001b[0mself\u001b[0m\u001b[0;34m.\u001b[0m\u001b[0mrun_forever\u001b[0m\u001b[0;34m(\u001b[0m\u001b[0;34m)\u001b[0m\u001b[0;34m\u001b[0m\u001b[0;34m\u001b[0m\u001b[0m\n\u001b[0m\u001b[1;32m    571\u001b[0m         \u001b[0;32mexcept\u001b[0m\u001b[0;34m:\u001b[0m\u001b[0;34m\u001b[0m\u001b[0;34m\u001b[0m\u001b[0m\n\u001b[1;32m    572\u001b[0m             \u001b[0;32mif\u001b[0m \u001b[0mnew_task\u001b[0m \u001b[0;32mand\u001b[0m \u001b[0mfuture\u001b[0m\u001b[0;34m.\u001b[0m\u001b[0mdone\u001b[0m\u001b[0;34m(\u001b[0m\u001b[0;34m)\u001b[0m \u001b[0;32mand\u001b[0m \u001b[0;32mnot\u001b[0m \u001b[0mfuture\u001b[0m\u001b[0;34m.\u001b[0m\u001b[0mcancelled\u001b[0m\u001b[0;34m(\u001b[0m\u001b[0;34m)\u001b[0m\u001b[0;34m:\u001b[0m\u001b[0;34m\u001b[0m\u001b[0;34m\u001b[0m\u001b[0m\n",
      "\u001b[0;32m/usr/local/Cellar/python/3.7.6_1/Frameworks/Python.framework/Versions/3.7/lib/python3.7/asyncio/base_events.py\u001b[0m in \u001b[0;36mrun_forever\u001b[0;34m(self)\u001b[0m\n\u001b[1;32m    523\u001b[0m         \u001b[0mself\u001b[0m\u001b[0;34m.\u001b[0m\u001b[0m_check_closed\u001b[0m\u001b[0;34m(\u001b[0m\u001b[0;34m)\u001b[0m\u001b[0;34m\u001b[0m\u001b[0;34m\u001b[0m\u001b[0m\n\u001b[1;32m    524\u001b[0m         \u001b[0;32mif\u001b[0m \u001b[0mself\u001b[0m\u001b[0;34m.\u001b[0m\u001b[0mis_running\u001b[0m\u001b[0;34m(\u001b[0m\u001b[0;34m)\u001b[0m\u001b[0;34m:\u001b[0m\u001b[0;34m\u001b[0m\u001b[0;34m\u001b[0m\u001b[0m\n\u001b[0;32m--> 525\u001b[0;31m             \u001b[0;32mraise\u001b[0m \u001b[0mRuntimeError\u001b[0m\u001b[0;34m(\u001b[0m\u001b[0;34m'This event loop is already running'\u001b[0m\u001b[0;34m)\u001b[0m\u001b[0;34m\u001b[0m\u001b[0;34m\u001b[0m\u001b[0m\n\u001b[0m\u001b[1;32m    526\u001b[0m         \u001b[0;32mif\u001b[0m \u001b[0mevents\u001b[0m\u001b[0;34m.\u001b[0m\u001b[0m_get_running_loop\u001b[0m\u001b[0;34m(\u001b[0m\u001b[0;34m)\u001b[0m \u001b[0;32mis\u001b[0m \u001b[0;32mnot\u001b[0m \u001b[0;32mNone\u001b[0m\u001b[0;34m:\u001b[0m\u001b[0;34m\u001b[0m\u001b[0;34m\u001b[0m\u001b[0m\n\u001b[1;32m    527\u001b[0m             raise RuntimeError(\n",
      "\u001b[0;31mRuntimeError\u001b[0m: This event loop is already running"
     ]
    },
    {
     "name": "stdout",
     "output_type": "stream",
     "text": [
      "200\n",
      "403\n",
      "200\n"
     ]
    }
   ],
   "source": [
    "async def main():\n",
    "    \n",
    "    loop=asyncio.get_event_loop()\n",
    "    \n",
    "    futures=[loop.run_in_executor(None, requests.get, url) for url in urls]\n",
    "    \n",
    "    for res in await asyncio.gather(*futures):\n",
    "        print (res.status_code)\n",
    "\n",
    "        \n",
    "        \n",
    "        \n",
    "loop=asyncio.get_event_loop()\n",
    "loop.run_until_complete(main())"
   ]
  },
  {
   "cell_type": "markdown",
   "metadata": {},
   "source": [
    "# More Scrap"
   ]
  },
  {
   "cell_type": "code",
   "execution_count": 6,
   "metadata": {},
   "outputs": [],
   "source": [
    "from bs4 import BeautifulSoup as bs\n",
    "from selenium import webdriver"
   ]
  },
  {
   "cell_type": "code",
   "execution_count": 7,
   "metadata": {},
   "outputs": [],
   "source": [
    "def get_page(url):\n",
    "    driver=webdriver.Firefox()\n",
    "    driver.get(url)\n",
    "    html=driver.page_source\n",
    "    \n",
    "    try:\n",
    "        soup=bs(html, 'html.parser')\n",
    "        \n",
    "    except:\n",
    "        print ('Error en la sopa, tengo una mosca')\n",
    "    \n",
    "    driver.quit()\n",
    "    \n",
    "    return soup"
   ]
  },
  {
   "cell_type": "code",
   "execution_count": 9,
   "metadata": {},
   "outputs": [],
   "source": [
    "soup=get_page('https://www.ironhack.com')\n",
    "#soup"
   ]
  },
  {
   "cell_type": "code",
   "execution_count": 14,
   "metadata": {},
   "outputs": [],
   "source": [
    "class PageGetter():\n",
    "    driver=False\n",
    "    \n",
    "    def __init__(self, browser='firefox'):\n",
    "        if browser=='firefox':\n",
    "            self.driver=webdriver.Firefox()\n",
    "        elif browser=='chrome':\n",
    "            self.driver=webdriver.Chrome()\n",
    "        else:\n",
    "            raise Exception ('Browser not valid.')\n",
    "            \n",
    "    def get_page(self, url):\n",
    "        if not self.driver:\n",
    "            raise Exception ('Select a browser...')\n",
    "        \n",
    "        self.driver.get(url)\n",
    "        html=self.driver.page_source\n",
    "        soup=bs(html, 'html.parser')\n",
    "        return soup\n",
    "    \n",
    "    def close(self):\n",
    "        self.driver.quit()\n",
    "        "
   ]
  },
  {
   "cell_type": "code",
   "execution_count": 15,
   "metadata": {},
   "outputs": [],
   "source": [
    "pg=PageGetter('firefox')\n",
    "soup=pg.get_page('https://www.ironhack.com/es')\n",
    "pg.close()"
   ]
  },
  {
   "cell_type": "code",
   "execution_count": 17,
   "metadata": {},
   "outputs": [
    {
     "data": {
      "text/plain": [
       "[<article class=\"StudentCompanies__Companies-sc-731dr7-0 iXEZXS\"><img alt=\"Google\" src=\"/assets/company-logos/google.png\"/><img alt=\"Visa\" src=\"/assets/company-logos/visa.png\"/><img alt=\"Twitter\" src=\"/assets/company-logos/twitter.png\"/><img alt=\"Magic Leap\" src=\"/assets/company-logos/magicleap.png\"/><img alt=\"Rocket Internet\" src=\"/assets/company-logos/rocketinternet.png\"/><img alt=\"Capgemini\" src=\"/assets/company-logos/capgemini.png\"/><img alt=\"Orange\" src=\"/assets/company-logos/orange.png\"/><img alt=\"Mango\" src=\"/assets/company-logos/mango.png\"/></article>,\n",
       " <article class=\"HomeTestimonial__Article-ypp2lo-1 gRIeLc\"><img alt=\"quotation-marks\" src=\"/assets/quote/quotation-marks.png\"/><em class=\"Component-sc-14u43gp-0 fzwGeo\"> <!-- -->Más que un bootcamp, Ironhack es una experiencia que te cambia la vida y una familia que siempre te apoyará.</em><b class=\"Component-sc-1xs6fn5-0 givXhQ\">Alvaro Castillo - Desarrollo web en Miami</b></article>,\n",
       " <article class=\"styles__TextInImageArticle-sc-1rkl5vi-5 dXgEw\"><p>Ironhack <!-- -->Madrid</p></article>,\n",
       " <article class=\"styles__TextInImageArticle-sc-1rkl5vi-5 dXgEw\"><p>Ironhack <!-- -->Barcelona</p></article>,\n",
       " <article class=\"styles__TextInImageArticle-sc-1rkl5vi-5 dXgEw\"><p>Ironhack <!-- -->Miami</p></article>,\n",
       " <article class=\"styles__TextInImageArticle-sc-1rkl5vi-5 dXgEw\"><p>Ironhack <!-- -->Paris</p></article>,\n",
       " <article class=\"styles__TextInImageArticle-sc-1rkl5vi-5 dXgEw\"><p>Ironhack <!-- -->Berlin</p></article>,\n",
       " <article class=\"styles__TextInImageArticle-sc-1rkl5vi-5 dXgEw\"><p>Ironhack <!-- -->Amsterdam</p></article>,\n",
       " <article class=\"styles__TextInImageArticle-sc-1rkl5vi-5 dXgEw\"><p>Ironhack <!-- -->Sao Paulo</p></article>,\n",
       " <article class=\"styles__TextInImageArticle-sc-1rkl5vi-5 dXgEw\"><p>Ironhack <!-- -->Lisboa</p></article>,\n",
       " <article class=\"styles__TextInImageArticle-sc-1rkl5vi-5 dXgEw\"><p>Ironhack <!-- -->Ciudad Mexico</p></article>,\n",
       " <article class=\"styles__ArticleLine-sc-1rkl5vi-2 iuWPwV active\"></article>,\n",
       " <article class=\"styles__ArticleLine-sc-1rkl5vi-2 iuWPwV\"></article>,\n",
       " <article class=\"styles__ArticleLine-sc-1rkl5vi-2 iuWPwV\"></article>,\n",
       " <article class=\"styles__ArticleLine-sc-1rkl5vi-2 iuWPwV\"></article>,\n",
       " <article class=\"styles__ArticleLine-sc-1rkl5vi-2 iuWPwV\"></article>,\n",
       " <article class=\"styles__ArticleLine-sc-1rkl5vi-2 iuWPwV\"></article>,\n",
       " <article class=\"styles__ArticleLine-sc-1rkl5vi-2 iuWPwV\"></article>,\n",
       " <article class=\"styles__ArticleLine-sc-1rkl5vi-2 iuWPwV\"></article>,\n",
       " <article class=\"styles__ArticleLine-sc-1rkl5vi-2 iuWPwV\"></article>,\n",
       " <article><img alt=\"Left\" src=\"/assets/icons/arrows/arrow-left.svg\"/></article>,\n",
       " <article><img alt=\"Right\" src=\"/assets/icons/arrows/arrow-right.svg\"/></article>,\n",
       " <article class=\"WhyIronhackItem__Article-n4gux6-1 gOvqwh\"><h3 class=\"Component-e5wvjw-0 expuus\">Transforma tu carrera profesional</h3><p class=\"Component-wtelfg-0 bIBcei\">¿Quieres conseguir un trabajo en el sector de la tecnología o crear tu propia empresa? Ironhack te ayudará a lograr tus objetivos.</p></article>,\n",
       " <article class=\"WhyIronhackItem__Article-n4gux6-1 gOvqwh\"><h3 class=\"Component-e5wvjw-0 expuus\">Únete a una red global</h3><p class=\"Component-wtelfg-0 bIBcei\">Contamos con una red global de +5000 graduados y profesionales en los 9 campus que tenemos alrededor del mundo.</p></article>,\n",
       " <article class=\"WhyIronhackItem__Article-n4gux6-1 gOvqwh\"><h3 class=\"Component-e5wvjw-0 expuus\">Aprende creando</h3><p class=\"Component-wtelfg-0 bIBcei\">Participa en proyectos reales y utiliza las herramientas y los flujos de trabajo que encontrarías en una empresa real.</p></article>,\n",
       " <article class=\"WhyIronhackItem__Article-n4gux6-1 gOvqwh\"><h3 class=\"Component-e5wvjw-0 expuus\">Colocación inmediata</h3><p class=\"Component-wtelfg-0 bIBcei\">Gracias a nuestra red de +600 empresas colaboradoras, los graduados podrán conseguir trabajo en menos de 3 meses.</p></article>,\n",
       " <article class=\"footer-content\"><img alt=\"Ironhack Logo\" src=\"/assets/icons/ironhack_logos/logo.svg\"/><div class=\"copy\">990 Biscayne Blvd. Ste 503 - Miami FL 33132<br/>© 2013-2019 Ironhack. All Rights Reserved</div></article>,\n",
       " <article class=\"footer-content\"><img alt=\"Course Report Logo\" src=\"/assets/footer/course-report.svg\"/><img alt=\"SwitchUp Logo\" src=\"/assets/footer/switchup.svg\"/><div class=\"licensed-by\">Licensed by:<!-- --> <img alt=\"Florida Education Department\" src=\"/assets/footer/florida-education.svg\"/></div></article>]"
      ]
     },
     "execution_count": 17,
     "metadata": {},
     "output_type": "execute_result"
    }
   ],
   "source": [
    "soup.select('article')"
   ]
  },
  {
   "cell_type": "code",
   "execution_count": 18,
   "metadata": {},
   "outputs": [],
   "source": [
    "from pyvirtualdisplay import Display\n",
    "import time"
   ]
  },
  {
   "cell_type": "code",
   "execution_count": 19,
   "metadata": {},
   "outputs": [
    {
     "ename": "XStartTimeoutError",
     "evalue": "Failed to start X on display \":1001\" (xdpyinfo check failed).",
     "output_type": "error",
     "traceback": [
      "\u001b[0;31m---------------------------------------------------------------------------\u001b[0m",
      "\u001b[0;31mXStartTimeoutError\u001b[0m                        Traceback (most recent call last)",
      "\u001b[0;32m<ipython-input-19-6e5a3875f636>\u001b[0m in \u001b[0;36m<module>\u001b[0;34m\u001b[0m\n\u001b[1;32m      1\u001b[0m \u001b[0mdisplay\u001b[0m\u001b[0;34m=\u001b[0m\u001b[0mDisplay\u001b[0m\u001b[0;34m(\u001b[0m\u001b[0mvisible\u001b[0m\u001b[0;34m=\u001b[0m\u001b[0;36m0\u001b[0m\u001b[0;34m)\u001b[0m\u001b[0;34m\u001b[0m\u001b[0;34m\u001b[0m\u001b[0m\n\u001b[0;32m----> 2\u001b[0;31m \u001b[0mdisplay\u001b[0m\u001b[0;34m.\u001b[0m\u001b[0mstart\u001b[0m\u001b[0;34m(\u001b[0m\u001b[0;34m)\u001b[0m\u001b[0;34m\u001b[0m\u001b[0;34m\u001b[0m\u001b[0m\n\u001b[0m",
      "\u001b[0;32m~/Library/Python/3.7/lib/python/site-packages/pyvirtualdisplay/abstractdisplay.py\u001b[0m in \u001b[0;36mstart\u001b[0;34m(self)\u001b[0m\n\u001b[1;32m    166\u001b[0m         \u001b[0;32mif\u001b[0m \u001b[0;32mnot\u001b[0m \u001b[0mok\u001b[0m\u001b[0;34m:\u001b[0m\u001b[0;34m\u001b[0m\u001b[0;34m\u001b[0m\u001b[0m\n\u001b[1;32m    167\u001b[0m             \u001b[0mmsg\u001b[0m \u001b[0;34m=\u001b[0m \u001b[0;34m'Failed to start X on display \"%s\" (xdpyinfo check failed).'\u001b[0m\u001b[0;34m\u001b[0m\u001b[0;34m\u001b[0m\u001b[0m\n\u001b[0;32m--> 168\u001b[0;31m             \u001b[0;32mraise\u001b[0m \u001b[0mXStartTimeoutError\u001b[0m\u001b[0;34m(\u001b[0m\u001b[0mmsg\u001b[0m \u001b[0;34m%\u001b[0m \u001b[0md\u001b[0m\u001b[0;34m)\u001b[0m\u001b[0;34m\u001b[0m\u001b[0;34m\u001b[0m\u001b[0m\n\u001b[0m\u001b[1;32m    169\u001b[0m         \u001b[0;32mreturn\u001b[0m \u001b[0mself\u001b[0m\u001b[0;34m\u001b[0m\u001b[0;34m\u001b[0m\u001b[0m\n\u001b[1;32m    170\u001b[0m \u001b[0;34m\u001b[0m\u001b[0m\n",
      "\u001b[0;31mXStartTimeoutError\u001b[0m: Failed to start X on display \":1001\" (xdpyinfo check failed)."
     ]
    }
   ],
   "source": [
    "display=Display(visible=0)  # ya no se abre el firefox\n",
    "display.start()"
   ]
  },
  {
   "cell_type": "code",
   "execution_count": 20,
   "metadata": {},
   "outputs": [],
   "source": [
    "# https://github.com/YonatanRA/MAD-MEX"
   ]
  },
  {
   "cell_type": "code",
   "execution_count": 21,
   "metadata": {},
   "outputs": [],
   "source": [
    "url='https://threatbutt.com/map/'"
   ]
  },
  {
   "cell_type": "code",
   "execution_count": 24,
   "metadata": {},
   "outputs": [
    {
     "name": "stdout",
     "output_type": "stream",
     "text": [
      "{'timestamp': 1586364306.787462, 'predator': 'aus ', 'ip_pred': '111.140.182.2', 'prey': 's %s', 'ip_prey': \"un='%s'\"}\n",
      "{'timestamp': 1586364306.8311942, 'predator': 'aus ', 'ip_pred': '111.140.182.2', 'prey': 's %s', 'ip_prey': \"un='%s'\"}\n",
      "{'timestamp': 1586364306.8672872, 'predator': 'aus ', 'ip_pred': '111.140.182.2', 'prey': 's %s', 'ip_prey': \"un='%s'\"}\n",
      "{'timestamp': 1586364306.897318, 'predator': 'aus ', 'ip_pred': '111.140.182.2', 'prey': 's %s', 'ip_prey': \"un='%s'\"}\n",
      "{'timestamp': 1586364306.922336, 'predator': 'aus ', 'ip_pred': '111.140.182.2', 'prey': 's %s', 'ip_prey': \"un='%s'\"}\n",
      "{'timestamp': 1586364306.9474251, 'predator': 'aus ', 'ip_pred': '111.140.182.2', 'prey': 's %s', 'ip_prey': \"un='%s'\"}\n",
      "{'timestamp': 1586364306.9715881, 'predator': 'aus ', 'ip_pred': '111.140.182.2', 'prey': 's %s', 'ip_prey': \"un='%s'\"}\n",
      "{'timestamp': 1586364307.014323, 'predator': 'aus ', 'ip_pred': '111.140.182.2', 'prey': 's %s', 'ip_prey': \"un='%s'\"}\n",
      "{'timestamp': 1586364307.0521731, 'predator': 'aus ', 'ip_pred': '111.140.182.2', 'prey': 's %s', 'ip_prey': \"un='%s'\"}\n",
      "{'timestamp': 1586364307.0794392, 'predator': 'aus ', 'ip_pred': '111.140.182.2', 'prey': 's %s', 'ip_prey': \"un='%s'\"}\n",
      "{'timestamp': 1586364307.1011682, 'predator': 'aus ', 'ip_pred': '111.140.182.2', 'prey': 's %s', 'ip_prey': \"un='%s'\"}\n",
      "{'timestamp': 1586364307.189976, 'predator': 'aus ', 'ip_pred': '111.140.182.2', 'prey': 's %s', 'ip_prey': \"un='%s'\"}\n",
      "{'timestamp': 1586364307.2506099, 'predator': 'aus ', 'ip_pred': '111.140.182.2', 'prey': 's %s', 'ip_prey': \"un='%s'\"}\n",
      "{'timestamp': 1586364307.2880452, 'predator': 'aus ', 'ip_pred': '111.140.182.2', 'prey': 's %s', 'ip_prey': \"un='%s'\"}\n",
      "{'timestamp': 1586364307.314573, 'predator': 'aus ', 'ip_pred': '111.140.182.2', 'prey': 's %s', 'ip_prey': \"un='%s'\"}\n",
      "{'timestamp': 1586364307.341512, 'predator': 'aus ', 'ip_pred': '111.140.182.2', 'prey': 's %s', 'ip_prey': \"un='%s'\"}\n",
      "{'timestamp': 1586364307.387105, 'predator': 'aus ', 'ip_pred': '111.140.182.2', 'prey': 's %s', 'ip_prey': \"un='%s'\"}\n",
      "{'timestamp': 1586364307.451791, 'predator': 'aus ', 'ip_pred': '111.140.182.2', 'prey': 's %s', 'ip_prey': \"un='%s'\"}\n",
      "{'timestamp': 1586364307.47344, 'predator': 'aus ', 'ip_pred': '111.140.182.2', 'prey': 's %s', 'ip_prey': \"un='%s'\"}\n",
      "{'timestamp': 1586364307.503583, 'predator': 'aus ', 'ip_pred': '111.140.182.2', 'prey': 's %s', 'ip_prey': \"un='%s'\"}\n",
      "{'timestamp': 1586364307.5305421, 'predator': 'aus ', 'ip_pred': '111.140.182.2', 'prey': 's %s', 'ip_prey': \"un='%s'\"}\n",
      "{'timestamp': 1586364307.550838, 'predator': 'aus ', 'ip_pred': '111.140.182.2', 'prey': 's %s', 'ip_prey': \"un='%s'\"}\n",
      "{'timestamp': 1586364307.577717, 'predator': 'aus ', 'ip_pred': '111.140.182.2', 'prey': 's %s', 'ip_prey': \"un='%s'\"}\n",
      "{'timestamp': 1586364307.59885, 'predator': 'aus ', 'ip_pred': '111.140.182.2', 'prey': 's %s', 'ip_prey': \"un='%s'\"}\n",
      "{'timestamp': 1586364307.6229382, 'predator': 'aus ', 'ip_pred': '111.140.182.2', 'prey': 's %s', 'ip_prey': \"un='%s'\"}\n",
      "{'timestamp': 1586364307.650367, 'predator': 'blr ', 'ip_pred': '2.195.2.113', 'prey': 'sau ', 'ip_prey': '178.196.196.22'}\n",
      "{'timestamp': 1586364307.678737, 'predator': 'blr ', 'ip_pred': '2.195.2.113', 'prey': 'sau ', 'ip_prey': '178.196.196.22'}\n",
      "{'timestamp': 1586364307.7516491, 'predator': 'blr ', 'ip_pred': '2.195.2.113', 'prey': 'sau ', 'ip_prey': '178.196.196.22'}\n",
      "{'timestamp': 1586364307.78327, 'predator': 'blr ', 'ip_pred': '2.195.2.113', 'prey': 'sau ', 'ip_prey': '178.196.196.22'}\n",
      "{'timestamp': 1586364307.810231, 'predator': 'blr ', 'ip_pred': '2.195.2.113', 'prey': 'sau ', 'ip_prey': '178.196.196.22'}\n",
      "{'timestamp': 1586364307.8661308, 'predator': 'blr ', 'ip_pred': '2.195.2.113', 'prey': 'sau ', 'ip_prey': '178.196.196.22'}\n",
      "{'timestamp': 1586364307.9007978, 'predator': 'blr ', 'ip_pred': '2.195.2.113', 'prey': 'sau ', 'ip_prey': '178.196.196.22'}\n",
      "{'timestamp': 1586364307.928053, 'predator': 'blr ', 'ip_pred': '2.195.2.113', 'prey': 'sau ', 'ip_prey': '178.196.196.22'}\n",
      "{'timestamp': 1586364307.949497, 'predator': 'blr ', 'ip_pred': '2.195.2.113', 'prey': 'sau ', 'ip_prey': '178.196.196.22'}\n",
      "{'timestamp': 1586364307.971755, 'predator': 'blr ', 'ip_pred': '2.195.2.113', 'prey': 'sau ', 'ip_prey': '178.196.196.22'}\n",
      "{'timestamp': 1586364308.001895, 'predator': 'blr ', 'ip_pred': '2.195.2.113', 'prey': 'sau ', 'ip_prey': '178.196.196.22'}\n",
      "{'timestamp': 1586364308.027668, 'predator': 'blr ', 'ip_pred': '2.195.2.113', 'prey': 'sau ', 'ip_prey': '178.196.196.22'}\n",
      "{'timestamp': 1586364308.052864, 'predator': 'blr ', 'ip_pred': '2.195.2.113', 'prey': 'sau ', 'ip_prey': '178.196.196.22'}\n",
      "{'timestamp': 1586364308.07664, 'predator': 'blr ', 'ip_pred': '2.195.2.113', 'prey': 'sau ', 'ip_prey': '178.196.196.22'}\n",
      "{'timestamp': 1586364308.1004128, 'predator': 'blr ', 'ip_pred': '2.195.2.113', 'prey': 'sau ', 'ip_prey': '178.196.196.22'}\n",
      "{'timestamp': 1586364308.1210518, 'predator': 'blr ', 'ip_pred': '2.195.2.113', 'prey': 'sau ', 'ip_prey': '178.196.196.22'}\n",
      "{'timestamp': 1586364308.1434398, 'predator': 'blr ', 'ip_pred': '2.195.2.113', 'prey': 'sau ', 'ip_prey': '178.196.196.22'}\n",
      "{'timestamp': 1586364308.168774, 'predator': 'blr ', 'ip_pred': '2.195.2.113', 'prey': 'sau ', 'ip_prey': '178.196.196.22'}\n",
      "{'timestamp': 1586364308.1936471, 'predator': 'blr ', 'ip_pred': '2.195.2.113', 'prey': 'sau ', 'ip_prey': '178.196.196.22'}\n",
      "{'timestamp': 1586364308.217709, 'predator': 'blr ', 'ip_pred': '2.195.2.113', 'prey': 'sau ', 'ip_prey': '178.196.196.22'}\n",
      "{'timestamp': 1586364308.2429922, 'predator': 'blr ', 'ip_pred': '2.195.2.113', 'prey': 'sau ', 'ip_prey': '178.196.196.22'}\n",
      "{'timestamp': 1586364308.274546, 'predator': 'blr ', 'ip_pred': '2.195.2.113', 'prey': 'sau ', 'ip_prey': '178.196.196.22'}\n",
      "{'timestamp': 1586364308.2997901, 'predator': 'blr ', 'ip_pred': '2.195.2.113', 'prey': 'sau ', 'ip_prey': '178.196.196.22'}\n",
      "{'timestamp': 1586364308.321084, 'predator': 'blr ', 'ip_pred': '2.195.2.113', 'prey': 'sau ', 'ip_prey': '178.196.196.22'}\n",
      "{'timestamp': 1586364308.352949, 'predator': 'blr ', 'ip_pred': '2.195.2.113', 'prey': 'sau ', 'ip_prey': '178.196.196.22'}\n",
      "{'timestamp': 1586364308.373503, 'predator': 'blr ', 'ip_pred': '2.195.2.113', 'prey': 'sau ', 'ip_prey': '178.196.196.22'}\n",
      "{'timestamp': 1586364308.398804, 'predator': 'blr ', 'ip_pred': '2.195.2.113', 'prey': 'sau ', 'ip_prey': '178.196.196.22'}\n",
      "{'timestamp': 1586364308.426862, 'predator': 'blr ', 'ip_pred': '2.195.2.113', 'prey': 'sau ', 'ip_prey': '178.196.196.22'}\n",
      "{'timestamp': 1586364308.4498408, 'predator': 'blr ', 'ip_pred': '2.195.2.113', 'prey': 'sau ', 'ip_prey': '178.196.196.22'}\n",
      "{'timestamp': 1586364308.474208, 'predator': 'blr ', 'ip_pred': '2.195.2.113', 'prey': 'sau ', 'ip_prey': '178.196.196.22'}\n",
      "{'timestamp': 1586364308.4998488, 'predator': 'blr ', 'ip_pred': '2.195.2.113', 'prey': 'sau ', 'ip_prey': '178.196.196.22'}\n",
      "{'timestamp': 1586364308.522093, 'predator': 'blr ', 'ip_pred': '2.195.2.113', 'prey': 'sau ', 'ip_prey': '178.196.196.22'}\n",
      "{'timestamp': 1586364308.543299, 'predator': 'blr ', 'ip_pred': '2.195.2.113', 'prey': 'sau ', 'ip_prey': '178.196.196.22'}\n",
      "{'timestamp': 1586364308.566327, 'predator': 'blr ', 'ip_pred': '2.195.2.113', 'prey': 'sau ', 'ip_prey': '178.196.196.22'}\n",
      "{'timestamp': 1586364308.590011, 'predator': 'blr ', 'ip_pred': '2.195.2.113', 'prey': 'sau ', 'ip_prey': '178.196.196.22'}\n",
      "{'timestamp': 1586364308.6230888, 'predator': 'blr ', 'ip_pred': '2.195.2.113', 'prey': 'sau ', 'ip_prey': '178.196.196.22'}\n",
      "{'timestamp': 1586364308.646229, 'predator': 'blr ', 'ip_pred': '2.195.2.113', 'prey': 'sau ', 'ip_prey': '178.196.196.22'}\n",
      "{'timestamp': 1586364308.672896, 'predator': 'blr ', 'ip_pred': '2.195.2.113', 'prey': 'sau ', 'ip_prey': '178.196.196.22'}\n",
      "{'timestamp': 1586364308.70543, 'predator': 'blr ', 'ip_pred': '2.195.2.113', 'prey': 'sau ', 'ip_prey': '178.196.196.22'}\n",
      "{'timestamp': 1586364308.725822, 'predator': 'blr ', 'ip_pred': '2.195.2.113', 'prey': 'sau ', 'ip_prey': '178.196.196.22'}\n",
      "{'timestamp': 1586364308.749225, 'predator': 'blr ', 'ip_pred': '2.195.2.113', 'prey': 'sau ', 'ip_prey': '178.196.196.22'}\n",
      "{'timestamp': 1586364308.778829, 'predator': 'blr ', 'ip_pred': '2.195.2.113', 'prey': 'sau ', 'ip_prey': '178.196.196.22'}\n",
      "{'timestamp': 1586364308.8190022, 'predator': 'blr ', 'ip_pred': '2.195.2.113', 'prey': 'sau ', 'ip_prey': '178.196.196.22'}\n",
      "{'timestamp': 1586364308.8626308, 'predator': 'blr ', 'ip_pred': '2.195.2.113', 'prey': 'sau ', 'ip_prey': '178.196.196.22'}\n",
      "{'timestamp': 1586364308.904477, 'predator': 'blr ', 'ip_pred': '2.195.2.113', 'prey': 'sau ', 'ip_prey': '178.196.196.22'}\n",
      "{'timestamp': 1586364308.927308, 'predator': 'blr ', 'ip_pred': '2.195.2.113', 'prey': 'sau ', 'ip_prey': '178.196.196.22'}\n"
     ]
    },
    {
     "name": "stdout",
     "output_type": "stream",
     "text": [
      "{'timestamp': 1586364308.993879, 'predator': 'grc ', 'ip_pred': '243.49.119.46', 'prey': 'deu ', 'ip_prey': '2.96.93.83'}\n",
      "{'timestamp': 1586364309.070403, 'predator': 'grc ', 'ip_pred': '243.49.119.46', 'prey': 'deu ', 'ip_prey': '2.96.93.83'}\n",
      "{'timestamp': 1586364309.110462, 'predator': 'grc ', 'ip_pred': '243.49.119.46', 'prey': 'deu ', 'ip_prey': '2.96.93.83'}\n",
      "{'timestamp': 1586364309.1420789, 'predator': 'grc ', 'ip_pred': '243.49.119.46', 'prey': 'deu ', 'ip_prey': '2.96.93.83'}\n",
      "{'timestamp': 1586364309.1667688, 'predator': 'grc ', 'ip_pred': '243.49.119.46', 'prey': 'deu ', 'ip_prey': '2.96.93.83'}\n",
      "{'timestamp': 1586364309.1938848, 'predator': 'grc ', 'ip_pred': '243.49.119.46', 'prey': 'deu ', 'ip_prey': '2.96.93.83'}\n",
      "{'timestamp': 1586364309.218118, 'predator': 'grc ', 'ip_pred': '243.49.119.46', 'prey': 'deu ', 'ip_prey': '2.96.93.83'}\n",
      "{'timestamp': 1586364309.241236, 'predator': 'grc ', 'ip_pred': '243.49.119.46', 'prey': 'deu ', 'ip_prey': '2.96.93.83'}\n",
      "{'timestamp': 1586364309.272681, 'predator': 'grc ', 'ip_pred': '243.49.119.46', 'prey': 'deu ', 'ip_prey': '2.96.93.83'}\n",
      "{'timestamp': 1586364309.332533, 'predator': 'grc ', 'ip_pred': '243.49.119.46', 'prey': 'deu ', 'ip_prey': '2.96.93.83'}\n",
      "{'timestamp': 1586364309.359637, 'predator': 'grc ', 'ip_pred': '243.49.119.46', 'prey': 'deu ', 'ip_prey': '2.96.93.83'}\n",
      "{'timestamp': 1586364309.3838038, 'predator': 'grc ', 'ip_pred': '243.49.119.46', 'prey': 'deu ', 'ip_prey': '2.96.93.83'}\n",
      "{'timestamp': 1586364309.4074728, 'predator': 'grc ', 'ip_pred': '243.49.119.46', 'prey': 'deu ', 'ip_prey': '2.96.93.83'}\n",
      "{'timestamp': 1586364309.4432771, 'predator': 'grc ', 'ip_pred': '243.49.119.46', 'prey': 'deu ', 'ip_prey': '2.96.93.83'}\n",
      "{'timestamp': 1586364309.472791, 'predator': 'grc ', 'ip_pred': '243.49.119.46', 'prey': 'deu ', 'ip_prey': '2.96.93.83'}\n",
      "{'timestamp': 1586364309.495261, 'predator': 'grc ', 'ip_pred': '243.49.119.46', 'prey': 'deu ', 'ip_prey': '2.96.93.83'}\n",
      "{'timestamp': 1586364309.52351, 'predator': 'grc ', 'ip_pred': '243.49.119.46', 'prey': 'deu ', 'ip_prey': '2.96.93.83'}\n",
      "{'timestamp': 1586364309.548565, 'predator': 'grc ', 'ip_pred': '243.49.119.46', 'prey': 'deu ', 'ip_prey': '2.96.93.83'}\n",
      "{'timestamp': 1586364309.584658, 'predator': 'grc ', 'ip_pred': '243.49.119.46', 'prey': 'deu ', 'ip_prey': '2.96.93.83'}\n",
      "{'timestamp': 1586364309.614429, 'predator': 'grc ', 'ip_pred': '243.49.119.46', 'prey': 'deu ', 'ip_prey': '2.96.93.83'}\n",
      "{'timestamp': 1586364309.642029, 'predator': 'grc ', 'ip_pred': '243.49.119.46', 'prey': 'deu ', 'ip_prey': '2.96.93.83'}\n",
      "{'timestamp': 1586364309.665612, 'predator': 'grc ', 'ip_pred': '243.49.119.46', 'prey': 'deu ', 'ip_prey': '2.96.93.83'}\n",
      "{'timestamp': 1586364309.7108228, 'predator': 'grc ', 'ip_pred': '243.49.119.46', 'prey': 'deu ', 'ip_prey': '2.96.93.83'}\n",
      "{'timestamp': 1586364309.735935, 'predator': 'grc ', 'ip_pred': '243.49.119.46', 'prey': 'deu ', 'ip_prey': '2.96.93.83'}\n",
      "{'timestamp': 1586364309.785289, 'predator': 'grc ', 'ip_pred': '243.49.119.46', 'prey': 'deu ', 'ip_prey': '2.96.93.83'}\n",
      "{'timestamp': 1586364309.829422, 'predator': 'grc ', 'ip_pred': '243.49.119.46', 'prey': 'deu ', 'ip_prey': '2.96.93.83'}\n",
      "{'timestamp': 1586364309.877224, 'predator': 'grc ', 'ip_pred': '243.49.119.46', 'prey': 'deu ', 'ip_prey': '2.96.93.83'}\n",
      "{'timestamp': 1586364309.92856, 'predator': 'grc ', 'ip_pred': '243.49.119.46', 'prey': 'deu ', 'ip_prey': '2.96.93.83'}\n",
      "{'timestamp': 1586364309.952775, 'predator': 'grc ', 'ip_pred': '243.49.119.46', 'prey': 'deu ', 'ip_prey': '2.96.93.83'}\n",
      "{'timestamp': 1586364309.9990542, 'predator': 'grc ', 'ip_pred': '243.49.119.46', 'prey': 'deu ', 'ip_prey': '2.96.93.83'}\n",
      "{'timestamp': 1586364310.026538, 'predator': 'grc ', 'ip_pred': '243.49.119.46', 'prey': 'deu ', 'ip_prey': '2.96.93.83'}\n",
      "{'timestamp': 1586364310.0631812, 'predator': 'grc ', 'ip_pred': '243.49.119.46', 'prey': 'deu ', 'ip_prey': '2.96.93.83'}\n",
      "{'timestamp': 1586364310.100126, 'predator': 'grc ', 'ip_pred': '243.49.119.46', 'prey': 'deu ', 'ip_prey': '2.96.93.83'}\n",
      "{'timestamp': 1586364310.143868, 'predator': 'grc ', 'ip_pred': '243.49.119.46', 'prey': 'deu ', 'ip_prey': '2.96.93.83'}\n",
      "{'timestamp': 1586364310.165169, 'predator': 'grc ', 'ip_pred': '243.49.119.46', 'prey': 'deu ', 'ip_prey': '2.96.93.83'}\n",
      "{'timestamp': 1586364310.18846, 'predator': 'grc ', 'ip_pred': '243.49.119.46', 'prey': 'deu ', 'ip_prey': '2.96.93.83'}\n",
      "{'timestamp': 1586364310.219969, 'predator': 'grc ', 'ip_pred': '243.49.119.46', 'prey': 'deu ', 'ip_prey': '2.96.93.83'}\n",
      "{'timestamp': 1586364310.249082, 'predator': 'grc ', 'ip_pred': '243.49.119.46', 'prey': 'deu ', 'ip_prey': '2.96.93.83'}\n",
      "{'timestamp': 1586364310.285324, 'predator': 'usa ', 'ip_pred': '57.143.37.87', 'prey': 'gbr ', 'ip_prey': '136.4.33.240'}\n",
      "{'timestamp': 1586364310.378884, 'predator': 'usa ', 'ip_pred': '57.143.37.87', 'prey': 'gbr ', 'ip_prey': '136.4.33.240'}\n",
      "{'timestamp': 1586364310.4774551, 'predator': 'usa ', 'ip_pred': '57.143.37.87', 'prey': 'gbr ', 'ip_prey': '136.4.33.240'}\n",
      "{'timestamp': 1586364310.556963, 'predator': 'usa ', 'ip_pred': '57.143.37.87', 'prey': 'gbr ', 'ip_prey': '136.4.33.240'}\n",
      "{'timestamp': 1586364310.646875, 'predator': 'usa ', 'ip_pred': '57.143.37.87', 'prey': 'gbr ', 'ip_prey': '136.4.33.240'}\n",
      "{'timestamp': 1586364310.707511, 'predator': 'usa ', 'ip_pred': '57.143.37.87', 'prey': 'gbr ', 'ip_prey': '136.4.33.240'}\n",
      "{'timestamp': 1586364310.7876768, 'predator': 'usa ', 'ip_pred': '57.143.37.87', 'prey': 'gbr ', 'ip_prey': '136.4.33.240'}\n",
      "{'timestamp': 1586364310.8431208, 'predator': 'usa ', 'ip_pred': '57.143.37.87', 'prey': 'gbr ', 'ip_prey': '136.4.33.240'}\n",
      "{'timestamp': 1586364310.885443, 'predator': 'usa ', 'ip_pred': '57.143.37.87', 'prey': 'gbr ', 'ip_prey': '136.4.33.240'}\n",
      "{'timestamp': 1586364310.912111, 'predator': 'usa ', 'ip_pred': '57.143.37.87', 'prey': 'gbr ', 'ip_prey': '136.4.33.240'}\n",
      "{'timestamp': 1586364310.935436, 'predator': 'usa ', 'ip_pred': '57.143.37.87', 'prey': 'gbr ', 'ip_prey': '136.4.33.240'}\n",
      "{'timestamp': 1586364310.9707232, 'predator': 'usa ', 'ip_pred': '57.143.37.87', 'prey': 'gbr ', 'ip_prey': '136.4.33.240'}\n",
      "{'timestamp': 1586364310.998859, 'predator': 'usa ', 'ip_pred': '57.143.37.87', 'prey': 'gbr ', 'ip_prey': '136.4.33.240'}\n",
      "{'timestamp': 1586364311.025412, 'predator': 'usa ', 'ip_pred': '57.143.37.87', 'prey': 'gbr ', 'ip_prey': '136.4.33.240'}\n",
      "{'timestamp': 1586364311.0486069, 'predator': 'usa ', 'ip_pred': '57.143.37.87', 'prey': 'gbr ', 'ip_prey': '136.4.33.240'}\n",
      "{'timestamp': 1586364311.070566, 'predator': 'usa ', 'ip_pred': '57.143.37.87', 'prey': 'gbr ', 'ip_prey': '136.4.33.240'}\n",
      "{'timestamp': 1586364311.093238, 'predator': 'usa ', 'ip_pred': '57.143.37.87', 'prey': 'gbr ', 'ip_prey': '136.4.33.240'}\n",
      "{'timestamp': 1586364311.120321, 'predator': 'usa ', 'ip_pred': '57.143.37.87', 'prey': 'gbr ', 'ip_prey': '136.4.33.240'}\n",
      "{'timestamp': 1586364311.141576, 'predator': 'usa ', 'ip_pred': '57.143.37.87', 'prey': 'gbr ', 'ip_prey': '136.4.33.240'}\n",
      "{'timestamp': 1586364311.16395, 'predator': 'usa ', 'ip_pred': '57.143.37.87', 'prey': 'gbr ', 'ip_prey': '136.4.33.240'}\n",
      "{'timestamp': 1586364311.185125, 'predator': 'usa ', 'ip_pred': '57.143.37.87', 'prey': 'gbr ', 'ip_prey': '136.4.33.240'}\n",
      "{'timestamp': 1586364311.206552, 'predator': 'usa ', 'ip_pred': '57.143.37.87', 'prey': 'gbr ', 'ip_prey': '136.4.33.240'}\n",
      "{'timestamp': 1586364311.227814, 'predator': 'usa ', 'ip_pred': '57.143.37.87', 'prey': 'gbr ', 'ip_prey': '136.4.33.240'}\n",
      "{'timestamp': 1586364311.28097, 'predator': 'usa ', 'ip_pred': '57.143.37.87', 'prey': 'gbr ', 'ip_prey': '136.4.33.240'}\n",
      "{'timestamp': 1586364311.324061, 'predator': 'usa ', 'ip_pred': '57.143.37.87', 'prey': 'gbr ', 'ip_prey': '136.4.33.240'}\n",
      "{'timestamp': 1586364311.348137, 'predator': 'usa ', 'ip_pred': '57.143.37.87', 'prey': 'gbr ', 'ip_prey': '136.4.33.240'}\n",
      "{'timestamp': 1586364311.372446, 'predator': 'usa ', 'ip_pred': '57.143.37.87', 'prey': 'gbr ', 'ip_prey': '136.4.33.240'}\n",
      "{'timestamp': 1586364311.409289, 'predator': 'usa ', 'ip_pred': '57.143.37.87', 'prey': 'gbr ', 'ip_prey': '136.4.33.240'}\n",
      "{'timestamp': 1586364311.4333382, 'predator': 'usa ', 'ip_pred': '57.143.37.87', 'prey': 'gbr ', 'ip_prey': '136.4.33.240'}\n",
      "{'timestamp': 1586364311.459564, 'predator': 'usa ', 'ip_pred': '57.143.37.87', 'prey': 'gbr ', 'ip_prey': '136.4.33.240'}\n",
      "{'timestamp': 1586364311.482713, 'predator': 'usa ', 'ip_pred': '57.143.37.87', 'prey': 'gbr ', 'ip_prey': '136.4.33.240'}\n",
      "{'timestamp': 1586364311.505394, 'predator': 'usa ', 'ip_pred': '57.143.37.87', 'prey': 'gbr ', 'ip_prey': '136.4.33.240'}\n"
     ]
    },
    {
     "name": "stdout",
     "output_type": "stream",
     "text": [
      "{'timestamp': 1586364311.529849, 'predator': 'usa ', 'ip_pred': '57.143.37.87', 'prey': 'gbr ', 'ip_prey': '136.4.33.240'}\n",
      "{'timestamp': 1586364311.556795, 'predator': 'usa ', 'ip_pred': '57.143.37.87', 'prey': 'gbr ', 'ip_prey': '136.4.33.240'}\n",
      "{'timestamp': 1586364311.5826402, 'predator': 'usa ', 'ip_pred': '57.143.37.87', 'prey': 'gbr ', 'ip_prey': '136.4.33.240'}\n",
      "{'timestamp': 1586364311.6097338, 'predator': 'usa ', 'ip_pred': '129.99.237.236', 'prey': 'usa ', 'ip_prey': '170.220.85.35'}\n",
      "{'timestamp': 1586364311.635898, 'predator': 'usa ', 'ip_pred': '129.99.237.236', 'prey': 'usa ', 'ip_prey': '170.220.85.35'}\n",
      "{'timestamp': 1586364311.669775, 'predator': 'usa ', 'ip_pred': '129.99.237.236', 'prey': 'usa ', 'ip_prey': '170.220.85.35'}\n",
      "{'timestamp': 1586364311.713044, 'predator': 'usa ', 'ip_pred': '129.99.237.236', 'prey': 'usa ', 'ip_prey': '170.220.85.35'}\n",
      "{'timestamp': 1586364311.748657, 'predator': 'usa ', 'ip_pred': '129.99.237.236', 'prey': 'usa ', 'ip_prey': '170.220.85.35'}\n",
      "{'timestamp': 1586364311.78401, 'predator': 'usa ', 'ip_pred': '129.99.237.236', 'prey': 'usa ', 'ip_prey': '170.220.85.35'}\n",
      "{'timestamp': 1586364311.818371, 'predator': 'usa ', 'ip_pred': '129.99.237.236', 'prey': 'usa ', 'ip_prey': '170.220.85.35'}\n",
      "{'timestamp': 1586364311.854059, 'predator': 'usa ', 'ip_pred': '129.99.237.236', 'prey': 'usa ', 'ip_prey': '170.220.85.35'}\n",
      "{'timestamp': 1586364311.894488, 'predator': 'usa ', 'ip_pred': '129.99.237.236', 'prey': 'usa ', 'ip_prey': '170.220.85.35'}\n",
      "{'timestamp': 1586364311.930463, 'predator': 'usa ', 'ip_pred': '129.99.237.236', 'prey': 'usa ', 'ip_prey': '170.220.85.35'}\n",
      "{'timestamp': 1586364311.958976, 'predator': 'usa ', 'ip_pred': '129.99.237.236', 'prey': 'usa ', 'ip_prey': '170.220.85.35'}\n",
      "{'timestamp': 1586364311.987094, 'predator': 'usa ', 'ip_pred': '129.99.237.236', 'prey': 'usa ', 'ip_prey': '170.220.85.35'}\n",
      "{'timestamp': 1586364312.012539, 'predator': 'usa ', 'ip_pred': '129.99.237.236', 'prey': 'usa ', 'ip_prey': '170.220.85.35'}\n",
      "{'timestamp': 1586364312.038914, 'predator': 'usa ', 'ip_pred': '129.99.237.236', 'prey': 'usa ', 'ip_prey': '170.220.85.35'}\n",
      "{'timestamp': 1586364312.063915, 'predator': 'usa ', 'ip_pred': '129.99.237.236', 'prey': 'usa ', 'ip_prey': '170.220.85.35'}\n",
      "{'timestamp': 1586364312.091674, 'predator': 'usa ', 'ip_pred': '129.99.237.236', 'prey': 'usa ', 'ip_prey': '170.220.85.35'}\n",
      "{'timestamp': 1586364312.118983, 'predator': 'usa ', 'ip_pred': '129.99.237.236', 'prey': 'usa ', 'ip_prey': '170.220.85.35'}\n",
      "{'timestamp': 1586364312.1423, 'predator': 'usa ', 'ip_pred': '129.99.237.236', 'prey': 'usa ', 'ip_prey': '170.220.85.35'}\n",
      "{'timestamp': 1586364312.166023, 'predator': 'usa ', 'ip_pred': '129.99.237.236', 'prey': 'usa ', 'ip_prey': '170.220.85.35'}\n",
      "{'timestamp': 1586364312.19663, 'predator': 'usa ', 'ip_pred': '129.99.237.236', 'prey': 'usa ', 'ip_prey': '170.220.85.35'}\n",
      "{'timestamp': 1586364312.2232041, 'predator': 'usa ', 'ip_pred': '129.99.237.236', 'prey': 'usa ', 'ip_prey': '170.220.85.35'}\n",
      "{'timestamp': 1586364312.2562408, 'predator': 'usa ', 'ip_pred': '129.99.237.236', 'prey': 'usa ', 'ip_prey': '170.220.85.35'}\n",
      "{'timestamp': 1586364312.2872052, 'predator': 'usa ', 'ip_pred': '129.99.237.236', 'prey': 'usa ', 'ip_prey': '170.220.85.35'}\n",
      "{'timestamp': 1586364312.314993, 'predator': 'usa ', 'ip_pred': '129.99.237.236', 'prey': 'usa ', 'ip_prey': '170.220.85.35'}\n",
      "{'timestamp': 1586364312.3404732, 'predator': 'usa ', 'ip_pred': '129.99.237.236', 'prey': 'usa ', 'ip_prey': '170.220.85.35'}\n",
      "{'timestamp': 1586364312.365868, 'predator': 'usa ', 'ip_pred': '129.99.237.236', 'prey': 'usa ', 'ip_prey': '170.220.85.35'}\n",
      "{'timestamp': 1586364312.3893492, 'predator': 'usa ', 'ip_pred': '129.99.237.236', 'prey': 'usa ', 'ip_prey': '170.220.85.35'}\n",
      "{'timestamp': 1586364312.414337, 'predator': 'usa ', 'ip_pred': '129.99.237.236', 'prey': 'usa ', 'ip_prey': '170.220.85.35'}\n",
      "{'timestamp': 1586364312.444073, 'predator': 'usa ', 'ip_pred': '129.99.237.236', 'prey': 'usa ', 'ip_prey': '170.220.85.35'}\n",
      "{'timestamp': 1586364312.4690812, 'predator': 'usa ', 'ip_pred': '129.99.237.236', 'prey': 'usa ', 'ip_prey': '170.220.85.35'}\n",
      "{'timestamp': 1586364312.581214, 'predator': 'usa ', 'ip_pred': '230.197.7.192', 'prey': 'deu ', 'ip_prey': '114.129.67.190'}\n",
      "{'timestamp': 1586364312.612364, 'predator': 'usa ', 'ip_pred': '230.197.7.192', 'prey': 'deu ', 'ip_prey': '114.129.67.190'}\n",
      "{'timestamp': 1586364312.6572878, 'predator': 'usa ', 'ip_pred': '230.197.7.192', 'prey': 'deu ', 'ip_prey': '114.129.67.190'}\n",
      "{'timestamp': 1586364312.6971421, 'predator': 'usa ', 'ip_pred': '230.197.7.192', 'prey': 'deu ', 'ip_prey': '114.129.67.190'}\n",
      "{'timestamp': 1586364312.741838, 'predator': 'usa ', 'ip_pred': '230.197.7.192', 'prey': 'deu ', 'ip_prey': '114.129.67.190'}\n",
      "{'timestamp': 1586364312.784008, 'predator': 'usa ', 'ip_pred': '230.197.7.192', 'prey': 'deu ', 'ip_prey': '114.129.67.190'}\n",
      "{'timestamp': 1586364312.839276, 'predator': 'usa ', 'ip_pred': '230.197.7.192', 'prey': 'deu ', 'ip_prey': '114.129.67.190'}\n",
      "{'timestamp': 1586364312.888567, 'predator': 'usa ', 'ip_pred': '230.197.7.192', 'prey': 'deu ', 'ip_prey': '114.129.67.190'}\n",
      "{'timestamp': 1586364312.927379, 'predator': 'usa ', 'ip_pred': '230.197.7.192', 'prey': 'deu ', 'ip_prey': '114.129.67.190'}\n",
      "{'timestamp': 1586364312.954697, 'predator': 'usa ', 'ip_pred': '230.197.7.192', 'prey': 'deu ', 'ip_prey': '114.129.67.190'}\n",
      "{'timestamp': 1586364312.983318, 'predator': 'usa ', 'ip_pred': '230.197.7.192', 'prey': 'deu ', 'ip_prey': '114.129.67.190'}\n",
      "{'timestamp': 1586364313.0092642, 'predator': 'usa ', 'ip_pred': '230.197.7.192', 'prey': 'deu ', 'ip_prey': '114.129.67.190'}\n",
      "{'timestamp': 1586364313.034343, 'predator': 'usa ', 'ip_pred': '230.197.7.192', 'prey': 'deu ', 'ip_prey': '114.129.67.190'}\n",
      "{'timestamp': 1586364313.060699, 'predator': 'usa ', 'ip_pred': '230.197.7.192', 'prey': 'deu ', 'ip_prey': '114.129.67.190'}\n",
      "{'timestamp': 1586364313.1101692, 'predator': 'usa ', 'ip_pred': '230.197.7.192', 'prey': 'deu ', 'ip_prey': '114.129.67.190'}\n",
      "{'timestamp': 1586364313.1414242, 'predator': 'usa ', 'ip_pred': '230.197.7.192', 'prey': 'deu ', 'ip_prey': '114.129.67.190'}\n",
      "{'timestamp': 1586364313.181582, 'predator': 'usa ', 'ip_pred': '230.197.7.192', 'prey': 'deu ', 'ip_prey': '114.129.67.190'}\n",
      "{'timestamp': 1586364313.217692, 'predator': 'usa ', 'ip_pred': '230.197.7.192', 'prey': 'deu ', 'ip_prey': '114.129.67.190'}\n",
      "{'timestamp': 1586364313.252534, 'predator': 'usa ', 'ip_pred': '230.197.7.192', 'prey': 'deu ', 'ip_prey': '114.129.67.190'}\n",
      "{'timestamp': 1586364313.286593, 'predator': 'usa ', 'ip_pred': '230.197.7.192', 'prey': 'deu ', 'ip_prey': '114.129.67.190'}\n",
      "{'timestamp': 1586364313.315087, 'predator': 'usa ', 'ip_pred': '230.197.7.192', 'prey': 'deu ', 'ip_prey': '114.129.67.190'}\n",
      "{'timestamp': 1586364313.34574, 'predator': 'usa ', 'ip_pred': '230.197.7.192', 'prey': 'deu ', 'ip_prey': '114.129.67.190'}\n",
      "{'timestamp': 1586364313.3739278, 'predator': 'usa ', 'ip_pred': '230.197.7.192', 'prey': 'deu ', 'ip_prey': '114.129.67.190'}\n",
      "{'timestamp': 1586364313.4029791, 'predator': 'usa ', 'ip_pred': '230.197.7.192', 'prey': 'deu ', 'ip_prey': '114.129.67.190'}\n",
      "{'timestamp': 1586364313.437315, 'predator': 'gbr ', 'ip_pred': '191.72.245.232', 'prey': 'chn ', 'ip_prey': '142.36.206.119'}\n",
      "{'timestamp': 1586364313.47741, 'predator': 'gbr ', 'ip_pred': '191.72.245.232', 'prey': 'chn ', 'ip_prey': '142.36.206.119'}\n",
      "{'timestamp': 1586364313.506423, 'predator': 'gbr ', 'ip_pred': '191.72.245.232', 'prey': 'chn ', 'ip_prey': '142.36.206.119'}\n",
      "{'timestamp': 1586364313.554059, 'predator': 'gbr ', 'ip_pred': '191.72.245.232', 'prey': 'chn ', 'ip_prey': '142.36.206.119'}\n",
      "{'timestamp': 1586364313.5857222, 'predator': 'gbr ', 'ip_pred': '191.72.245.232', 'prey': 'chn ', 'ip_prey': '142.36.206.119'}\n",
      "{'timestamp': 1586364313.624202, 'predator': 'gbr ', 'ip_pred': '191.72.245.232', 'prey': 'chn ', 'ip_prey': '142.36.206.119'}\n",
      "{'timestamp': 1586364313.658304, 'predator': 'gbr ', 'ip_pred': '191.72.245.232', 'prey': 'chn ', 'ip_prey': '142.36.206.119'}\n",
      "{'timestamp': 1586364313.689085, 'predator': 'gbr ', 'ip_pred': '191.72.245.232', 'prey': 'chn ', 'ip_prey': '142.36.206.119'}\n"
     ]
    },
    {
     "name": "stdout",
     "output_type": "stream",
     "text": [
      "{'timestamp': 1586364313.735357, 'predator': 'gbr ', 'ip_pred': '191.72.245.232', 'prey': 'chn ', 'ip_prey': '142.36.206.119'}\n",
      "{'timestamp': 1586364313.767724, 'predator': 'gbr ', 'ip_pred': '191.72.245.232', 'prey': 'chn ', 'ip_prey': '142.36.206.119'}\n",
      "{'timestamp': 1586364313.797292, 'predator': 'gbr ', 'ip_pred': '191.72.245.232', 'prey': 'chn ', 'ip_prey': '142.36.206.119'}\n",
      "{'timestamp': 1586364313.83322, 'predator': 'gbr ', 'ip_pred': '191.72.245.232', 'prey': 'chn ', 'ip_prey': '142.36.206.119'}\n",
      "{'timestamp': 1586364313.863391, 'predator': 'gbr ', 'ip_pred': '191.72.245.232', 'prey': 'chn ', 'ip_prey': '142.36.206.119'}\n",
      "{'timestamp': 1586364313.889471, 'predator': 'gbr ', 'ip_pred': '191.72.245.232', 'prey': 'chn ', 'ip_prey': '142.36.206.119'}\n",
      "{'timestamp': 1586364313.921231, 'predator': 'gbr ', 'ip_pred': '191.72.245.232', 'prey': 'chn ', 'ip_prey': '142.36.206.119'}\n",
      "{'timestamp': 1586364313.9503832, 'predator': 'gbr ', 'ip_pred': '191.72.245.232', 'prey': 'chn ', 'ip_prey': '142.36.206.119'}\n",
      "{'timestamp': 1586364313.980389, 'predator': 'gbr ', 'ip_pred': '191.72.245.232', 'prey': 'chn ', 'ip_prey': '142.36.206.119'}\n",
      "{'timestamp': 1586364314.010169, 'predator': 'gbr ', 'ip_pred': '191.72.245.232', 'prey': 'chn ', 'ip_prey': '142.36.206.119'}\n",
      "{'timestamp': 1586364314.0403981, 'predator': 'swe ', 'ip_pred': '21.62.126.183', 'prey': 'jpn ', 'ip_prey': '245.234.149.169'}\n",
      "{'timestamp': 1586364314.075179, 'predator': 'swe ', 'ip_pred': '21.62.126.183', 'prey': 'jpn ', 'ip_prey': '245.234.149.169'}\n",
      "{'timestamp': 1586364314.1112802, 'predator': 'swe ', 'ip_pred': '21.62.126.183', 'prey': 'jpn ', 'ip_prey': '245.234.149.169'}\n",
      "{'timestamp': 1586364314.141384, 'predator': 'swe ', 'ip_pred': '21.62.126.183', 'prey': 'jpn ', 'ip_prey': '245.234.149.169'}\n",
      "{'timestamp': 1586364314.1738272, 'predator': 'swe ', 'ip_pred': '21.62.126.183', 'prey': 'jpn ', 'ip_prey': '245.234.149.169'}\n",
      "{'timestamp': 1586364314.209169, 'predator': 'swe ', 'ip_pred': '21.62.126.183', 'prey': 'jpn ', 'ip_prey': '245.234.149.169'}\n",
      "{'timestamp': 1586364314.243774, 'predator': 'swe ', 'ip_pred': '21.62.126.183', 'prey': 'jpn ', 'ip_prey': '245.234.149.169'}\n",
      "{'timestamp': 1586364314.280023, 'predator': 'swe ', 'ip_pred': '21.62.126.183', 'prey': 'jpn ', 'ip_prey': '245.234.149.169'}\n",
      "{'timestamp': 1586364314.31315, 'predator': 'swe ', 'ip_pred': '21.62.126.183', 'prey': 'jpn ', 'ip_prey': '245.234.149.169'}\n",
      "{'timestamp': 1586364314.344526, 'predator': 'swe ', 'ip_pred': '21.62.126.183', 'prey': 'jpn ', 'ip_prey': '245.234.149.169'}\n",
      "{'timestamp': 1586364314.376617, 'predator': 'swe ', 'ip_pred': '21.62.126.183', 'prey': 'jpn ', 'ip_prey': '245.234.149.169'}\n",
      "{'timestamp': 1586364314.428011, 'predator': 'swe ', 'ip_pred': '21.62.126.183', 'prey': 'jpn ', 'ip_prey': '245.234.149.169'}\n",
      "{'timestamp': 1586364314.46048, 'predator': 'swe ', 'ip_pred': '21.62.126.183', 'prey': 'jpn ', 'ip_prey': '245.234.149.169'}\n",
      "{'timestamp': 1586364314.49121, 'predator': 'swe ', 'ip_pred': '21.62.126.183', 'prey': 'jpn ', 'ip_prey': '245.234.149.169'}\n",
      "{'timestamp': 1586364314.529954, 'predator': 'swe ', 'ip_pred': '21.62.126.183', 'prey': 'jpn ', 'ip_prey': '245.234.149.169'}\n",
      "{'timestamp': 1586364314.5612018, 'predator': 'swe ', 'ip_pred': '21.62.126.183', 'prey': 'jpn ', 'ip_prey': '245.234.149.169'}\n",
      "{'timestamp': 1586364314.593295, 'predator': 'swe ', 'ip_pred': '21.62.126.183', 'prey': 'jpn ', 'ip_prey': '245.234.149.169'}\n",
      "{'timestamp': 1586364314.6370409, 'predator': 'swe ', 'ip_pred': '21.62.126.183', 'prey': 'jpn ', 'ip_prey': '245.234.149.169'}\n",
      "{'timestamp': 1586364314.6712089, 'predator': 'swe ', 'ip_pred': '21.62.126.183', 'prey': 'jpn ', 'ip_prey': '245.234.149.169'}\n",
      "{'timestamp': 1586364314.7035499, 'predator': 'swe ', 'ip_pred': '21.62.126.183', 'prey': 'jpn ', 'ip_prey': '245.234.149.169'}\n",
      "{'timestamp': 1586364314.7314858, 'predator': 'swe ', 'ip_pred': '21.62.126.183', 'prey': 'jpn ', 'ip_prey': '245.234.149.169'}\n",
      "{'timestamp': 1586364314.768317, 'predator': 'swe ', 'ip_pred': '21.62.126.183', 'prey': 'jpn ', 'ip_prey': '245.234.149.169'}\n",
      "{'timestamp': 1586364314.80069, 'predator': 'swe ', 'ip_pred': '21.62.126.183', 'prey': 'jpn ', 'ip_prey': '245.234.149.169'}\n",
      "{'timestamp': 1586364314.830693, 'predator': 'swe ', 'ip_pred': '21.62.126.183', 'prey': 'jpn ', 'ip_prey': '245.234.149.169'}\n",
      "{'timestamp': 1586364314.861849, 'predator': 'swe ', 'ip_pred': '21.62.126.183', 'prey': 'jpn ', 'ip_prey': '245.234.149.169'}\n",
      "{'timestamp': 1586364314.893548, 'predator': 'swe ', 'ip_pred': '21.62.126.183', 'prey': 'jpn ', 'ip_prey': '245.234.149.169'}\n",
      "{'timestamp': 1586364314.9217548, 'predator': 'swe ', 'ip_pred': '21.62.126.183', 'prey': 'jpn ', 'ip_prey': '245.234.149.169'}\n",
      "{'timestamp': 1586364314.9554439, 'predator': 'swe ', 'ip_pred': '21.62.126.183', 'prey': 'jpn ', 'ip_prey': '245.234.149.169'}\n",
      "{'timestamp': 1586364314.986364, 'predator': 'swe ', 'ip_pred': '21.62.126.183', 'prey': 'jpn ', 'ip_prey': '245.234.149.169'}\n",
      "{'timestamp': 1586364315.014504, 'predator': 'swe ', 'ip_pred': '21.62.126.183', 'prey': 'jpn ', 'ip_prey': '245.234.149.169'}\n",
      "{'timestamp': 1586364315.047873, 'predator': 'swe ', 'ip_pred': '21.62.126.183', 'prey': 'jpn ', 'ip_prey': '245.234.149.169'}\n",
      "{'timestamp': 1586364315.077485, 'predator': 'swe ', 'ip_pred': '21.62.126.183', 'prey': 'jpn ', 'ip_prey': '245.234.149.169'}\n",
      "{'timestamp': 1586364315.107102, 'predator': 'swe ', 'ip_pred': '21.62.126.183', 'prey': 'jpn ', 'ip_prey': '245.234.149.169'}\n",
      "{'timestamp': 1586364315.137953, 'predator': 'swe ', 'ip_pred': '21.62.126.183', 'prey': 'jpn ', 'ip_prey': '245.234.149.169'}\n",
      "{'timestamp': 1586364315.167121, 'predator': 'swe ', 'ip_pred': '21.62.126.183', 'prey': 'jpn ', 'ip_prey': '245.234.149.169'}\n",
      "{'timestamp': 1586364315.197802, 'predator': 'swe ', 'ip_pred': '21.62.126.183', 'prey': 'jpn ', 'ip_prey': '245.234.149.169'}\n",
      "{'timestamp': 1586364315.229604, 'predator': 'swe ', 'ip_pred': '21.62.126.183', 'prey': 'jpn ', 'ip_prey': '245.234.149.169'}\n",
      "{'timestamp': 1586364315.262858, 'predator': 'swe ', 'ip_pred': '21.62.126.183', 'prey': 'jpn ', 'ip_prey': '245.234.149.169'}\n",
      "{'timestamp': 1586364315.290795, 'predator': 'swe ', 'ip_pred': '21.62.126.183', 'prey': 'jpn ', 'ip_prey': '245.234.149.169'}\n",
      "{'timestamp': 1586364315.3200262, 'predator': 'swe ', 'ip_pred': '21.62.126.183', 'prey': 'jpn ', 'ip_prey': '245.234.149.169'}\n",
      "{'timestamp': 1586364315.350003, 'predator': 'swe ', 'ip_pred': '21.62.126.183', 'prey': 'jpn ', 'ip_prey': '245.234.149.169'}\n",
      "{'timestamp': 1586364315.407014, 'predator': 'swe ', 'ip_pred': '21.62.126.183', 'prey': 'jpn ', 'ip_prey': '245.234.149.169'}\n",
      "{'timestamp': 1586364315.440765, 'predator': 'swe ', 'ip_pred': '21.62.126.183', 'prey': 'jpn ', 'ip_prey': '245.234.149.169'}\n",
      "{'timestamp': 1586364315.473691, 'predator': 'swe ', 'ip_pred': '21.62.126.183', 'prey': 'jpn ', 'ip_prey': '245.234.149.169'}\n",
      "{'timestamp': 1586364315.503615, 'predator': 'swe ', 'ip_pred': '21.62.126.183', 'prey': 'jpn ', 'ip_prey': '245.234.149.169'}\n",
      "{'timestamp': 1586364315.533516, 'predator': 'swe ', 'ip_pred': '21.62.126.183', 'prey': 'jpn ', 'ip_prey': '245.234.149.169'}\n",
      "{'timestamp': 1586364315.566827, 'predator': 'swe ', 'ip_pred': '21.62.126.183', 'prey': 'jpn ', 'ip_prey': '245.234.149.169'}\n",
      "{'timestamp': 1586364315.5962749, 'predator': 'swe ', 'ip_pred': '21.62.126.183', 'prey': 'jpn ', 'ip_prey': '245.234.149.169'}\n",
      "{'timestamp': 1586364315.6246731, 'predator': 'swe ', 'ip_pred': '21.62.126.183', 'prey': 'jpn ', 'ip_prey': '245.234.149.169'}\n",
      "{'timestamp': 1586364315.653041, 'predator': 'swe ', 'ip_pred': '21.62.126.183', 'prey': 'jpn ', 'ip_prey': '245.234.149.169'}\n",
      "{'timestamp': 1586364315.685566, 'predator': 'swe ', 'ip_pred': '21.62.126.183', 'prey': 'jpn ', 'ip_prey': '245.234.149.169'}\n",
      "{'timestamp': 1586364315.7174132, 'predator': 'swe ', 'ip_pred': '21.62.126.183', 'prey': 'jpn ', 'ip_prey': '245.234.149.169'}\n",
      "{'timestamp': 1586364315.745464, 'predator': 'swe ', 'ip_pred': '21.62.126.183', 'prey': 'jpn ', 'ip_prey': '245.234.149.169'}\n",
      "{'timestamp': 1586364315.776198, 'predator': 'swe ', 'ip_pred': '21.62.126.183', 'prey': 'jpn ', 'ip_prey': '245.234.149.169'}\n",
      "{'timestamp': 1586364315.805226, 'predator': 'swe ', 'ip_pred': '21.62.126.183', 'prey': 'jpn ', 'ip_prey': '245.234.149.169'}\n",
      "{'timestamp': 1586364315.834058, 'predator': 'swe ', 'ip_pred': '21.62.126.183', 'prey': 'jpn ', 'ip_prey': '245.234.149.169'}\n"
     ]
    },
    {
     "name": "stdout",
     "output_type": "stream",
     "text": [
      "{'timestamp': 1586364315.865514, 'predator': 'swe ', 'ip_pred': '21.62.126.183', 'prey': 'jpn ', 'ip_prey': '245.234.149.169'}\n",
      "{'timestamp': 1586364315.8953779, 'predator': 'swe ', 'ip_pred': '21.62.126.183', 'prey': 'jpn ', 'ip_prey': '245.234.149.169'}\n",
      "{'timestamp': 1586364315.926039, 'predator': 'swe ', 'ip_pred': '21.62.126.183', 'prey': 'jpn ', 'ip_prey': '245.234.149.169'}\n",
      "{'timestamp': 1586364315.956206, 'predator': 'swe ', 'ip_pred': '21.62.126.183', 'prey': 'jpn ', 'ip_prey': '245.234.149.169'}\n",
      "{'timestamp': 1586364315.9879732, 'predator': 'swe ', 'ip_pred': '21.62.126.183', 'prey': 'jpn ', 'ip_prey': '245.234.149.169'}\n",
      "{'timestamp': 1586364316.027262, 'predator': 'usa ', 'ip_pred': '246.42.133.213', 'prey': 'usa ', 'ip_prey': '3.115.125.38'}\n",
      "{'timestamp': 1586364316.059523, 'predator': 'usa ', 'ip_pred': '246.42.133.213', 'prey': 'usa ', 'ip_prey': '3.115.125.38'}\n",
      "{'timestamp': 1586364316.091648, 'predator': 'usa ', 'ip_pred': '246.42.133.213', 'prey': 'usa ', 'ip_prey': '3.115.125.38'}\n",
      "{'timestamp': 1586364316.133236, 'predator': 'usa ', 'ip_pred': '246.42.133.213', 'prey': 'usa ', 'ip_prey': '3.115.125.38'}\n",
      "{'timestamp': 1586364316.167624, 'predator': 'usa ', 'ip_pred': '246.42.133.213', 'prey': 'usa ', 'ip_prey': '3.115.125.38'}\n",
      "{'timestamp': 1586364316.2068858, 'predator': 'usa ', 'ip_pred': '246.42.133.213', 'prey': 'usa ', 'ip_prey': '3.115.125.38'}\n",
      "{'timestamp': 1586364316.238008, 'predator': 'usa ', 'ip_pred': '246.42.133.213', 'prey': 'usa ', 'ip_prey': '3.115.125.38'}\n",
      "{'timestamp': 1586364316.2717, 'predator': 'usa ', 'ip_pred': '246.42.133.213', 'prey': 'usa ', 'ip_prey': '3.115.125.38'}\n",
      "{'timestamp': 1586364316.303877, 'predator': 'usa ', 'ip_pred': '246.42.133.213', 'prey': 'usa ', 'ip_prey': '3.115.125.38'}\n",
      "{'timestamp': 1586364316.340936, 'predator': 'usa ', 'ip_pred': '246.42.133.213', 'prey': 'usa ', 'ip_prey': '3.115.125.38'}\n",
      "{'timestamp': 1586364316.37571, 'predator': 'usa ', 'ip_pred': '246.42.133.213', 'prey': 'usa ', 'ip_prey': '3.115.125.38'}\n",
      "{'timestamp': 1586364316.4055219, 'predator': 'usa ', 'ip_pred': '246.42.133.213', 'prey': 'usa ', 'ip_prey': '3.115.125.38'}\n",
      "{'timestamp': 1586364316.440948, 'predator': 'usa ', 'ip_pred': '246.42.133.213', 'prey': 'usa ', 'ip_prey': '3.115.125.38'}\n",
      "{'timestamp': 1586364316.4712372, 'predator': 'usa ', 'ip_pred': '246.42.133.213', 'prey': 'usa ', 'ip_prey': '3.115.125.38'}\n",
      "{'timestamp': 1586364316.5037062, 'predator': 'usa ', 'ip_pred': '246.42.133.213', 'prey': 'usa ', 'ip_prey': '3.115.125.38'}\n",
      "{'timestamp': 1586364316.5379221, 'predator': 'usa ', 'ip_pred': '246.42.133.213', 'prey': 'usa ', 'ip_prey': '3.115.125.38'}\n",
      "{'timestamp': 1586364316.5692348, 'predator': 'usa ', 'ip_pred': '246.42.133.213', 'prey': 'usa ', 'ip_prey': '3.115.125.38'}\n",
      "{'timestamp': 1586364316.604494, 'predator': 'usa ', 'ip_pred': '246.42.133.213', 'prey': 'usa ', 'ip_prey': '3.115.125.38'}\n",
      "{'timestamp': 1586364316.6368299, 'predator': 'usa ', 'ip_pred': '246.42.133.213', 'prey': 'usa ', 'ip_prey': '3.115.125.38'}\n",
      "{'timestamp': 1586364316.667168, 'predator': 'usa ', 'ip_pred': '246.42.133.213', 'prey': 'usa ', 'ip_prey': '3.115.125.38'}\n",
      "{'timestamp': 1586364316.6972868, 'predator': 'usa ', 'ip_pred': '246.42.133.213', 'prey': 'usa ', 'ip_prey': '3.115.125.38'}\n",
      "{'timestamp': 1586364316.727048, 'predator': 'usa ', 'ip_pred': '246.42.133.213', 'prey': 'usa ', 'ip_prey': '3.115.125.38'}\n",
      "{'timestamp': 1586364316.757003, 'predator': 'usa ', 'ip_pred': '246.42.133.213', 'prey': 'usa ', 'ip_prey': '3.115.125.38'}\n"
     ]
    },
    {
     "ename": "NoSuchWindowException",
     "evalue": "Message: Browsing context has been discarded\n",
     "output_type": "error",
     "traceback": [
      "\u001b[0;31m---------------------------------------------------------------------------\u001b[0m",
      "\u001b[0;31mNoSuchWindowException\u001b[0m                     Traceback (most recent call last)",
      "\u001b[0;32m<ipython-input-24-fa6017f95462>\u001b[0m in \u001b[0;36m<module>\u001b[0;34m\u001b[0m\n\u001b[1;32m      8\u001b[0m \u001b[0;34m\u001b[0m\u001b[0m\n\u001b[1;32m      9\u001b[0m     \u001b[0;32mwhile\u001b[0m \u001b[0mcount\u001b[0m\u001b[0;34m<\u001b[0m\u001b[0;36m300\u001b[0m\u001b[0;34m:\u001b[0m\u001b[0;34m\u001b[0m\u001b[0;34m\u001b[0m\u001b[0m\n\u001b[0;32m---> 10\u001b[0;31m         \u001b[0melemento\u001b[0m\u001b[0;34m=\u001b[0m\u001b[0mdriver\u001b[0m\u001b[0;34m.\u001b[0m\u001b[0mfind_element_by_id\u001b[0m\u001b[0;34m(\u001b[0m\u001b[0;34m'attackdiv'\u001b[0m\u001b[0;34m)\u001b[0m\u001b[0;34m\u001b[0m\u001b[0;34m\u001b[0m\u001b[0m\n\u001b[0m\u001b[1;32m     11\u001b[0m         \u001b[0mt\u001b[0m\u001b[0;34m=\u001b[0m\u001b[0melemento\u001b[0m\u001b[0;34m.\u001b[0m\u001b[0mtext\u001b[0m\u001b[0;34m.\u001b[0m\u001b[0msplit\u001b[0m\u001b[0;34m(\u001b[0m\u001b[0;34m'\\n'\u001b[0m\u001b[0;34m)\u001b[0m\u001b[0;34m[\u001b[0m\u001b[0;34m-\u001b[0m\u001b[0;36m1\u001b[0m\u001b[0;34m]\u001b[0m\u001b[0;34m\u001b[0m\u001b[0;34m\u001b[0m\u001b[0m\n\u001b[1;32m     12\u001b[0m \u001b[0;34m\u001b[0m\u001b[0m\n",
      "\u001b[0;32m~/Library/Python/3.7/lib/python/site-packages/selenium/webdriver/remote/webdriver.py\u001b[0m in \u001b[0;36mfind_element_by_id\u001b[0;34m(self, id_)\u001b[0m\n\u001b[1;32m    358\u001b[0m             \u001b[0melement\u001b[0m \u001b[0;34m=\u001b[0m \u001b[0mdriver\u001b[0m\u001b[0;34m.\u001b[0m\u001b[0mfind_element_by_id\u001b[0m\u001b[0;34m(\u001b[0m\u001b[0;34m'foo'\u001b[0m\u001b[0;34m)\u001b[0m\u001b[0;34m\u001b[0m\u001b[0;34m\u001b[0m\u001b[0m\n\u001b[1;32m    359\u001b[0m         \"\"\"\n\u001b[0;32m--> 360\u001b[0;31m         \u001b[0;32mreturn\u001b[0m \u001b[0mself\u001b[0m\u001b[0;34m.\u001b[0m\u001b[0mfind_element\u001b[0m\u001b[0;34m(\u001b[0m\u001b[0mby\u001b[0m\u001b[0;34m=\u001b[0m\u001b[0mBy\u001b[0m\u001b[0;34m.\u001b[0m\u001b[0mID\u001b[0m\u001b[0;34m,\u001b[0m \u001b[0mvalue\u001b[0m\u001b[0;34m=\u001b[0m\u001b[0mid_\u001b[0m\u001b[0;34m)\u001b[0m\u001b[0;34m\u001b[0m\u001b[0;34m\u001b[0m\u001b[0m\n\u001b[0m\u001b[1;32m    361\u001b[0m \u001b[0;34m\u001b[0m\u001b[0m\n\u001b[1;32m    362\u001b[0m     \u001b[0;32mdef\u001b[0m \u001b[0mfind_elements_by_id\u001b[0m\u001b[0;34m(\u001b[0m\u001b[0mself\u001b[0m\u001b[0;34m,\u001b[0m \u001b[0mid_\u001b[0m\u001b[0;34m)\u001b[0m\u001b[0;34m:\u001b[0m\u001b[0;34m\u001b[0m\u001b[0;34m\u001b[0m\u001b[0m\n",
      "\u001b[0;32m~/Library/Python/3.7/lib/python/site-packages/selenium/webdriver/remote/webdriver.py\u001b[0m in \u001b[0;36mfind_element\u001b[0;34m(self, by, value)\u001b[0m\n\u001b[1;32m    976\u001b[0m         return self.execute(Command.FIND_ELEMENT, {\n\u001b[1;32m    977\u001b[0m             \u001b[0;34m'using'\u001b[0m\u001b[0;34m:\u001b[0m \u001b[0mby\u001b[0m\u001b[0;34m,\u001b[0m\u001b[0;34m\u001b[0m\u001b[0;34m\u001b[0m\u001b[0m\n\u001b[0;32m--> 978\u001b[0;31m             'value': value})['value']\n\u001b[0m\u001b[1;32m    979\u001b[0m \u001b[0;34m\u001b[0m\u001b[0m\n\u001b[1;32m    980\u001b[0m     \u001b[0;32mdef\u001b[0m \u001b[0mfind_elements\u001b[0m\u001b[0;34m(\u001b[0m\u001b[0mself\u001b[0m\u001b[0;34m,\u001b[0m \u001b[0mby\u001b[0m\u001b[0;34m=\u001b[0m\u001b[0mBy\u001b[0m\u001b[0;34m.\u001b[0m\u001b[0mID\u001b[0m\u001b[0;34m,\u001b[0m \u001b[0mvalue\u001b[0m\u001b[0;34m=\u001b[0m\u001b[0;32mNone\u001b[0m\u001b[0;34m)\u001b[0m\u001b[0;34m:\u001b[0m\u001b[0;34m\u001b[0m\u001b[0;34m\u001b[0m\u001b[0m\n",
      "\u001b[0;32m~/Library/Python/3.7/lib/python/site-packages/selenium/webdriver/remote/webdriver.py\u001b[0m in \u001b[0;36mexecute\u001b[0;34m(self, driver_command, params)\u001b[0m\n\u001b[1;32m    319\u001b[0m         \u001b[0mresponse\u001b[0m \u001b[0;34m=\u001b[0m \u001b[0mself\u001b[0m\u001b[0;34m.\u001b[0m\u001b[0mcommand_executor\u001b[0m\u001b[0;34m.\u001b[0m\u001b[0mexecute\u001b[0m\u001b[0;34m(\u001b[0m\u001b[0mdriver_command\u001b[0m\u001b[0;34m,\u001b[0m \u001b[0mparams\u001b[0m\u001b[0;34m)\u001b[0m\u001b[0;34m\u001b[0m\u001b[0;34m\u001b[0m\u001b[0m\n\u001b[1;32m    320\u001b[0m         \u001b[0;32mif\u001b[0m \u001b[0mresponse\u001b[0m\u001b[0;34m:\u001b[0m\u001b[0;34m\u001b[0m\u001b[0;34m\u001b[0m\u001b[0m\n\u001b[0;32m--> 321\u001b[0;31m             \u001b[0mself\u001b[0m\u001b[0;34m.\u001b[0m\u001b[0merror_handler\u001b[0m\u001b[0;34m.\u001b[0m\u001b[0mcheck_response\u001b[0m\u001b[0;34m(\u001b[0m\u001b[0mresponse\u001b[0m\u001b[0;34m)\u001b[0m\u001b[0;34m\u001b[0m\u001b[0;34m\u001b[0m\u001b[0m\n\u001b[0m\u001b[1;32m    322\u001b[0m             response['value'] = self._unwrap_value(\n\u001b[1;32m    323\u001b[0m                 response.get('value', None))\n",
      "\u001b[0;32m~/Library/Python/3.7/lib/python/site-packages/selenium/webdriver/remote/errorhandler.py\u001b[0m in \u001b[0;36mcheck_response\u001b[0;34m(self, response)\u001b[0m\n\u001b[1;32m    240\u001b[0m                 \u001b[0malert_text\u001b[0m \u001b[0;34m=\u001b[0m \u001b[0mvalue\u001b[0m\u001b[0;34m[\u001b[0m\u001b[0;34m'alert'\u001b[0m\u001b[0;34m]\u001b[0m\u001b[0;34m.\u001b[0m\u001b[0mget\u001b[0m\u001b[0;34m(\u001b[0m\u001b[0;34m'text'\u001b[0m\u001b[0;34m)\u001b[0m\u001b[0;34m\u001b[0m\u001b[0;34m\u001b[0m\u001b[0m\n\u001b[1;32m    241\u001b[0m             \u001b[0;32mraise\u001b[0m \u001b[0mexception_class\u001b[0m\u001b[0;34m(\u001b[0m\u001b[0mmessage\u001b[0m\u001b[0;34m,\u001b[0m \u001b[0mscreen\u001b[0m\u001b[0;34m,\u001b[0m \u001b[0mstacktrace\u001b[0m\u001b[0;34m,\u001b[0m \u001b[0malert_text\u001b[0m\u001b[0;34m)\u001b[0m\u001b[0;34m\u001b[0m\u001b[0;34m\u001b[0m\u001b[0m\n\u001b[0;32m--> 242\u001b[0;31m         \u001b[0;32mraise\u001b[0m \u001b[0mexception_class\u001b[0m\u001b[0;34m(\u001b[0m\u001b[0mmessage\u001b[0m\u001b[0;34m,\u001b[0m \u001b[0mscreen\u001b[0m\u001b[0;34m,\u001b[0m \u001b[0mstacktrace\u001b[0m\u001b[0;34m)\u001b[0m\u001b[0;34m\u001b[0m\u001b[0;34m\u001b[0m\u001b[0m\n\u001b[0m\u001b[1;32m    243\u001b[0m \u001b[0;34m\u001b[0m\u001b[0m\n\u001b[1;32m    244\u001b[0m     \u001b[0;32mdef\u001b[0m \u001b[0m_value_or_default\u001b[0m\u001b[0;34m(\u001b[0m\u001b[0mself\u001b[0m\u001b[0;34m,\u001b[0m \u001b[0mobj\u001b[0m\u001b[0;34m,\u001b[0m \u001b[0mkey\u001b[0m\u001b[0;34m,\u001b[0m \u001b[0mdefault\u001b[0m\u001b[0;34m)\u001b[0m\u001b[0;34m:\u001b[0m\u001b[0;34m\u001b[0m\u001b[0;34m\u001b[0m\u001b[0m\n",
      "\u001b[0;31mNoSuchWindowException\u001b[0m: Message: Browsing context has been discarded\n"
     ]
    }
   ],
   "source": [
    "driver=webdriver.Firefox()\n",
    "\n",
    "\n",
    "while 1:\n",
    "    driver.get(url)\n",
    "    time.sleep(3)\n",
    "    count=0\n",
    "    \n",
    "    while count<300:\n",
    "        elemento=driver.find_element_by_id('attackdiv')\n",
    "        t=elemento.text.split('\\n')[-1]\n",
    "        \n",
    "        predator=(t.split('('))[0]\n",
    "        ip_pred=(t.split('('))[1].split(')')[0]\n",
    "        \n",
    "        prey=(t.split('('))[1].split(')')[1][-4:]\n",
    "        ip_prey=(t.split('('))[2].split(')')[0]\n",
    "        \n",
    "        print ({'timestamp':time.time(), 'predator':predator, 'ip_pred':ip_pred,\n",
    "                'prey':prey, 'ip_prey': ip_prey})\n",
    "        \n",
    "        count+=1\n",
    "        \n",
    "        "
   ]
  },
  {
   "cell_type": "markdown",
   "metadata": {},
   "source": [
    "# RSS"
   ]
  },
  {
   "cell_type": "code",
   "execution_count": 35,
   "metadata": {},
   "outputs": [],
   "source": [
    "import requests as req\n",
    "import xmltodict\n",
    "import re\n",
    "import pymongo\n",
    "import time\n",
    "\n",
    "\n",
    "client=pymongo.MongoClient()\n",
    "db=client.earthquake\n",
    "\n",
    "\n",
    "\n",
    "def getxml():\n",
    "    url='http://www.ssn.unam.mx/rss/ultimos-sismos.xml'\n",
    "    data=req.get(url).content\n",
    "    return xmltodict.parse(data)\n",
    "\n",
    "\n",
    "\n"
   ]
  },
  {
   "cell_type": "code",
   "execution_count": 36,
   "metadata": {},
   "outputs": [
    {
     "data": {
      "text/plain": [
       "OrderedDict([('title', '4.0, 24 km al SUROESTE de  COYUCA DE BENITEZ, GRO'),\n",
       "             ('description',\n",
       "              '<p>Fecha:2020-04-08 10:16:33 (Hora de M&eacute;xico)<br/>Lat/Lon: 16.85/-100.25<br/>Profundidad: 10.0 km </p>'),\n",
       "             ('link',\n",
       "              'http://www2.ssn.unam.mx:8080/jsp/localizacion-de-sismo.jsp?latitud=16.85&longitud=-100.25&prf=10.0 km&ma=4.0&fecha=2020-04-08&hora=10:16:33&loc=24 km al SUROESTE de  COYUCA DE BENITEZ, GRO     &evento=1'),\n",
       "             ('geo:lat', '16.85'),\n",
       "             ('geo:long', '-100.25')])"
      ]
     },
     "execution_count": 36,
     "metadata": {},
     "output_type": "execute_result"
    }
   ],
   "source": [
    "getxml()['rss']['channel']['item'][0]"
   ]
  },
  {
   "cell_type": "code",
   "execution_count": 37,
   "metadata": {},
   "outputs": [],
   "source": [
    "def earth():\n",
    "    \n",
    "    d=getxml()\n",
    "    \n",
    "    for i in range(len(d['rss']['channel']['item'])):\n",
    "        \n",
    "        data_get=d['rss']['channel']['item'][i]['description'].split('>')[1:4]\n",
    "        \n",
    "        fecha=re.findall('\\d+-\\d+-\\d+', data_get[0])[0]\n",
    "        hora=re.findall('\\d+:\\d+:\\d+', data_get[0])[0]\n",
    "        lat=re.findall('-?\\d+.\\d+', data_get[1])[0]\n",
    "        lng=re.findall('-?\\d+.\\d+', data_get[1])[1]\n",
    "        prof=re.findall('\\d+.\\d+ \\w+', data_get[2])[0]\n",
    "        \n",
    "        inten=float(d['rss']['channel']['item'][i]['title'].split(',')[0])\n",
    "        \n",
    "        data={'Fecha':fecha, 'Hora':hora, 'Latitud':float(lat), 'Longitud':float(lng),\n",
    "              'Profundidad':prof, 'Intensidad': inten}\n",
    "        \n",
    "        print (data)\n",
    "        \n",
    "        db.ssnUnam.update(data, data, upsert=True)"
   ]
  },
  {
   "cell_type": "code",
   "execution_count": 39,
   "metadata": {},
   "outputs": [
    {
     "name": "stdout",
     "output_type": "stream",
     "text": [
      "{'Fecha': '2020-04-08', 'Hora': '10:16:33', 'Latitud': 16.85, 'Longitud': -100.25, 'Profundidad': '10.0 km', 'Intensidad': 4.0}\n",
      "{'Fecha': '2020-04-08', 'Hora': '04:39:47', 'Latitud': 15.6, 'Longitud': -95.44, 'Profundidad': '11.0 km', 'Intensidad': 3.9}\n",
      "{'Fecha': '2020-04-08', 'Hora': '02:54:32', 'Latitud': 16.4, 'Longitud': -99.64, 'Profundidad': '15.0 km', 'Intensidad': 3.2}\n",
      "{'Fecha': '2020-04-08', 'Hora': '02:48:13', 'Latitud': 16.37, 'Longitud': -99.63, 'Profundidad': '16.0 km', 'Intensidad': 3.2}\n",
      "{'Fecha': '2020-04-08', 'Hora': '00:01:48', 'Latitud': 18.66, 'Longitud': -106.32, 'Profundidad': '15.0 km', 'Intensidad': 3.8}\n",
      "{'Fecha': '2020-04-07', 'Hora': '23:50:46', 'Latitud': 16.36, 'Longitud': -98.59, 'Profundidad': '10.0 km', 'Intensidad': 3.2}\n",
      "{'Fecha': '2020-04-07', 'Hora': '23:31:31', 'Latitud': 16.65, 'Longitud': -98.88, 'Profundidad': '12.0 km', 'Intensidad': 3.4}\n",
      "{'Fecha': '2020-04-07', 'Hora': '23:17:00', 'Latitud': 15.98, 'Longitud': -98.42, 'Profundidad': '9.0 km', 'Intensidad': 3.4}\n",
      "{'Fecha': '2020-04-07', 'Hora': '23:13:47', 'Latitud': 19.77, 'Longitud': -104.44, 'Profundidad': '10.0 km', 'Intensidad': 3.2}\n",
      "{'Fecha': '2020-04-07', 'Hora': '22:32:38', 'Latitud': 15.38, 'Longitud': -94.12, 'Profundidad': '53.0 km', 'Intensidad': 4.5}\n",
      "{'Fecha': '2020-04-07', 'Hora': '22:03:28', 'Latitud': 16.01, 'Longitud': -96.96, 'Profundidad': '28.0 km', 'Intensidad': 3.3}\n",
      "{'Fecha': '2020-04-07', 'Hora': '21:45:50', 'Latitud': 18.76, 'Longitud': -106.34, 'Profundidad': '8.0 km', 'Intensidad': 3.9}\n",
      "{'Fecha': '2020-04-07', 'Hora': '21:17:51', 'Latitud': 15.14, 'Longitud': -92.09, 'Profundidad': '144.0 km', 'Intensidad': 4.3}\n",
      "{'Fecha': '2020-04-07', 'Hora': '20:42:23', 'Latitud': 15.11, 'Longitud': -94.37, 'Profundidad': '16.0 km', 'Intensidad': 3.7}\n",
      "{'Fecha': '2020-04-07', 'Hora': '20:41:29', 'Latitud': 16.2, 'Longitud': -98.89, 'Profundidad': '13.0 km', 'Intensidad': 3.6}\n"
     ]
    },
    {
     "name": "stderr",
     "output_type": "stream",
     "text": [
      "/usr/local/Cellar/ipython/7.8.0/libexec/vendor/lib/python3.7/site-packages/ipykernel_launcher.py:22: DeprecationWarning: update is deprecated. Use replace_one, update_one or update_many instead.\n"
     ]
    }
   ],
   "source": [
    "earth()"
   ]
  },
  {
   "cell_type": "code",
   "execution_count": null,
   "metadata": {},
   "outputs": [],
   "source": []
  }
 ],
 "metadata": {
  "kernelspec": {
   "display_name": "Python 3",
   "language": "python",
   "name": "python3"
  },
  "language_info": {
   "codemirror_mode": {
    "name": "ipython",
    "version": 3
   },
   "file_extension": ".py",
   "mimetype": "text/x-python",
   "name": "python",
   "nbconvert_exporter": "python",
   "pygments_lexer": "ipython3",
   "version": "3.7.6"
  }
 },
 "nbformat": 4,
 "nbformat_minor": 2
}
