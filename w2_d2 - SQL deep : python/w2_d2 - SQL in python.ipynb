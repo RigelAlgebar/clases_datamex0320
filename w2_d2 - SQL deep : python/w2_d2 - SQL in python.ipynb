{
 "cells": [
  {
   "cell_type": "markdown",
   "metadata": {},
   "source": [
    "# SQL in python"
   ]
  },
  {
   "cell_type": "code",
   "execution_count": 1,
   "metadata": {},
   "outputs": [],
   "source": [
    "import pandas as pd\n",
    "import sqlalchemy as db\n",
    "import getpass"
   ]
  },
  {
   "cell_type": "code",
   "execution_count": 2,
   "metadata": {},
   "outputs": [
    {
     "name": "stdout",
     "output_type": "stream",
     "text": [
      "Introduce tu password de SQL : ········\n"
     ]
    }
   ],
   "source": [
    "password=getpass.getpass('Introduce tu password de SQL : ')"
   ]
  },
  {
   "cell_type": "code",
   "execution_count": 3,
   "metadata": {},
   "outputs": [
    {
     "name": "stdout",
     "output_type": "stream",
     "text": [
      "Conectado.\n"
     ]
    }
   ],
   "source": [
    "engine=db.create_engine('mysql+pymysql://root:{}@localhost/publications'.format(password))\n",
    "print ('Conectado.')"
   ]
  },
  {
   "cell_type": "code",
   "execution_count": 4,
   "metadata": {},
   "outputs": [],
   "source": [
    "query='''select group_concat(t.title) as titles,\n",
    "         t.year\n",
    "         from (select title, year(max(pubdate)) as 'year',\n",
    "         count(titleauthor.title_id) as numauthors,\n",
    "         group_concat(concat(authors.au_fname, ' ', authors.au_lname)) as authors\n",
    "         from titles\n",
    "         left join titleauthor\n",
    "         on titles.title_id=titleauthor.title_id\n",
    "         left join authors\n",
    "         on authors.au_id=titleauthor.au_id\n",
    "         group by titles.title\n",
    "         order by numauthors desc) as t\n",
    "         group by t.year;\n",
    "'''"
   ]
  },
  {
   "cell_type": "code",
   "execution_count": 5,
   "metadata": {},
   "outputs": [
    {
     "data": {
      "text/html": [
       "<div>\n",
       "<style scoped>\n",
       "    .dataframe tbody tr th:only-of-type {\n",
       "        vertical-align: middle;\n",
       "    }\n",
       "\n",
       "    .dataframe tbody tr th {\n",
       "        vertical-align: top;\n",
       "    }\n",
       "\n",
       "    .dataframe thead th {\n",
       "        text-align: right;\n",
       "    }\n",
       "</style>\n",
       "<table border=\"1\" class=\"dataframe\">\n",
       "  <thead>\n",
       "    <tr style=\"text-align: right;\">\n",
       "      <th></th>\n",
       "      <th>titles</th>\n",
       "      <th>year</th>\n",
       "    </tr>\n",
       "  </thead>\n",
       "  <tbody>\n",
       "    <tr>\n",
       "      <td>0</td>\n",
       "      <td>Is Anger the Enemy?,Straight Talk About Comput...</td>\n",
       "      <td>1991</td>\n",
       "    </tr>\n",
       "    <tr>\n",
       "      <td>1</td>\n",
       "      <td>Secrets of Silicon Valley</td>\n",
       "      <td>1994</td>\n",
       "    </tr>\n",
       "    <tr>\n",
       "      <td>2</td>\n",
       "      <td>Net Etiquette,The Psychology of Computer Cooking</td>\n",
       "      <td>2014</td>\n",
       "    </tr>\n",
       "  </tbody>\n",
       "</table>\n",
       "</div>"
      ],
      "text/plain": [
       "                                              titles  year\n",
       "0  Is Anger the Enemy?,Straight Talk About Comput...  1991\n",
       "1                          Secrets of Silicon Valley  1994\n",
       "2   Net Etiquette,The Psychology of Computer Cooking  2014"
      ]
     },
     "execution_count": 5,
     "metadata": {},
     "output_type": "execute_result"
    }
   ],
   "source": [
    "df=pd.read_sql_query(query, engine)\n",
    "df"
   ]
  },
  {
   "cell_type": "code",
   "execution_count": 6,
   "metadata": {},
   "outputs": [
    {
     "data": {
      "text/plain": [
       "['Is Anger the Enemy?',\n",
       " 'Straight Talk About Computers',\n",
       " \"The Busy Executive's Database Guide\",\n",
       " 'Life Without Fear',\n",
       " 'The Gourmet Microwave',\n",
       " 'Prolonged Data Deprivation: Four Case Studies',\n",
       " 'But Is It User Friendly?',\n",
       " 'Sushi',\n",
       " ' Anyone?',\n",
       " 'You Can Combat Computer Stress!',\n",
       " 'Onions',\n",
       " ' Leeks',\n",
       " ' and Garlic: Cooking Secrets of the Mediterranean',\n",
       " 'Computer Phobic AND Non-Phobic Individuals: Behavior Variations',\n",
       " 'Emotional Security: A New Algorithm',\n",
       " 'Cooking with Computers: Surreptitious Balance Sheets',\n",
       " 'Silicon Valley Gastronomic Treats',\n",
       " 'Fifty Years in Buckingham Palace Kitchens']"
      ]
     },
     "execution_count": 6,
     "metadata": {},
     "output_type": "execute_result"
    }
   ],
   "source": [
    "a=df.titles[0]\n",
    "a.split(',')"
   ]
  },
  {
   "cell_type": "code",
   "execution_count": 7,
   "metadata": {},
   "outputs": [
    {
     "name": "stdout",
     "output_type": "stream",
     "text": [
      "CPU times: user 4.77 ms, sys: 1.39 ms, total: 6.16 ms\n",
      "Wall time: 5.82 ms\n"
     ]
    },
    {
     "data": {
      "text/plain": [
       "365"
      ]
     },
     "execution_count": 7,
     "metadata": {},
     "output_type": "execute_result"
    }
   ],
   "source": [
    "%time pd.read_sql_query('select * from publications.employee;', engine)['job_id'].sum()"
   ]
  },
  {
   "cell_type": "code",
   "execution_count": 8,
   "metadata": {},
   "outputs": [
    {
     "name": "stdout",
     "output_type": "stream",
     "text": [
      "CPU times: user 1.77 ms, sys: 860 µs, total: 2.63 ms\n",
      "Wall time: 4.14 ms\n"
     ]
    },
    {
     "data": {
      "text/plain": [
       "365.0"
      ]
     },
     "execution_count": 8,
     "metadata": {},
     "output_type": "execute_result"
    }
   ],
   "source": [
    "%time pd.read_sql_query('select sum(job_id) as j from publications.employee;', engine)['j'][0]"
   ]
  },
  {
   "cell_type": "code",
   "execution_count": 10,
   "metadata": {},
   "outputs": [
    {
     "data": {
      "text/html": [
       "<div>\n",
       "<style scoped>\n",
       "    .dataframe tbody tr th:only-of-type {\n",
       "        vertical-align: middle;\n",
       "    }\n",
       "\n",
       "    .dataframe tbody tr th {\n",
       "        vertical-align: top;\n",
       "    }\n",
       "\n",
       "    .dataframe thead th {\n",
       "        text-align: right;\n",
       "    }\n",
       "</style>\n",
       "<table border=\"1\" class=\"dataframe\">\n",
       "  <thead>\n",
       "    <tr style=\"text-align: right;\">\n",
       "      <th></th>\n",
       "      <th>Tables_in_publications</th>\n",
       "    </tr>\n",
       "  </thead>\n",
       "  <tbody>\n",
       "    <tr>\n",
       "      <td>0</td>\n",
       "      <td>authors</td>\n",
       "    </tr>\n",
       "    <tr>\n",
       "      <td>1</td>\n",
       "      <td>discounts</td>\n",
       "    </tr>\n",
       "    <tr>\n",
       "      <td>2</td>\n",
       "      <td>employee</td>\n",
       "    </tr>\n",
       "    <tr>\n",
       "      <td>3</td>\n",
       "      <td>jobs</td>\n",
       "    </tr>\n",
       "    <tr>\n",
       "      <td>4</td>\n",
       "      <td>pub_info</td>\n",
       "    </tr>\n",
       "    <tr>\n",
       "      <td>5</td>\n",
       "      <td>publishers</td>\n",
       "    </tr>\n",
       "    <tr>\n",
       "      <td>6</td>\n",
       "      <td>roysched</td>\n",
       "    </tr>\n",
       "    <tr>\n",
       "      <td>7</td>\n",
       "      <td>sales</td>\n",
       "    </tr>\n",
       "    <tr>\n",
       "      <td>8</td>\n",
       "      <td>stores</td>\n",
       "    </tr>\n",
       "    <tr>\n",
       "      <td>9</td>\n",
       "      <td>titleauthor</td>\n",
       "    </tr>\n",
       "    <tr>\n",
       "      <td>10</td>\n",
       "      <td>titles</td>\n",
       "    </tr>\n",
       "  </tbody>\n",
       "</table>\n",
       "</div>"
      ],
      "text/plain": [
       "   Tables_in_publications\n",
       "0                 authors\n",
       "1               discounts\n",
       "2                employee\n",
       "3                    jobs\n",
       "4                pub_info\n",
       "5              publishers\n",
       "6                roysched\n",
       "7                   sales\n",
       "8                  stores\n",
       "9             titleauthor\n",
       "10                 titles"
      ]
     },
     "execution_count": 10,
     "metadata": {},
     "output_type": "execute_result"
    }
   ],
   "source": [
    "pd.read_sql_query('show tables', engine)"
   ]
  },
  {
   "cell_type": "code",
   "execution_count": 13,
   "metadata": {},
   "outputs": [
    {
     "data": {
      "text/html": [
       "<div>\n",
       "<style scoped>\n",
       "    .dataframe tbody tr th:only-of-type {\n",
       "        vertical-align: middle;\n",
       "    }\n",
       "\n",
       "    .dataframe tbody tr th {\n",
       "        vertical-align: top;\n",
       "    }\n",
       "\n",
       "    .dataframe thead th {\n",
       "        text-align: right;\n",
       "    }\n",
       "</style>\n",
       "<table border=\"1\" class=\"dataframe\">\n",
       "  <thead>\n",
       "    <tr style=\"text-align: right;\">\n",
       "      <th></th>\n",
       "      <th>stor_id</th>\n",
       "      <th>ord_num</th>\n",
       "      <th>ord_date</th>\n",
       "      <th>qty</th>\n",
       "      <th>payterms</th>\n",
       "      <th>title_id</th>\n",
       "    </tr>\n",
       "  </thead>\n",
       "  <tbody>\n",
       "    <tr>\n",
       "      <td>0</td>\n",
       "      <td>6380</td>\n",
       "      <td>6871</td>\n",
       "      <td>1994-09-14</td>\n",
       "      <td>5</td>\n",
       "      <td>Net 60</td>\n",
       "      <td>BU1032</td>\n",
       "    </tr>\n",
       "    <tr>\n",
       "      <td>1</td>\n",
       "      <td>6380</td>\n",
       "      <td>722a</td>\n",
       "      <td>1994-09-13</td>\n",
       "      <td>3</td>\n",
       "      <td>Net 60</td>\n",
       "      <td>PS2091</td>\n",
       "    </tr>\n",
       "    <tr>\n",
       "      <td>2</td>\n",
       "      <td>7066</td>\n",
       "      <td>A2976</td>\n",
       "      <td>1993-05-24</td>\n",
       "      <td>50</td>\n",
       "      <td>Net 30</td>\n",
       "      <td>PC8888</td>\n",
       "    </tr>\n",
       "    <tr>\n",
       "      <td>3</td>\n",
       "      <td>7066</td>\n",
       "      <td>QA7442.3</td>\n",
       "      <td>1994-09-13</td>\n",
       "      <td>75</td>\n",
       "      <td>ON invoice</td>\n",
       "      <td>PS2091</td>\n",
       "    </tr>\n",
       "    <tr>\n",
       "      <td>4</td>\n",
       "      <td>7067</td>\n",
       "      <td>D4482</td>\n",
       "      <td>1994-09-14</td>\n",
       "      <td>10</td>\n",
       "      <td>Net 60</td>\n",
       "      <td>PS2091</td>\n",
       "    </tr>\n",
       "    <tr>\n",
       "      <td>5</td>\n",
       "      <td>7067</td>\n",
       "      <td>P2121</td>\n",
       "      <td>1992-06-15</td>\n",
       "      <td>40</td>\n",
       "      <td>Net 30</td>\n",
       "      <td>TC3218</td>\n",
       "    </tr>\n",
       "    <tr>\n",
       "      <td>6</td>\n",
       "      <td>7067</td>\n",
       "      <td>P2121</td>\n",
       "      <td>1992-06-15</td>\n",
       "      <td>20</td>\n",
       "      <td>Net 30</td>\n",
       "      <td>TC4203</td>\n",
       "    </tr>\n",
       "    <tr>\n",
       "      <td>7</td>\n",
       "      <td>7067</td>\n",
       "      <td>P2121</td>\n",
       "      <td>1992-06-15</td>\n",
       "      <td>20</td>\n",
       "      <td>Net 30</td>\n",
       "      <td>TC7777</td>\n",
       "    </tr>\n",
       "    <tr>\n",
       "      <td>8</td>\n",
       "      <td>7131</td>\n",
       "      <td>N914008</td>\n",
       "      <td>1994-09-14</td>\n",
       "      <td>20</td>\n",
       "      <td>Net 30</td>\n",
       "      <td>PS2091</td>\n",
       "    </tr>\n",
       "    <tr>\n",
       "      <td>9</td>\n",
       "      <td>7131</td>\n",
       "      <td>N914014</td>\n",
       "      <td>1994-09-14</td>\n",
       "      <td>25</td>\n",
       "      <td>Net 30</td>\n",
       "      <td>MC3021</td>\n",
       "    </tr>\n",
       "    <tr>\n",
       "      <td>10</td>\n",
       "      <td>7131</td>\n",
       "      <td>P3087a</td>\n",
       "      <td>1993-05-29</td>\n",
       "      <td>20</td>\n",
       "      <td>Net 60</td>\n",
       "      <td>PS1372</td>\n",
       "    </tr>\n",
       "    <tr>\n",
       "      <td>11</td>\n",
       "      <td>7131</td>\n",
       "      <td>P3087a</td>\n",
       "      <td>1993-05-29</td>\n",
       "      <td>25</td>\n",
       "      <td>Net 60</td>\n",
       "      <td>PS2106</td>\n",
       "    </tr>\n",
       "    <tr>\n",
       "      <td>12</td>\n",
       "      <td>7131</td>\n",
       "      <td>P3087a</td>\n",
       "      <td>1993-05-29</td>\n",
       "      <td>15</td>\n",
       "      <td>Net 60</td>\n",
       "      <td>PS3333</td>\n",
       "    </tr>\n",
       "    <tr>\n",
       "      <td>13</td>\n",
       "      <td>7131</td>\n",
       "      <td>P3087a</td>\n",
       "      <td>1993-05-29</td>\n",
       "      <td>25</td>\n",
       "      <td>Net 60</td>\n",
       "      <td>PS7777</td>\n",
       "    </tr>\n",
       "    <tr>\n",
       "      <td>14</td>\n",
       "      <td>7896</td>\n",
       "      <td>QQ2299</td>\n",
       "      <td>1993-10-28</td>\n",
       "      <td>15</td>\n",
       "      <td>Net 60</td>\n",
       "      <td>BU7832</td>\n",
       "    </tr>\n",
       "    <tr>\n",
       "      <td>15</td>\n",
       "      <td>7896</td>\n",
       "      <td>TQ456</td>\n",
       "      <td>1993-12-12</td>\n",
       "      <td>10</td>\n",
       "      <td>Net 60</td>\n",
       "      <td>MC2222</td>\n",
       "    </tr>\n",
       "    <tr>\n",
       "      <td>16</td>\n",
       "      <td>7896</td>\n",
       "      <td>X999</td>\n",
       "      <td>1993-02-21</td>\n",
       "      <td>35</td>\n",
       "      <td>ON invoice</td>\n",
       "      <td>BU2075</td>\n",
       "    </tr>\n",
       "    <tr>\n",
       "      <td>17</td>\n",
       "      <td>8042</td>\n",
       "      <td>423LL922</td>\n",
       "      <td>1994-09-14</td>\n",
       "      <td>15</td>\n",
       "      <td>ON invoice</td>\n",
       "      <td>MC3021</td>\n",
       "    </tr>\n",
       "    <tr>\n",
       "      <td>18</td>\n",
       "      <td>8042</td>\n",
       "      <td>423LL930</td>\n",
       "      <td>1994-09-14</td>\n",
       "      <td>10</td>\n",
       "      <td>ON invoice</td>\n",
       "      <td>BU1032</td>\n",
       "    </tr>\n",
       "    <tr>\n",
       "      <td>19</td>\n",
       "      <td>8042</td>\n",
       "      <td>P723</td>\n",
       "      <td>1993-03-11</td>\n",
       "      <td>25</td>\n",
       "      <td>Net 30</td>\n",
       "      <td>BU1111</td>\n",
       "    </tr>\n",
       "    <tr>\n",
       "      <td>20</td>\n",
       "      <td>8042</td>\n",
       "      <td>QA879.1</td>\n",
       "      <td>1993-05-22</td>\n",
       "      <td>30</td>\n",
       "      <td>Net 30</td>\n",
       "      <td>PC1035</td>\n",
       "    </tr>\n",
       "  </tbody>\n",
       "</table>\n",
       "</div>"
      ],
      "text/plain": [
       "   stor_id   ord_num   ord_date  qty    payterms title_id\n",
       "0     6380      6871 1994-09-14    5      Net 60   BU1032\n",
       "1     6380      722a 1994-09-13    3      Net 60   PS2091\n",
       "2     7066     A2976 1993-05-24   50      Net 30   PC8888\n",
       "3     7066  QA7442.3 1994-09-13   75  ON invoice   PS2091\n",
       "4     7067     D4482 1994-09-14   10      Net 60   PS2091\n",
       "5     7067     P2121 1992-06-15   40      Net 30   TC3218\n",
       "6     7067     P2121 1992-06-15   20      Net 30   TC4203\n",
       "7     7067     P2121 1992-06-15   20      Net 30   TC7777\n",
       "8     7131   N914008 1994-09-14   20      Net 30   PS2091\n",
       "9     7131   N914014 1994-09-14   25      Net 30   MC3021\n",
       "10    7131    P3087a 1993-05-29   20      Net 60   PS1372\n",
       "11    7131    P3087a 1993-05-29   25      Net 60   PS2106\n",
       "12    7131    P3087a 1993-05-29   15      Net 60   PS3333\n",
       "13    7131    P3087a 1993-05-29   25      Net 60   PS7777\n",
       "14    7896    QQ2299 1993-10-28   15      Net 60   BU7832\n",
       "15    7896     TQ456 1993-12-12   10      Net 60   MC2222\n",
       "16    7896      X999 1993-02-21   35  ON invoice   BU2075\n",
       "17    8042  423LL922 1994-09-14   15  ON invoice   MC3021\n",
       "18    8042  423LL930 1994-09-14   10  ON invoice   BU1032\n",
       "19    8042      P723 1993-03-11   25      Net 30   BU1111\n",
       "20    8042   QA879.1 1993-05-22   30      Net 30   PC1035"
      ]
     },
     "execution_count": 13,
     "metadata": {},
     "output_type": "execute_result"
    }
   ],
   "source": [
    "pd.read_sql_query('select * from publications.sales', engine)"
   ]
  },
  {
   "cell_type": "code",
   "execution_count": null,
   "metadata": {},
   "outputs": [],
   "source": []
  }
 ],
 "metadata": {
  "kernelspec": {
   "display_name": "Python 3",
   "language": "python",
   "name": "python3"
  },
  "language_info": {
   "codemirror_mode": {
    "name": "ipython",
    "version": 3
   },
   "file_extension": ".py",
   "mimetype": "text/x-python",
   "name": "python",
   "nbconvert_exporter": "python",
   "pygments_lexer": "ipython3",
   "version": "3.7.6"
  }
 },
 "nbformat": 4,
 "nbformat_minor": 2
}
