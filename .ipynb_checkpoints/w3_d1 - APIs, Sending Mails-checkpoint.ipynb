{
 "cells": [
  {
   "cell_type": "markdown",
   "metadata": {},
   "source": [
    "# APIs"
   ]
  },
  {
   "cell_type": "code",
   "execution_count": 2,
   "metadata": {},
   "outputs": [],
   "source": [
    "import json\n",
    "import requests as req"
   ]
  },
  {
   "cell_type": "code",
   "execution_count": 14,
   "metadata": {},
   "outputs": [
    {
     "data": {
      "text/plain": [
       "'[\\n  {\\n    \"userId\": 1,\\n    \"id\": 1,\\n    \"title\": \"delectus aut autem\",\\n    \"completed\": false\\n  },\\n  {\\n    \"userId\": 1,\\n    \"id\": 2,\\n    \"title\": \"quis ut nam facilis et officia qui\",\\n    \"completed\": false\\n  },\\n  {\\n    \"userId\": 1,\\n    \"id\": 3,\\n    \"title\": \"fugiat veniam minus\",\\n    \"completed\": false\\n  },\\n  {\\n    \"userId\": 1,\\n    \"id\": 4,\\n    \"title\": \"et porro tempora\",\\n    \"completed\": true\\n  },\\n  {\\n    \"userId\": 1,\\n    \"id\": 5,\\n    \"title\": \"laboriosam mollitia et enim quasi adipisci quia provident illum\",\\n    \"completed\": false\\n  },\\n  {\\n    \"userId\": 1,\\n    \"id\": 6,\\n    \"title\": \"qui ullam ratione quibusdam voluptatem quia omnis\",\\n    \"completed\": false\\n  },\\n  {\\n    \"userId\": 1,\\n    \"id\": 7,\\n    \"title\": \"illo expedita consequatur quia in\",\\n    \"completed\": false\\n  },\\n  {\\n    \"userId\": 1,\\n    \"id\": 8,\\n    \"title\": \"quo adipisci enim quam ut ab\",\\n    \"completed\": true\\n  },\\n  {\\n    \"userId\": 1,\\n    \"id\": 9,\\n    \"title\": \"molestiae perspiciatis ipsa\",\\n    \"completed\": false\\n  },\\n  {\\n    \"userId\": 1,\\n    \"id\": 10,\\n    \"title\": \"illo est ratione doloremque quia maiores aut\",\\n    \"completed\": true\\n  },\\n  {\\n    \"userId\": 1,\\n    \"id\": 11,\\n    \"title\": \"vero rerum temporibus dolor\",\\n    \"completed\": true\\n  },\\n  {\\n    \"userId\": 1,\\n    \"id\": 12,\\n    \"title\": \"ipsa repellendus fugit nisi\",\\n    \"completed\": true\\n  },\\n  {\\n    \"userId\": 1,\\n    \"id\": 13,\\n    \"title\": \"et doloremque nulla\",\\n    \"completed\": false\\n  },\\n  {\\n    \"userId\": 1,\\n    \"id\": 14,\\n    \"title\": \"repellendus sunt dolores architecto voluptatum\",\\n    \"completed\": true\\n  },\\n  {\\n    \"userId\": 1,\\n    \"id\": 15,\\n    \"title\": \"ab voluptatum amet voluptas\",\\n    \"completed\": true\\n  },\\n  {\\n    \"userId\": 1,\\n    \"id\": 16,\\n    \"title\": \"accusamus eos facilis sint et aut voluptatem\",\\n    \"completed\": true\\n  },\\n  {\\n    \"userId\": 1,\\n    \"id\": 17,\\n    \"title\": \"quo laboriosam deleniti aut qui\",\\n    \"completed\": true\\n  },\\n  {\\n    \"userId\": 1,\\n    \"id\": 18,\\n    \"title\": \"dolorum est consequatur ea mollitia in culpa\",\\n    \"completed\": false\\n  },\\n  {\\n    \"userId\": 1,\\n    \"id\": 19,\\n    \"title\": \"molestiae ipsa aut voluptatibus pariatur dolor nihil\",\\n    \"completed\": true\\n  },\\n  {\\n    \"userId\": 1,\\n    \"id\": 20,\\n    \"title\": \"ullam nobis libero sapiente ad optio sint\",\\n    \"completed\": true\\n  },\\n  {\\n    \"userId\": 2,\\n    \"id\": 21,\\n    \"title\": \"suscipit repellat esse quibusdam voluptatem incidunt\",\\n    \"completed\": false\\n  },\\n  {\\n    \"userId\": 2,\\n    \"id\": 22,\\n    \"title\": \"distinctio vitae autem nihil ut molestias quo\",\\n    \"completed\": true\\n  },\\n  {\\n    \"userId\": 2,\\n    \"id\": 23,\\n    \"title\": \"et itaque necessitatibus maxime molestiae qui quas velit\",\\n    \"completed\": false\\n  },\\n  {\\n    \"userId\": 2,\\n    \"id\": 24,\\n    \"title\": \"adipisci non ad dicta qui amet quaerat doloribus ea\",\\n    \"completed\": false\\n  },\\n  {\\n    \"userId\": 2,\\n    \"id\": 25,\\n    \"title\": \"voluptas quo tenetur perspiciatis explicabo natus\",\\n    \"completed\": true\\n  },\\n  {\\n    \"userId\": 2,\\n    \"id\": 26,\\n    \"title\": \"aliquam aut quasi\",\\n    \"completed\": true\\n  },\\n  {\\n    \"userId\": 2,\\n    \"id\": 27,\\n    \"title\": \"veritatis pariatur delectus\",\\n    \"completed\": true\\n  },\\n  {\\n    \"userId\": 2,\\n    \"id\": 28,\\n    \"title\": \"nesciunt totam sit blanditiis sit\",\\n    \"completed\": false\\n  },\\n  {\\n    \"userId\": 2,\\n    \"id\": 29,\\n    \"title\": \"laborum aut in quam\",\\n    \"completed\": false\\n  },\\n  {\\n    \"userId\": 2,\\n    \"id\": 30,\\n    \"title\": \"nemo perspiciatis repellat ut dolor libero commodi blanditiis omnis\",\\n    \"completed\": true\\n  },\\n  {\\n    \"userId\": 2,\\n    \"id\": 31,\\n    \"title\": \"repudiandae totam in est sint facere fuga\",\\n    \"completed\": false\\n  },\\n  {\\n    \"userId\": 2,\\n    \"id\": 32,\\n    \"title\": \"earum doloribus ea doloremque quis\",\\n    \"completed\": false\\n  },\\n  {\\n    \"userId\": 2,\\n    \"id\": 33,\\n    \"title\": \"sint sit aut vero\",\\n    \"completed\": false\\n  },\\n  {\\n    \"userId\": 2,\\n    \"id\": 34,\\n    \"title\": \"porro aut necessitatibus eaque distinctio\",\\n    \"completed\": false\\n  },\\n  {\\n    \"userId\": 2,\\n    \"id\": 35,\\n    \"title\": \"repellendus veritatis molestias dicta incidunt\",\\n    \"completed\": true\\n  },\\n  {\\n    \"userId\": 2,\\n    \"id\": 36,\\n    \"title\": \"excepturi deleniti adipisci voluptatem et neque optio illum ad\",\\n    \"completed\": true\\n  },\\n  {\\n    \"userId\": 2,\\n    \"id\": 37,\\n    \"title\": \"sunt cum tempora\",\\n    \"completed\": false\\n  },\\n  {\\n    \"userId\": 2,\\n    \"id\": 38,\\n    \"title\": \"totam quia non\",\\n    \"completed\": false\\n  },\\n  {\\n    \"userId\": 2,\\n    \"id\": 39,\\n    \"title\": \"doloremque quibusdam asperiores libero corrupti illum qui omnis\",\\n    \"completed\": false\\n  },\\n  {\\n    \"userId\": 2,\\n    \"id\": 40,\\n    \"title\": \"totam atque quo nesciunt\",\\n    \"completed\": true\\n  },\\n  {\\n    \"userId\": 3,\\n    \"id\": 41,\\n    \"title\": \"aliquid amet impedit consequatur aspernatur placeat eaque fugiat suscipit\",\\n    \"completed\": false\\n  },\\n  {\\n    \"userId\": 3,\\n    \"id\": 42,\\n    \"title\": \"rerum perferendis error quia ut eveniet\",\\n    \"completed\": false\\n  },\\n  {\\n    \"userId\": 3,\\n    \"id\": 43,\\n    \"title\": \"tempore ut sint quis recusandae\",\\n    \"completed\": true\\n  },\\n  {\\n    \"userId\": 3,\\n    \"id\": 44,\\n    \"title\": \"cum debitis quis accusamus doloremque ipsa natus sapiente omnis\",\\n    \"completed\": true\\n  },\\n  {\\n    \"userId\": 3,\\n    \"id\": 45,\\n    \"title\": \"velit soluta adipisci molestias reiciendis harum\",\\n    \"completed\": false\\n  },\\n  {\\n    \"userId\": 3,\\n    \"id\": 46,\\n    \"title\": \"vel voluptatem repellat nihil placeat corporis\",\\n    \"completed\": false\\n  },\\n  {\\n    \"userId\": 3,\\n    \"id\": 47,\\n    \"title\": \"nam qui rerum fugiat accusamus\",\\n    \"completed\": false\\n  },\\n  {\\n    \"userId\": 3,\\n    \"id\": 48,\\n    \"title\": \"sit reprehenderit omnis quia\",\\n    \"completed\": false\\n  },\\n  {\\n    \"userId\": 3,\\n    \"id\": 49,\\n    \"title\": \"ut necessitatibus aut maiores debitis officia blanditiis velit et\",\\n    \"completed\": false\\n  },\\n  {\\n    \"userId\": 3,\\n    \"id\": 50,\\n    \"title\": \"cupiditate necessitatibus ullam aut quis dolor voluptate\",\\n    \"completed\": true\\n  },\\n  {\\n    \"userId\": 3,\\n    \"id\": 51,\\n    \"title\": \"distinctio exercitationem ab doloribus\",\\n    \"completed\": false\\n  },\\n  {\\n    \"userId\": 3,\\n    \"id\": 52,\\n    \"title\": \"nesciunt dolorum quis recusandae ad pariatur ratione\",\\n    \"completed\": false\\n  },\\n  {\\n    \"userId\": 3,\\n    \"id\": 53,\\n    \"title\": \"qui labore est occaecati recusandae aliquid quam\",\\n    \"completed\": false\\n  },\\n  {\\n    \"userId\": 3,\\n    \"id\": 54,\\n    \"title\": \"quis et est ut voluptate quam dolor\",\\n    \"completed\": true\\n  },\\n  {\\n    \"userId\": 3,\\n    \"id\": 55,\\n    \"title\": \"voluptatum omnis minima qui occaecati provident nulla voluptatem ratione\",\\n    \"completed\": true\\n  },\\n  {\\n    \"userId\": 3,\\n    \"id\": 56,\\n    \"title\": \"deleniti ea temporibus enim\",\\n    \"completed\": true\\n  },\\n  {\\n    \"userId\": 3,\\n    \"id\": 57,\\n    \"title\": \"pariatur et magnam ea doloribus similique voluptatem rerum quia\",\\n    \"completed\": false\\n  },\\n  {\\n    \"userId\": 3,\\n    \"id\": 58,\\n    \"title\": \"est dicta totam qui explicabo doloribus qui dignissimos\",\\n    \"completed\": false\\n  },\\n  {\\n    \"userId\": 3,\\n    \"id\": 59,\\n    \"title\": \"perspiciatis velit id laborum placeat iusto et aliquam odio\",\\n    \"completed\": false\\n  },\\n  {\\n    \"userId\": 3,\\n    \"id\": 60,\\n    \"title\": \"et sequi qui architecto ut adipisci\",\\n    \"completed\": true\\n  },\\n  {\\n    \"userId\": 4,\\n    \"id\": 61,\\n    \"title\": \"odit optio omnis qui sunt\",\\n    \"completed\": true\\n  },\\n  {\\n    \"userId\": 4,\\n    \"id\": 62,\\n    \"title\": \"et placeat et tempore aspernatur sint numquam\",\\n    \"completed\": false\\n  },\\n  {\\n    \"userId\": 4,\\n    \"id\": 63,\\n    \"title\": \"doloremque aut dolores quidem fuga qui nulla\",\\n    \"completed\": true\\n  },\\n  {\\n    \"userId\": 4,\\n    \"id\": 64,\\n    \"title\": \"voluptas consequatur qui ut quia magnam nemo esse\",\\n    \"completed\": false\\n  },\\n  {\\n    \"userId\": 4,\\n    \"id\": 65,\\n    \"title\": \"fugiat pariatur ratione ut asperiores necessitatibus magni\",\\n    \"completed\": false\\n  },\\n  {\\n    \"userId\": 4,\\n    \"id\": 66,\\n    \"title\": \"rerum eum molestias autem voluptatum sit optio\",\\n    \"completed\": false\\n  },\\n  {\\n    \"userId\": 4,\\n    \"id\": 67,\\n    \"title\": \"quia voluptatibus voluptatem quos similique maiores repellat\",\\n    \"completed\": false\\n  },\\n  {\\n    \"userId\": 4,\\n    \"id\": 68,\\n    \"title\": \"aut id perspiciatis voluptatem iusto\",\\n    \"completed\": false\\n  },\\n  {\\n    \"userId\": 4,\\n    \"id\": 69,\\n    \"title\": \"doloribus sint dolorum ab adipisci itaque dignissimos aliquam suscipit\",\\n    \"completed\": false\\n  },\\n  {\\n    \"userId\": 4,\\n    \"id\": 70,\\n    \"title\": \"ut sequi accusantium et mollitia delectus sunt\",\\n    \"completed\": false\\n  },\\n  {\\n    \"userId\": 4,\\n    \"id\": 71,\\n    \"title\": \"aut velit saepe ullam\",\\n    \"completed\": false\\n  },\\n  {\\n    \"userId\": 4,\\n    \"id\": 72,\\n    \"title\": \"praesentium facilis facere quis harum voluptatibus voluptatem eum\",\\n    \"completed\": false\\n  },\\n  {\\n    \"userId\": 4,\\n    \"id\": 73,\\n    \"title\": \"sint amet quia totam corporis qui exercitationem commodi\",\\n    \"completed\": true\\n  },\\n  {\\n    \"userId\": 4,\\n    \"id\": 74,\\n    \"title\": \"expedita tempore nobis eveniet laborum maiores\",\\n    \"completed\": false\\n  },\\n  {\\n    \"userId\": 4,\\n    \"id\": 75,\\n    \"title\": \"occaecati adipisci est possimus totam\",\\n    \"completed\": false\\n  },\\n  {\\n    \"userId\": 4,\\n    \"id\": 76,\\n    \"title\": \"sequi dolorem sed\",\\n    \"completed\": true\\n  },\\n  {\\n    \"userId\": 4,\\n    \"id\": 77,\\n    \"title\": \"maiores aut nesciunt delectus exercitationem vel assumenda eligendi at\",\\n    \"completed\": false\\n  },\\n  {\\n    \"userId\": 4,\\n    \"id\": 78,\\n    \"title\": \"reiciendis est magnam amet nemo iste recusandae impedit quaerat\",\\n    \"completed\": false\\n  },\\n  {\\n    \"userId\": 4,\\n    \"id\": 79,\\n    \"title\": \"eum ipsa maxime ut\",\\n    \"completed\": true\\n  },\\n  {\\n    \"userId\": 4,\\n    \"id\": 80,\\n    \"title\": \"tempore molestias dolores rerum sequi voluptates ipsum consequatur\",\\n    \"completed\": true\\n  },\\n  {\\n    \"userId\": 5,\\n    \"id\": 81,\\n    \"title\": \"suscipit qui totam\",\\n    \"completed\": true\\n  },\\n  {\\n    \"userId\": 5,\\n    \"id\": 82,\\n    \"title\": \"voluptates eum voluptas et dicta\",\\n    \"completed\": false\\n  },\\n  {\\n    \"userId\": 5,\\n    \"id\": 83,\\n    \"title\": \"quidem at rerum quis ex aut sit quam\",\\n    \"completed\": true\\n  },\\n  {\\n    \"userId\": 5,\\n    \"id\": 84,\\n    \"title\": \"sunt veritatis ut voluptate\",\\n    \"completed\": false\\n  },\\n  {\\n    \"userId\": 5,\\n    \"id\": 85,\\n    \"title\": \"et quia ad iste a\",\\n    \"completed\": true\\n  },\\n  {\\n    \"userId\": 5,\\n    \"id\": 86,\\n    \"title\": \"incidunt ut saepe autem\",\\n    \"completed\": true\\n  },\\n  {\\n    \"userId\": 5,\\n    \"id\": 87,\\n    \"title\": \"laudantium quae eligendi consequatur quia et vero autem\",\\n    \"completed\": true\\n  },\\n  {\\n    \"userId\": 5,\\n    \"id\": 88,\\n    \"title\": \"vitae aut excepturi laboriosam sint aliquam et et accusantium\",\\n    \"completed\": false\\n  },\\n  {\\n    \"userId\": 5,\\n    \"id\": 89,\\n    \"title\": \"sequi ut omnis et\",\\n    \"completed\": true\\n  },\\n  {\\n    \"userId\": 5,\\n    \"id\": 90,\\n    \"title\": \"molestiae nisi accusantium tenetur dolorem et\",\\n    \"completed\": true\\n  },\\n  {\\n    \"userId\": 5,\\n    \"id\": 91,\\n    \"title\": \"nulla quis consequatur saepe qui id expedita\",\\n    \"completed\": true\\n  },\\n  {\\n    \"userId\": 5,\\n    \"id\": 92,\\n    \"title\": \"in omnis laboriosam\",\\n    \"completed\": true\\n  },\\n  {\\n    \"userId\": 5,\\n    \"id\": 93,\\n    \"title\": \"odio iure consequatur molestiae quibusdam necessitatibus quia sint\",\\n    \"completed\": true\\n  },\\n  {\\n    \"userId\": 5,\\n    \"id\": 94,\\n    \"title\": \"facilis modi saepe mollitia\",\\n    \"completed\": false\\n  },\\n  {\\n    \"userId\": 5,\\n    \"id\": 95,\\n    \"title\": \"vel nihil et molestiae iusto assumenda nemo quo ut\",\\n    \"completed\": true\\n  },\\n  {\\n    \"userId\": 5,\\n    \"id\": 96,\\n    \"title\": \"nobis suscipit ducimus enim asperiores voluptas\",\\n    \"completed\": false\\n  },\\n  {\\n    \"userId\": 5,\\n    \"id\": 97,\\n    \"title\": \"dolorum laboriosam eos qui iure aliquam\",\\n    \"completed\": false\\n  },\\n  {\\n    \"userId\": 5,\\n    \"id\": 98,\\n    \"title\": \"debitis accusantium ut quo facilis nihil quis sapiente necessitatibus\",\\n    \"completed\": true\\n  },\\n  {\\n    \"userId\": 5,\\n    \"id\": 99,\\n    \"title\": \"neque voluptates ratione\",\\n    \"completed\": false\\n  },\\n  {\\n    \"userId\": 5,\\n    \"id\": 100,\\n    \"title\": \"excepturi a et neque qui expedita vel voluptate\",\\n    \"completed\": false\\n  },\\n  {\\n    \"userId\": 6,\\n    \"id\": 101,\\n    \"title\": \"explicabo enim cumque porro aperiam occaecati minima\",\\n    \"completed\": false\\n  },\\n  {\\n    \"userId\": 6,\\n    \"id\": 102,\\n    \"title\": \"sed ab consequatur\",\\n    \"completed\": false\\n  },\\n  {\\n    \"userId\": 6,\\n    \"id\": 103,\\n    \"title\": \"non sunt delectus illo nulla tenetur enim omnis\",\\n    \"completed\": false\\n  },\\n  {\\n    \"userId\": 6,\\n    \"id\": 104,\\n    \"title\": \"excepturi non laudantium quo\",\\n    \"completed\": false\\n  },\\n  {\\n    \"userId\": 6,\\n    \"id\": 105,\\n    \"title\": \"totam quia dolorem et illum repellat voluptas optio\",\\n    \"completed\": true\\n  },\\n  {\\n    \"userId\": 6,\\n    \"id\": 106,\\n    \"title\": \"ad illo quis voluptatem temporibus\",\\n    \"completed\": true\\n  },\\n  {\\n    \"userId\": 6,\\n    \"id\": 107,\\n    \"title\": \"praesentium facilis omnis laudantium fugit ad iusto nihil nesciunt\",\\n    \"completed\": false\\n  },\\n  {\\n    \"userId\": 6,\\n    \"id\": 108,\\n    \"title\": \"a eos eaque nihil et exercitationem incidunt delectus\",\\n    \"completed\": true\\n  },\\n  {\\n    \"userId\": 6,\\n    \"id\": 109,\\n    \"title\": \"autem temporibus harum quisquam in culpa\",\\n    \"completed\": true\\n  },\\n  {\\n    \"userId\": 6,\\n    \"id\": 110,\\n    \"title\": \"aut aut ea corporis\",\\n    \"completed\": true\\n  },\\n  {\\n    \"userId\": 6,\\n    \"id\": 111,\\n    \"title\": \"magni accusantium labore et id quis provident\",\\n    \"completed\": false\\n  },\\n  {\\n    \"userId\": 6,\\n    \"id\": 112,\\n    \"title\": \"consectetur impedit quisquam qui deserunt non rerum consequuntur eius\",\\n    \"completed\": false\\n  },\\n  {\\n    \"userId\": 6,\\n    \"id\": 113,\\n    \"title\": \"quia atque aliquam sunt impedit voluptatum rerum assumenda nisi\",\\n    \"completed\": false\\n  },\\n  {\\n    \"userId\": 6,\\n    \"id\": 114,\\n    \"title\": \"cupiditate quos possimus corporis quisquam exercitationem beatae\",\\n    \"completed\": false\\n  },\\n  {\\n    \"userId\": 6,\\n    \"id\": 115,\\n    \"title\": \"sed et ea eum\",\\n    \"completed\": false\\n  },\\n  {\\n    \"userId\": 6,\\n    \"id\": 116,\\n    \"title\": \"ipsa dolores vel facilis ut\",\\n    \"completed\": true\\n  },\\n  {\\n    \"userId\": 6,\\n    \"id\": 117,\\n    \"title\": \"sequi quae est et qui qui eveniet asperiores\",\\n    \"completed\": false\\n  },\\n  {\\n    \"userId\": 6,\\n    \"id\": 118,\\n    \"title\": \"quia modi consequatur vero fugiat\",\\n    \"completed\": false\\n  },\\n  {\\n    \"userId\": 6,\\n    \"id\": 119,\\n    \"title\": \"corporis ducimus ea perspiciatis iste\",\\n    \"completed\": false\\n  },\\n  {\\n    \"userId\": 6,\\n    \"id\": 120,\\n    \"title\": \"dolorem laboriosam vel voluptas et aliquam quasi\",\\n    \"completed\": false\\n  },\\n  {\\n    \"userId\": 7,\\n    \"id\": 121,\\n    \"title\": \"inventore aut nihil minima laudantium hic qui omnis\",\\n    \"completed\": true\\n  },\\n  {\\n    \"userId\": 7,\\n    \"id\": 122,\\n    \"title\": \"provident aut nobis culpa\",\\n    \"completed\": true\\n  },\\n  {\\n    \"userId\": 7,\\n    \"id\": 123,\\n    \"title\": \"esse et quis iste est earum aut impedit\",\\n    \"completed\": false\\n  },\\n  {\\n    \"userId\": 7,\\n    \"id\": 124,\\n    \"title\": \"qui consectetur id\",\\n    \"completed\": false\\n  },\\n  {\\n    \"userId\": 7,\\n    \"id\": 125,\\n    \"title\": \"aut quasi autem iste tempore illum possimus\",\\n    \"completed\": false\\n  },\\n  {\\n    \"userId\": 7,\\n    \"id\": 126,\\n    \"title\": \"ut asperiores perspiciatis veniam ipsum rerum saepe\",\\n    \"completed\": true\\n  },\\n  {\\n    \"userId\": 7,\\n    \"id\": 127,\\n    \"title\": \"voluptatem libero consectetur rerum ut\",\\n    \"completed\": true\\n  },\\n  {\\n    \"userId\": 7,\\n    \"id\": 128,\\n    \"title\": \"eius omnis est qui voluptatem autem\",\\n    \"completed\": false\\n  },\\n  {\\n    \"userId\": 7,\\n    \"id\": 129,\\n    \"title\": \"rerum culpa quis harum\",\\n    \"completed\": false\\n  },\\n  {\\n    \"userId\": 7,\\n    \"id\": 130,\\n    \"title\": \"nulla aliquid eveniet harum laborum libero alias ut unde\",\\n    \"completed\": true\\n  },\\n  {\\n    \"userId\": 7,\\n    \"id\": 131,\\n    \"title\": \"qui ea incidunt quis\",\\n    \"completed\": false\\n  },\\n  {\\n    \"userId\": 7,\\n    \"id\": 132,\\n    \"title\": \"qui molestiae voluptatibus velit iure harum quisquam\",\\n    \"completed\": true\\n  },\\n  {\\n    \"userId\": 7,\\n    \"id\": 133,\\n    \"title\": \"et labore eos enim rerum consequatur sunt\",\\n    \"completed\": true\\n  },\\n  {\\n    \"userId\": 7,\\n    \"id\": 134,\\n    \"title\": \"molestiae doloribus et laborum quod ea\",\\n    \"completed\": false\\n  },\\n  {\\n    \"userId\": 7,\\n    \"id\": 135,\\n    \"title\": \"facere ipsa nam eum voluptates reiciendis vero qui\",\\n    \"completed\": false\\n  },\\n  {\\n    \"userId\": 7,\\n    \"id\": 136,\\n    \"title\": \"asperiores illo tempora fuga sed ut quasi adipisci\",\\n    \"completed\": false\\n  },\\n  {\\n    \"userId\": 7,\\n    \"id\": 137,\\n    \"title\": \"qui sit non\",\\n    \"completed\": false\\n  },\\n  {\\n    \"userId\": 7,\\n    \"id\": 138,\\n    \"title\": \"placeat minima consequatur rem qui ut\",\\n    \"completed\": true\\n  },\\n  {\\n    \"userId\": 7,\\n    \"id\": 139,\\n    \"title\": \"consequatur doloribus id possimus voluptas a voluptatem\",\\n    \"completed\": false\\n  },\\n  {\\n    \"userId\": 7,\\n    \"id\": 140,\\n    \"title\": \"aut consectetur in blanditiis deserunt quia sed laboriosam\",\\n    \"completed\": true\\n  },\\n  {\\n    \"userId\": 8,\\n    \"id\": 141,\\n    \"title\": \"explicabo consectetur debitis voluptates quas quae culpa rerum non\",\\n    \"completed\": true\\n  },\\n  {\\n    \"userId\": 8,\\n    \"id\": 142,\\n    \"title\": \"maiores accusantium architecto necessitatibus reiciendis ea aut\",\\n    \"completed\": true\\n  },\\n  {\\n    \"userId\": 8,\\n    \"id\": 143,\\n    \"title\": \"eum non recusandae cupiditate animi\",\\n    \"completed\": false\\n  },\\n  {\\n    \"userId\": 8,\\n    \"id\": 144,\\n    \"title\": \"ut eum exercitationem sint\",\\n    \"completed\": false\\n  },\\n  {\\n    \"userId\": 8,\\n    \"id\": 145,\\n    \"title\": \"beatae qui ullam incidunt voluptatem non nisi aliquam\",\\n    \"completed\": false\\n  },\\n  {\\n    \"userId\": 8,\\n    \"id\": 146,\\n    \"title\": \"molestiae suscipit ratione nihil odio libero impedit vero totam\",\\n    \"completed\": true\\n  },\\n  {\\n    \"userId\": 8,\\n    \"id\": 147,\\n    \"title\": \"eum itaque quod reprehenderit et facilis dolor autem ut\",\\n    \"completed\": true\\n  },\\n  {\\n    \"userId\": 8,\\n    \"id\": 148,\\n    \"title\": \"esse quas et quo quasi exercitationem\",\\n    \"completed\": false\\n  },\\n  {\\n    \"userId\": 8,\\n    \"id\": 149,\\n    \"title\": \"animi voluptas quod perferendis est\",\\n    \"completed\": false\\n  },\\n  {\\n    \"userId\": 8,\\n    \"id\": 150,\\n    \"title\": \"eos amet tempore laudantium fugit a\",\\n    \"completed\": false\\n  },\\n  {\\n    \"userId\": 8,\\n    \"id\": 151,\\n    \"title\": \"accusamus adipisci dicta qui quo ea explicabo sed vero\",\\n    \"completed\": true\\n  },\\n  {\\n    \"userId\": 8,\\n    \"id\": 152,\\n    \"title\": \"odit eligendi recusandae doloremque cumque non\",\\n    \"completed\": false\\n  },\\n  {\\n    \"userId\": 8,\\n    \"id\": 153,\\n    \"title\": \"ea aperiam consequatur qui repellat eos\",\\n    \"completed\": false\\n  },\\n  {\\n    \"userId\": 8,\\n    \"id\": 154,\\n    \"title\": \"rerum non ex sapiente\",\\n    \"completed\": true\\n  },\\n  {\\n    \"userId\": 8,\\n    \"id\": 155,\\n    \"title\": \"voluptatem nobis consequatur et assumenda magnam\",\\n    \"completed\": true\\n  },\\n  {\\n    \"userId\": 8,\\n    \"id\": 156,\\n    \"title\": \"nam quia quia nulla repellat assumenda quibusdam sit nobis\",\\n    \"completed\": true\\n  },\\n  {\\n    \"userId\": 8,\\n    \"id\": 157,\\n    \"title\": \"dolorem veniam quisquam deserunt repellendus\",\\n    \"completed\": true\\n  },\\n  {\\n    \"userId\": 8,\\n    \"id\": 158,\\n    \"title\": \"debitis vitae delectus et harum accusamus aut deleniti a\",\\n    \"completed\": true\\n  },\\n  {\\n    \"userId\": 8,\\n    \"id\": 159,\\n    \"title\": \"debitis adipisci quibusdam aliquam sed dolore ea praesentium nobis\",\\n    \"completed\": true\\n  },\\n  {\\n    \"userId\": 8,\\n    \"id\": 160,\\n    \"title\": \"et praesentium aliquam est\",\\n    \"completed\": false\\n  },\\n  {\\n    \"userId\": 9,\\n    \"id\": 161,\\n    \"title\": \"ex hic consequuntur earum omnis alias ut occaecati culpa\",\\n    \"completed\": true\\n  },\\n  {\\n    \"userId\": 9,\\n    \"id\": 162,\\n    \"title\": \"omnis laboriosam molestias animi sunt dolore\",\\n    \"completed\": true\\n  },\\n  {\\n    \"userId\": 9,\\n    \"id\": 163,\\n    \"title\": \"natus corrupti maxime laudantium et voluptatem laboriosam odit\",\\n    \"completed\": false\\n  },\\n  {\\n    \"userId\": 9,\\n    \"id\": 164,\\n    \"title\": \"reprehenderit quos aut aut consequatur est sed\",\\n    \"completed\": false\\n  },\\n  {\\n    \"userId\": 9,\\n    \"id\": 165,\\n    \"title\": \"fugiat perferendis sed aut quidem\",\\n    \"completed\": false\\n  },\\n  {\\n    \"userId\": 9,\\n    \"id\": 166,\\n    \"title\": \"quos quo possimus suscipit minima ut\",\\n    \"completed\": false\\n  },\\n  {\\n    \"userId\": 9,\\n    \"id\": 167,\\n    \"title\": \"et quis minus quo a asperiores molestiae\",\\n    \"completed\": false\\n  },\\n  {\\n    \"userId\": 9,\\n    \"id\": 168,\\n    \"title\": \"recusandae quia qui sunt libero\",\\n    \"completed\": false\\n  },\\n  {\\n    \"userId\": 9,\\n    \"id\": 169,\\n    \"title\": \"ea odio perferendis officiis\",\\n    \"completed\": true\\n  },\\n  {\\n    \"userId\": 9,\\n    \"id\": 170,\\n    \"title\": \"quisquam aliquam quia doloribus aut\",\\n    \"completed\": false\\n  },\\n  {\\n    \"userId\": 9,\\n    \"id\": 171,\\n    \"title\": \"fugiat aut voluptatibus corrupti deleniti velit iste odio\",\\n    \"completed\": true\\n  },\\n  {\\n    \"userId\": 9,\\n    \"id\": 172,\\n    \"title\": \"et provident amet rerum consectetur et voluptatum\",\\n    \"completed\": false\\n  },\\n  {\\n    \"userId\": 9,\\n    \"id\": 173,\\n    \"title\": \"harum ad aperiam quis\",\\n    \"completed\": false\\n  },\\n  {\\n    \"userId\": 9,\\n    \"id\": 174,\\n    \"title\": \"similique aut quo\",\\n    \"completed\": false\\n  },\\n  {\\n    \"userId\": 9,\\n    \"id\": 175,\\n    \"title\": \"laudantium eius officia perferendis provident perspiciatis asperiores\",\\n    \"completed\": true\\n  },\\n  {\\n    \"userId\": 9,\\n    \"id\": 176,\\n    \"title\": \"magni soluta corrupti ut maiores rem quidem\",\\n    \"completed\": false\\n  },\\n  {\\n    \"userId\": 9,\\n    \"id\": 177,\\n    \"title\": \"et placeat temporibus voluptas est tempora quos quibusdam\",\\n    \"completed\": false\\n  },\\n  {\\n    \"userId\": 9,\\n    \"id\": 178,\\n    \"title\": \"nesciunt itaque commodi tempore\",\\n    \"completed\": true\\n  },\\n  {\\n    \"userId\": 9,\\n    \"id\": 179,\\n    \"title\": \"omnis consequuntur cupiditate impedit itaque ipsam quo\",\\n    \"completed\": true\\n  },\\n  {\\n    \"userId\": 9,\\n    \"id\": 180,\\n    \"title\": \"debitis nisi et dolorem repellat et\",\\n    \"completed\": true\\n  },\\n  {\\n    \"userId\": 10,\\n    \"id\": 181,\\n    \"title\": \"ut cupiditate sequi aliquam fuga maiores\",\\n    \"completed\": false\\n  },\\n  {\\n    \"userId\": 10,\\n    \"id\": 182,\\n    \"title\": \"inventore saepe cumque et aut illum enim\",\\n    \"completed\": true\\n  },\\n  {\\n    \"userId\": 10,\\n    \"id\": 183,\\n    \"title\": \"omnis nulla eum aliquam distinctio\",\\n    \"completed\": true\\n  },\\n  {\\n    \"userId\": 10,\\n    \"id\": 184,\\n    \"title\": \"molestias modi perferendis perspiciatis\",\\n    \"completed\": false\\n  },\\n  {\\n    \"userId\": 10,\\n    \"id\": 185,\\n    \"title\": \"voluptates dignissimos sed doloribus animi quaerat aut\",\\n    \"completed\": false\\n  },\\n  {\\n    \"userId\": 10,\\n    \"id\": 186,\\n    \"title\": \"explicabo odio est et\",\\n    \"completed\": false\\n  },\\n  {\\n    \"userId\": 10,\\n    \"id\": 187,\\n    \"title\": \"consequuntur animi possimus\",\\n    \"completed\": false\\n  },\\n  {\\n    \"userId\": 10,\\n    \"id\": 188,\\n    \"title\": \"vel non beatae est\",\\n    \"completed\": true\\n  },\\n  {\\n    \"userId\": 10,\\n    \"id\": 189,\\n    \"title\": \"culpa eius et voluptatem et\",\\n    \"completed\": true\\n  },\\n  {\\n    \"userId\": 10,\\n    \"id\": 190,\\n    \"title\": \"accusamus sint iusto et voluptatem exercitationem\",\\n    \"completed\": true\\n  },\\n  {\\n    \"userId\": 10,\\n    \"id\": 191,\\n    \"title\": \"temporibus atque distinctio omnis eius impedit tempore molestias pariatur\",\\n    \"completed\": true\\n  },\\n  {\\n    \"userId\": 10,\\n    \"id\": 192,\\n    \"title\": \"ut quas possimus exercitationem sint voluptates\",\\n    \"completed\": false\\n  },\\n  {\\n    \"userId\": 10,\\n    \"id\": 193,\\n    \"title\": \"rerum debitis voluptatem qui eveniet tempora distinctio a\",\\n    \"completed\": true\\n  },\\n  {\\n    \"userId\": 10,\\n    \"id\": 194,\\n    \"title\": \"sed ut vero sit molestiae\",\\n    \"completed\": false\\n  },\\n  {\\n    \"userId\": 10,\\n    \"id\": 195,\\n    \"title\": \"rerum ex veniam mollitia voluptatibus pariatur\",\\n    \"completed\": true\\n  },\\n  {\\n    \"userId\": 10,\\n    \"id\": 196,\\n    \"title\": \"consequuntur aut ut fugit similique\",\\n    \"completed\": true\\n  },\\n  {\\n    \"userId\": 10,\\n    \"id\": 197,\\n    \"title\": \"dignissimos quo nobis earum saepe\",\\n    \"completed\": true\\n  },\\n  {\\n    \"userId\": 10,\\n    \"id\": 198,\\n    \"title\": \"quis eius est sint explicabo\",\\n    \"completed\": true\\n  },\\n  {\\n    \"userId\": 10,\\n    \"id\": 199,\\n    \"title\": \"numquam repellendus a magnam\",\\n    \"completed\": true\\n  },\\n  {\\n    \"userId\": 10,\\n    \"id\": 200,\\n    \"title\": \"ipsam aperiam voluptates qui\",\\n    \"completed\": false\\n  }\\n]'"
      ]
     },
     "execution_count": 14,
     "metadata": {},
     "output_type": "execute_result"
    }
   ],
   "source": [
    "resp=req.get('https://jsonplaceholder.typicode.com/todos')\n",
    "\n",
    "resp.text"
   ]
  },
  {
   "cell_type": "code",
   "execution_count": 13,
   "metadata": {},
   "outputs": [
    {
     "data": {
      "text/plain": [
       "str"
      ]
     },
     "execution_count": 13,
     "metadata": {},
     "output_type": "execute_result"
    }
   ],
   "source": [
    "type(resp.text)"
   ]
  },
  {
   "cell_type": "code",
   "execution_count": 16,
   "metadata": {},
   "outputs": [
    {
     "data": {
      "text/plain": [
       "bytes"
      ]
     },
     "execution_count": 16,
     "metadata": {},
     "output_type": "execute_result"
    }
   ],
   "source": [
    "type(resp.content)"
   ]
  },
  {
   "cell_type": "code",
   "execution_count": 10,
   "metadata": {},
   "outputs": [
    {
     "data": {
      "text/plain": [
       "[{'userId': 1, 'id': 1, 'title': 'delectus aut autem', 'completed': False},\n",
       " {'userId': 1,\n",
       "  'id': 2,\n",
       "  'title': 'quis ut nam facilis et officia qui',\n",
       "  'completed': False},\n",
       " {'userId': 1, 'id': 3, 'title': 'fugiat veniam minus', 'completed': False},\n",
       " {'userId': 1, 'id': 4, 'title': 'et porro tempora', 'completed': True},\n",
       " {'userId': 1,\n",
       "  'id': 5,\n",
       "  'title': 'laboriosam mollitia et enim quasi adipisci quia provident illum',\n",
       "  'completed': False},\n",
       " {'userId': 1,\n",
       "  'id': 6,\n",
       "  'title': 'qui ullam ratione quibusdam voluptatem quia omnis',\n",
       "  'completed': False},\n",
       " {'userId': 1,\n",
       "  'id': 7,\n",
       "  'title': 'illo expedita consequatur quia in',\n",
       "  'completed': False},\n",
       " {'userId': 1,\n",
       "  'id': 8,\n",
       "  'title': 'quo adipisci enim quam ut ab',\n",
       "  'completed': True},\n",
       " {'userId': 1,\n",
       "  'id': 9,\n",
       "  'title': 'molestiae perspiciatis ipsa',\n",
       "  'completed': False},\n",
       " {'userId': 1,\n",
       "  'id': 10,\n",
       "  'title': 'illo est ratione doloremque quia maiores aut',\n",
       "  'completed': True}]"
      ]
     },
     "execution_count": 10,
     "metadata": {},
     "output_type": "execute_result"
    }
   ],
   "source": [
    "results=resp.json()\n",
    "\n",
    "results[:10]"
   ]
  },
  {
   "cell_type": "code",
   "execution_count": 11,
   "metadata": {},
   "outputs": [
    {
     "data": {
      "text/plain": [
       "list"
      ]
     },
     "execution_count": 11,
     "metadata": {},
     "output_type": "execute_result"
    }
   ],
   "source": [
    "type(results)"
   ]
  },
  {
   "cell_type": "code",
   "execution_count": 4,
   "metadata": {},
   "outputs": [
    {
     "data": {
      "text/html": [
       "<div>\n",
       "<style scoped>\n",
       "    .dataframe tbody tr th:only-of-type {\n",
       "        vertical-align: middle;\n",
       "    }\n",
       "\n",
       "    .dataframe tbody tr th {\n",
       "        vertical-align: top;\n",
       "    }\n",
       "\n",
       "    .dataframe thead th {\n",
       "        text-align: right;\n",
       "    }\n",
       "</style>\n",
       "<table border=\"1\" class=\"dataframe\">\n",
       "  <thead>\n",
       "    <tr style=\"text-align: right;\">\n",
       "      <th></th>\n",
       "      <th>userId</th>\n",
       "      <th>id</th>\n",
       "      <th>title</th>\n",
       "      <th>completed</th>\n",
       "    </tr>\n",
       "  </thead>\n",
       "  <tbody>\n",
       "    <tr>\n",
       "      <td>0</td>\n",
       "      <td>1</td>\n",
       "      <td>1</td>\n",
       "      <td>delectus aut autem</td>\n",
       "      <td>False</td>\n",
       "    </tr>\n",
       "    <tr>\n",
       "      <td>1</td>\n",
       "      <td>1</td>\n",
       "      <td>2</td>\n",
       "      <td>quis ut nam facilis et officia qui</td>\n",
       "      <td>False</td>\n",
       "    </tr>\n",
       "    <tr>\n",
       "      <td>2</td>\n",
       "      <td>1</td>\n",
       "      <td>3</td>\n",
       "      <td>fugiat veniam minus</td>\n",
       "      <td>False</td>\n",
       "    </tr>\n",
       "    <tr>\n",
       "      <td>3</td>\n",
       "      <td>1</td>\n",
       "      <td>4</td>\n",
       "      <td>et porro tempora</td>\n",
       "      <td>True</td>\n",
       "    </tr>\n",
       "    <tr>\n",
       "      <td>4</td>\n",
       "      <td>1</td>\n",
       "      <td>5</td>\n",
       "      <td>laboriosam mollitia et enim quasi adipisci qui...</td>\n",
       "      <td>False</td>\n",
       "    </tr>\n",
       "  </tbody>\n",
       "</table>\n",
       "</div>"
      ],
      "text/plain": [
       "   userId  id                                              title  completed\n",
       "0       1   1                                 delectus aut autem      False\n",
       "1       1   2                 quis ut nam facilis et officia qui      False\n",
       "2       1   3                                fugiat veniam minus      False\n",
       "3       1   4                                   et porro tempora       True\n",
       "4       1   5  laboriosam mollitia et enim quasi adipisci qui...      False"
      ]
     },
     "execution_count": 4,
     "metadata": {},
     "output_type": "execute_result"
    }
   ],
   "source": [
    "import pandas as pd\n",
    "\n",
    "data=pd.DataFrame(results)\n",
    "\n",
    "data.head()"
   ]
  },
  {
   "cell_type": "code",
   "execution_count": 17,
   "metadata": {},
   "outputs": [
    {
     "data": {
      "text/html": [
       "<div>\n",
       "<style scoped>\n",
       "    .dataframe tbody tr th:only-of-type {\n",
       "        vertical-align: middle;\n",
       "    }\n",
       "\n",
       "    .dataframe tbody tr th {\n",
       "        vertical-align: top;\n",
       "    }\n",
       "\n",
       "    .dataframe thead th {\n",
       "        text-align: right;\n",
       "    }\n",
       "</style>\n",
       "<table border=\"1\" class=\"dataframe\">\n",
       "  <thead>\n",
       "    <tr style=\"text-align: right;\">\n",
       "      <th></th>\n",
       "      <th>id</th>\n",
       "      <th>type</th>\n",
       "      <th>actor</th>\n",
       "      <th>repo</th>\n",
       "      <th>payload</th>\n",
       "      <th>public</th>\n",
       "      <th>created_at</th>\n",
       "      <th>org</th>\n",
       "    </tr>\n",
       "  </thead>\n",
       "  <tbody>\n",
       "    <tr>\n",
       "      <td>0</td>\n",
       "      <td>11972546653</td>\n",
       "      <td>PushEvent</td>\n",
       "      <td>{'id': 7594864, 'login': 'geoiris', 'display_l...</td>\n",
       "      <td>{'id': 253504611, 'name': 'geoiris/npm-pkg-ver...</td>\n",
       "      <td>{'push_id': 4875994427, 'size': 1, 'distinct_s...</td>\n",
       "      <td>True</td>\n",
       "      <td>2020-04-06T15:11:57Z</td>\n",
       "      <td>NaN</td>\n",
       "    </tr>\n",
       "    <tr>\n",
       "      <td>1</td>\n",
       "      <td>11972546654</td>\n",
       "      <td>PushEvent</td>\n",
       "      <td>{'id': 47105275, 'login': 'MarkTijssen', 'disp...</td>\n",
       "      <td>{'id': 250513633, 'name': 'MarkTijssen/GCP_Fun...</td>\n",
       "      <td>{'push_id': 4875994431, 'size': 1, 'distinct_s...</td>\n",
       "      <td>True</td>\n",
       "      <td>2020-04-06T15:11:57Z</td>\n",
       "      <td>NaN</td>\n",
       "    </tr>\n",
       "    <tr>\n",
       "      <td>2</td>\n",
       "      <td>11972546649</td>\n",
       "      <td>PushEvent</td>\n",
       "      <td>{'id': 63204712, 'login': 'roselyn478', 'displ...</td>\n",
       "      <td>{'id': 253297662, 'name': 'roselyn478/-Wanna-d...</td>\n",
       "      <td>{'push_id': 4875994407, 'size': 1, 'distinct_s...</td>\n",
       "      <td>True</td>\n",
       "      <td>2020-04-06T15:11:57Z</td>\n",
       "      <td>NaN</td>\n",
       "    </tr>\n",
       "    <tr>\n",
       "      <td>3</td>\n",
       "      <td>11972546662</td>\n",
       "      <td>WatchEvent</td>\n",
       "      <td>{'id': 38667845, 'login': 'cesterwo1056', 'dis...</td>\n",
       "      <td>{'id': 249555030, 'name': 'gonzoum/covid19-ana...</td>\n",
       "      <td>{'action': 'started'}</td>\n",
       "      <td>True</td>\n",
       "      <td>2020-04-06T15:11:57Z</td>\n",
       "      <td>NaN</td>\n",
       "    </tr>\n",
       "    <tr>\n",
       "      <td>4</td>\n",
       "      <td>11972546645</td>\n",
       "      <td>PushEvent</td>\n",
       "      <td>{'id': 53266321, 'login': 'ibmdotcom-bot', 'di...</td>\n",
       "      <td>{'id': 193511236, 'name': 'jeffchew/ibm-dotcom...</td>\n",
       "      <td>{'push_id': 4875994430, 'size': 2, 'distinct_s...</td>\n",
       "      <td>True</td>\n",
       "      <td>2020-04-06T15:11:57Z</td>\n",
       "      <td>NaN</td>\n",
       "    </tr>\n",
       "  </tbody>\n",
       "</table>\n",
       "</div>"
      ],
      "text/plain": [
       "            id        type                                              actor  \\\n",
       "0  11972546653   PushEvent  {'id': 7594864, 'login': 'geoiris', 'display_l...   \n",
       "1  11972546654   PushEvent  {'id': 47105275, 'login': 'MarkTijssen', 'disp...   \n",
       "2  11972546649   PushEvent  {'id': 63204712, 'login': 'roselyn478', 'displ...   \n",
       "3  11972546662  WatchEvent  {'id': 38667845, 'login': 'cesterwo1056', 'dis...   \n",
       "4  11972546645   PushEvent  {'id': 53266321, 'login': 'ibmdotcom-bot', 'di...   \n",
       "\n",
       "                                                repo  \\\n",
       "0  {'id': 253504611, 'name': 'geoiris/npm-pkg-ver...   \n",
       "1  {'id': 250513633, 'name': 'MarkTijssen/GCP_Fun...   \n",
       "2  {'id': 253297662, 'name': 'roselyn478/-Wanna-d...   \n",
       "3  {'id': 249555030, 'name': 'gonzoum/covid19-ana...   \n",
       "4  {'id': 193511236, 'name': 'jeffchew/ibm-dotcom...   \n",
       "\n",
       "                                             payload  public  \\\n",
       "0  {'push_id': 4875994427, 'size': 1, 'distinct_s...    True   \n",
       "1  {'push_id': 4875994431, 'size': 1, 'distinct_s...    True   \n",
       "2  {'push_id': 4875994407, 'size': 1, 'distinct_s...    True   \n",
       "3                              {'action': 'started'}    True   \n",
       "4  {'push_id': 4875994430, 'size': 2, 'distinct_s...    True   \n",
       "\n",
       "             created_at  org  \n",
       "0  2020-04-06T15:11:57Z  NaN  \n",
       "1  2020-04-06T15:11:57Z  NaN  \n",
       "2  2020-04-06T15:11:57Z  NaN  \n",
       "3  2020-04-06T15:11:57Z  NaN  \n",
       "4  2020-04-06T15:11:57Z  NaN  "
      ]
     },
     "execution_count": 17,
     "metadata": {},
     "output_type": "execute_result"
    }
   ],
   "source": [
    "# github\n",
    "\n",
    "resp=req.get('https://api.github.com/events')\n",
    "\n",
    "data=pd.DataFrame(resp.json())\n",
    "\n",
    "data.head()"
   ]
  },
  {
   "cell_type": "code",
   "execution_count": 26,
   "metadata": {},
   "outputs": [
    {
     "data": {
      "text/html": [
       "<div>\n",
       "<style scoped>\n",
       "    .dataframe tbody tr th:only-of-type {\n",
       "        vertical-align: middle;\n",
       "    }\n",
       "\n",
       "    .dataframe tbody tr th {\n",
       "        vertical-align: top;\n",
       "    }\n",
       "\n",
       "    .dataframe thead th {\n",
       "        text-align: right;\n",
       "    }\n",
       "</style>\n",
       "<table border=\"1\" class=\"dataframe\">\n",
       "  <thead>\n",
       "    <tr style=\"text-align: right;\">\n",
       "      <th></th>\n",
       "      <th>id</th>\n",
       "      <th>type</th>\n",
       "      <th>public</th>\n",
       "      <th>created_at</th>\n",
       "      <th>actor.id</th>\n",
       "      <th>actor.login</th>\n",
       "      <th>actor.display_login</th>\n",
       "      <th>actor.gravatar_id</th>\n",
       "      <th>actor.url</th>\n",
       "      <th>actor.avatar_url</th>\n",
       "      <th>...</th>\n",
       "      <th>payload.comment.user.organizations_url</th>\n",
       "      <th>payload.comment.user.repos_url</th>\n",
       "      <th>payload.comment.user.events_url</th>\n",
       "      <th>payload.comment.user.received_events_url</th>\n",
       "      <th>payload.comment.user.type</th>\n",
       "      <th>payload.comment.user.site_admin</th>\n",
       "      <th>payload.comment.created_at</th>\n",
       "      <th>payload.comment.updated_at</th>\n",
       "      <th>payload.comment.author_association</th>\n",
       "      <th>payload.comment.body</th>\n",
       "    </tr>\n",
       "  </thead>\n",
       "  <tbody>\n",
       "    <tr>\n",
       "      <td>0</td>\n",
       "      <td>11972546653</td>\n",
       "      <td>PushEvent</td>\n",
       "      <td>True</td>\n",
       "      <td>2020-04-06T15:11:57Z</td>\n",
       "      <td>7594864</td>\n",
       "      <td>geoiris</td>\n",
       "      <td>geoiris</td>\n",
       "      <td></td>\n",
       "      <td>https://api.github.com/users/geoiris</td>\n",
       "      <td>https://avatars.githubusercontent.com/u/7594864?</td>\n",
       "      <td>...</td>\n",
       "      <td>NaN</td>\n",
       "      <td>NaN</td>\n",
       "      <td>NaN</td>\n",
       "      <td>NaN</td>\n",
       "      <td>NaN</td>\n",
       "      <td>NaN</td>\n",
       "      <td>NaN</td>\n",
       "      <td>NaN</td>\n",
       "      <td>NaN</td>\n",
       "      <td>NaN</td>\n",
       "    </tr>\n",
       "    <tr>\n",
       "      <td>1</td>\n",
       "      <td>11972546654</td>\n",
       "      <td>PushEvent</td>\n",
       "      <td>True</td>\n",
       "      <td>2020-04-06T15:11:57Z</td>\n",
       "      <td>47105275</td>\n",
       "      <td>MarkTijssen</td>\n",
       "      <td>MarkTijssen</td>\n",
       "      <td></td>\n",
       "      <td>https://api.github.com/users/MarkTijssen</td>\n",
       "      <td>https://avatars.githubusercontent.com/u/47105275?</td>\n",
       "      <td>...</td>\n",
       "      <td>NaN</td>\n",
       "      <td>NaN</td>\n",
       "      <td>NaN</td>\n",
       "      <td>NaN</td>\n",
       "      <td>NaN</td>\n",
       "      <td>NaN</td>\n",
       "      <td>NaN</td>\n",
       "      <td>NaN</td>\n",
       "      <td>NaN</td>\n",
       "      <td>NaN</td>\n",
       "    </tr>\n",
       "    <tr>\n",
       "      <td>2</td>\n",
       "      <td>11972546649</td>\n",
       "      <td>PushEvent</td>\n",
       "      <td>True</td>\n",
       "      <td>2020-04-06T15:11:57Z</td>\n",
       "      <td>63204712</td>\n",
       "      <td>roselyn478</td>\n",
       "      <td>roselyn478</td>\n",
       "      <td></td>\n",
       "      <td>https://api.github.com/users/roselyn478</td>\n",
       "      <td>https://avatars.githubusercontent.com/u/63204712?</td>\n",
       "      <td>...</td>\n",
       "      <td>NaN</td>\n",
       "      <td>NaN</td>\n",
       "      <td>NaN</td>\n",
       "      <td>NaN</td>\n",
       "      <td>NaN</td>\n",
       "      <td>NaN</td>\n",
       "      <td>NaN</td>\n",
       "      <td>NaN</td>\n",
       "      <td>NaN</td>\n",
       "      <td>NaN</td>\n",
       "    </tr>\n",
       "    <tr>\n",
       "      <td>3</td>\n",
       "      <td>11972546662</td>\n",
       "      <td>WatchEvent</td>\n",
       "      <td>True</td>\n",
       "      <td>2020-04-06T15:11:57Z</td>\n",
       "      <td>38667845</td>\n",
       "      <td>cesterwo1056</td>\n",
       "      <td>cesterwo1056</td>\n",
       "      <td></td>\n",
       "      <td>https://api.github.com/users/cesterwo1056</td>\n",
       "      <td>https://avatars.githubusercontent.com/u/38667845?</td>\n",
       "      <td>...</td>\n",
       "      <td>NaN</td>\n",
       "      <td>NaN</td>\n",
       "      <td>NaN</td>\n",
       "      <td>NaN</td>\n",
       "      <td>NaN</td>\n",
       "      <td>NaN</td>\n",
       "      <td>NaN</td>\n",
       "      <td>NaN</td>\n",
       "      <td>NaN</td>\n",
       "      <td>NaN</td>\n",
       "    </tr>\n",
       "    <tr>\n",
       "      <td>4</td>\n",
       "      <td>11972546645</td>\n",
       "      <td>PushEvent</td>\n",
       "      <td>True</td>\n",
       "      <td>2020-04-06T15:11:57Z</td>\n",
       "      <td>53266321</td>\n",
       "      <td>ibmdotcom-bot</td>\n",
       "      <td>ibmdotcom-bot</td>\n",
       "      <td></td>\n",
       "      <td>https://api.github.com/users/ibmdotcom-bot</td>\n",
       "      <td>https://avatars.githubusercontent.com/u/53266321?</td>\n",
       "      <td>...</td>\n",
       "      <td>NaN</td>\n",
       "      <td>NaN</td>\n",
       "      <td>NaN</td>\n",
       "      <td>NaN</td>\n",
       "      <td>NaN</td>\n",
       "      <td>NaN</td>\n",
       "      <td>NaN</td>\n",
       "      <td>NaN</td>\n",
       "      <td>NaN</td>\n",
       "      <td>NaN</td>\n",
       "    </tr>\n",
       "  </tbody>\n",
       "</table>\n",
       "<p>5 rows × 388 columns</p>\n",
       "</div>"
      ],
      "text/plain": [
       "            id        type  public            created_at  actor.id  \\\n",
       "0  11972546653   PushEvent    True  2020-04-06T15:11:57Z   7594864   \n",
       "1  11972546654   PushEvent    True  2020-04-06T15:11:57Z  47105275   \n",
       "2  11972546649   PushEvent    True  2020-04-06T15:11:57Z  63204712   \n",
       "3  11972546662  WatchEvent    True  2020-04-06T15:11:57Z  38667845   \n",
       "4  11972546645   PushEvent    True  2020-04-06T15:11:57Z  53266321   \n",
       "\n",
       "     actor.login actor.display_login actor.gravatar_id  \\\n",
       "0        geoiris             geoiris                     \n",
       "1    MarkTijssen         MarkTijssen                     \n",
       "2     roselyn478          roselyn478                     \n",
       "3   cesterwo1056        cesterwo1056                     \n",
       "4  ibmdotcom-bot       ibmdotcom-bot                     \n",
       "\n",
       "                                    actor.url  \\\n",
       "0        https://api.github.com/users/geoiris   \n",
       "1    https://api.github.com/users/MarkTijssen   \n",
       "2     https://api.github.com/users/roselyn478   \n",
       "3   https://api.github.com/users/cesterwo1056   \n",
       "4  https://api.github.com/users/ibmdotcom-bot   \n",
       "\n",
       "                                    actor.avatar_url  ...  \\\n",
       "0   https://avatars.githubusercontent.com/u/7594864?  ...   \n",
       "1  https://avatars.githubusercontent.com/u/47105275?  ...   \n",
       "2  https://avatars.githubusercontent.com/u/63204712?  ...   \n",
       "3  https://avatars.githubusercontent.com/u/38667845?  ...   \n",
       "4  https://avatars.githubusercontent.com/u/53266321?  ...   \n",
       "\n",
       "   payload.comment.user.organizations_url payload.comment.user.repos_url  \\\n",
       "0                                     NaN                            NaN   \n",
       "1                                     NaN                            NaN   \n",
       "2                                     NaN                            NaN   \n",
       "3                                     NaN                            NaN   \n",
       "4                                     NaN                            NaN   \n",
       "\n",
       "  payload.comment.user.events_url  payload.comment.user.received_events_url  \\\n",
       "0                             NaN                                       NaN   \n",
       "1                             NaN                                       NaN   \n",
       "2                             NaN                                       NaN   \n",
       "3                             NaN                                       NaN   \n",
       "4                             NaN                                       NaN   \n",
       "\n",
       "   payload.comment.user.type  payload.comment.user.site_admin  \\\n",
       "0                        NaN                              NaN   \n",
       "1                        NaN                              NaN   \n",
       "2                        NaN                              NaN   \n",
       "3                        NaN                              NaN   \n",
       "4                        NaN                              NaN   \n",
       "\n",
       "  payload.comment.created_at payload.comment.updated_at  \\\n",
       "0                        NaN                        NaN   \n",
       "1                        NaN                        NaN   \n",
       "2                        NaN                        NaN   \n",
       "3                        NaN                        NaN   \n",
       "4                        NaN                        NaN   \n",
       "\n",
       "  payload.comment.author_association payload.comment.body  \n",
       "0                                NaN                  NaN  \n",
       "1                                NaN                  NaN  \n",
       "2                                NaN                  NaN  \n",
       "3                                NaN                  NaN  \n",
       "4                                NaN                  NaN  \n",
       "\n",
       "[5 rows x 388 columns]"
      ]
     },
     "execution_count": 26,
     "metadata": {},
     "output_type": "execute_result"
    }
   ],
   "source": [
    "from pandas.io.json import json_normalize\n",
    "\n",
    "flat_json=json_normalize(resp.json())\n",
    "\n",
    "flat_json.head()"
   ]
  },
  {
   "cell_type": "code",
   "execution_count": 27,
   "metadata": {},
   "outputs": [],
   "source": [
    "# mi json normalize custom\n",
    "\n",
    "def flatten(data, cols):\n",
    "    for c in cols:\n",
    "        fl=pd.DataFrame(dict(data[c])).T\n",
    "        cols=[str(col) for col in fl.columns]\n",
    "        fl.columns=[c+'_'+name for name in cols]\n",
    "        data=pd.concat([data, fl], axis=1)\n",
    "        data=data.drop(c, axis=1)\n",
    "    return data"
   ]
  },
  {
   "cell_type": "code",
   "execution_count": 28,
   "metadata": {},
   "outputs": [
    {
     "data": {
      "text/html": [
       "<div>\n",
       "<style scoped>\n",
       "    .dataframe tbody tr th:only-of-type {\n",
       "        vertical-align: middle;\n",
       "    }\n",
       "\n",
       "    .dataframe tbody tr th {\n",
       "        vertical-align: top;\n",
       "    }\n",
       "\n",
       "    .dataframe thead th {\n",
       "        text-align: right;\n",
       "    }\n",
       "</style>\n",
       "<table border=\"1\" class=\"dataframe\">\n",
       "  <thead>\n",
       "    <tr style=\"text-align: right;\">\n",
       "      <th></th>\n",
       "      <th>id</th>\n",
       "      <th>type</th>\n",
       "      <th>public</th>\n",
       "      <th>created_at</th>\n",
       "      <th>actor_id</th>\n",
       "      <th>actor_login</th>\n",
       "      <th>actor_display_login</th>\n",
       "      <th>actor_gravatar_id</th>\n",
       "      <th>actor_url</th>\n",
       "      <th>actor_avatar_url</th>\n",
       "      <th>...</th>\n",
       "      <th>payload_issue</th>\n",
       "      <th>payload_comment</th>\n",
       "      <th>repo_id</th>\n",
       "      <th>repo_name</th>\n",
       "      <th>repo_url</th>\n",
       "      <th>org_id</th>\n",
       "      <th>org_login</th>\n",
       "      <th>org_gravatar_id</th>\n",
       "      <th>org_url</th>\n",
       "      <th>org_avatar_url</th>\n",
       "    </tr>\n",
       "  </thead>\n",
       "  <tbody>\n",
       "    <tr>\n",
       "      <td>0</td>\n",
       "      <td>11972546653</td>\n",
       "      <td>PushEvent</td>\n",
       "      <td>True</td>\n",
       "      <td>2020-04-06T15:11:57Z</td>\n",
       "      <td>7594864</td>\n",
       "      <td>geoiris</td>\n",
       "      <td>geoiris</td>\n",
       "      <td></td>\n",
       "      <td>https://api.github.com/users/geoiris</td>\n",
       "      <td>https://avatars.githubusercontent.com/u/7594864?</td>\n",
       "      <td>...</td>\n",
       "      <td>NaN</td>\n",
       "      <td>NaN</td>\n",
       "      <td>253504611</td>\n",
       "      <td>geoiris/npm-pkg-version</td>\n",
       "      <td>https://api.github.com/repos/geoiris/npm-pkg-v...</td>\n",
       "      <td>NaN</td>\n",
       "      <td>NaN</td>\n",
       "      <td>NaN</td>\n",
       "      <td>NaN</td>\n",
       "      <td>NaN</td>\n",
       "    </tr>\n",
       "    <tr>\n",
       "      <td>1</td>\n",
       "      <td>11972546654</td>\n",
       "      <td>PushEvent</td>\n",
       "      <td>True</td>\n",
       "      <td>2020-04-06T15:11:57Z</td>\n",
       "      <td>47105275</td>\n",
       "      <td>MarkTijssen</td>\n",
       "      <td>MarkTijssen</td>\n",
       "      <td></td>\n",
       "      <td>https://api.github.com/users/MarkTijssen</td>\n",
       "      <td>https://avatars.githubusercontent.com/u/47105275?</td>\n",
       "      <td>...</td>\n",
       "      <td>NaN</td>\n",
       "      <td>NaN</td>\n",
       "      <td>250513633</td>\n",
       "      <td>MarkTijssen/GCP_Function_Test</td>\n",
       "      <td>https://api.github.com/repos/MarkTijssen/GCP_F...</td>\n",
       "      <td>NaN</td>\n",
       "      <td>NaN</td>\n",
       "      <td>NaN</td>\n",
       "      <td>NaN</td>\n",
       "      <td>NaN</td>\n",
       "    </tr>\n",
       "    <tr>\n",
       "      <td>2</td>\n",
       "      <td>11972546649</td>\n",
       "      <td>PushEvent</td>\n",
       "      <td>True</td>\n",
       "      <td>2020-04-06T15:11:57Z</td>\n",
       "      <td>63204712</td>\n",
       "      <td>roselyn478</td>\n",
       "      <td>roselyn478</td>\n",
       "      <td></td>\n",
       "      <td>https://api.github.com/users/roselyn478</td>\n",
       "      <td>https://avatars.githubusercontent.com/u/63204712?</td>\n",
       "      <td>...</td>\n",
       "      <td>NaN</td>\n",
       "      <td>NaN</td>\n",
       "      <td>253297662</td>\n",
       "      <td>roselyn478/-Wanna-do-video-call-date-.......</td>\n",
       "      <td>https://api.github.com/repos/roselyn478/-Wanna...</td>\n",
       "      <td>NaN</td>\n",
       "      <td>NaN</td>\n",
       "      <td>NaN</td>\n",
       "      <td>NaN</td>\n",
       "      <td>NaN</td>\n",
       "    </tr>\n",
       "    <tr>\n",
       "      <td>3</td>\n",
       "      <td>11972546662</td>\n",
       "      <td>WatchEvent</td>\n",
       "      <td>True</td>\n",
       "      <td>2020-04-06T15:11:57Z</td>\n",
       "      <td>38667845</td>\n",
       "      <td>cesterwo1056</td>\n",
       "      <td>cesterwo1056</td>\n",
       "      <td></td>\n",
       "      <td>https://api.github.com/users/cesterwo1056</td>\n",
       "      <td>https://avatars.githubusercontent.com/u/38667845?</td>\n",
       "      <td>...</td>\n",
       "      <td>NaN</td>\n",
       "      <td>NaN</td>\n",
       "      <td>249555030</td>\n",
       "      <td>gonzoum/covid19-analyses</td>\n",
       "      <td>https://api.github.com/repos/gonzoum/covid19-a...</td>\n",
       "      <td>NaN</td>\n",
       "      <td>NaN</td>\n",
       "      <td>NaN</td>\n",
       "      <td>NaN</td>\n",
       "      <td>NaN</td>\n",
       "    </tr>\n",
       "    <tr>\n",
       "      <td>4</td>\n",
       "      <td>11972546645</td>\n",
       "      <td>PushEvent</td>\n",
       "      <td>True</td>\n",
       "      <td>2020-04-06T15:11:57Z</td>\n",
       "      <td>53266321</td>\n",
       "      <td>ibmdotcom-bot</td>\n",
       "      <td>ibmdotcom-bot</td>\n",
       "      <td></td>\n",
       "      <td>https://api.github.com/users/ibmdotcom-bot</td>\n",
       "      <td>https://avatars.githubusercontent.com/u/53266321?</td>\n",
       "      <td>...</td>\n",
       "      <td>NaN</td>\n",
       "      <td>NaN</td>\n",
       "      <td>193511236</td>\n",
       "      <td>jeffchew/ibm-dotcom-library</td>\n",
       "      <td>https://api.github.com/repos/jeffchew/ibm-dotc...</td>\n",
       "      <td>NaN</td>\n",
       "      <td>NaN</td>\n",
       "      <td>NaN</td>\n",
       "      <td>NaN</td>\n",
       "      <td>NaN</td>\n",
       "    </tr>\n",
       "  </tbody>\n",
       "</table>\n",
       "<p>5 rows × 34 columns</p>\n",
       "</div>"
      ],
      "text/plain": [
       "            id        type  public            created_at  actor_id  \\\n",
       "0  11972546653   PushEvent    True  2020-04-06T15:11:57Z   7594864   \n",
       "1  11972546654   PushEvent    True  2020-04-06T15:11:57Z  47105275   \n",
       "2  11972546649   PushEvent    True  2020-04-06T15:11:57Z  63204712   \n",
       "3  11972546662  WatchEvent    True  2020-04-06T15:11:57Z  38667845   \n",
       "4  11972546645   PushEvent    True  2020-04-06T15:11:57Z  53266321   \n",
       "\n",
       "     actor_login actor_display_login actor_gravatar_id  \\\n",
       "0        geoiris             geoiris                     \n",
       "1    MarkTijssen         MarkTijssen                     \n",
       "2     roselyn478          roselyn478                     \n",
       "3   cesterwo1056        cesterwo1056                     \n",
       "4  ibmdotcom-bot       ibmdotcom-bot                     \n",
       "\n",
       "                                    actor_url  \\\n",
       "0        https://api.github.com/users/geoiris   \n",
       "1    https://api.github.com/users/MarkTijssen   \n",
       "2     https://api.github.com/users/roselyn478   \n",
       "3   https://api.github.com/users/cesterwo1056   \n",
       "4  https://api.github.com/users/ibmdotcom-bot   \n",
       "\n",
       "                                    actor_avatar_url  ... payload_issue  \\\n",
       "0   https://avatars.githubusercontent.com/u/7594864?  ...           NaN   \n",
       "1  https://avatars.githubusercontent.com/u/47105275?  ...           NaN   \n",
       "2  https://avatars.githubusercontent.com/u/63204712?  ...           NaN   \n",
       "3  https://avatars.githubusercontent.com/u/38667845?  ...           NaN   \n",
       "4  https://avatars.githubusercontent.com/u/53266321?  ...           NaN   \n",
       "\n",
       "  payload_comment    repo_id                                     repo_name  \\\n",
       "0             NaN  253504611                       geoiris/npm-pkg-version   \n",
       "1             NaN  250513633                 MarkTijssen/GCP_Function_Test   \n",
       "2             NaN  253297662  roselyn478/-Wanna-do-video-call-date-.......   \n",
       "3             NaN  249555030                      gonzoum/covid19-analyses   \n",
       "4             NaN  193511236                   jeffchew/ibm-dotcom-library   \n",
       "\n",
       "                                            repo_url org_id org_login  \\\n",
       "0  https://api.github.com/repos/geoiris/npm-pkg-v...    NaN       NaN   \n",
       "1  https://api.github.com/repos/MarkTijssen/GCP_F...    NaN       NaN   \n",
       "2  https://api.github.com/repos/roselyn478/-Wanna...    NaN       NaN   \n",
       "3  https://api.github.com/repos/gonzoum/covid19-a...    NaN       NaN   \n",
       "4  https://api.github.com/repos/jeffchew/ibm-dotc...    NaN       NaN   \n",
       "\n",
       "  org_gravatar_id org_url org_avatar_url  \n",
       "0             NaN     NaN            NaN  \n",
       "1             NaN     NaN            NaN  \n",
       "2             NaN     NaN            NaN  \n",
       "3             NaN     NaN            NaN  \n",
       "4             NaN     NaN            NaN  \n",
       "\n",
       "[5 rows x 34 columns]"
      ]
     },
     "execution_count": 28,
     "metadata": {},
     "output_type": "execute_result"
    }
   ],
   "source": [
    "nested_cols=['actor', 'payload', 'repo', 'org']\n",
    "\n",
    "flat=flatten(data, nested_cols)\n",
    "\n",
    "flat.head()"
   ]
  },
  {
   "cell_type": "code",
   "execution_count": 29,
   "metadata": {},
   "outputs": [
    {
     "data": {
      "text/plain": [
       "(30, 388)"
      ]
     },
     "execution_count": 29,
     "metadata": {},
     "output_type": "execute_result"
    }
   ],
   "source": [
    "flat_json.shape"
   ]
  },
  {
   "cell_type": "code",
   "execution_count": 30,
   "metadata": {},
   "outputs": [
    {
     "data": {
      "text/plain": [
       "(30, 34)"
      ]
     },
     "execution_count": 30,
     "metadata": {},
     "output_type": "execute_result"
    }
   ],
   "source": [
    "flat.shape"
   ]
  },
  {
   "cell_type": "code",
   "execution_count": 32,
   "metadata": {},
   "outputs": [
    {
     "name": "stdout",
     "output_type": "stream",
     "text": [
      "Requirement already satisfied: tweepy in /Users/data/Library/Python/3.7/lib/python/site-packages (3.8.0)\n",
      "Requirement already satisfied: PySocks>=1.5.7 in /Users/data/Library/Python/3.7/lib/python/site-packages (from tweepy) (1.7.1)\n",
      "Requirement already satisfied: six>=1.10.0 in /usr/local/Cellar/ipython/7.8.0/libexec/vendor/lib/python3.7/site-packages (from tweepy) (1.12.0)\n",
      "Requirement already satisfied: requests-oauthlib>=0.7.0 in /Users/data/Library/Python/3.7/lib/python/site-packages (from tweepy) (1.2.0)\n",
      "Requirement already satisfied: requests>=2.11.1 in /Users/data/Library/Python/3.7/lib/python/site-packages (from tweepy) (2.22.0)\n",
      "Requirement already satisfied: oauthlib>=3.0.0 in /Users/data/Library/Python/3.7/lib/python/site-packages (from requests-oauthlib>=0.7.0->tweepy) (3.1.0)\n",
      "Requirement already satisfied: chardet<3.1.0,>=3.0.2 in /Users/data/Library/Python/3.7/lib/python/site-packages (from requests>=2.11.1->tweepy) (3.0.4)\n",
      "Requirement already satisfied: certifi>=2017.4.17 in /Users/data/Library/Python/3.7/lib/python/site-packages (from requests>=2.11.1->tweepy) (2019.6.16)\n",
      "Requirement already satisfied: idna<2.9,>=2.5 in /Users/data/Library/Python/3.7/lib/python/site-packages (from requests>=2.11.1->tweepy) (2.8)\n",
      "Requirement already satisfied: urllib3!=1.25.0,!=1.25.1,<1.26,>=1.21.1 in /Users/data/Library/Python/3.7/lib/python/site-packages (from requests>=2.11.1->tweepy) (1.24.3)\n"
     ]
    }
   ],
   "source": [
    "!pip3 install tweepy"
   ]
  },
  {
   "cell_type": "code",
   "execution_count": 31,
   "metadata": {},
   "outputs": [],
   "source": [
    "# twitter\n",
    "# https://developer.twitter.com/en/apply-for-access.html\n",
    "# http://docs.tweepy.org/en/latest/\n",
    "\n",
    "\n",
    "import tweepy\n",
    "\n",
    "API_KEY='apikey'\n",
    "API_SECRET='apisecret'\n",
    "ACCESS_TOKEN='tu_token'\n",
    "TOKEN_SECRET='tu_tokensecret'\n",
    "\n",
    "auth=tweepy.OAuthHandler(API_KEY, API_SECRET)\n",
    "auth.set_access_token(ACCESS_TOKEN, TOKEN_SECRET)\n",
    "\n",
    "api=tweepy.API(auth)\n",
    "\n",
    "\n",
    "def get_followers(user, count=100):\n",
    "    results=api.followers(user, count=count)\n",
    "    followers=[pd.Series(foll._json) for foll in results]\n",
    "    df=pd.DataFrame(followers)\n",
    "    return df\n",
    "\n",
    "\n",
    "ironhack=get_followers('ironhack')\n",
    "ironhack.head()"
   ]
  },
  {
   "cell_type": "code",
   "execution_count": 33,
   "metadata": {},
   "outputs": [
    {
     "data": {
      "text/plain": [
       "200"
      ]
     },
     "execution_count": 33,
     "metadata": {},
     "output_type": "execute_result"
    }
   ],
   "source": [
    "# PokeAPI\n",
    "# https://pokeapi.co/\n",
    "\n",
    "res=req.get('https://pokeapi.co/api/v2/pokemon/25')\n",
    "res.status_code"
   ]
  },
  {
   "cell_type": "code",
   "execution_count": 34,
   "metadata": {},
   "outputs": [
    {
     "data": {
      "text/plain": [
       "'{\"abilities\":[{\"ability\":{\"name\":\"lightning-rod\",\"url\":\"https://pokeapi.co/api/v2/ability/31/\"},\"is_'"
      ]
     },
     "execution_count": 34,
     "metadata": {},
     "output_type": "execute_result"
    }
   ],
   "source": [
    "res.text[:100]"
   ]
  },
  {
   "cell_type": "code",
   "execution_count": 35,
   "metadata": {},
   "outputs": [
    {
     "data": {
      "text/plain": [
       "[{'ability': {'name': 'lightning-rod',\n",
       "   'url': 'https://pokeapi.co/api/v2/ability/31/'},\n",
       "  'is_hidden': True,\n",
       "  'slot': 3},\n",
       " {'ability': {'name': 'static', 'url': 'https://pokeapi.co/api/v2/ability/9/'},\n",
       "  'is_hidden': False,\n",
       "  'slot': 1}]"
      ]
     },
     "execution_count": 35,
     "metadata": {},
     "output_type": "execute_result"
    }
   ],
   "source": [
    "res.json()['abilities']"
   ]
  },
  {
   "cell_type": "code",
   "execution_count": 36,
   "metadata": {},
   "outputs": [
    {
     "name": "stdout",
     "output_type": "stream",
     "text": [
      "pikachu https://raw.githubusercontent.com/PokeAPI/sprites/master/sprites/pokemon/25.png\n"
     ]
    }
   ],
   "source": [
    "data=res.json()\n",
    "\n",
    "print (data['name'], data['sprites']['front_default'])"
   ]
  },
  {
   "cell_type": "code",
   "execution_count": 37,
   "metadata": {},
   "outputs": [],
   "source": [
    "def get_pokemon(n):\n",
    "    res=req.get('https://pokeapi.co/api/v2/pokemon/{}'.format(n))\n",
    "    data=res.json()\n",
    "    return {'name':data['name'], 'image':data['sprites']['front_default']}"
   ]
  },
  {
   "cell_type": "code",
   "execution_count": 39,
   "metadata": {},
   "outputs": [
    {
     "name": "stdout",
     "output_type": "stream",
     "text": [
      "{'name': 'bulbasaur', 'image': 'https://raw.githubusercontent.com/PokeAPI/sprites/master/sprites/pokemon/1.png'}\n",
      "{'name': 'ivysaur', 'image': 'https://raw.githubusercontent.com/PokeAPI/sprites/master/sprites/pokemon/2.png'}\n",
      "{'name': 'venusaur', 'image': 'https://raw.githubusercontent.com/PokeAPI/sprites/master/sprites/pokemon/3.png'}\n",
      "{'name': 'charmander', 'image': 'https://raw.githubusercontent.com/PokeAPI/sprites/master/sprites/pokemon/4.png'}\n",
      "{'name': 'charmeleon', 'image': 'https://raw.githubusercontent.com/PokeAPI/sprites/master/sprites/pokemon/5.png'}\n",
      "{'name': 'charizard', 'image': 'https://raw.githubusercontent.com/PokeAPI/sprites/master/sprites/pokemon/6.png'}\n",
      "{'name': 'squirtle', 'image': 'https://raw.githubusercontent.com/PokeAPI/sprites/master/sprites/pokemon/7.png'}\n",
      "{'name': 'wartortle', 'image': 'https://raw.githubusercontent.com/PokeAPI/sprites/master/sprites/pokemon/8.png'}\n",
      "{'name': 'blastoise', 'image': 'https://raw.githubusercontent.com/PokeAPI/sprites/master/sprites/pokemon/9.png'}\n"
     ]
    }
   ],
   "source": [
    "for i in range(9):\n",
    "    print (get_pokemon(i+1))"
   ]
  },
  {
   "cell_type": "code",
   "execution_count": 40,
   "metadata": {},
   "outputs": [],
   "source": [
    "from IPython.display import Image, display_html\n",
    "from IPython.core.display import HTML"
   ]
  },
  {
   "cell_type": "code",
   "execution_count": 41,
   "metadata": {},
   "outputs": [
    {
     "data": {
      "text/html": [
       "<img src=\"https://raw.githubusercontent.com/PokeAPI/sprites/master/sprites/pokemon/1.png\"/>"
      ],
      "text/plain": [
       "<IPython.core.display.Image object>"
      ]
     },
     "metadata": {},
     "output_type": "display_data"
    },
    {
     "data": {
      "text/html": [
       "<img src=\"https://raw.githubusercontent.com/PokeAPI/sprites/master/sprites/pokemon/2.png\"/>"
      ],
      "text/plain": [
       "<IPython.core.display.Image object>"
      ]
     },
     "metadata": {},
     "output_type": "display_data"
    },
    {
     "data": {
      "text/html": [
       "<img src=\"https://raw.githubusercontent.com/PokeAPI/sprites/master/sprites/pokemon/3.png\"/>"
      ],
      "text/plain": [
       "<IPython.core.display.Image object>"
      ]
     },
     "metadata": {},
     "output_type": "display_data"
    },
    {
     "data": {
      "text/html": [
       "<img src=\"https://raw.githubusercontent.com/PokeAPI/sprites/master/sprites/pokemon/4.png\"/>"
      ],
      "text/plain": [
       "<IPython.core.display.Image object>"
      ]
     },
     "metadata": {},
     "output_type": "display_data"
    },
    {
     "data": {
      "text/html": [
       "<img src=\"https://raw.githubusercontent.com/PokeAPI/sprites/master/sprites/pokemon/5.png\"/>"
      ],
      "text/plain": [
       "<IPython.core.display.Image object>"
      ]
     },
     "metadata": {},
     "output_type": "display_data"
    },
    {
     "data": {
      "text/html": [
       "<img src=\"https://raw.githubusercontent.com/PokeAPI/sprites/master/sprites/pokemon/6.png\"/>"
      ],
      "text/plain": [
       "<IPython.core.display.Image object>"
      ]
     },
     "metadata": {},
     "output_type": "display_data"
    },
    {
     "data": {
      "text/html": [
       "<img src=\"https://raw.githubusercontent.com/PokeAPI/sprites/master/sprites/pokemon/7.png\"/>"
      ],
      "text/plain": [
       "<IPython.core.display.Image object>"
      ]
     },
     "metadata": {},
     "output_type": "display_data"
    },
    {
     "data": {
      "text/html": [
       "<img src=\"https://raw.githubusercontent.com/PokeAPI/sprites/master/sprites/pokemon/8.png\"/>"
      ],
      "text/plain": [
       "<IPython.core.display.Image object>"
      ]
     },
     "metadata": {},
     "output_type": "display_data"
    },
    {
     "data": {
      "text/html": [
       "<img src=\"https://raw.githubusercontent.com/PokeAPI/sprites/master/sprites/pokemon/9.png\"/>"
      ],
      "text/plain": [
       "<IPython.core.display.Image object>"
      ]
     },
     "metadata": {},
     "output_type": "display_data"
    }
   ],
   "source": [
    "for i in range(9):\n",
    "    poke=get_pokemon(i+1)\n",
    "    display(Image(url=poke['image']))"
   ]
  },
  {
   "cell_type": "code",
   "execution_count": 42,
   "metadata": {},
   "outputs": [
    {
     "data": {
      "text/plain": [
       "{'count': 964,\n",
       " 'next': 'https://pokeapi.co/api/v2/pokemon?offset=4&limit=3',\n",
       " 'previous': 'https://pokeapi.co/api/v2/pokemon?offset=0&limit=1',\n",
       " 'results': [{'name': 'ivysaur',\n",
       "   'url': 'https://pokeapi.co/api/v2/pokemon/2/'},\n",
       "  {'name': 'venusaur', 'url': 'https://pokeapi.co/api/v2/pokemon/3/'},\n",
       "  {'name': 'charmander', 'url': 'https://pokeapi.co/api/v2/pokemon/4/'}]}"
      ]
     },
     "execution_count": 42,
     "metadata": {},
     "output_type": "execute_result"
    }
   ],
   "source": [
    "query={'limit':3, 'offset':1}\n",
    "res=req.get('https://pokeapi.co/api/v2/pokemon', params=query)\n",
    "res.json()"
   ]
  },
  {
   "cell_type": "code",
   "execution_count": 43,
   "metadata": {},
   "outputs": [
    {
     "data": {
      "text/plain": [
       "'https://pokeapi.co/api/v2/pokemon?limit=3&offset=1'"
      ]
     },
     "execution_count": 43,
     "metadata": {},
     "output_type": "execute_result"
    }
   ],
   "source": [
    "res.url"
   ]
  },
  {
   "cell_type": "markdown",
   "metadata": {},
   "source": [
    "# Sending Mails"
   ]
  },
  {
   "cell_type": "code",
   "execution_count": 44,
   "metadata": {},
   "outputs": [],
   "source": [
    "import getpass\n",
    "import smtplib"
   ]
  },
  {
   "cell_type": "code",
   "execution_count": 45,
   "metadata": {},
   "outputs": [
    {
     "name": "stdout",
     "output_type": "stream",
     "text": [
      "Enter your gmail account: yehonaga@gmail.com\n",
      "Enter your gmail password: ········\n"
     ]
    }
   ],
   "source": [
    "gmail_user=input('Enter your gmail account: ')\n",
    "gmail_pass=getpass.getpass('Enter your gmail password: ')"
   ]
  },
  {
   "cell_type": "code",
   "execution_count": 46,
   "metadata": {},
   "outputs": [
    {
     "name": "stdout",
     "output_type": "stream",
     "text": [
      "Connected!\n"
     ]
    }
   ],
   "source": [
    "try:\n",
    "    server=smtplib.SMTP_SSL('smtp.gmail.com', 465)\n",
    "    server.ehlo()\n",
    "    server.login(gmail_user, gmail_pass)\n",
    "    print ('Connected!')\n",
    "except:\n",
    "    print ('Not connected, check your gmail account...')"
   ]
  },
  {
   "cell_type": "code",
   "execution_count": 47,
   "metadata": {},
   "outputs": [
    {
     "name": "stdout",
     "output_type": "stream",
     "text": [
      "a quien se lo envias... : yonatan.rod.alv@gmail.com\n"
     ]
    }
   ],
   "source": [
    "from_mail=gmail_user\n",
    "to=input('a quien se lo envias... : ')\n",
    "body='<h1> Hola que tal {} </h1>'.format(3)\n",
    "\n",
    "server.sendmail(from_mail, to, body)\n",
    "server.close()"
   ]
  },
  {
   "cell_type": "code",
   "execution_count": null,
   "metadata": {},
   "outputs": [],
   "source": []
  }
 ],
 "metadata": {
  "kernelspec": {
   "display_name": "Python 3",
   "language": "python",
   "name": "python3"
  },
  "language_info": {
   "codemirror_mode": {
    "name": "ipython",
    "version": 3
   },
   "file_extension": ".py",
   "mimetype": "text/x-python",
   "name": "python",
   "nbconvert_exporter": "python",
   "pygments_lexer": "ipython3",
   "version": "3.7.6"
  }
 },
 "nbformat": 4,
 "nbformat_minor": 2
}
