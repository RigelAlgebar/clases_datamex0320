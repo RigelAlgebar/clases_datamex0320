{
 "cells": [
  {
   "cell_type": "markdown",
   "metadata": {},
   "source": [
    "# Scavengers chapter-1"
   ]
  },
  {
   "cell_type": "code",
   "execution_count": 1,
   "metadata": {},
   "outputs": [],
   "source": [
    "with open('token.txt', 'r') as f:\n",
    "    acceso=f.readlines()[0].split('=')\n",
    "\n",
    "user=acceso[0]\n",
    "key=acceso[1].rstrip('\\n')"
   ]
  },
  {
   "cell_type": "code",
   "execution_count": 2,
   "metadata": {},
   "outputs": [],
   "source": [
    "# https://developer.github.com/v3/guides/"
   ]
  },
  {
   "cell_type": "code",
   "execution_count": 3,
   "metadata": {},
   "outputs": [],
   "source": [
    "import json\n",
    "import requests\n",
    "import pandas as pd\n",
    "import time"
   ]
  },
  {
   "cell_type": "code",
   "execution_count": 4,
   "metadata": {},
   "outputs": [],
   "source": [
    "repo='ironhack-datalabs/datamex0320'\n",
    "\n",
    "get_forks='http://api.github.com/repos/'+repo+'/forks'"
   ]
  },
  {
   "cell_type": "code",
   "execution_count": 5,
   "metadata": {},
   "outputs": [],
   "source": [
    "res_forks=requests.get(get_forks, auth=(user, key))\n",
    "\n",
    "res=res_forks.json()"
   ]
  },
  {
   "cell_type": "code",
   "execution_count": 6,
   "metadata": {},
   "outputs": [
    {
     "data": {
      "text/plain": [
       "dict_keys(['id', 'node_id', 'name', 'full_name', 'private', 'owner', 'html_url', 'description', 'fork', 'url', 'forks_url', 'keys_url', 'collaborators_url', 'teams_url', 'hooks_url', 'issue_events_url', 'events_url', 'assignees_url', 'branches_url', 'tags_url', 'blobs_url', 'git_tags_url', 'git_refs_url', 'trees_url', 'statuses_url', 'languages_url', 'stargazers_url', 'contributors_url', 'subscribers_url', 'subscription_url', 'commits_url', 'git_commits_url', 'comments_url', 'issue_comment_url', 'contents_url', 'compare_url', 'merges_url', 'archive_url', 'downloads_url', 'issues_url', 'pulls_url', 'milestones_url', 'notifications_url', 'labels_url', 'releases_url', 'deployments_url', 'created_at', 'updated_at', 'pushed_at', 'git_url', 'ssh_url', 'clone_url', 'svn_url', 'homepage', 'size', 'stargazers_count', 'watchers_count', 'language', 'has_issues', 'has_projects', 'has_downloads', 'has_wiki', 'has_pages', 'forks_count', 'mirror_url', 'archived', 'disabled', 'open_issues_count', 'license', 'forks', 'open_issues', 'watchers', 'default_branch', 'permissions'])"
      ]
     },
     "execution_count": 6,
     "metadata": {},
     "output_type": "execute_result"
    }
   ],
   "source": [
    "res[0].keys()"
   ]
  },
  {
   "cell_type": "code",
   "execution_count": 7,
   "metadata": {},
   "outputs": [
    {
     "data": {
      "text/plain": [
       "{'Jupyter Notebook', None}"
      ]
     },
     "execution_count": 7,
     "metadata": {},
     "output_type": "execute_result"
    }
   ],
   "source": [
    "lenguajes=set()\n",
    "\n",
    "for i in range(len(res)):\n",
    "    lenguajes.add(res[i]['language'])\n",
    "    \n",
    "lenguajes"
   ]
  },
  {
   "cell_type": "code",
   "execution_count": 8,
   "metadata": {},
   "outputs": [
    {
     "data": {
      "text/plain": [
       "{'Jupyter Notebook', None}"
      ]
     },
     "execution_count": 8,
     "metadata": {},
     "output_type": "execute_result"
    }
   ],
   "source": [
    "lenguajes=[]\n",
    "\n",
    "for i in range(len(res)):\n",
    "    lenguajes.append(res[i]['language'])\n",
    "    \n",
    "set(lenguajes)"
   ]
  },
  {
   "cell_type": "markdown",
   "metadata": {},
   "source": [
    "# scavengers chapter 2"
   ]
  },
  {
   "cell_type": "code",
   "execution_count": 9,
   "metadata": {},
   "outputs": [],
   "source": [
    "repo='YonatanRA/clases_datamex0320'\n",
    "\n",
    "desde='2020-03-27T00:00:00Z'\n",
    "hasta='2020-04-06T23:59:59Z'"
   ]
  },
  {
   "cell_type": "code",
   "execution_count": 10,
   "metadata": {},
   "outputs": [],
   "source": [
    "get_commits='http://api.github.com/repos/{}/commits?since={}&until={}'.format(repo, desde, hasta)"
   ]
  },
  {
   "cell_type": "code",
   "execution_count": 11,
   "metadata": {},
   "outputs": [],
   "source": [
    "res_commit=requests.get(get_commits, auth=(user, key))\n",
    "\n",
    "res=res_commit.json()"
   ]
  },
  {
   "cell_type": "code",
   "execution_count": 12,
   "metadata": {},
   "outputs": [
    {
     "data": {
      "text/plain": [
       "30"
      ]
     },
     "execution_count": 12,
     "metadata": {},
     "output_type": "execute_result"
    }
   ],
   "source": [
    "commit=[]\n",
    "\n",
    "for i in range(len(res)):\n",
    "    commit.append(res[i]['commit'])\n",
    "    \n",
    "len(commit)"
   ]
  },
  {
   "cell_type": "markdown",
   "metadata": {},
   "source": [
    "# scavengers chapter 3 V1"
   ]
  },
  {
   "cell_type": "code",
   "execution_count": 13,
   "metadata": {},
   "outputs": [],
   "source": [
    "repo='ironhack-datalabs/scavenger'"
   ]
  },
  {
   "cell_type": "code",
   "execution_count": 14,
   "metadata": {},
   "outputs": [],
   "source": [
    "get_repo='http://api.github.com/repos/{}/git/trees/master?recursive=1'.format(repo)"
   ]
  },
  {
   "cell_type": "code",
   "execution_count": 15,
   "metadata": {},
   "outputs": [],
   "source": [
    "get_repo=requests.get(get_repo, auth=(user, key))\n",
    "\n",
    "res=get_repo.json()"
   ]
  },
  {
   "cell_type": "code",
   "execution_count": 16,
   "metadata": {},
   "outputs": [
    {
     "data": {
      "text/plain": [
       "'15534/.0008.scavengerhunt'"
      ]
     },
     "execution_count": 16,
     "metadata": {},
     "output_type": "execute_result"
    }
   ],
   "source": [
    "res['tree'][7]['path']"
   ]
  },
  {
   "cell_type": "code",
   "execution_count": 17,
   "metadata": {},
   "outputs": [],
   "source": [
    "url='https://api.github.com/repos/ironhack-datalabs/scavenger/contents/'\n",
    "\n",
    "tree=res['tree']"
   ]
  },
  {
   "cell_type": "code",
   "execution_count": 18,
   "metadata": {},
   "outputs": [
    {
     "data": {
      "text/plain": [
       "[('.0006.scavengerhunt', 'b2YK\\n'),\n",
       " ('.0008.scavengerhunt', 'c3BlbnQK\\n'),\n",
       " ('.0012.scavengerhunt', 'MjAK\\n'),\n",
       " ('.0007.scavengerhunt', 'dGltZQo=\\n'),\n",
       " ('.0021.scavengerhunt', 'bmVlZAo=\\n'),\n",
       " ('.0022.scavengerhunt', 'dG8K\\n'),\n",
       " ('.0005.scavengerhunt', 'cGVyY2VudAo=\\n'),\n",
       " ('.0018.scavengerhunt', 'Y29tcGxhaW5pbmcK\\n'),\n",
       " ('.0016.scavengerhunt', 'aXMK\\n'),\n",
       " ('.0024.scavengerhunt', 'ZGF0YS4K\\n'),\n",
       " ('.0010.scavengerhunt', 'cHJlcGFyaW5nCg==\\n'),\n",
       " ('.0014.scavengerhunt', 'b2YK\\n'),\n",
       " ('.0011.scavengerhunt', 'ZGF0YSwK\\n'),\n",
       " ('.0023.scavengerhunt', 'cHJlcGFyZQo=\\n'),\n",
       " ('.0020.scavengerhunt', 'dGhlCg==\\n'),\n",
       " ('.0003.scavengerhunt', 'c2NpZW5jZSwK\\n'),\n",
       " ('.0004.scavengerhunt', 'ODAK\\n'),\n",
       " ('.0019.scavengerhunt', 'YWJvdXQK\\n'),\n",
       " ('.0017.scavengerhunt', 'c3BlbnQK\\n'),\n",
       " ('.0002.scavengerhunt', 'ZGF0YQo=\\n'),\n",
       " ('.0013.scavengerhunt', 'cGVyY2VudAo=\\n'),\n",
       " ('.0015.scavengerhunt', 'dGltZQo=\\n'),\n",
       " ('.0009.scavengerhunt', 'aXMK\\n'),\n",
       " ('.0001.scavengerhunt', 'SW4K\\n')]"
      ]
     },
     "execution_count": 18,
     "metadata": {},
     "output_type": "execute_result"
    }
   ],
   "source": [
    "archivos=[]\n",
    "\n",
    "for i in range(len(tree)):\n",
    "    if tree[i]['type']=='blob' and 'scavengerhunt' in tree[i]['path']:\n",
    "        # obtengo el path y el contenido del archivo\n",
    "        get_contenido=requests.get(url + tree[i]['path'], auth=(user, key))\n",
    "        contenido=get_contenido.json()\n",
    "        archivos.append((contenido['name'], contenido['content']))\n",
    "        time.sleep(1)\n",
    "        \n",
    "archivos"
   ]
  },
  {
   "cell_type": "code",
   "execution_count": 19,
   "metadata": {},
   "outputs": [
    {
     "data": {
      "text/plain": [
       "[('.0001.scavengerhunt', 'SW4K\\n'),\n",
       " ('.0002.scavengerhunt', 'ZGF0YQo=\\n'),\n",
       " ('.0003.scavengerhunt', 'c2NpZW5jZSwK\\n'),\n",
       " ('.0004.scavengerhunt', 'ODAK\\n'),\n",
       " ('.0005.scavengerhunt', 'cGVyY2VudAo=\\n'),\n",
       " ('.0006.scavengerhunt', 'b2YK\\n'),\n",
       " ('.0007.scavengerhunt', 'dGltZQo=\\n'),\n",
       " ('.0008.scavengerhunt', 'c3BlbnQK\\n'),\n",
       " ('.0009.scavengerhunt', 'aXMK\\n'),\n",
       " ('.0010.scavengerhunt', 'cHJlcGFyaW5nCg==\\n'),\n",
       " ('.0011.scavengerhunt', 'ZGF0YSwK\\n'),\n",
       " ('.0012.scavengerhunt', 'MjAK\\n'),\n",
       " ('.0013.scavengerhunt', 'cGVyY2VudAo=\\n'),\n",
       " ('.0014.scavengerhunt', 'b2YK\\n'),\n",
       " ('.0015.scavengerhunt', 'dGltZQo=\\n'),\n",
       " ('.0016.scavengerhunt', 'aXMK\\n'),\n",
       " ('.0017.scavengerhunt', 'c3BlbnQK\\n'),\n",
       " ('.0018.scavengerhunt', 'Y29tcGxhaW5pbmcK\\n'),\n",
       " ('.0019.scavengerhunt', 'YWJvdXQK\\n'),\n",
       " ('.0020.scavengerhunt', 'dGhlCg==\\n'),\n",
       " ('.0021.scavengerhunt', 'bmVlZAo=\\n'),\n",
       " ('.0022.scavengerhunt', 'dG8K\\n'),\n",
       " ('.0023.scavengerhunt', 'cHJlcGFyZQo=\\n'),\n",
       " ('.0024.scavengerhunt', 'ZGF0YS4K\\n')]"
      ]
     },
     "execution_count": 19,
     "metadata": {},
     "output_type": "execute_result"
    }
   ],
   "source": [
    "archivos.sort()\n",
    "\n",
    "archivos"
   ]
  },
  {
   "cell_type": "code",
   "execution_count": 20,
   "metadata": {},
   "outputs": [
    {
     "data": {
      "text/plain": [
       "'In data science, 80 percent of time spent is preparing data, 20 percent of time is spent complaining about the need to prepare data. '"
      ]
     },
     "execution_count": 20,
     "metadata": {},
     "output_type": "execute_result"
    }
   ],
   "source": [
    "import base64\n",
    "\n",
    "frase=''\n",
    "\n",
    "for texto in archivos:\n",
    "    frase+=str(base64.b64decode(texto[1]))\n",
    "    \n",
    "# La frase buscada es....\n",
    "\n",
    "frase=frase.replace('b\\'', '').replace('\\\\n\\'', ' ')\n",
    "\n",
    "frase"
   ]
  },
  {
   "cell_type": "markdown",
   "metadata": {},
   "source": [
    "# scavengers chater 3 V2"
   ]
  },
  {
   "cell_type": "code",
   "execution_count": 21,
   "metadata": {},
   "outputs": [],
   "source": [
    "def get_auth(url, headers={'Authorization': 'token {}'.format(key)}):\n",
    "    baseURL='https://api.github.com{}'.format(url)\n",
    "    res=requests.get(baseURL, headers=headers, auth=(user, key))\n",
    "    return res.json()"
   ]
  },
  {
   "cell_type": "code",
   "execution_count": 22,
   "metadata": {},
   "outputs": [],
   "source": [
    "data=get_auth('/search/code?q=extension:.scavengerhunt repo:ironhack-datalabs/scavenger')"
   ]
  },
  {
   "cell_type": "code",
   "execution_count": 23,
   "metadata": {},
   "outputs": [
    {
     "data": {
      "text/plain": [
       "'.0006.scavengerhunt'"
      ]
     },
     "execution_count": 23,
     "metadata": {},
     "output_type": "execute_result"
    }
   ],
   "source": [
    "data['items'][0]['name']"
   ]
  },
  {
   "cell_type": "code",
   "execution_count": 24,
   "metadata": {},
   "outputs": [
    {
     "data": {
      "text/plain": [
       "('.0008.scavengerhunt', '15534/.0008.scavengerhunt')"
      ]
     },
     "execution_count": 24,
     "metadata": {},
     "output_type": "execute_result"
    }
   ],
   "source": [
    "files=[(e['name'], e['path']) for e in data['items']]\n",
    "\n",
    "files[2]"
   ]
  },
  {
   "cell_type": "code",
   "execution_count": 25,
   "metadata": {},
   "outputs": [],
   "source": [
    "formated=[(e[0], 'https://githubusercontent.com/ironhack-datalabs/scavenger/master/{}'.format(e[1])) for e in files]"
   ]
  },
  {
   "cell_type": "code",
   "execution_count": 26,
   "metadata": {},
   "outputs": [
    {
     "data": {
      "text/plain": [
       "('.0006.scavengerhunt',\n",
       " 'https://githubusercontent.com/ironhack-datalabs/scavenger/master/15024/.0006.scavengerhunt')"
      ]
     },
     "execution_count": 26,
     "metadata": {},
     "output_type": "execute_result"
    }
   ],
   "source": [
    "formated[0]"
   ]
  },
  {
   "cell_type": "code",
   "execution_count": 27,
   "metadata": {},
   "outputs": [],
   "source": [
    "urls=[e[1] for e in sorted(formated, key=lambda x: x[0])]"
   ]
  },
  {
   "cell_type": "code",
   "execution_count": 28,
   "metadata": {},
   "outputs": [
    {
     "data": {
      "text/plain": [
       "'https://githubusercontent.com/ironhack-datalabs/scavenger/master/98750/.0001.scavengerhunt'"
      ]
     },
     "execution_count": 28,
     "metadata": {},
     "output_type": "execute_result"
    }
   ],
   "source": [
    "urls[0]"
   ]
  },
  {
   "cell_type": "code",
   "execution_count": 29,
   "metadata": {},
   "outputs": [],
   "source": [
    "#lst=[requests.get(e, auth=(user, key)).text for e in urls]"
   ]
  },
  {
   "cell_type": "code",
   "execution_count": 30,
   "metadata": {},
   "outputs": [],
   "source": [
    "#' '.join(lst)"
   ]
  },
  {
   "cell_type": "code",
   "execution_count": 31,
   "metadata": {},
   "outputs": [],
   "source": [
    "# ya no se puede asi"
   ]
  },
  {
   "cell_type": "markdown",
   "metadata": {},
   "source": [
    "# Web Scraping"
   ]
  },
  {
   "cell_type": "markdown",
   "metadata": {},
   "source": [
    "### Ejemplo reuters"
   ]
  },
  {
   "cell_type": "code",
   "execution_count": 32,
   "metadata": {},
   "outputs": [],
   "source": [
    "import requests"
   ]
  },
  {
   "cell_type": "code",
   "execution_count": 33,
   "metadata": {},
   "outputs": [],
   "source": [
    "url='https://www.reuters.com/article/us-shazam-m-a-apple-eu/apple-completes-deal-to-buy-shazam-idUSKCN1M4202'"
   ]
  },
  {
   "cell_type": "code",
   "execution_count": 34,
   "metadata": {},
   "outputs": [
    {
     "data": {
      "text/plain": [
       "b'<!--[if !IE]> This has NOT been served from cache <![endif]-->\\n<!--[if !IE]> Request served from apache server: prodie--i-017e425f4516cf3fa <![endif]-->\\n<!--[if !IE]> token: 32215cb8-b736-4e0a-a4ec-797048b6eed5 <![endif]-->\\n<!--[if !IE]> App Server /prodie--i-017e425f4516cf3fa/ <![endif]-->\\n\\n<!doctype html><html lang=\"en\" data-edition=\"BETAUS\">\\n    <head>\\n\\n    <title>\\n                Apple completes deal to buy Shazam - Reuters</title>\\n        <meta http-equiv=\"X-UA-Compatible\" content=\"IE=edge\"><meta charset=\"utf-8\"><meta http-equiv=\"x-dns-prefetch-control\" content=\"on\"><link rel=\"dns-prefetc'"
      ]
     },
     "execution_count": 34,
     "metadata": {},
     "output_type": "execute_result"
    }
   ],
   "source": [
    "html=requests.get(url).content   # contenido\n",
    "p=html[:600].decode()            # de binario a str\n",
    "p.encode()"
   ]
  },
  {
   "cell_type": "code",
   "execution_count": 35,
   "metadata": {},
   "outputs": [
    {
     "name": "stdout",
     "output_type": "stream",
     "text": [
      "Requirement already satisfied: beautifulsoup4 in /Users/data/Library/Python/3.7/lib/python/site-packages (4.8.0)\r\n",
      "Requirement already satisfied: soupsieve>=1.2 in /Users/data/Library/Python/3.7/lib/python/site-packages (from beautifulsoup4) (1.9.3)\r\n"
     ]
    }
   ],
   "source": [
    "!pip3 install beautifulsoup4"
   ]
  },
  {
   "cell_type": "code",
   "execution_count": 36,
   "metadata": {},
   "outputs": [],
   "source": [
    "from bs4 import BeautifulSoup as bs"
   ]
  },
  {
   "cell_type": "code",
   "execution_count": 37,
   "metadata": {},
   "outputs": [],
   "source": [
    "soup=bs(html, 'lxml')\n",
    "# soup"
   ]
  },
  {
   "cell_type": "code",
   "execution_count": 38,
   "metadata": {},
   "outputs": [
    {
     "data": {
      "text/plain": [
       "bs4.BeautifulSoup"
      ]
     },
     "execution_count": 38,
     "metadata": {},
     "output_type": "execute_result"
    }
   ],
   "source": [
    "type(soup)"
   ]
  },
  {
   "cell_type": "code",
   "execution_count": 39,
   "metadata": {},
   "outputs": [],
   "source": [
    "tags=['h1', 'h2', 'h3', 'h4', 'h5', 'h6', 'h7', 'p']"
   ]
  },
  {
   "cell_type": "code",
   "execution_count": 40,
   "metadata": {},
   "outputs": [
    {
     "data": {
      "text/plain": [
       "['Apple completes deal to buy Shazam',\n",
       " '1 Min Read',\n",
       " '(Reuters) - Apple Inc has completed the acquisition of music discovery app Shazam, it said on Monday, weeks after the European Union approved the deal. ',\n",
       " 'The deal, announced in December last year, is expected to help the iPhone maker better compete with Spotify, the industry leader in music streaming services. ',\n",
       " 'Reporting by Sonam Rai in Bengaluru; Editing by Sai Sachin Ravikumar',\n",
       " 'All quotes delayed a minimum of 15 minutes. See here for a complete list of exchanges and delays.',\n",
       " '© 2020 Reuters. All Rights Reserved.']"
      ]
     },
     "execution_count": 40,
     "metadata": {},
     "output_type": "execute_result"
    }
   ],
   "source": [
    "text=[e.text for e in soup.find_all(tags)]\n",
    "\n",
    "text"
   ]
  },
  {
   "cell_type": "code",
   "execution_count": 41,
   "metadata": {},
   "outputs": [
    {
     "data": {
      "text/plain": [
       "str"
      ]
     },
     "execution_count": 41,
     "metadata": {},
     "output_type": "execute_result"
    }
   ],
   "source": [
    "type(text[0])"
   ]
  },
  {
   "cell_type": "code",
   "execution_count": 42,
   "metadata": {},
   "outputs": [
    {
     "data": {
      "text/plain": [
       "'Apple completes deal to buy Shazam\\n1 Min Read\\n(Reuters) - Apple Inc has completed the acquisition of music discovery app Shazam, it said on Monday, weeks after the European Union approved the deal. \\nThe deal, announced in December last year, is expected to help the iPhone maker better compete with Spotify, the industry leader in music streaming services. \\nReporting by Sonam Rai in Bengaluru; Editing by Sai Sachin Ravikumar\\nAll quotes delayed a minimum of 15 minutes. See here for a complete list of exchanges and delays.\\n© 2020 Reuters. All Rights Reserved.'"
      ]
     },
     "execution_count": 42,
     "metadata": {},
     "output_type": "execute_result"
    }
   ],
   "source": [
    "'\\n'.join(text)"
   ]
  },
  {
   "cell_type": "code",
   "execution_count": 43,
   "metadata": {},
   "outputs": [
    {
     "data": {
      "text/plain": [
       "'Apple completes deal to buy Shazam_1 Min Read_(Reuters) - Apple Inc has completed the acquisition of music discovery app Shazam, it said on Monday, weeks after the European Union approved the deal. _The deal, announced in December last year, is expected to help the iPhone maker better compete with Spotify, the industry leader in music streaming services. _Reporting by Sonam Rai in Bengaluru; Editing by Sai Sachin Ravikumar_All quotes delayed a minimum of 15 minutes. See here for a complete list of exchanges and delays._© 2020 Reuters. All Rights Reserved.'"
      ]
     },
     "execution_count": 43,
     "metadata": {},
     "output_type": "execute_result"
    }
   ],
   "source": [
    "'_'.join(text)"
   ]
  },
  {
   "cell_type": "markdown",
   "metadata": {},
   "source": [
    "### ejemplo wikipedia"
   ]
  },
  {
   "cell_type": "code",
   "execution_count": 44,
   "metadata": {},
   "outputs": [],
   "source": [
    "url='https://en.wikipedia.org/wiki/List_of_European_countries_by_life_expectancy'"
   ]
  },
  {
   "cell_type": "code",
   "execution_count": 45,
   "metadata": {},
   "outputs": [],
   "source": [
    "html=requests.get(url).content \n",
    "soup=bs(html, 'lxml')\n",
    "#soup"
   ]
  },
  {
   "cell_type": "code",
   "execution_count": 46,
   "metadata": {},
   "outputs": [
    {
     "data": {
      "text/plain": [
       "bs4.element.Tag"
      ]
     },
     "execution_count": 46,
     "metadata": {},
     "output_type": "execute_result"
    }
   ],
   "source": [
    "table=soup.find_all('table', {'class':'sortable wikitable'})[0]  # primera y unica tabla\n",
    "type(table)"
   ]
  },
  {
   "cell_type": "code",
   "execution_count": 47,
   "metadata": {},
   "outputs": [
    {
     "name": "stdout",
     "output_type": "stream",
     "text": [
      "[['Rank', '', 'Country', 'Life expectancy[1]'], ['1', '', '\\xa0Monaco[2]', '', '89.4'], ['2', '', '\\xa0San Marino[3]', '', '83.4']]\n"
     ]
    },
    {
     "data": {
      "text/plain": [
       "[['Rank', 'Country', 'Life expectancy[1]'],\n",
       " ['1', '\\xa0Monaco[2]', '89.4'],\n",
       " ['2', '\\xa0San Marino[3]', '83.4']]"
      ]
     },
     "execution_count": 47,
     "metadata": {},
     "output_type": "execute_result"
    }
   ],
   "source": [
    "rows=table.find_all('tr')\n",
    "rows=[r.text.strip().split('\\n') for r in rows]\n",
    "print (rows[:3])\n",
    "final=[]\n",
    "for e in rows:\n",
    "    tmp=[]\n",
    "    for st in e:\n",
    "        if st!='':\n",
    "            tmp.append(st)\n",
    "    final.append(tmp)\n",
    "    \n",
    "final[:3]"
   ]
  },
  {
   "cell_type": "code",
   "execution_count": 48,
   "metadata": {},
   "outputs": [
    {
     "data": {
      "text/html": [
       "<div>\n",
       "<style scoped>\n",
       "    .dataframe tbody tr th:only-of-type {\n",
       "        vertical-align: middle;\n",
       "    }\n",
       "\n",
       "    .dataframe tbody tr th {\n",
       "        vertical-align: top;\n",
       "    }\n",
       "\n",
       "    .dataframe thead th {\n",
       "        text-align: right;\n",
       "    }\n",
       "</style>\n",
       "<table border=\"1\" class=\"dataframe\">\n",
       "  <thead>\n",
       "    <tr style=\"text-align: right;\">\n",
       "      <th></th>\n",
       "      <th>Rank</th>\n",
       "      <th>Country</th>\n",
       "      <th>Life expectancy[1]</th>\n",
       "    </tr>\n",
       "  </thead>\n",
       "  <tbody>\n",
       "    <tr>\n",
       "      <td>0</td>\n",
       "      <td>1</td>\n",
       "      <td>Monaco[2]</td>\n",
       "      <td>89.4</td>\n",
       "    </tr>\n",
       "    <tr>\n",
       "      <td>1</td>\n",
       "      <td>2</td>\n",
       "      <td>San Marino[3]</td>\n",
       "      <td>83.4</td>\n",
       "    </tr>\n",
       "    <tr>\n",
       "      <td>2</td>\n",
       "      <td>3</td>\n",
       "      <td>Switzerland</td>\n",
       "      <td>83.0</td>\n",
       "    </tr>\n",
       "    <tr>\n",
       "      <td>3</td>\n",
       "      <td>4</td>\n",
       "      <td>Spain</td>\n",
       "      <td>82.8</td>\n",
       "    </tr>\n",
       "    <tr>\n",
       "      <td>4</td>\n",
       "      <td>5</td>\n",
       "      <td>Liechtenstein</td>\n",
       "      <td>82.7</td>\n",
       "    </tr>\n",
       "    <tr>\n",
       "      <td>5</td>\n",
       "      <td>6</td>\n",
       "      <td>Italy</td>\n",
       "      <td>82.5</td>\n",
       "    </tr>\n",
       "    <tr>\n",
       "      <td>6</td>\n",
       "      <td>7</td>\n",
       "      <td>Norway</td>\n",
       "      <td>82.5</td>\n",
       "    </tr>\n",
       "    <tr>\n",
       "      <td>7</td>\n",
       "      <td>8</td>\n",
       "      <td>Iceland</td>\n",
       "      <td>82.5</td>\n",
       "    </tr>\n",
       "    <tr>\n",
       "      <td>8</td>\n",
       "      <td>9</td>\n",
       "      <td>Luxembourg</td>\n",
       "      <td>82.3</td>\n",
       "    </tr>\n",
       "    <tr>\n",
       "      <td>9</td>\n",
       "      <td>10</td>\n",
       "      <td>France</td>\n",
       "      <td>82.3</td>\n",
       "    </tr>\n",
       "    <tr>\n",
       "      <td>10</td>\n",
       "      <td>11</td>\n",
       "      <td>Sweden</td>\n",
       "      <td>82.2</td>\n",
       "    </tr>\n",
       "    <tr>\n",
       "      <td>11</td>\n",
       "      <td>12</td>\n",
       "      <td>Malta</td>\n",
       "      <td>81.8</td>\n",
       "    </tr>\n",
       "    <tr>\n",
       "      <td>12</td>\n",
       "      <td>13</td>\n",
       "      <td>Finland</td>\n",
       "      <td>81.8</td>\n",
       "    </tr>\n",
       "    <tr>\n",
       "      <td>13</td>\n",
       "      <td>14</td>\n",
       "      <td>Ireland</td>\n",
       "      <td>81.6</td>\n",
       "    </tr>\n",
       "    <tr>\n",
       "      <td>14</td>\n",
       "      <td>15</td>\n",
       "      <td>Netherlands</td>\n",
       "      <td>81.5</td>\n",
       "    </tr>\n",
       "    <tr>\n",
       "      <td>15</td>\n",
       "      <td>16</td>\n",
       "      <td>Portugal</td>\n",
       "      <td>81.1</td>\n",
       "    </tr>\n",
       "    <tr>\n",
       "      <td>16</td>\n",
       "      <td>17</td>\n",
       "      <td>Greece</td>\n",
       "      <td>81.0</td>\n",
       "    </tr>\n",
       "    <tr>\n",
       "      <td>17</td>\n",
       "      <td>18</td>\n",
       "      <td>United Kingdom</td>\n",
       "      <td>81.0</td>\n",
       "    </tr>\n",
       "    <tr>\n",
       "      <td>18</td>\n",
       "      <td>19</td>\n",
       "      <td>Belgium</td>\n",
       "      <td>81.0</td>\n",
       "    </tr>\n",
       "    <tr>\n",
       "      <td>19</td>\n",
       "      <td>20</td>\n",
       "      <td>Austria</td>\n",
       "      <td>80.9</td>\n",
       "    </tr>\n",
       "    <tr>\n",
       "      <td>20</td>\n",
       "      <td>21</td>\n",
       "      <td>Slovenia</td>\n",
       "      <td>80.8</td>\n",
       "    </tr>\n",
       "    <tr>\n",
       "      <td>21</td>\n",
       "      <td>22</td>\n",
       "      <td>Denmark</td>\n",
       "      <td>80.7</td>\n",
       "    </tr>\n",
       "    <tr>\n",
       "      <td>22</td>\n",
       "      <td>23</td>\n",
       "      <td>Germany</td>\n",
       "      <td>80.6</td>\n",
       "    </tr>\n",
       "    <tr>\n",
       "      <td>23</td>\n",
       "      <td>24</td>\n",
       "      <td>Cyprus</td>\n",
       "      <td>80.5</td>\n",
       "    </tr>\n",
       "    <tr>\n",
       "      <td>24</td>\n",
       "      <td>25</td>\n",
       "      <td>Albania</td>\n",
       "      <td>78.3</td>\n",
       "    </tr>\n",
       "    <tr>\n",
       "      <td>25</td>\n",
       "      <td>26</td>\n",
       "      <td>Czech Republic</td>\n",
       "      <td>78.3</td>\n",
       "    </tr>\n",
       "    <tr>\n",
       "      <td>26</td>\n",
       "      <td>27</td>\n",
       "      <td>Croatia</td>\n",
       "      <td>78.0</td>\n",
       "    </tr>\n",
       "    <tr>\n",
       "      <td>27</td>\n",
       "      <td>28</td>\n",
       "      <td>Estonia</td>\n",
       "      <td>77.7</td>\n",
       "    </tr>\n",
       "    <tr>\n",
       "      <td>28</td>\n",
       "      <td>29</td>\n",
       "      <td>Poland</td>\n",
       "      <td>77.5</td>\n",
       "    </tr>\n",
       "    <tr>\n",
       "      <td>29</td>\n",
       "      <td>30</td>\n",
       "      <td>Montenegro</td>\n",
       "      <td>77.1</td>\n",
       "    </tr>\n",
       "    <tr>\n",
       "      <td>30</td>\n",
       "      <td>31</td>\n",
       "      <td>Bosnia and Herzegovina</td>\n",
       "      <td>76.9</td>\n",
       "    </tr>\n",
       "    <tr>\n",
       "      <td>31</td>\n",
       "      <td>32</td>\n",
       "      <td>Slovakia</td>\n",
       "      <td>76.6</td>\n",
       "    </tr>\n",
       "    <tr>\n",
       "      <td>32</td>\n",
       "      <td>33</td>\n",
       "      <td>Turkey</td>\n",
       "      <td>75.8</td>\n",
       "    </tr>\n",
       "    <tr>\n",
       "      <td>33</td>\n",
       "      <td>34</td>\n",
       "      <td>North Macedonia</td>\n",
       "      <td>75.7</td>\n",
       "    </tr>\n",
       "    <tr>\n",
       "      <td>34</td>\n",
       "      <td>35</td>\n",
       "      <td>Hungary</td>\n",
       "      <td>75.6</td>\n",
       "    </tr>\n",
       "    <tr>\n",
       "      <td>35</td>\n",
       "      <td>36</td>\n",
       "      <td>Serbia</td>\n",
       "      <td>75.2</td>\n",
       "    </tr>\n",
       "    <tr>\n",
       "      <td>36</td>\n",
       "      <td>37</td>\n",
       "      <td>Romania</td>\n",
       "      <td>75.0</td>\n",
       "    </tr>\n",
       "    <tr>\n",
       "      <td>37</td>\n",
       "      <td>38</td>\n",
       "      <td>Bulgaria</td>\n",
       "      <td>74.6</td>\n",
       "    </tr>\n",
       "    <tr>\n",
       "      <td>38</td>\n",
       "      <td>39</td>\n",
       "      <td>Latvia</td>\n",
       "      <td>74.5</td>\n",
       "    </tr>\n",
       "    <tr>\n",
       "      <td>39</td>\n",
       "      <td>40</td>\n",
       "      <td>Lithuania</td>\n",
       "      <td>74.3</td>\n",
       "    </tr>\n",
       "    <tr>\n",
       "      <td>40</td>\n",
       "      <td>41</td>\n",
       "      <td>Belarus</td>\n",
       "      <td>73.8</td>\n",
       "    </tr>\n",
       "    <tr>\n",
       "      <td>41</td>\n",
       "      <td>42</td>\n",
       "      <td>Kazakhstan</td>\n",
       "      <td>72.3</td>\n",
       "    </tr>\n",
       "    <tr>\n",
       "      <td>42</td>\n",
       "      <td>43</td>\n",
       "      <td>Moldova</td>\n",
       "      <td>71.6</td>\n",
       "    </tr>\n",
       "    <tr>\n",
       "      <td>43</td>\n",
       "      <td>44</td>\n",
       "      <td>Russia</td>\n",
       "      <td>71.6</td>\n",
       "    </tr>\n",
       "    <tr>\n",
       "      <td>44</td>\n",
       "      <td>45</td>\n",
       "      <td>Ukraine</td>\n",
       "      <td>71.5</td>\n",
       "    </tr>\n",
       "  </tbody>\n",
       "</table>\n",
       "</div>"
      ],
      "text/plain": [
       "   Rank                  Country Life expectancy[1]\n",
       "0     1                Monaco[2]               89.4\n",
       "1     2            San Marino[3]               83.4\n",
       "2     3              Switzerland               83.0\n",
       "3     4                    Spain               82.8\n",
       "4     5            Liechtenstein               82.7\n",
       "5     6                    Italy               82.5\n",
       "6     7                   Norway               82.5\n",
       "7     8                  Iceland               82.5\n",
       "8     9               Luxembourg               82.3\n",
       "9    10                   France               82.3\n",
       "10   11                   Sweden               82.2\n",
       "11   12                    Malta               81.8\n",
       "12   13                  Finland               81.8\n",
       "13   14                  Ireland               81.6\n",
       "14   15              Netherlands               81.5\n",
       "15   16                 Portugal               81.1\n",
       "16   17                   Greece               81.0\n",
       "17   18           United Kingdom               81.0\n",
       "18   19                  Belgium               81.0\n",
       "19   20                  Austria               80.9\n",
       "20   21                 Slovenia               80.8\n",
       "21   22                  Denmark               80.7\n",
       "22   23                  Germany               80.6\n",
       "23   24                   Cyprus               80.5\n",
       "24   25                  Albania               78.3\n",
       "25   26           Czech Republic               78.3\n",
       "26   27                  Croatia               78.0\n",
       "27   28                  Estonia               77.7\n",
       "28   29                   Poland               77.5\n",
       "29   30               Montenegro               77.1\n",
       "30   31   Bosnia and Herzegovina               76.9\n",
       "31   32                 Slovakia               76.6\n",
       "32   33                   Turkey               75.8\n",
       "33   34          North Macedonia               75.7\n",
       "34   35                  Hungary               75.6\n",
       "35   36                   Serbia               75.2\n",
       "36   37                  Romania               75.0\n",
       "37   38                 Bulgaria               74.6\n",
       "38   39                   Latvia               74.5\n",
       "39   40                Lithuania               74.3\n",
       "40   41                  Belarus               73.8\n",
       "41   42               Kazakhstan               72.3\n",
       "42   43                  Moldova               71.6\n",
       "43   44                   Russia               71.6\n",
       "44   45                  Ukraine               71.5"
      ]
     },
     "execution_count": 48,
     "metadata": {},
     "output_type": "execute_result"
    }
   ],
   "source": [
    "import pandas as pd\n",
    "\n",
    "col_names=final[0]\n",
    "data=final[1:]\n",
    "\n",
    "df=pd.DataFrame(data, columns=col_names)\n",
    "df"
   ]
  },
  {
   "cell_type": "markdown",
   "metadata": {},
   "source": [
    "### ejemplo wikipedia 2"
   ]
  },
  {
   "cell_type": "code",
   "execution_count": 49,
   "metadata": {},
   "outputs": [],
   "source": [
    "url='https://es.wikipedia.org/wiki/Juegos_Ol%C3%ADmpicos_de_Barcelona_1992'\n",
    "res=requests.get(url)"
   ]
  },
  {
   "cell_type": "code",
   "execution_count": 50,
   "metadata": {},
   "outputs": [],
   "source": [
    "data=res.text\n",
    "soup=bs(data, 'html.parser')\n",
    "#soup"
   ]
  },
  {
   "cell_type": "code",
   "execution_count": 51,
   "metadata": {},
   "outputs": [],
   "source": [
    "tables=soup.find_all('table')\n",
    "ultima=tables[-1]\n",
    "#ultima"
   ]
  },
  {
   "cell_type": "code",
   "execution_count": 52,
   "metadata": {},
   "outputs": [
    {
     "data": {
      "text/plain": [
       "<a href=\"/wiki/Ayuda:Control_de_autoridades\" title=\"Ayuda:Control de autoridades\">Control de autoridades</a>"
      ]
     },
     "execution_count": 52,
     "metadata": {},
     "output_type": "execute_result"
    }
   ],
   "source": [
    "elem=ultima.find_all('a')[0]\n",
    "elem"
   ]
  },
  {
   "cell_type": "code",
   "execution_count": 53,
   "metadata": {},
   "outputs": [
    {
     "data": {
      "text/plain": [
       "'Control de autoridades'"
      ]
     },
     "execution_count": 53,
     "metadata": {},
     "output_type": "execute_result"
    }
   ],
   "source": [
    "elem.text  # contenido de la caja, en este caso texto"
   ]
  },
  {
   "cell_type": "code",
   "execution_count": 54,
   "metadata": {},
   "outputs": [
    {
     "name": "stdout",
     "output_type": "stream",
     "text": [
      "['Control de autoridades']\n"
     ]
    }
   ],
   "source": [
    "print(elem.contents)  # contenido comom lista"
   ]
  },
  {
   "cell_type": "code",
   "execution_count": 55,
   "metadata": {},
   "outputs": [
    {
     "data": {
      "text/plain": [
       "{'href': '/wiki/Ayuda:Control_de_autoridades',\n",
       " 'title': 'Ayuda:Control de autoridades'}"
      ]
     },
     "execution_count": 55,
     "metadata": {},
     "output_type": "execute_result"
    }
   ],
   "source": [
    "elem.attrs  # sticker en la tapa de la caja"
   ]
  },
  {
   "cell_type": "code",
   "execution_count": 56,
   "metadata": {},
   "outputs": [
    {
     "data": {
      "text/plain": [
       "'/wiki/Ayuda:Control_de_autoridades'"
      ]
     },
     "execution_count": 56,
     "metadata": {},
     "output_type": "execute_result"
    }
   ],
   "source": [
    "elem.attrs['href']"
   ]
  },
  {
   "cell_type": "code",
   "execution_count": 57,
   "metadata": {},
   "outputs": [],
   "source": [
    "medallero=soup.find_all('table')[-4]\n",
    "#medallero"
   ]
  },
  {
   "cell_type": "code",
   "execution_count": 58,
   "metadata": {},
   "outputs": [
    {
     "data": {
      "text/plain": [
       "[{'nombre': 'Equipo Unificado', 'oros': 45, 'platas': 38, 'bronces': 29},\n",
       " {'nombre': 'Estados Unidos', 'oros': 37, 'platas': 34, 'bronces': 37},\n",
       " {'nombre': 'Alemania', 'oros': 33, 'platas': 21, 'bronces': 28},\n",
       " {'nombre': 'China', 'oros': 16, 'platas': 22, 'bronces': 16},\n",
       " {'nombre': 'Cuba', 'oros': 14, 'platas': 6, 'bronces': 11},\n",
       " {'nombre': 'España', 'oros': 13, 'platas': 7, 'bronces': 2},\n",
       " {'nombre': 'Corea del Sur', 'oros': 12, 'platas': 5, 'bronces': 12},\n",
       " {'nombre': 'Hungría', 'oros': 11, 'platas': 12, 'bronces': 7},\n",
       " {'nombre': 'Francia', 'oros': 8, 'platas': 5, 'bronces': 16},\n",
       " {'nombre': 'Australia', 'oros': 7, 'platas': 9, 'bronces': 11}]"
      ]
     },
     "execution_count": 58,
     "metadata": {},
     "output_type": "execute_result"
    }
   ],
   "source": [
    "med_paises=[]\n",
    "\n",
    "for f in medallero.find_all('tr'):  # lista de filas de la tabla\n",
    "    fila=[e for e in f.find_all('td')]  # elementos dentro de la fila\n",
    "    if len(fila)>0:\n",
    "        pais={'nombre': fila[1].find('a').text.strip(),\n",
    "              'oros':int(fila[2].text),\n",
    "              'platas':int(fila[3].text),\n",
    "              'bronces':int(fila[4].text),}\n",
    "        med_paises.append(pais)\n",
    "        \n",
    "med_paises"
   ]
  },
  {
   "cell_type": "code",
   "execution_count": 59,
   "metadata": {},
   "outputs": [
    {
     "data": {
      "text/html": [
       "<div>\n",
       "<style scoped>\n",
       "    .dataframe tbody tr th:only-of-type {\n",
       "        vertical-align: middle;\n",
       "    }\n",
       "\n",
       "    .dataframe tbody tr th {\n",
       "        vertical-align: top;\n",
       "    }\n",
       "\n",
       "    .dataframe thead th {\n",
       "        text-align: right;\n",
       "    }\n",
       "</style>\n",
       "<table border=\"1\" class=\"dataframe\">\n",
       "  <thead>\n",
       "    <tr style=\"text-align: right;\">\n",
       "      <th></th>\n",
       "      <th>nombre</th>\n",
       "      <th>oros</th>\n",
       "      <th>platas</th>\n",
       "      <th>bronces</th>\n",
       "    </tr>\n",
       "  </thead>\n",
       "  <tbody>\n",
       "    <tr>\n",
       "      <td>0</td>\n",
       "      <td>Equipo Unificado</td>\n",
       "      <td>45</td>\n",
       "      <td>38</td>\n",
       "      <td>29</td>\n",
       "    </tr>\n",
       "    <tr>\n",
       "      <td>1</td>\n",
       "      <td>Estados Unidos</td>\n",
       "      <td>37</td>\n",
       "      <td>34</td>\n",
       "      <td>37</td>\n",
       "    </tr>\n",
       "    <tr>\n",
       "      <td>2</td>\n",
       "      <td>Alemania</td>\n",
       "      <td>33</td>\n",
       "      <td>21</td>\n",
       "      <td>28</td>\n",
       "    </tr>\n",
       "    <tr>\n",
       "      <td>3</td>\n",
       "      <td>China</td>\n",
       "      <td>16</td>\n",
       "      <td>22</td>\n",
       "      <td>16</td>\n",
       "    </tr>\n",
       "    <tr>\n",
       "      <td>4</td>\n",
       "      <td>Cuba</td>\n",
       "      <td>14</td>\n",
       "      <td>6</td>\n",
       "      <td>11</td>\n",
       "    </tr>\n",
       "    <tr>\n",
       "      <td>5</td>\n",
       "      <td>España</td>\n",
       "      <td>13</td>\n",
       "      <td>7</td>\n",
       "      <td>2</td>\n",
       "    </tr>\n",
       "    <tr>\n",
       "      <td>6</td>\n",
       "      <td>Corea del Sur</td>\n",
       "      <td>12</td>\n",
       "      <td>5</td>\n",
       "      <td>12</td>\n",
       "    </tr>\n",
       "    <tr>\n",
       "      <td>7</td>\n",
       "      <td>Hungría</td>\n",
       "      <td>11</td>\n",
       "      <td>12</td>\n",
       "      <td>7</td>\n",
       "    </tr>\n",
       "    <tr>\n",
       "      <td>8</td>\n",
       "      <td>Francia</td>\n",
       "      <td>8</td>\n",
       "      <td>5</td>\n",
       "      <td>16</td>\n",
       "    </tr>\n",
       "    <tr>\n",
       "      <td>9</td>\n",
       "      <td>Australia</td>\n",
       "      <td>7</td>\n",
       "      <td>9</td>\n",
       "      <td>11</td>\n",
       "    </tr>\n",
       "  </tbody>\n",
       "</table>\n",
       "</div>"
      ],
      "text/plain": [
       "             nombre  oros  platas  bronces\n",
       "0  Equipo Unificado    45      38       29\n",
       "1    Estados Unidos    37      34       37\n",
       "2          Alemania    33      21       28\n",
       "3             China    16      22       16\n",
       "4              Cuba    14       6       11\n",
       "5            España    13       7        2\n",
       "6     Corea del Sur    12       5       12\n",
       "7           Hungría    11      12        7\n",
       "8           Francia     8       5       16\n",
       "9         Australia     7       9       11"
      ]
     },
     "execution_count": 59,
     "metadata": {},
     "output_type": "execute_result"
    }
   ],
   "source": [
    "df=pd.DataFrame(med_paises)\n",
    "df"
   ]
  },
  {
   "cell_type": "code",
   "execution_count": 60,
   "metadata": {},
   "outputs": [
    {
     "data": {
      "text/plain": [
       "196"
      ]
     },
     "execution_count": 60,
     "metadata": {},
     "output_type": "execute_result"
    }
   ],
   "source": [
    "df.oros.sum()"
   ]
  },
  {
   "cell_type": "code",
   "execution_count": 61,
   "metadata": {},
   "outputs": [
    {
     "data": {
      "text/plain": [
       "'Equipo Unificado'"
      ]
     },
     "execution_count": 61,
     "metadata": {},
     "output_type": "execute_result"
    }
   ],
   "source": [
    "medallero.find_all('tr')[1].find_all('td')[1].find('a').text.strip()"
   ]
  },
  {
   "cell_type": "markdown",
   "metadata": {},
   "source": [
    "### ejemplo wikipedia 3"
   ]
  },
  {
   "cell_type": "code",
   "execution_count": 62,
   "metadata": {},
   "outputs": [],
   "source": [
    "import re"
   ]
  },
  {
   "cell_type": "code",
   "execution_count": 63,
   "metadata": {},
   "outputs": [],
   "source": [
    "url='https://es.wikipedia.org/wiki/Videoconsola'\n",
    "\n",
    "res=requests.get(url) \n",
    "\n",
    "data=res.text\n",
    "\n",
    "soup=bs(data, 'html.parser')\n",
    "\n",
    "tables=soup.find_all('table')\n",
    "\n",
    "table=tables[-2]"
   ]
  },
  {
   "cell_type": "code",
   "execution_count": 71,
   "metadata": {},
   "outputs": [
    {
     "data": {
      "text/plain": [
       "[['Fabricante', 'Consola', 'Lanzamiento', 'Unidades vendidas'],\n",
       " ['Nintendo',\n",
       "  'Nintendo DS',\n",
       "  '11 de marzo de 2005',\n",
       "  '5.7\\xa0millones (hasta 2012)[58]\\u200b'],\n",
       " ['Sony',\n",
       "  'PlayStation 2',\n",
       "  '24 de noviembre de 2000',\n",
       "  '5\\xa0millones (hasta 2009)[59]\\u200b']]"
      ]
     },
     "execution_count": 71,
     "metadata": {},
     "output_type": "execute_result"
    }
   ],
   "source": [
    "rows=table.find_all('tr')\n",
    "rows=[r.text.strip().split('\\n') for r in rows]\n",
    "\n",
    "final=[]\n",
    "for e in rows:\n",
    "    tmp=[]\n",
    "    for st in e:\n",
    "        if st!='':\n",
    "            tmp.append(st)\n",
    "    final.append(tmp)\n",
    "    \n",
    "final[:3]"
   ]
  },
  {
   "cell_type": "code",
   "execution_count": 80,
   "metadata": {},
   "outputs": [],
   "source": [
    "titulo=soup.find_all('span', {'class':'mw-headline'})[-4].text\n",
    "col_names=final[0]\n",
    "data=final[1:]\n",
    "\n",
    "df=pd.DataFrame(data, columns=col_names)"
   ]
  },
  {
   "cell_type": "code",
   "execution_count": 81,
   "metadata": {},
   "outputs": [],
   "source": [
    "df.Lanzamiento=df.Lanzamiento.apply(lambda x: int(x.split('[')[0][-4:]))\n",
    "\n",
    "df.Lanzamiento.rename({'Lanzamiento':'Año lanzamiento'})\n",
    "\n",
    "df['Unidades vendidas']=df['Unidades vendidas'].apply(lambda x: x.split('(')[0].split('[')[0])"
   ]
  },
  {
   "cell_type": "code",
   "execution_count": 82,
   "metadata": {},
   "outputs": [],
   "source": [
    "df['Unidades vendidas']=df['Unidades vendidas'].\\\n",
    "                        apply(lambda x: re.findall('\\d+.\\d+|\\d+', x)[0])"
   ]
  },
  {
   "cell_type": "code",
   "execution_count": 83,
   "metadata": {},
   "outputs": [],
   "source": [
    "df['Unidades vendidas']=df['Unidades vendidas'].\\\n",
    "                        apply(lambda x: float(x)*1e6 if len(x)<4 else float(x.split()[0])*1e3)"
   ]
  },
  {
   "cell_type": "code",
   "execution_count": 84,
   "metadata": {},
   "outputs": [],
   "source": [
    "df['Unidades vendidas']=df['Unidades vendidas'].astype('int64') "
   ]
  },
  {
   "cell_type": "code",
   "execution_count": 85,
   "metadata": {},
   "outputs": [
    {
     "name": "stdout",
     "output_type": "stream",
     "text": [
      "Ventas en España\n"
     ]
    },
    {
     "data": {
      "text/html": [
       "<div>\n",
       "<style scoped>\n",
       "    .dataframe tbody tr th:only-of-type {\n",
       "        vertical-align: middle;\n",
       "    }\n",
       "\n",
       "    .dataframe tbody tr th {\n",
       "        vertical-align: top;\n",
       "    }\n",
       "\n",
       "    .dataframe thead th {\n",
       "        text-align: right;\n",
       "    }\n",
       "</style>\n",
       "<table border=\"1\" class=\"dataframe\">\n",
       "  <thead>\n",
       "    <tr style=\"text-align: right;\">\n",
       "      <th></th>\n",
       "      <th>Fabricante</th>\n",
       "      <th>Consola</th>\n",
       "      <th>Lanzamiento</th>\n",
       "      <th>Unidades vendidas</th>\n",
       "    </tr>\n",
       "  </thead>\n",
       "  <tbody>\n",
       "    <tr>\n",
       "      <td>0</td>\n",
       "      <td>Nintendo</td>\n",
       "      <td>Nintendo DS</td>\n",
       "      <td>2005</td>\n",
       "      <td>5700000</td>\n",
       "    </tr>\n",
       "    <tr>\n",
       "      <td>1</td>\n",
       "      <td>Sony</td>\n",
       "      <td>PlayStation 2</td>\n",
       "      <td>2000</td>\n",
       "      <td>5000000</td>\n",
       "    </tr>\n",
       "    <tr>\n",
       "      <td>2</td>\n",
       "      <td>Sony</td>\n",
       "      <td>PlayStation 4</td>\n",
       "      <td>2013</td>\n",
       "      <td>3000000</td>\n",
       "    </tr>\n",
       "    <tr>\n",
       "      <td>3</td>\n",
       "      <td>Nintendo</td>\n",
       "      <td>Wii</td>\n",
       "      <td>2006</td>\n",
       "      <td>2700000</td>\n",
       "    </tr>\n",
       "    <tr>\n",
       "      <td>4</td>\n",
       "      <td>Sony</td>\n",
       "      <td>PlayStation 3</td>\n",
       "      <td>2007</td>\n",
       "      <td>2700000</td>\n",
       "    </tr>\n",
       "    <tr>\n",
       "      <td>5</td>\n",
       "      <td>Nintendo</td>\n",
       "      <td>Game Boy</td>\n",
       "      <td>1991</td>\n",
       "      <td>2300000</td>\n",
       "    </tr>\n",
       "    <tr>\n",
       "      <td>6</td>\n",
       "      <td>Sony</td>\n",
       "      <td>PlayStation Portable</td>\n",
       "      <td>2005</td>\n",
       "      <td>2100000</td>\n",
       "    </tr>\n",
       "    <tr>\n",
       "      <td>7</td>\n",
       "      <td>Nintendo</td>\n",
       "      <td>Nintendo 3DS</td>\n",
       "      <td>2011</td>\n",
       "      <td>2000000</td>\n",
       "    </tr>\n",
       "    <tr>\n",
       "      <td>8</td>\n",
       "      <td>Nintendo</td>\n",
       "      <td>Game Boy Advance</td>\n",
       "      <td>2001</td>\n",
       "      <td>1600000</td>\n",
       "    </tr>\n",
       "    <tr>\n",
       "      <td>9</td>\n",
       "      <td>Sony</td>\n",
       "      <td>PlayStation</td>\n",
       "      <td>1995</td>\n",
       "      <td>1400000</td>\n",
       "    </tr>\n",
       "    <tr>\n",
       "      <td>10</td>\n",
       "      <td>Microsoft</td>\n",
       "      <td>Xbox 360</td>\n",
       "      <td>2005</td>\n",
       "      <td>1000000</td>\n",
       "    </tr>\n",
       "    <tr>\n",
       "      <td>11</td>\n",
       "      <td>Nintendo</td>\n",
       "      <td>Switch</td>\n",
       "      <td>2017</td>\n",
       "      <td>1000000</td>\n",
       "    </tr>\n",
       "    <tr>\n",
       "      <td>12</td>\n",
       "      <td>Sega</td>\n",
       "      <td>Mega Drive</td>\n",
       "      <td>1990</td>\n",
       "      <td>600000</td>\n",
       "    </tr>\n",
       "    <tr>\n",
       "      <td>13</td>\n",
       "      <td>Sony</td>\n",
       "      <td>PlayStation Vita</td>\n",
       "      <td>2012</td>\n",
       "      <td>600000</td>\n",
       "    </tr>\n",
       "    <tr>\n",
       "      <td>14</td>\n",
       "      <td>Sega</td>\n",
       "      <td>Master System</td>\n",
       "      <td>1987</td>\n",
       "      <td>550000</td>\n",
       "    </tr>\n",
       "    <tr>\n",
       "      <td>15</td>\n",
       "      <td>Nintendo</td>\n",
       "      <td>NES</td>\n",
       "      <td>1987</td>\n",
       "      <td>440000</td>\n",
       "    </tr>\n",
       "    <tr>\n",
       "      <td>16</td>\n",
       "      <td>Microsoft</td>\n",
       "      <td>Xbox One</td>\n",
       "      <td>2013</td>\n",
       "      <td>305000</td>\n",
       "    </tr>\n",
       "    <tr>\n",
       "      <td>17</td>\n",
       "      <td>Nintendo</td>\n",
       "      <td>SNES</td>\n",
       "      <td>1992</td>\n",
       "      <td>300000</td>\n",
       "    </tr>\n",
       "    <tr>\n",
       "      <td>18</td>\n",
       "      <td>Nintendo</td>\n",
       "      <td>GameCube</td>\n",
       "      <td>2002</td>\n",
       "      <td>300000</td>\n",
       "    </tr>\n",
       "    <tr>\n",
       "      <td>19</td>\n",
       "      <td>Sega</td>\n",
       "      <td>Dreamcast</td>\n",
       "      <td>1999</td>\n",
       "      <td>200000</td>\n",
       "    </tr>\n",
       "    <tr>\n",
       "      <td>20</td>\n",
       "      <td>Sega</td>\n",
       "      <td>Saturn</td>\n",
       "      <td>1995</td>\n",
       "      <td>70000</td>\n",
       "    </tr>\n",
       "  </tbody>\n",
       "</table>\n",
       "</div>"
      ],
      "text/plain": [
       "   Fabricante               Consola  Lanzamiento  Unidades vendidas\n",
       "0    Nintendo           Nintendo DS         2005            5700000\n",
       "1        Sony         PlayStation 2         2000            5000000\n",
       "2        Sony         PlayStation 4         2013            3000000\n",
       "3    Nintendo                   Wii         2006            2700000\n",
       "4        Sony         PlayStation 3         2007            2700000\n",
       "5    Nintendo              Game Boy         1991            2300000\n",
       "6        Sony  PlayStation Portable         2005            2100000\n",
       "7    Nintendo          Nintendo 3DS         2011            2000000\n",
       "8    Nintendo      Game Boy Advance         2001            1600000\n",
       "9        Sony           PlayStation         1995            1400000\n",
       "10  Microsoft              Xbox 360         2005            1000000\n",
       "11   Nintendo                Switch         2017            1000000\n",
       "12       Sega            Mega Drive         1990             600000\n",
       "13       Sony      PlayStation Vita         2012             600000\n",
       "14       Sega         Master System         1987             550000\n",
       "15   Nintendo                   NES         1987             440000\n",
       "16  Microsoft              Xbox One         2013             305000\n",
       "17   Nintendo                  SNES         1992             300000\n",
       "18   Nintendo              GameCube         2002             300000\n",
       "19       Sega             Dreamcast         1999             200000\n",
       "20       Sega                Saturn         1995              70000"
      ]
     },
     "execution_count": 85,
     "metadata": {},
     "output_type": "execute_result"
    }
   ],
   "source": [
    "print (titulo)\n",
    "df"
   ]
  },
  {
   "cell_type": "code",
   "execution_count": 86,
   "metadata": {},
   "outputs": [
    {
     "name": "stdout",
     "output_type": "stream",
     "text": [
      "<class 'pandas.core.frame.DataFrame'>\n",
      "RangeIndex: 21 entries, 0 to 20\n",
      "Data columns (total 4 columns):\n",
      "Fabricante           21 non-null object\n",
      "Consola              21 non-null object\n",
      "Lanzamiento          21 non-null int64\n",
      "Unidades vendidas    21 non-null int64\n",
      "dtypes: int64(2), object(2)\n",
      "memory usage: 800.0+ bytes\n"
     ]
    }
   ],
   "source": [
    "df.info()"
   ]
  },
  {
   "cell_type": "code",
   "execution_count": 88,
   "metadata": {},
   "outputs": [
    {
     "data": {
      "text/plain": [
       "14800000"
      ]
     },
     "execution_count": 88,
     "metadata": {},
     "output_type": "execute_result"
    }
   ],
   "source": [
    "df[df.Fabricante=='Sony']['Unidades vendidas'].sum()"
   ]
  },
  {
   "cell_type": "markdown",
   "metadata": {},
   "source": [
    "### ejemplo emsc"
   ]
  },
  {
   "cell_type": "code",
   "execution_count": 90,
   "metadata": {},
   "outputs": [
    {
     "data": {
      "text/plain": [
       "200"
      ]
     },
     "execution_count": 90,
     "metadata": {},
     "output_type": "execute_result"
    }
   ],
   "source": [
    "url='https://www.emsc-csem.org/Earthquake/'\n",
    "\n",
    "res=requests.get(url)\n",
    "\n",
    "res.status_code"
   ]
  },
  {
   "cell_type": "code",
   "execution_count": 93,
   "metadata": {},
   "outputs": [],
   "source": [
    "soup=bs(res.text.encode('utf-8'))\n",
    "\n",
    "#soup"
   ]
  },
  {
   "cell_type": "code",
   "execution_count": 99,
   "metadata": {},
   "outputs": [
    {
     "data": {
      "text/plain": [
       "[<td class=\"tabev0\"></td>,\n",
       " <td class=\"tabev0\"></td>,\n",
       " <td class=\"tabev0\"></td>,\n",
       " <td class=\"tabev6\"><b><i style=\"display:none;\">earthquake</i><a href=\"/Earthquake/earthquake.php?id=845940\">2020-04-07   19:37:42.0</a></b><i class=\"ago\" id=\"ago0\">31min ago</i></td>,\n",
       " <td class=\"tabev1\">2.46 </td>,\n",
       " <td class=\"tabev2\">S  </td>,\n",
       " <td class=\"tabev1\">120.60 </td>,\n",
       " <td class=\"tabev2\">E  </td>,\n",
       " <td class=\"tabev3\">10</td>,\n",
       " <td class=\"tabev5\" id=\"magtyp0\"> M</td>,\n",
       " <td class=\"tabev2\">2.5</td>,\n",
       " <td class=\"tb_region\" id=\"reg0\"> SULAWESI, INDONESIA</td>,\n",
       " <td class=\"comment updatetimeno\" id=\"upd0\" style=\"text-align:right;\">2020-04-07 19:55</td>]"
      ]
     },
     "execution_count": 99,
     "metadata": {},
     "output_type": "execute_result"
    }
   ],
   "source": [
    "t=soup.select('#tbody tr')\n",
    "\n",
    "m=t[0].select('td')\n",
    "\n",
    "m"
   ]
  },
  {
   "cell_type": "code",
   "execution_count": 101,
   "metadata": {},
   "outputs": [],
   "source": [
    "earthquake={\n",
    "    'date':m[3].find('a').text,\n",
    "    'region':m[-2].text,\n",
    "    'lat':m[4].text+m[5].text,\n",
    "    'lng':m[6].text+m[7].text\n",
    "}"
   ]
  },
  {
   "cell_type": "code",
   "execution_count": 102,
   "metadata": {},
   "outputs": [
    {
     "data": {
      "text/plain": [
       "{'date': '2020-04-07\\xa0\\xa0\\xa019:37:42.0',\n",
       " 'region': '\\xa0SULAWESI, INDONESIA',\n",
       " 'lat': '2.46\\xa0S\\xa0\\xa0',\n",
       " 'lng': '120.60\\xa0E\\xa0\\xa0'}"
      ]
     },
     "execution_count": 102,
     "metadata": {},
     "output_type": "execute_result"
    }
   ],
   "source": [
    "earthquake"
   ]
  },
  {
   "cell_type": "code",
   "execution_count": 104,
   "metadata": {},
   "outputs": [],
   "source": [
    "import unidecode\n",
    "\n",
    "earthquake={k:unidecode.unidecode(v).strip() for k,v in earthquake.items()}"
   ]
  },
  {
   "cell_type": "code",
   "execution_count": 105,
   "metadata": {},
   "outputs": [
    {
     "data": {
      "text/plain": [
       "{'date': '2020-04-07   19:37:42.0',\n",
       " 'region': 'SULAWESI, INDONESIA',\n",
       " 'lat': '2.46 S',\n",
       " 'lng': '120.60 E'}"
      ]
     },
     "execution_count": 105,
     "metadata": {},
     "output_type": "execute_result"
    }
   ],
   "source": [
    "earthquake"
   ]
  },
  {
   "cell_type": "code",
   "execution_count": 109,
   "metadata": {},
   "outputs": [
    {
     "ename": "ValueError",
     "evalue": "If using all scalar values, you must pass an index",
     "output_type": "error",
     "traceback": [
      "\u001b[0;31m---------------------------------------------------------------------------\u001b[0m",
      "\u001b[0;31mValueError\u001b[0m                                Traceback (most recent call last)",
      "\u001b[0;32m<ipython-input-109-941a05b143bd>\u001b[0m in \u001b[0;36m<module>\u001b[0;34m\u001b[0m\n\u001b[0;32m----> 1\u001b[0;31m \u001b[0mdf\u001b[0m\u001b[0;34m=\u001b[0m\u001b[0mpd\u001b[0m\u001b[0;34m.\u001b[0m\u001b[0mDataFrame\u001b[0m\u001b[0;34m(\u001b[0m\u001b[0mearthquake\u001b[0m\u001b[0;34m)\u001b[0m\u001b[0;34m\u001b[0m\u001b[0;34m\u001b[0m\u001b[0m\n\u001b[0m\u001b[1;32m      2\u001b[0m \u001b[0mdf\u001b[0m\u001b[0;34m\u001b[0m\u001b[0;34m\u001b[0m\u001b[0m\n",
      "\u001b[0;32m/usr/local/lib/python3.7/site-packages/pandas/core/frame.py\u001b[0m in \u001b[0;36m__init__\u001b[0;34m(self, data, index, columns, dtype, copy)\u001b[0m\n\u001b[1;32m    409\u001b[0m             )\n\u001b[1;32m    410\u001b[0m         \u001b[0;32melif\u001b[0m \u001b[0misinstance\u001b[0m\u001b[0;34m(\u001b[0m\u001b[0mdata\u001b[0m\u001b[0;34m,\u001b[0m \u001b[0mdict\u001b[0m\u001b[0;34m)\u001b[0m\u001b[0;34m:\u001b[0m\u001b[0;34m\u001b[0m\u001b[0;34m\u001b[0m\u001b[0m\n\u001b[0;32m--> 411\u001b[0;31m             \u001b[0mmgr\u001b[0m \u001b[0;34m=\u001b[0m \u001b[0minit_dict\u001b[0m\u001b[0;34m(\u001b[0m\u001b[0mdata\u001b[0m\u001b[0;34m,\u001b[0m \u001b[0mindex\u001b[0m\u001b[0;34m,\u001b[0m \u001b[0mcolumns\u001b[0m\u001b[0;34m,\u001b[0m \u001b[0mdtype\u001b[0m\u001b[0;34m=\u001b[0m\u001b[0mdtype\u001b[0m\u001b[0;34m)\u001b[0m\u001b[0;34m\u001b[0m\u001b[0;34m\u001b[0m\u001b[0m\n\u001b[0m\u001b[1;32m    412\u001b[0m         \u001b[0;32melif\u001b[0m \u001b[0misinstance\u001b[0m\u001b[0;34m(\u001b[0m\u001b[0mdata\u001b[0m\u001b[0;34m,\u001b[0m \u001b[0mma\u001b[0m\u001b[0;34m.\u001b[0m\u001b[0mMaskedArray\u001b[0m\u001b[0;34m)\u001b[0m\u001b[0;34m:\u001b[0m\u001b[0;34m\u001b[0m\u001b[0;34m\u001b[0m\u001b[0m\n\u001b[1;32m    413\u001b[0m             \u001b[0;32mimport\u001b[0m \u001b[0mnumpy\u001b[0m\u001b[0;34m.\u001b[0m\u001b[0mma\u001b[0m\u001b[0;34m.\u001b[0m\u001b[0mmrecords\u001b[0m \u001b[0;32mas\u001b[0m \u001b[0mmrecords\u001b[0m\u001b[0;34m\u001b[0m\u001b[0;34m\u001b[0m\u001b[0m\n",
      "\u001b[0;32m/usr/local/lib/python3.7/site-packages/pandas/core/internals/construction.py\u001b[0m in \u001b[0;36minit_dict\u001b[0;34m(data, index, columns, dtype)\u001b[0m\n\u001b[1;32m    255\u001b[0m             \u001b[0marr\u001b[0m \u001b[0;32mif\u001b[0m \u001b[0;32mnot\u001b[0m \u001b[0mis_datetime64tz_dtype\u001b[0m\u001b[0;34m(\u001b[0m\u001b[0marr\u001b[0m\u001b[0;34m)\u001b[0m \u001b[0;32melse\u001b[0m \u001b[0marr\u001b[0m\u001b[0;34m.\u001b[0m\u001b[0mcopy\u001b[0m\u001b[0;34m(\u001b[0m\u001b[0;34m)\u001b[0m \u001b[0;32mfor\u001b[0m \u001b[0marr\u001b[0m \u001b[0;32min\u001b[0m \u001b[0marrays\u001b[0m\u001b[0;34m\u001b[0m\u001b[0;34m\u001b[0m\u001b[0m\n\u001b[1;32m    256\u001b[0m         ]\n\u001b[0;32m--> 257\u001b[0;31m     \u001b[0;32mreturn\u001b[0m \u001b[0marrays_to_mgr\u001b[0m\u001b[0;34m(\u001b[0m\u001b[0marrays\u001b[0m\u001b[0;34m,\u001b[0m \u001b[0mdata_names\u001b[0m\u001b[0;34m,\u001b[0m \u001b[0mindex\u001b[0m\u001b[0;34m,\u001b[0m \u001b[0mcolumns\u001b[0m\u001b[0;34m,\u001b[0m \u001b[0mdtype\u001b[0m\u001b[0;34m=\u001b[0m\u001b[0mdtype\u001b[0m\u001b[0;34m)\u001b[0m\u001b[0;34m\u001b[0m\u001b[0;34m\u001b[0m\u001b[0m\n\u001b[0m\u001b[1;32m    258\u001b[0m \u001b[0;34m\u001b[0m\u001b[0m\n\u001b[1;32m    259\u001b[0m \u001b[0;34m\u001b[0m\u001b[0m\n",
      "\u001b[0;32m/usr/local/lib/python3.7/site-packages/pandas/core/internals/construction.py\u001b[0m in \u001b[0;36marrays_to_mgr\u001b[0;34m(arrays, arr_names, index, columns, dtype)\u001b[0m\n\u001b[1;32m     75\u001b[0m     \u001b[0;31m# figure out the index, if necessary\u001b[0m\u001b[0;34m\u001b[0m\u001b[0;34m\u001b[0m\u001b[0;34m\u001b[0m\u001b[0m\n\u001b[1;32m     76\u001b[0m     \u001b[0;32mif\u001b[0m \u001b[0mindex\u001b[0m \u001b[0;32mis\u001b[0m \u001b[0;32mNone\u001b[0m\u001b[0;34m:\u001b[0m\u001b[0;34m\u001b[0m\u001b[0;34m\u001b[0m\u001b[0m\n\u001b[0;32m---> 77\u001b[0;31m         \u001b[0mindex\u001b[0m \u001b[0;34m=\u001b[0m \u001b[0mextract_index\u001b[0m\u001b[0;34m(\u001b[0m\u001b[0marrays\u001b[0m\u001b[0;34m)\u001b[0m\u001b[0;34m\u001b[0m\u001b[0;34m\u001b[0m\u001b[0m\n\u001b[0m\u001b[1;32m     78\u001b[0m     \u001b[0;32melse\u001b[0m\u001b[0;34m:\u001b[0m\u001b[0;34m\u001b[0m\u001b[0;34m\u001b[0m\u001b[0m\n\u001b[1;32m     79\u001b[0m         \u001b[0mindex\u001b[0m \u001b[0;34m=\u001b[0m \u001b[0mensure_index\u001b[0m\u001b[0;34m(\u001b[0m\u001b[0mindex\u001b[0m\u001b[0;34m)\u001b[0m\u001b[0;34m\u001b[0m\u001b[0;34m\u001b[0m\u001b[0m\n",
      "\u001b[0;32m/usr/local/lib/python3.7/site-packages/pandas/core/internals/construction.py\u001b[0m in \u001b[0;36mextract_index\u001b[0;34m(data)\u001b[0m\n\u001b[1;32m    356\u001b[0m \u001b[0;34m\u001b[0m\u001b[0m\n\u001b[1;32m    357\u001b[0m         \u001b[0;32mif\u001b[0m \u001b[0;32mnot\u001b[0m \u001b[0mindexes\u001b[0m \u001b[0;32mand\u001b[0m \u001b[0;32mnot\u001b[0m \u001b[0mraw_lengths\u001b[0m\u001b[0;34m:\u001b[0m\u001b[0;34m\u001b[0m\u001b[0;34m\u001b[0m\u001b[0m\n\u001b[0;32m--> 358\u001b[0;31m             \u001b[0;32mraise\u001b[0m \u001b[0mValueError\u001b[0m\u001b[0;34m(\u001b[0m\u001b[0;34m\"If using all scalar values, you must pass an index\"\u001b[0m\u001b[0;34m)\u001b[0m\u001b[0;34m\u001b[0m\u001b[0;34m\u001b[0m\u001b[0m\n\u001b[0m\u001b[1;32m    359\u001b[0m \u001b[0;34m\u001b[0m\u001b[0m\n\u001b[1;32m    360\u001b[0m         \u001b[0;32mif\u001b[0m \u001b[0mhave_series\u001b[0m\u001b[0;34m:\u001b[0m\u001b[0;34m\u001b[0m\u001b[0;34m\u001b[0m\u001b[0m\n",
      "\u001b[0;31mValueError\u001b[0m: If using all scalar values, you must pass an index"
     ]
    }
   ],
   "source": [
    "df=pd.DataFrame(earthquake)\n",
    "df"
   ]
  },
  {
   "cell_type": "code",
   "execution_count": 110,
   "metadata": {},
   "outputs": [
    {
     "data": {
      "text/html": [
       "<div>\n",
       "<style scoped>\n",
       "    .dataframe tbody tr th:only-of-type {\n",
       "        vertical-align: middle;\n",
       "    }\n",
       "\n",
       "    .dataframe tbody tr th {\n",
       "        vertical-align: top;\n",
       "    }\n",
       "\n",
       "    .dataframe thead th {\n",
       "        text-align: right;\n",
       "    }\n",
       "</style>\n",
       "<table border=\"1\" class=\"dataframe\">\n",
       "  <thead>\n",
       "    <tr style=\"text-align: right;\">\n",
       "      <th></th>\n",
       "      <th>date</th>\n",
       "      <th>region</th>\n",
       "      <th>lat</th>\n",
       "      <th>lng</th>\n",
       "    </tr>\n",
       "  </thead>\n",
       "  <tbody>\n",
       "    <tr>\n",
       "      <td>0</td>\n",
       "      <td>2020-04-07   19:37:42.0</td>\n",
       "      <td>SULAWESI, INDONESIA</td>\n",
       "      <td>2.46 S</td>\n",
       "      <td>120.60 E</td>\n",
       "    </tr>\n",
       "  </tbody>\n",
       "</table>\n",
       "</div>"
      ],
      "text/plain": [
       "                      date               region     lat       lng\n",
       "0  2020-04-07   19:37:42.0  SULAWESI, INDONESIA  2.46 S  120.60 E"
      ]
     },
     "execution_count": 110,
     "metadata": {},
     "output_type": "execute_result"
    }
   ],
   "source": [
    "df=pd.DataFrame([earthquake])\n",
    "df"
   ]
  },
  {
   "cell_type": "markdown",
   "metadata": {},
   "source": [
    "### ejemplo wikipedia 4 Cryptos"
   ]
  },
  {
   "cell_type": "code",
   "execution_count": 111,
   "metadata": {},
   "outputs": [],
   "source": [
    "url='https://es.wikipedia.org/wiki/Criptomoneda'"
   ]
  },
  {
   "cell_type": "code",
   "execution_count": 112,
   "metadata": {},
   "outputs": [],
   "source": [
    "res=requests.get(url)"
   ]
  },
  {
   "cell_type": "code",
   "execution_count": 116,
   "metadata": {},
   "outputs": [
    {
     "data": {
      "text/plain": [
       "'Criptomoneda - Wikipedia, la enciclopedia libre'"
      ]
     },
     "execution_count": 116,
     "metadata": {},
     "output_type": "execute_result"
    }
   ],
   "source": [
    "soup=bs(res.text, 'html.parser')\n",
    "soup.title.text"
   ]
  },
  {
   "cell_type": "code",
   "execution_count": 118,
   "metadata": {},
   "outputs": [
    {
     "data": {
      "text/plain": [
       "<td><table style=\"width:200px; float:left; border-collapse:collapse; margin:3px; background-color:#f8f8f8;\"><tbody><tr><td style=\"height:200px; border:1px solid #CCCCCC; padding:0px;\"><div class=\"center\"><div class=\"floatnone\"><a class=\"image\" href=\"/wiki/Archivo:051_Crypto_4C_pixel.png\" title=\"Logotipo de Crypto International AG (2018)\"><img alt=\"\" class=\"thumbborder\" data-file-height=\"175\" data-file-width=\"1185\" decoding=\"async\" height=\"27\" src=\"//upload.wikimedia.org/wikipedia/commons/thumb/7/78/051_Crypto_4C_pixel.png/180px-051_Crypto_4C_pixel.png\" srcset=\"//upload.wikimedia.org/wikipedia/commons/thumb/7/78/051_Crypto_4C_pixel.png/270px-051_Crypto_4C_pixel.png 1.5x, //upload.wikimedia.org/wikipedia/commons/thumb/7/78/051_Crypto_4C_pixel.png/360px-051_Crypto_4C_pixel.png 2x\" width=\"180\"/></a></div></div></td></tr><tr style=\"border-right:1px solid #F0F0F0; border-bottom:1px solid #f0f0f0; border-left:1px solid #f0f0f0; vertical-align:top;\"><td style=\"display:block; font-size:1em; height:3.2em; padding:0px;\"><div class=\"gallerytext\" style=\"height:3.1em; width:187px; line-height:1.3em; padding:2px 6px 1px 6px; overflow-y:auto; margin:0px; border:none; border-width:0px;\">Logotipo de Crypto International AG (2018)\n",
       "   </div></td></tr></tbody></table><table style=\"width:200px; float:left; border-collapse:collapse; margin:3px; background-color:#f8f8f8;\"><tbody><tr><td style=\"height:200px; border:1px solid #CCCCCC; padding:0px;\"><div class=\"center\"><div class=\"floatnone\"><a class=\"image\" href=\"/wiki/Archivo:0xbitcoin_logo.png\" title=\"Logotipo del token minable ERC20, 0xBitcoin\"><img alt=\"\" class=\"thumbborder\" data-file-height=\"400\" data-file-width=\"400\" decoding=\"async\" height=\"180\" src=\"//upload.wikimedia.org/wikipedia/commons/thumb/d/d6/0xbitcoin_logo.png/180px-0xbitcoin_logo.png\" srcset=\"//upload.wikimedia.org/wikipedia/commons/thumb/d/d6/0xbitcoin_logo.png/270px-0xbitcoin_logo.png 1.5x, //upload.wikimedia.org/wikipedia/commons/thumb/d/d6/0xbitcoin_logo.png/360px-0xbitcoin_logo.png 2x\" width=\"180\"/></a></div></div></td></tr><tr style=\"border-right:1px solid #F0F0F0; border-bottom:1px solid #f0f0f0; border-left:1px solid #f0f0f0; vertical-align:top;\"><td style=\"display:block; font-size:1em; height:3.2em; padding:0px;\"><div class=\"gallerytext\" style=\"height:3.1em; width:187px; line-height:1.3em; padding:2px 6px 1px 6px; overflow-y:auto; margin:0px; border:none; border-width:0px;\">Logotipo del <i>token minable</i> ERC20, 0xBitcoin\n",
       "   </div></td></tr></tbody></table><table style=\"width:200px; float:left; border-collapse:collapse; margin:3px; background-color:#f8f8f8;\"><tbody><tr><td style=\"height:200px; border:1px solid #CCCCCC; padding:0px;\"><div class=\"center\"><div class=\"floatnone\"><a class=\"image\" href=\"/wiki/Archivo:Aidos_Kuneen_Logo.png\" title=\"Logotipo de Aidos Kuneen\"><img alt=\"\" class=\"thumbborder\" data-file-height=\"505\" data-file-width=\"500\" decoding=\"async\" height=\"180\" src=\"//upload.wikimedia.org/wikipedia/commons/thumb/4/46/Aidos_Kuneen_Logo.png/178px-Aidos_Kuneen_Logo.png\" srcset=\"//upload.wikimedia.org/wikipedia/commons/thumb/4/46/Aidos_Kuneen_Logo.png/267px-Aidos_Kuneen_Logo.png 1.5x, //upload.wikimedia.org/wikipedia/commons/thumb/4/46/Aidos_Kuneen_Logo.png/356px-Aidos_Kuneen_Logo.png 2x\" width=\"178\"/></a></div></div></td></tr><tr style=\"border-right:1px solid #F0F0F0; border-bottom:1px solid #f0f0f0; border-left:1px solid #f0f0f0; vertical-align:top;\"><td style=\"display:block; font-size:1em; height:3.2em; padding:0px;\"><div class=\"gallerytext\" style=\"height:3.1em; width:187px; line-height:1.3em; padding:2px 6px 1px 6px; overflow-y:auto; margin:0px; border:none; border-width:0px;\">Logotipo de Aidos Kuneen\n",
       "   </div></td></tr></tbody></table><table style=\"width:200px; float:left; border-collapse:collapse; margin:3px; background-color:#f8f8f8;\"><tbody><tr><td style=\"height:200px; border:1px solid #CCCCCC; padding:0px;\"><div class=\"center\"><div class=\"floatnone\"><a class=\"image\" href=\"/wiki/Archivo:Akroma-1-1024x500.png\" title=\"Logotipo de Akroma\"><img alt=\"\" class=\"thumbborder\" data-file-height=\"500\" data-file-width=\"1024\" decoding=\"async\" height=\"88\" src=\"//upload.wikimedia.org/wikipedia/commons/thumb/8/88/Akroma-1-1024x500.png/180px-Akroma-1-1024x500.png\" srcset=\"//upload.wikimedia.org/wikipedia/commons/thumb/8/88/Akroma-1-1024x500.png/270px-Akroma-1-1024x500.png 1.5x, //upload.wikimedia.org/wikipedia/commons/thumb/8/88/Akroma-1-1024x500.png/360px-Akroma-1-1024x500.png 2x\" width=\"180\"/></a></div></div></td></tr><tr style=\"border-right:1px solid #F0F0F0; border-bottom:1px solid #f0f0f0; border-left:1px solid #f0f0f0; vertical-align:top;\"><td style=\"display:block; font-size:1em; height:3.2em; padding:0px;\"><div class=\"gallerytext\" style=\"height:3.1em; width:187px; line-height:1.3em; padding:2px 6px 1px 6px; overflow-y:auto; margin:0px; border:none; border-width:0px;\">Logotipo de Akroma \n",
       "   </div></td></tr></tbody></table><table style=\"width:200px; float:left; border-collapse:collapse; margin:3px; background-color:#f8f8f8;\"><tbody><tr><td style=\"height:200px; border:1px solid #CCCCCC; padding:0px;\"><div class=\"center\"><div class=\"floatnone\"><a class=\"image\" href=\"/wiki/Archivo:Applancer.co.png\" title=\"Research &amp; reviews on ICOs, Blockchain &amp; cryptocurrency News - Applancer\"><img alt=\"\" class=\"thumbborder\" data-file-height=\"128\" data-file-width=\"327\" decoding=\"async\" height=\"70\" src=\"//upload.wikimedia.org/wikipedia/commons/thumb/0/0d/Applancer.co.png/180px-Applancer.co.png\" srcset=\"//upload.wikimedia.org/wikipedia/commons/thumb/0/0d/Applancer.co.png/270px-Applancer.co.png 1.5x, //upload.wikimedia.org/wikipedia/commons/0/0d/Applancer.co.png 2x\" width=\"180\"/></a></div></div></td></tr><tr style=\"border-right:1px solid #F0F0F0; border-bottom:1px solid #f0f0f0; border-left:1px solid #f0f0f0; vertical-align:top;\"><td style=\"display:block; font-size:1em; height:3.2em; padding:0px;\"><div class=\"gallerytext\" style=\"height:3.1em; width:187px; line-height:1.3em; padding:2px 6px 1px 6px; overflow-y:auto; margin:0px; border:none; border-width:0px;\">Research &amp; reviews on ICOs, Blockchain &amp; cryptocurrency News - Applancer\n",
       "  </div></td></tr></tbody></table></td>"
      ]
     },
     "execution_count": 118,
     "metadata": {},
     "output_type": "execute_result"
    }
   ],
   "source": [
    "soup.find_all('td')[0]"
   ]
  },
  {
   "cell_type": "code",
   "execution_count": 123,
   "metadata": {},
   "outputs": [
    {
     "data": {
      "text/plain": [
       "<a class=\"image\" href=\"/wiki/Archivo:051_Crypto_4C_pixel.png\" title=\"Logotipo de Crypto International AG (2018)\"><img alt=\"\" class=\"thumbborder\" data-file-height=\"175\" data-file-width=\"1185\" decoding=\"async\" height=\"27\" src=\"//upload.wikimedia.org/wikipedia/commons/thumb/7/78/051_Crypto_4C_pixel.png/180px-051_Crypto_4C_pixel.png\" srcset=\"//upload.wikimedia.org/wikipedia/commons/thumb/7/78/051_Crypto_4C_pixel.png/270px-051_Crypto_4C_pixel.png 1.5x, //upload.wikimedia.org/wikipedia/commons/thumb/7/78/051_Crypto_4C_pixel.png/360px-051_Crypto_4C_pixel.png 2x\" width=\"180\"/></a>"
      ]
     },
     "execution_count": 123,
     "metadata": {},
     "output_type": "execute_result"
    }
   ],
   "source": [
    "lst_elem=soup.select('tr td a')\n",
    "\n",
    "lst_elem[0]"
   ]
  },
  {
   "cell_type": "code",
   "execution_count": 124,
   "metadata": {},
   "outputs": [
    {
     "name": "stdout",
     "output_type": "stream",
     "text": [
      " /wiki/Archivo:051_Crypto_4C_pixel.png\n",
      " /wiki/Archivo:0xbitcoin_logo.png\n",
      " /wiki/Archivo:Aidos_Kuneen_Logo.png\n",
      " /wiki/Archivo:Akroma-1-1024x500.png\n",
      " /wiki/Archivo:Applancer.co.png\n",
      "DeepOnion /w/index.php?title=DeepOnion&action=edit&redlink=1\n",
      "Bitcoin /wiki/Bitcoin\n",
      "Ether /w/index.php?title=Ether_(criptomoneda)&action=edit&redlink=1\n",
      "Ripple /wiki/Ripple\n",
      "Litecoin /wiki/Litecoin\n",
      "MaidSafeCoin /w/index.php?title=MaidSafeCoin&action=edit&redlink=1\n",
      "Dash /wiki/Dash_(criptomoneda)\n",
      "Dogecoin /wiki/Dogecoin\n",
      "Monero /wiki/Monero_(criptomoneda)\n",
      "Factom /w/index.php?title=Factom&action=edit&redlink=1\n",
      "BitShares /w/index.php?title=BitShares&action=edit&redlink=1\n",
      "Peercoin /wiki/Peercoin\n",
      "Namecoin /wiki/Namecoin\n",
      "Lisk /w/index.php?title=Lisk&action=edit&redlink=1\n",
      "SolarCoin /w/index.php?title=SolarCoin&action=edit&redlink=1\n",
      "Scolcoin /w/index.php?title=Scolcoin&action=edit&redlink=1\n",
      "Mercoin /w/index.php?title=Mercoin&action=edit&redlink=1\n",
      " /wiki/Wikidata\n",
      "Q13479982 https://www.wikidata.org/wiki/Q13479982\n",
      " /wiki/Wikimedia_Commons\n",
      "Cryptocurrency https://commons.wikimedia.org/wiki/Category:Cryptocurrency\n",
      "LCCN /wiki/Library_of_Congress_Control_Number\n",
      "sh2018001347 https://id.loc.gov/authorities/sh2018001347\n"
     ]
    }
   ],
   "source": [
    "for e in lst_elem:\n",
    "    print (e.text, e.attrs['href'])"
   ]
  },
  {
   "cell_type": "code",
   "execution_count": 126,
   "metadata": {},
   "outputs": [
    {
     "data": {
      "text/plain": [
       "['',\n",
       " 'Logotipo de Crypto International AG (2018)',\n",
       " '',\n",
       " 'Logotipo del token minable ERC20, 0xBitcoin',\n",
       " '',\n",
       " 'Logotipo de Aidos Kuneen',\n",
       " '',\n",
       " 'Logotipo de Akroma',\n",
       " '',\n",
       " 'Research & reviews on ICOs, Blockchain & cryptocurrency News - Applancer',\n",
       " 'Siglas',\n",
       " 'ONION',\n",
       " 'BTC, XBT',\n",
       " 'ETH',\n",
       " 'XRP',\n",
       " 'LTC',\n",
       " 'MAID',\n",
       " 'DASH',\n",
       " 'DOGE',\n",
       " 'XMR',\n",
       " 'FCT',\n",
       " 'BTS',\n",
       " 'PPC',\n",
       " 'NMC',\n",
       " 'LSK',\n",
       " 'SLR',\n",
       " 'SCOL',\n",
       " 'MRN',\n",
       " 'Nombre',\n",
       " 'Bitcoin',\n",
       " 'Ethereum',\n",
       " 'XRP',\n",
       " 'Bitcoin Cash']"
      ]
     },
     "execution_count": 126,
     "metadata": {},
     "output_type": "execute_result"
    }
   ],
   "source": [
    "sel=soup.select('table:nth-of-type(1) tr')[1:-2]\n",
    "list(map(lambda x: x.findChildren()[0].text.strip(), sel))"
   ]
  },
  {
   "cell_type": "code",
   "execution_count": null,
   "metadata": {},
   "outputs": [],
   "source": []
  }
 ],
 "metadata": {
  "kernelspec": {
   "display_name": "Python 3",
   "language": "python",
   "name": "python3"
  },
  "language_info": {
   "codemirror_mode": {
    "name": "ipython",
    "version": 3
   },
   "file_extension": ".py",
   "mimetype": "text/x-python",
   "name": "python",
   "nbconvert_exporter": "python",
   "pygments_lexer": "ipython3",
   "version": "3.7.6"
  }
 },
 "nbformat": 4,
 "nbformat_minor": 2
}
