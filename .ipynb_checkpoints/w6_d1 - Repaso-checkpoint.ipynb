{
 "cells": [
  {
   "cell_type": "code",
   "execution_count": 1,
   "metadata": {},
   "outputs": [],
   "source": [
    "import pandas as pd\n",
    "import numpy as np"
   ]
  },
  {
   "cell_type": "code",
   "execution_count": 2,
   "metadata": {},
   "outputs": [
    {
     "data": {
      "text/html": [
       "<div>\n",
       "<style scoped>\n",
       "    .dataframe tbody tr th:only-of-type {\n",
       "        vertical-align: middle;\n",
       "    }\n",
       "\n",
       "    .dataframe tbody tr th {\n",
       "        vertical-align: top;\n",
       "    }\n",
       "\n",
       "    .dataframe thead th {\n",
       "        text-align: right;\n",
       "    }\n",
       "</style>\n",
       "<table border=\"1\" class=\"dataframe\">\n",
       "  <thead>\n",
       "    <tr style=\"text-align: right;\">\n",
       "      <th></th>\n",
       "      <th>0</th>\n",
       "      <th>1</th>\n",
       "      <th>2</th>\n",
       "      <th>3</th>\n",
       "    </tr>\n",
       "  </thead>\n",
       "  <tbody>\n",
       "    <tr>\n",
       "      <td>0</td>\n",
       "      <td>0.328209</td>\n",
       "      <td>0.287774</td>\n",
       "      <td>0.632022</td>\n",
       "      <td>0.807354</td>\n",
       "    </tr>\n",
       "    <tr>\n",
       "      <td>1</td>\n",
       "      <td>0.970571</td>\n",
       "      <td>0.903464</td>\n",
       "      <td>0.189571</td>\n",
       "      <td>0.809879</td>\n",
       "    </tr>\n",
       "    <tr>\n",
       "      <td>2</td>\n",
       "      <td>0.594926</td>\n",
       "      <td>0.851276</td>\n",
       "      <td>0.811439</td>\n",
       "      <td>0.641736</td>\n",
       "    </tr>\n",
       "    <tr>\n",
       "      <td>3</td>\n",
       "      <td>0.223884</td>\n",
       "      <td>0.366994</td>\n",
       "      <td>0.360482</td>\n",
       "      <td>0.829005</td>\n",
       "    </tr>\n",
       "    <tr>\n",
       "      <td>4</td>\n",
       "      <td>0.911780</td>\n",
       "      <td>0.401707</td>\n",
       "      <td>0.165673</td>\n",
       "      <td>0.829298</td>\n",
       "    </tr>\n",
       "  </tbody>\n",
       "</table>\n",
       "</div>"
      ],
      "text/plain": [
       "          0         1         2         3\n",
       "0  0.328209  0.287774  0.632022  0.807354\n",
       "1  0.970571  0.903464  0.189571  0.809879\n",
       "2  0.594926  0.851276  0.811439  0.641736\n",
       "3  0.223884  0.366994  0.360482  0.829005\n",
       "4  0.911780  0.401707  0.165673  0.829298"
      ]
     },
     "execution_count": 2,
     "metadata": {},
     "output_type": "execute_result"
    }
   ],
   "source": [
    "df=pd.DataFrame(np.random.random((10, 4)))\n",
    "\n",
    "df.head()"
   ]
  },
  {
   "cell_type": "code",
   "execution_count": 3,
   "metadata": {},
   "outputs": [],
   "source": [
    "def suma(x):\n",
    "    return x+10"
   ]
  },
  {
   "cell_type": "code",
   "execution_count": 10,
   "metadata": {},
   "outputs": [],
   "source": [
    "for i in range(len(df)):\n",
    "    df[3][i]=suma(df[3][i])"
   ]
  },
  {
   "cell_type": "code",
   "execution_count": 11,
   "metadata": {},
   "outputs": [
    {
     "data": {
      "text/html": [
       "<div>\n",
       "<style scoped>\n",
       "    .dataframe tbody tr th:only-of-type {\n",
       "        vertical-align: middle;\n",
       "    }\n",
       "\n",
       "    .dataframe tbody tr th {\n",
       "        vertical-align: top;\n",
       "    }\n",
       "\n",
       "    .dataframe thead th {\n",
       "        text-align: right;\n",
       "    }\n",
       "</style>\n",
       "<table border=\"1\" class=\"dataframe\">\n",
       "  <thead>\n",
       "    <tr style=\"text-align: right;\">\n",
       "      <th></th>\n",
       "      <th>0</th>\n",
       "      <th>1</th>\n",
       "      <th>2</th>\n",
       "      <th>3</th>\n",
       "    </tr>\n",
       "  </thead>\n",
       "  <tbody>\n",
       "    <tr>\n",
       "      <td>0</td>\n",
       "      <td>0.328209</td>\n",
       "      <td>0.287774</td>\n",
       "      <td>0.632022</td>\n",
       "      <td>20.807354</td>\n",
       "    </tr>\n",
       "    <tr>\n",
       "      <td>1</td>\n",
       "      <td>0.970571</td>\n",
       "      <td>0.903464</td>\n",
       "      <td>0.189571</td>\n",
       "      <td>20.809879</td>\n",
       "    </tr>\n",
       "    <tr>\n",
       "      <td>2</td>\n",
       "      <td>0.594926</td>\n",
       "      <td>0.851276</td>\n",
       "      <td>0.811439</td>\n",
       "      <td>20.641736</td>\n",
       "    </tr>\n",
       "    <tr>\n",
       "      <td>3</td>\n",
       "      <td>0.223884</td>\n",
       "      <td>0.366994</td>\n",
       "      <td>0.360482</td>\n",
       "      <td>20.829005</td>\n",
       "    </tr>\n",
       "    <tr>\n",
       "      <td>4</td>\n",
       "      <td>0.911780</td>\n",
       "      <td>0.401707</td>\n",
       "      <td>0.165673</td>\n",
       "      <td>20.829298</td>\n",
       "    </tr>\n",
       "  </tbody>\n",
       "</table>\n",
       "</div>"
      ],
      "text/plain": [
       "          0         1         2          3\n",
       "0  0.328209  0.287774  0.632022  20.807354\n",
       "1  0.970571  0.903464  0.189571  20.809879\n",
       "2  0.594926  0.851276  0.811439  20.641736\n",
       "3  0.223884  0.366994  0.360482  20.829005\n",
       "4  0.911780  0.401707  0.165673  20.829298"
      ]
     },
     "execution_count": 11,
     "metadata": {},
     "output_type": "execute_result"
    }
   ],
   "source": [
    "df.head()"
   ]
  },
  {
   "cell_type": "code",
   "execution_count": 19,
   "metadata": {},
   "outputs": [
    {
     "name": "stdout",
     "output_type": "stream",
     "text": [
      "30.80735358609474\n",
      "30.80987917083103\n",
      "30.641736253069553\n",
      "30.829005035351056\n",
      "30.829297543629036\n",
      "30.75039756432713\n",
      "30.02375650556635\n",
      "30.560668154723462\n",
      "30.091618409401356\n",
      "30.72643447670154\n"
     ]
    }
   ],
   "source": [
    "for e in df[3]:\n",
    "    print (suma(e))"
   ]
  },
  {
   "cell_type": "code",
   "execution_count": 23,
   "metadata": {},
   "outputs": [],
   "source": [
    "df[1]=df[1].apply(suma)"
   ]
  },
  {
   "cell_type": "code",
   "execution_count": 24,
   "metadata": {},
   "outputs": [
    {
     "data": {
      "text/html": [
       "<div>\n",
       "<style scoped>\n",
       "    .dataframe tbody tr th:only-of-type {\n",
       "        vertical-align: middle;\n",
       "    }\n",
       "\n",
       "    .dataframe tbody tr th {\n",
       "        vertical-align: top;\n",
       "    }\n",
       "\n",
       "    .dataframe thead th {\n",
       "        text-align: right;\n",
       "    }\n",
       "</style>\n",
       "<table border=\"1\" class=\"dataframe\">\n",
       "  <thead>\n",
       "    <tr style=\"text-align: right;\">\n",
       "      <th></th>\n",
       "      <th>0</th>\n",
       "      <th>1</th>\n",
       "      <th>2</th>\n",
       "      <th>3</th>\n",
       "    </tr>\n",
       "  </thead>\n",
       "  <tbody>\n",
       "    <tr>\n",
       "      <td>0</td>\n",
       "      <td>0.328209</td>\n",
       "      <td>10.287774</td>\n",
       "      <td>0.632022</td>\n",
       "      <td>20.807354</td>\n",
       "    </tr>\n",
       "    <tr>\n",
       "      <td>1</td>\n",
       "      <td>0.970571</td>\n",
       "      <td>10.903464</td>\n",
       "      <td>0.189571</td>\n",
       "      <td>20.809879</td>\n",
       "    </tr>\n",
       "    <tr>\n",
       "      <td>2</td>\n",
       "      <td>0.594926</td>\n",
       "      <td>10.851276</td>\n",
       "      <td>0.811439</td>\n",
       "      <td>20.641736</td>\n",
       "    </tr>\n",
       "    <tr>\n",
       "      <td>3</td>\n",
       "      <td>0.223884</td>\n",
       "      <td>10.366994</td>\n",
       "      <td>0.360482</td>\n",
       "      <td>20.829005</td>\n",
       "    </tr>\n",
       "    <tr>\n",
       "      <td>4</td>\n",
       "      <td>0.911780</td>\n",
       "      <td>10.401707</td>\n",
       "      <td>0.165673</td>\n",
       "      <td>20.829298</td>\n",
       "    </tr>\n",
       "  </tbody>\n",
       "</table>\n",
       "</div>"
      ],
      "text/plain": [
       "          0          1         2          3\n",
       "0  0.328209  10.287774  0.632022  20.807354\n",
       "1  0.970571  10.903464  0.189571  20.809879\n",
       "2  0.594926  10.851276  0.811439  20.641736\n",
       "3  0.223884  10.366994  0.360482  20.829005\n",
       "4  0.911780  10.401707  0.165673  20.829298"
      ]
     },
     "execution_count": 24,
     "metadata": {},
     "output_type": "execute_result"
    }
   ],
   "source": [
    "df.head()"
   ]
  },
  {
   "cell_type": "code",
   "execution_count": 25,
   "metadata": {},
   "outputs": [
    {
     "data": {
      "text/html": [
       "<div>\n",
       "<style scoped>\n",
       "    .dataframe tbody tr th:only-of-type {\n",
       "        vertical-align: middle;\n",
       "    }\n",
       "\n",
       "    .dataframe tbody tr th {\n",
       "        vertical-align: top;\n",
       "    }\n",
       "\n",
       "    .dataframe thead th {\n",
       "        text-align: right;\n",
       "    }\n",
       "</style>\n",
       "<table border=\"1\" class=\"dataframe\">\n",
       "  <thead>\n",
       "    <tr style=\"text-align: right;\">\n",
       "      <th></th>\n",
       "      <th>0</th>\n",
       "      <th>1</th>\n",
       "      <th>2</th>\n",
       "      <th>3</th>\n",
       "    </tr>\n",
       "  </thead>\n",
       "  <tbody>\n",
       "    <tr>\n",
       "      <td>0</td>\n",
       "      <td>10.328209</td>\n",
       "      <td>20.287774</td>\n",
       "      <td>10.632022</td>\n",
       "      <td>30.807354</td>\n",
       "    </tr>\n",
       "    <tr>\n",
       "      <td>1</td>\n",
       "      <td>10.970571</td>\n",
       "      <td>20.903464</td>\n",
       "      <td>10.189571</td>\n",
       "      <td>30.809879</td>\n",
       "    </tr>\n",
       "    <tr>\n",
       "      <td>2</td>\n",
       "      <td>10.594926</td>\n",
       "      <td>20.851276</td>\n",
       "      <td>10.811439</td>\n",
       "      <td>30.641736</td>\n",
       "    </tr>\n",
       "    <tr>\n",
       "      <td>3</td>\n",
       "      <td>10.223884</td>\n",
       "      <td>20.366994</td>\n",
       "      <td>10.360482</td>\n",
       "      <td>30.829005</td>\n",
       "    </tr>\n",
       "    <tr>\n",
       "      <td>4</td>\n",
       "      <td>10.911780</td>\n",
       "      <td>20.401707</td>\n",
       "      <td>10.165673</td>\n",
       "      <td>30.829298</td>\n",
       "    </tr>\n",
       "  </tbody>\n",
       "</table>\n",
       "</div>"
      ],
      "text/plain": [
       "           0          1          2          3\n",
       "0  10.328209  20.287774  10.632022  30.807354\n",
       "1  10.970571  20.903464  10.189571  30.809879\n",
       "2  10.594926  20.851276  10.811439  30.641736\n",
       "3  10.223884  20.366994  10.360482  30.829005\n",
       "4  10.911780  20.401707  10.165673  30.829298"
      ]
     },
     "execution_count": 25,
     "metadata": {},
     "output_type": "execute_result"
    }
   ],
   "source": [
    "df=df.apply(suma)\n",
    "\n",
    "df.head()"
   ]
  },
  {
   "cell_type": "code",
   "execution_count": null,
   "metadata": {},
   "outputs": [],
   "source": []
  }
 ],
 "metadata": {
  "kernelspec": {
   "display_name": "Python 3",
   "language": "python",
   "name": "python3"
  },
  "language_info": {
   "codemirror_mode": {
    "name": "ipython",
    "version": 3
   },
   "file_extension": ".py",
   "mimetype": "text/x-python",
   "name": "python",
   "nbconvert_exporter": "python",
   "pygments_lexer": "ipython3",
   "version": "3.7.6"
  }
 },
 "nbformat": 4,
 "nbformat_minor": 2
}
