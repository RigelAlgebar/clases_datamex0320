{
 "cells": [
  {
   "cell_type": "markdown",
   "metadata": {},
   "source": [
    "# Regresión  (se busca un nº)"
   ]
  },
  {
   "cell_type": "markdown",
   "metadata": {},
   "source": [
    "### Regresión lineal\n",
    "\n",
    "Se han de tener algunas suposiciones previas:\n",
    "\n",
    "+ Exogeneidad débil (predictores libres de error)\n",
    "+ Linealidad\n",
    "+ Homocedasticidad (Var=cte) y Esperanza nula (**E**=0), la esperanza es la media\n",
    "+ Independencia de los errores\n",
    "+ Falta de colinealidad (independencia lineal)\n",
    "\n",
    "$$y=\\beta_0+\\beta_1x_1+\\beta_2x_2+\\beta_3x_3+\\ldots+\\beta_nx_n+\\epsilon$$\n",
    "\n",
    "El objetivo de la regresion lineal es obtener los $\\beta$:\n",
    "+ Algebraicamente:\n",
    "\n",
    "$$\\vec{\\beta} = (X^{T}X)^{-1}X^{T}y$$\n",
    "\n",
    "+ Minimos cuadrados\n",
    "\n",
    "$$MSE = \\frac{1}{n} \\sum_{i=1}^{n} (y-\\hat{y})^{2}$$\n",
    "\n",
    "Ejemplo)\n",
    "\n",
    "$y = \\beta_0 + \\beta_1x_1 + \\epsilon$\n",
    "\n",
    "Entonces, derivando MSE e igualando a 0:\n",
    "\n",
    "$\\beta_0 = \\frac{\\sum y - \\beta_1\\sum x}{n} = \\bar{y} - \\beta_1\\bar{x}$\n",
    "\n",
    "$\\beta_1=\\frac{\\sum (x-\\hat{x})(y-\\hat{y})}{\\sum (x-\\hat{x})}$\n",
    "\n"
   ]
  },
  {
   "cell_type": "code",
   "execution_count": 47,
   "metadata": {},
   "outputs": [],
   "source": [
    "import matplotlib.pyplot as plt \n",
    "from mpl_toolkits.mplot3d import Axes3D\n",
    "%matplotlib inline        \n",
    "\n",
    "import numpy as np\n",
    "import pandas as pd \n",
    "\n",
    "from sklearn.datasets import make_circles, load_boston\n",
    "from sklearn.model_selection import train_test_split as tts\n",
    "\n",
    "from sklearn.linear_model import LinearRegression as LinReg\n",
    "from sklearn.linear_model import Lasso\n",
    "from sklearn.linear_model import Ridge\n",
    "from sklearn.linear_model import ElasticNet"
   ]
  },
  {
   "cell_type": "code",
   "execution_count": 48,
   "metadata": {},
   "outputs": [],
   "source": [
    "boston=load_boston()"
   ]
  },
  {
   "cell_type": "code",
   "execution_count": 49,
   "metadata": {},
   "outputs": [
    {
     "data": {
      "text/html": [
       "<div>\n",
       "<style scoped>\n",
       "    .dataframe tbody tr th:only-of-type {\n",
       "        vertical-align: middle;\n",
       "    }\n",
       "\n",
       "    .dataframe tbody tr th {\n",
       "        vertical-align: top;\n",
       "    }\n",
       "\n",
       "    .dataframe thead th {\n",
       "        text-align: right;\n",
       "    }\n",
       "</style>\n",
       "<table border=\"1\" class=\"dataframe\">\n",
       "  <thead>\n",
       "    <tr style=\"text-align: right;\">\n",
       "      <th></th>\n",
       "      <th>CRIM</th>\n",
       "      <th>ZN</th>\n",
       "      <th>INDUS</th>\n",
       "      <th>CHAS</th>\n",
       "      <th>NOX</th>\n",
       "      <th>RM</th>\n",
       "      <th>AGE</th>\n",
       "      <th>DIS</th>\n",
       "      <th>RAD</th>\n",
       "      <th>TAX</th>\n",
       "      <th>PTRATIO</th>\n",
       "      <th>B</th>\n",
       "      <th>LSTAT</th>\n",
       "      <th>price</th>\n",
       "    </tr>\n",
       "  </thead>\n",
       "  <tbody>\n",
       "    <tr>\n",
       "      <td>0</td>\n",
       "      <td>0.00632</td>\n",
       "      <td>18.0</td>\n",
       "      <td>2.31</td>\n",
       "      <td>0.0</td>\n",
       "      <td>0.538</td>\n",
       "      <td>6.575</td>\n",
       "      <td>65.2</td>\n",
       "      <td>4.0900</td>\n",
       "      <td>1.0</td>\n",
       "      <td>296.0</td>\n",
       "      <td>15.3</td>\n",
       "      <td>396.90</td>\n",
       "      <td>4.98</td>\n",
       "      <td>24.0</td>\n",
       "    </tr>\n",
       "    <tr>\n",
       "      <td>1</td>\n",
       "      <td>0.02731</td>\n",
       "      <td>0.0</td>\n",
       "      <td>7.07</td>\n",
       "      <td>0.0</td>\n",
       "      <td>0.469</td>\n",
       "      <td>6.421</td>\n",
       "      <td>78.9</td>\n",
       "      <td>4.9671</td>\n",
       "      <td>2.0</td>\n",
       "      <td>242.0</td>\n",
       "      <td>17.8</td>\n",
       "      <td>396.90</td>\n",
       "      <td>9.14</td>\n",
       "      <td>21.6</td>\n",
       "    </tr>\n",
       "    <tr>\n",
       "      <td>2</td>\n",
       "      <td>0.02729</td>\n",
       "      <td>0.0</td>\n",
       "      <td>7.07</td>\n",
       "      <td>0.0</td>\n",
       "      <td>0.469</td>\n",
       "      <td>7.185</td>\n",
       "      <td>61.1</td>\n",
       "      <td>4.9671</td>\n",
       "      <td>2.0</td>\n",
       "      <td>242.0</td>\n",
       "      <td>17.8</td>\n",
       "      <td>392.83</td>\n",
       "      <td>4.03</td>\n",
       "      <td>34.7</td>\n",
       "    </tr>\n",
       "    <tr>\n",
       "      <td>3</td>\n",
       "      <td>0.03237</td>\n",
       "      <td>0.0</td>\n",
       "      <td>2.18</td>\n",
       "      <td>0.0</td>\n",
       "      <td>0.458</td>\n",
       "      <td>6.998</td>\n",
       "      <td>45.8</td>\n",
       "      <td>6.0622</td>\n",
       "      <td>3.0</td>\n",
       "      <td>222.0</td>\n",
       "      <td>18.7</td>\n",
       "      <td>394.63</td>\n",
       "      <td>2.94</td>\n",
       "      <td>33.4</td>\n",
       "    </tr>\n",
       "    <tr>\n",
       "      <td>4</td>\n",
       "      <td>0.06905</td>\n",
       "      <td>0.0</td>\n",
       "      <td>2.18</td>\n",
       "      <td>0.0</td>\n",
       "      <td>0.458</td>\n",
       "      <td>7.147</td>\n",
       "      <td>54.2</td>\n",
       "      <td>6.0622</td>\n",
       "      <td>3.0</td>\n",
       "      <td>222.0</td>\n",
       "      <td>18.7</td>\n",
       "      <td>396.90</td>\n",
       "      <td>5.33</td>\n",
       "      <td>36.2</td>\n",
       "    </tr>\n",
       "  </tbody>\n",
       "</table>\n",
       "</div>"
      ],
      "text/plain": [
       "      CRIM    ZN  INDUS  CHAS    NOX     RM   AGE     DIS  RAD    TAX  \\\n",
       "0  0.00632  18.0   2.31   0.0  0.538  6.575  65.2  4.0900  1.0  296.0   \n",
       "1  0.02731   0.0   7.07   0.0  0.469  6.421  78.9  4.9671  2.0  242.0   \n",
       "2  0.02729   0.0   7.07   0.0  0.469  7.185  61.1  4.9671  2.0  242.0   \n",
       "3  0.03237   0.0   2.18   0.0  0.458  6.998  45.8  6.0622  3.0  222.0   \n",
       "4  0.06905   0.0   2.18   0.0  0.458  7.147  54.2  6.0622  3.0  222.0   \n",
       "\n",
       "   PTRATIO       B  LSTAT  price  \n",
       "0     15.3  396.90   4.98   24.0  \n",
       "1     17.8  396.90   9.14   21.6  \n",
       "2     17.8  392.83   4.03   34.7  \n",
       "3     18.7  394.63   2.94   33.4  \n",
       "4     18.7  396.90   5.33   36.2  "
      ]
     },
     "execution_count": 49,
     "metadata": {},
     "output_type": "execute_result"
    }
   ],
   "source": [
    "df=pd.DataFrame(boston.data, columns=boston.feature_names)\n",
    "\n",
    "df['price']=boston.target\n",
    "\n",
    "df.head()"
   ]
  },
  {
   "cell_type": "code",
   "execution_count": 50,
   "metadata": {},
   "outputs": [],
   "source": [
    "#X=df.drop('price', axis=1)\n",
    "\n",
    "#y=df.price\n",
    "\n",
    "\n",
    "X=boston.data\n",
    "\n",
    "y=boston.target"
   ]
  },
  {
   "cell_type": "code",
   "execution_count": 51,
   "metadata": {},
   "outputs": [],
   "source": [
    "X_train, X_test, y_train, y_test = tts(X, y, test_size=.2)"
   ]
  },
  {
   "cell_type": "code",
   "execution_count": 52,
   "metadata": {},
   "outputs": [
    {
     "data": {
      "text/plain": [
       "LinearRegression(copy_X=True, fit_intercept=True, n_jobs=None, normalize=False)"
      ]
     },
     "execution_count": 52,
     "metadata": {},
     "output_type": "execute_result"
    }
   ],
   "source": [
    "linreg=LinReg()\n",
    "\n",
    "linreg.fit(X_train, y_train)"
   ]
  },
  {
   "cell_type": "code",
   "execution_count": 53,
   "metadata": {},
   "outputs": [
    {
     "name": "stdout",
     "output_type": "stream",
     "text": [
      "0.7619866447348698 0.6553706102621409\n"
     ]
    }
   ],
   "source": [
    "train_score=linreg.score(X_train, y_train)   # R2\n",
    "test_score=linreg.score(X_test, y_test)\n",
    "\n",
    "print (train_score, test_score)"
   ]
  },
  {
   "cell_type": "code",
   "execution_count": 54,
   "metadata": {},
   "outputs": [
    {
     "data": {
      "text/plain": [
       "array([-9.16720218e-02,  3.13129443e-02, -6.58142518e-03,  1.21319610e+00,\n",
       "       -1.96335571e+01,  3.85612066e+00,  5.51905062e-03, -1.47037035e+00,\n",
       "        3.04136460e-01, -1.28297709e-02, -1.04310226e+00,  8.73820809e-03,\n",
       "       -5.13756565e-01])"
      ]
     },
     "execution_count": 54,
     "metadata": {},
     "output_type": "execute_result"
    }
   ],
   "source": [
    "linreg.coef_"
   ]
  },
  {
   "cell_type": "code",
   "execution_count": 55,
   "metadata": {},
   "outputs": [
    {
     "data": {
      "text/plain": [
       "39.26912236363049"
      ]
     },
     "execution_count": 55,
     "metadata": {},
     "output_type": "execute_result"
    }
   ],
   "source": [
    "linreg.intercept_"
   ]
  },
  {
   "cell_type": "markdown",
   "metadata": {},
   "source": [
    "##### Regularización"
   ]
  },
  {
   "cell_type": "markdown",
   "metadata": {},
   "source": [
    "**Función de Coste o de Pérdida (J)** = Función a minimizar\n",
    "\n",
    "En el caso de la regresión lineal: \n",
    "$$J=MSE$$\n",
    "\n",
    "\n",
    "La regularización es una medida/penalización de la complejidad del modelo. Se añade un término a J que depende del tipo de regularización:\n",
    "\n",
    "$$J = MSE + \\alpha · T$$\n",
    "\n",
    "\n",
    "+ Lasso (L1, norma 1):\n",
    "\n",
    "$$T=\\frac{1}{n}\\sum_{i}  |\\beta_i|$$\n",
    "\n",
    "Muy útil si se sospecha que hay características irrelevantes. Se favorece $\\beta \\approx 0$\n",
    "\n",
    "+ Ridge (L2):\n",
    "\n",
    "$$T=\\frac{1}{2n}\\sum_{i}  \\beta_{i}^{2}$$\n",
    "\n",
    "Muy útil si se sospecha que existe correlación entre las características, minimiza esa correlación. Funciona mejor si todas son relevantes.\n",
    "\n",
    "+ ElasticNet (L1+L2):\n",
    "\n",
    "$$T=r·L1 + (1-r)·L2$$\n",
    "\n",
    "Se usa cuando hay muchas características."
   ]
  },
  {
   "cell_type": "code",
   "execution_count": 56,
   "metadata": {},
   "outputs": [
    {
     "name": "stdout",
     "output_type": "stream",
     "text": [
      "0.7619866447348698 0.6553706102621409\n"
     ]
    }
   ],
   "source": [
    "# Lasso L1\n",
    "\n",
    "lasso=Lasso()\n",
    "lasso.fit(X_train, y_train)\n",
    "\n",
    "\n",
    "train_score=linreg.score(X_train, y_train)   # R2 coeficiente de determinacion\n",
    "test_score=linreg.score(X_test, y_test)\n",
    "\n",
    "print (train_score, test_score)"
   ]
  },
  {
   "cell_type": "code",
   "execution_count": 57,
   "metadata": {},
   "outputs": [
    {
     "name": "stdout",
     "output_type": "stream",
     "text": [
      "0.7619866447348698 0.6553706102621409\n"
     ]
    }
   ],
   "source": [
    "# Ridge L2\n",
    "\n",
    "ridge=Ridge()\n",
    "ridge.fit(X_train, y_train)\n",
    "\n",
    "\n",
    "train_score=linreg.score(X_train, y_train)   # R2\n",
    "test_score=linreg.score(X_test, y_test)\n",
    "\n",
    "print (train_score, test_score)"
   ]
  },
  {
   "cell_type": "code",
   "execution_count": 58,
   "metadata": {},
   "outputs": [
    {
     "name": "stdout",
     "output_type": "stream",
     "text": [
      "0.7619866447348698 0.6553706102621409\n"
     ]
    }
   ],
   "source": [
    "# ElasticNet L1+L2\n",
    "\n",
    "elastic=ElasticNet()\n",
    "elastic.fit(X_train, y_train)\n",
    "\n",
    "\n",
    "train_score=linreg.score(X_train, y_train)   # R2\n",
    "test_score=linreg.score(X_test, y_test)\n",
    "\n",
    "print (train_score, test_score)"
   ]
  },
  {
   "cell_type": "code",
   "execution_count": 59,
   "metadata": {},
   "outputs": [
    {
     "data": {
      "text/plain": [
       "array([-0.05252808,  0.03647472, -0.06085074,  0.        , -0.        ,\n",
       "        0.990998  ,  0.02229502, -0.67968677,  0.26953854, -0.01623911,\n",
       "       -0.7793433 ,  0.00821202, -0.7240587 ])"
      ]
     },
     "execution_count": 59,
     "metadata": {},
     "output_type": "execute_result"
    }
   ],
   "source": [
    "elastic.coef_"
   ]
  },
  {
   "cell_type": "code",
   "execution_count": 60,
   "metadata": {},
   "outputs": [
    {
     "data": {
      "text/plain": [
       "42.41861358606509"
      ]
     },
     "execution_count": 60,
     "metadata": {},
     "output_type": "execute_result"
    }
   ],
   "source": [
    "elastic.intercept_"
   ]
  },
  {
   "cell_type": "markdown",
   "metadata": {},
   "source": [
    "### Máquinas de Soporte Vectorial"
   ]
  },
  {
   "cell_type": "markdown",
   "metadata": {},
   "source": [
    "###### Linealmente separable"
   ]
  },
  {
   "cell_type": "code",
   "execution_count": 61,
   "metadata": {},
   "outputs": [
    {
     "data": {
      "image/png": "[encoded data removed]",
      "text/plain": [
       "<Figure size 432x288 with 1 Axes>"
      ]
     },
     "metadata": {
      "needs_background": "light"
     },
     "output_type": "display_data"
    }
   ],
   "source": [
    "# Datos\n",
    "X, y=make_circles(n_samples=400, factor=.3, noise=.05)\n",
    "\n",
    "\n",
    "c_interno=y==1  # etiqueta circulo interno \n",
    "c_externo=y==0  # etiqueta circulo externo \n",
    "\n",
    "\n",
    "# plot de los circulos\n",
    "plt.title('Dos Circulos')\n",
    "plt.plot(X[c_interno, 0], X[c_interno, 1], 'ro')   # 'ro' es mas o menos color rojo y marker 'o'\n",
    "plt.plot(X[c_externo, 0], X[c_externo, 1], 'bo')\n",
    "plt.show()"
   ]
  },
  {
   "cell_type": "code",
   "execution_count": 62,
   "metadata": {},
   "outputs": [
    {
     "data": {
      "image/png": "[encoded data removed]",
      "text/plain": [
       "<Figure size 432x288 with 1 Axes>"
      ]
     },
     "metadata": {
      "needs_background": "light"
     },
     "output_type": "display_data"
    },
    {
     "data": {
      "image/png": "[encoded data removed]",
      "text/plain": [
       "<Figure size 432x288 with 1 Axes>"
      ]
     },
     "metadata": {
      "needs_background": "light"
     },
     "output_type": "display_data"
    },
    {
     "data": {
      "image/png": "[encoded data removed]",
      "text/plain": [
       "<Figure size 432x288 with 1 Axes>"
      ]
     },
     "metadata": {
      "needs_background": "light"
     },
     "output_type": "display_data"
    }
   ],
   "source": [
    "# plot de los circulos con el umbral \n",
    "\n",
    "plt.title('Dos Circulos_(acotado)')\n",
    "plt.plot(X[c_interno, 0], X[c_interno, 1], 'ro')   \n",
    "plt.plot(X[c_externo, 0], X[c_externo, 1], 'bo')\n",
    "x=np.linspace(-1.0, 1.0, 100)  # para circunferencia umbral\n",
    "y=np.linspace(-1.0, 1.0, 100)\n",
    "z, t=np.meshgrid(x,y)\n",
    "F=(z)**2+(t)**2-0.25\n",
    "plt.contour(z,t,F,[0])\n",
    "plt.show();\n",
    "\n",
    "\n",
    "# Para polares\n",
    "plt.title('Dos Circulos_(cambio de variable)')\n",
    "plt.plot(X[c_interno, 0], X[c_interno, 1], 'ro')   \n",
    "plt.plot(X[c_externo, 0], X[c_externo, 1], 'bo')\n",
    "plt.axvline(x=0.0)  # sistema coordenadas\n",
    "plt.axhline(y=0.0)\n",
    "plt.arrow(0,0,0.72,0.73, color='g')  # vector\n",
    "plt.contour(z,t,F,[0])    # circunferencia r=0.5\n",
    "plt.xlabel('x')\n",
    "plt.ylabel('y')\n",
    "\n",
    "# En polares\n",
    "X, y=make_circles(n_samples=400, factor=.3, noise=.05)\n",
    "\n",
    "\n",
    "def polar_carte(ro, theta):  # definicion coordenadas polares, convierte polares en cartesianas\n",
    "    x=ro*np.cos(theta)\n",
    "    y=ro*np.sin(theta)\n",
    "    return(x, y)\n",
    "\n",
    "def carte_polar(x, y):       # convierte cartesianas en polares\n",
    "    ro=np.sqrt(x**2+y**2)\n",
    "    theta=np.arctan2(y, x)\n",
    "    return(ro, theta)\n",
    "\n",
    "\n",
    "# plot en polares\n",
    "c_interno=y==1  # etiqueta circulo interno \n",
    "c_externo=y==0  # etiqueta circulo externo \n",
    "plt.figure(5)\n",
    "plt.title('Dos Circulos en Polares')\n",
    "plt.plot(carte_polar(X[c_interno, 0], X[c_interno, 1])[0],carte_polar(X[c_interno, 0], X[c_interno, 1])[1], 'ro')    # circulo interno\n",
    "plt.plot(carte_polar(X[c_externo, 0], X[c_externo, 1])[0], carte_polar(X[c_externo, 0], X[c_externo, 1])[1], 'bo')   # circulo externo\n",
    "plt.axvline(x=0.5)          # umbral, recta vertical en x=0.5\n",
    "plt.xlabel('Ro')\n",
    "plt.ylabel('Theta')\n",
    "plt.show();"
   ]
  },
  {
   "cell_type": "markdown",
   "metadata": {},
   "source": [
    "**Kernel Trick**"
   ]
  },
  {
   "cell_type": "code",
   "execution_count": 63,
   "metadata": {},
   "outputs": [
    {
     "data": {
      "image/png": "[encoded data removed]",
      "text/plain": [
       "<Figure size 432x288 with 1 Axes>"
      ]
     },
     "metadata": {
      "needs_background": "light"
     },
     "output_type": "display_data"
    }
   ],
   "source": [
    "ang=np.linspace(-np.pi, np.pi, 200)\n",
    "\n",
    "\n",
    "x=3*np.cos(ang)\n",
    "y=3*np.sin(ang)\n",
    "z=0  # en realidad, la coordenada z=x^2+y^2\n",
    "\n",
    "\n",
    "x_1=5*np.cos(ang)\n",
    "y_1=5*np.sin(ang)\n",
    "z_1=5\n",
    "\n",
    "\n",
    "fig=plt.figure()\n",
    "ax=fig.gca(projection='3d')\n",
    "ax.plot(x, y, z, color='r')\n",
    "ax.plot(x_1, y_1, z_1, color='b')\n",
    "plt.show();"
   ]
  },
  {
   "cell_type": "markdown",
   "metadata": {},
   "source": [
    "###### SVM\n",
    "\n",
    "![](data/svm.png)\n",
    "\n",
    "Genera un hiperplano (n-1)dimensional para separar los datos. Este primer plano es el llamado clasificador lineal (maximizando la distancia a los puntos).\n",
    "\n",
    "$$\\vec{\\omega}\\vec{x}-b=0$$\n",
    "\n",
    "donde :\n",
    "\n",
    "$\\omega$ es el vector normal al plano\n",
    "$x$ son los datos\n",
    "$b$ es el sesgo"
   ]
  },
  {
   "cell_type": "markdown",
   "metadata": {},
   "source": [
    "**Función a minimizar**\n",
    "\n",
    "$$[\\frac{1}{n}\\sum_{i=1}^{n}max(0, 1-y_i(\\vec{\\omega}\\vec{x}-b))] + \\lambda \\|\\vec{\\omega}\\|$$"
   ]
  },
  {
   "cell_type": "code",
   "execution_count": 64,
   "metadata": {},
   "outputs": [],
   "source": [
    "import warnings\n",
    "warnings.simplefilter('ignore')"
   ]
  },
  {
   "cell_type": "code",
   "execution_count": 65,
   "metadata": {},
   "outputs": [],
   "source": [
    "from sklearn.svm import SVR  # Support Vector Regressor"
   ]
  },
  {
   "cell_type": "code",
   "execution_count": 66,
   "metadata": {},
   "outputs": [
    {
     "name": "stdout",
     "output_type": "stream",
     "text": [
      "0.1541118172180571 -0.014745946629719953\n"
     ]
    }
   ],
   "source": [
    "svr=SVR()\n",
    "svr.fit(X_train, y_train)\n",
    "#y_pred=svr.predict(X_test)\n",
    "\n",
    "train_score=svr.score(X_train, y_train)    # R2\n",
    "test_score=svr.score(X_test, y_test)\n",
    "\n",
    "print (train_score, test_score)"
   ]
  },
  {
   "cell_type": "code",
   "execution_count": 67,
   "metadata": {},
   "outputs": [],
   "source": [
    "from sklearn.metrics import r2_score"
   ]
  },
  {
   "cell_type": "code",
   "execution_count": 68,
   "metadata": {},
   "outputs": [],
   "source": [
    "y_pred_train=svr.predict(X_train)\n",
    "\n",
    "y_pred_test=svr.predict(X_test)"
   ]
  },
  {
   "cell_type": "code",
   "execution_count": 72,
   "metadata": {},
   "outputs": [
    {
     "data": {
      "text/plain": [
       "0.1541118172180571"
      ]
     },
     "execution_count": 72,
     "metadata": {},
     "output_type": "execute_result"
    }
   ],
   "source": [
    "r2_score(y_train, y_pred_train)"
   ]
  },
  {
   "cell_type": "code",
   "execution_count": 71,
   "metadata": {},
   "outputs": [
    {
     "data": {
      "text/plain": [
       "-0.014745946629719953"
      ]
     },
     "execution_count": 71,
     "metadata": {},
     "output_type": "execute_result"
    }
   ],
   "source": [
    "r2_score( y_test, y_pred_test)"
   ]
  },
  {
   "cell_type": "markdown",
   "metadata": {},
   "source": [
    "### Random Forest\n",
    "\n",
    "![](data/RF.jpg)\n",
    "\n",
    "Arboles de decisión.\n",
    "\n",
    "+ Pros:\n",
    "\n",
    "Modelos sencillos, se pueden visualizar. No necesitan preprocesar mucho los datos. Computacionalmente eficientes.\n",
    "\n",
    "+ Contras:\n",
    "\n",
    "Muy sensibles a pequeñas variaciones de los datos de entrada. Muy sensible a datos no balanceados. Muy dado al overfitting (poco sesgo, mucha varianza), más cuanto más profundo sea."
   ]
  },
  {
   "cell_type": "markdown",
   "metadata": {},
   "source": [
    "**Entropía de información**\n",
    "\n",
    "$$H(x) = -\\sum_i p_ilog(p_i)$$\n",
    "\n",
    "$$H(x) = -\\sum_i p_ilog(p_i) + (1-p_i)log(1-p_i)$$"
   ]
  },
  {
   "cell_type": "markdown",
   "metadata": {},
   "source": [
    "**Bagging**\n",
    "\n",
    "Bootstrap aggregating.\n",
    "\n",
    "Muestreo aleatorio con reemplazamiento y de manera uniforme. Después se hace la media. Además RF coge para cada árbol un subconjunto de características de manera aleatoria (feature bagging), esto se hace para evitar la correlación entre árboles dentro del bosque."
   ]
  },
  {
   "cell_type": "markdown",
   "metadata": {},
   "source": [
    "**Extratrees**\n",
    "\n",
    "Extremely randomized trees.\n",
    "\n",
    "Tiene básicamente 2 diferencias:\n",
    "+ Cada árbol usa todo el train (no bootstrap)\n",
    "+ El spliteo hacia abajo es random (no minimizando entropia)"
   ]
  },
  {
   "cell_type": "code",
   "execution_count": 73,
   "metadata": {},
   "outputs": [],
   "source": [
    "# Rf\n",
    "\n",
    "from sklearn.ensemble import RandomForestRegressor as RFR"
   ]
  },
  {
   "cell_type": "code",
   "execution_count": 74,
   "metadata": {},
   "outputs": [
    {
     "name": "stdout",
     "output_type": "stream",
     "text": [
      "0.9585348423423392 0.7504919102434192\n"
     ]
    }
   ],
   "source": [
    "rfr=RFR()\n",
    "rfr.fit(X_train, y_train)\n",
    "\n",
    "train_score=rfr.score(X_train, y_train)    # R2\n",
    "test_score=rfr.score(X_test, y_test)\n",
    "\n",
    "print (train_score, test_score)"
   ]
  },
  {
   "cell_type": "code",
   "execution_count": 78,
   "metadata": {},
   "outputs": [
    {
     "data": {
      "text/plain": [
       "RandomForestRegressor(bootstrap=True, criterion='mse', max_depth=None,\n",
       "                      max_features='auto', max_leaf_nodes=None,\n",
       "                      min_impurity_decrease=0.0, min_impurity_split=None,\n",
       "                      min_samples_leaf=1, min_samples_split=2,\n",
       "                      min_weight_fraction_leaf=0.0, n_estimators=10,\n",
       "                      n_jobs=None, oob_score=False, random_state=None,\n",
       "                      verbose=0, warm_start=False)"
      ]
     },
     "execution_count": 78,
     "metadata": {},
     "output_type": "execute_result"
    }
   ],
   "source": [
    "rfr"
   ]
  },
  {
   "cell_type": "code",
   "execution_count": 81,
   "metadata": {},
   "outputs": [
    {
     "name": "stdout",
     "output_type": "stream",
     "text": [
      "0.9798958279463937 0.7715931266168896\n"
     ]
    }
   ],
   "source": [
    "rfr=RFR(n_estimators=243)\n",
    "rfr.fit(X_train, y_train)\n",
    "\n",
    "train_score=rfr.score(X_train, y_train)    # R2\n",
    "test_score=rfr.score(X_test, y_test)\n",
    "\n",
    "print (train_score, test_score)"
   ]
  },
  {
   "cell_type": "code",
   "execution_count": 75,
   "metadata": {},
   "outputs": [],
   "source": [
    "# Extra trees\n",
    "\n",
    "from sklearn.tree import ExtraTreeRegressor as ETR"
   ]
  },
  {
   "cell_type": "code",
   "execution_count": 76,
   "metadata": {},
   "outputs": [
    {
     "name": "stdout",
     "output_type": "stream",
     "text": [
      "1.0 0.7222906547823724\n"
     ]
    }
   ],
   "source": [
    "etr=ETR()\n",
    "etr.fit(X_train, y_train)\n",
    "\n",
    "train_score=etr.score(X_train, y_train)    # R2\n",
    "test_score=etr.score(X_test, y_test)\n",
    "\n",
    "print (train_score, test_score)"
   ]
  },
  {
   "cell_type": "code",
   "execution_count": 77,
   "metadata": {},
   "outputs": [
    {
     "data": {
      "text/plain": [
       "ExtraTreeRegressor(criterion='mse', max_depth=None, max_features='auto',\n",
       "                   max_leaf_nodes=None, min_impurity_decrease=0.0,\n",
       "                   min_impurity_split=None, min_samples_leaf=1,\n",
       "                   min_samples_split=2, min_weight_fraction_leaf=0.0,\n",
       "                   random_state=None, splitter='random')"
      ]
     },
     "execution_count": 77,
     "metadata": {},
     "output_type": "execute_result"
    }
   ],
   "source": [
    "etr"
   ]
  },
  {
   "cell_type": "markdown",
   "metadata": {},
   "source": [
    "    "
   ]
  },
  {
   "cell_type": "markdown",
   "metadata": {},
   "source": [
    "  "
   ]
  },
  {
   "cell_type": "markdown",
   "metadata": {},
   "source": [
    "  "
   ]
  },
  {
   "cell_type": "markdown",
   "metadata": {},
   "source": [
    "## GridSearching  -  CrossValidation"
   ]
  },
  {
   "cell_type": "markdown",
   "metadata": {},
   "source": [
    "    "
   ]
  },
  {
   "cell_type": "markdown",
   "metadata": {},
   "source": [
    "![](data/grid.png)\n",
    "\n",
    "![](data/cv.ppm)"
   ]
  },
  {
   "cell_type": "code",
   "execution_count": 82,
   "metadata": {},
   "outputs": [],
   "source": [
    "from sklearn.model_selection import GridSearchCV\n",
    "from sklearn.model_selection import RandomizedSearchCV\n",
    "\n",
    "\n",
    "def grid(modelo, param, cv=5):\n",
    "    grid=GridSearchCV(modelo, param, cv=cv, \n",
    "                      iid=True, return_train_score=True, n_jobs=-1)\n",
    "    \n",
    "    grid.fit(X_train, y_train)\n",
    "    \n",
    "    print('Acierto test: {:.2f}'.format(grid.score(X_test, y_test)))\n",
    "    print('Acierto train: {:.2f}'.format(grid.score(X_train, y_train)))\n",
    "    print('Mejores parametros: {}'.format(grid.best_params_))\n",
    "    print('Mejor acierto cv: {:.2f}'.format(grid.best_score_))\n",
    "    \n",
    "    return grid.best_estimator_.fit(X_train, y_train)"
   ]
  },
  {
   "cell_type": "code",
   "execution_count": 83,
   "metadata": {},
   "outputs": [],
   "source": [
    "param={'max_leaf_nodes':[5,10,20], 'n_estimators':[10,50,100,500]}"
   ]
  },
  {
   "cell_type": "code",
   "execution_count": 84,
   "metadata": {},
   "outputs": [
    {
     "name": "stdout",
     "output_type": "stream",
     "text": [
      "Acierto test: 0.76\n",
      "Acierto train: 0.93\n",
      "Mejores parametros: {'max_leaf_nodes': 20, 'n_estimators': 50}\n",
      "Mejor acierto cv: 0.83\n"
     ]
    },
    {
     "data": {
      "text/plain": [
       "RandomForestRegressor(bootstrap=True, criterion='mse', max_depth=None,\n",
       "                      max_features='auto', max_leaf_nodes=20,\n",
       "                      min_impurity_decrease=0.0, min_impurity_split=None,\n",
       "                      min_samples_leaf=1, min_samples_split=2,\n",
       "                      min_weight_fraction_leaf=0.0, n_estimators=50,\n",
       "                      n_jobs=None, oob_score=False, random_state=None,\n",
       "                      verbose=0, warm_start=False)"
      ]
     },
     "execution_count": 84,
     "metadata": {},
     "output_type": "execute_result"
    }
   ],
   "source": [
    "grid(rfr, param)"
   ]
  },
  {
   "cell_type": "code",
   "execution_count": 85,
   "metadata": {},
   "outputs": [
    {
     "name": "stdout",
     "output_type": "stream",
     "text": [
      "Acierto test: 0.74\n",
      "Acierto train: 0.93\n",
      "Mejores parametros: {'max_leaf_nodes': 20, 'n_estimators': 500}\n",
      "Mejor acierto cv: 0.83\n"
     ]
    }
   ],
   "source": [
    "modelo=grid(rfr, param)"
   ]
  },
  {
   "cell_type": "code",
   "execution_count": 86,
   "metadata": {},
   "outputs": [
    {
     "data": {
      "text/plain": [
       "array([20.42117313, 22.06979802, 20.62852385, 15.21882017, 20.40236067,\n",
       "       20.60045465, 20.86664771, 23.73293052, 18.14183858, 19.64564085,\n",
       "       14.83331013, 34.48957723, 24.38921846, 34.08124548, 22.02739201,\n",
       "       12.25939782, 29.92058854, 12.73858081, 20.46823635, 28.4633741 ,\n",
       "       18.43948068, 45.32323079, 16.32256017, 15.61739133, 15.7325663 ,\n",
       "       24.0988864 , 46.8903057 , 18.62505565, 22.85922316, 15.96690566,\n",
       "       30.46747601, 32.95095994, 14.56891569, 46.12539738, 27.94320187,\n",
       "       25.40163595, 20.51578933, 23.35330648, 20.46032894, 16.63019178,\n",
       "       20.56248464, 24.11407915, 13.4112578 , 20.76128048, 27.16428268,\n",
       "       46.28627914, 11.40846441, 18.12628665, 20.92896964, 24.06967555,\n",
       "       34.21929939, 21.56360216, 20.58068895, 24.19555651, 20.90060339,\n",
       "       28.08092777, 18.39134519, 12.89299685, 19.40419296, 20.94516233,\n",
       "       44.56113203, 46.8426369 , 21.90653855, 20.65818281, 13.13531663,\n",
       "       32.26219672, 32.99168775, 21.23987597,  9.83367953, 16.055129  ,\n",
       "       21.7266534 , 20.48048065, 19.38548565, 23.18399912, 23.43196388,\n",
       "       24.15365842, 20.71267577, 16.03475283, 10.36430068, 21.19589539,\n",
       "       45.05437504, 19.77430886, 21.18788624, 20.37402538, 20.4589888 ,\n",
       "       10.28583757, 16.00796313, 13.06429837, 20.28306112, 15.24000533,\n",
       "       37.66393454, 20.72469582, 26.73286173, 22.00779591, 19.85864197,\n",
       "       13.34571528, 23.40999188, 20.61810967,  9.8518532 , 33.41929272,\n",
       "       31.6702043 , 31.29352416])"
      ]
     },
     "execution_count": 86,
     "metadata": {},
     "output_type": "execute_result"
    }
   ],
   "source": [
    "modelo.predict(X_test)"
   ]
  },
  {
   "cell_type": "markdown",
   "metadata": {},
   "source": [
    "# Clasificación (se busca una clase)"
   ]
  },
  {
   "cell_type": "markdown",
   "metadata": {},
   "source": [
    "### Regresión Logística   (SoftMax)\n",
    "\n",
    "\n",
    "**Con datos del MNIST, clasificación de números escritos a mano. (1vsALL)**\n",
    "\n",
    "\n",
    "![](data/sig_plot.png)\n",
    "\n",
    "\n",
    "##### Versión Custom"
   ]
  },
  {
   "cell_type": "code",
   "execution_count": 19,
   "metadata": {},
   "outputs": [
    {
     "name": "stdout",
     "output_type": "stream",
     "text": [
      "Comenzando...\n",
      "\n",
      "Modelo SoftMax (MLR) : Numeros\n"
     ]
    }
   ],
   "source": [
    "import time                                                 # para tiempo\n",
    "inicio=time.time()                                          # momento inicial\n",
    "print ('Comenzando...\\n')\n",
    "print ('Modelo SoftMax (MLR) : Numeros')    \n",
    "import pandas as pd                                         # dataframe\n",
    "import numpy as np                                          # numerical python, algebra lineal\n",
    "\n",
    "import matplotlib.pyplot as plt                             # plots, graficos\n",
    "import seaborn as sns                                       # plots\n",
    "\n",
    "from sklearn.metrics import confusion_matrix                # metricas, matriz de confusion\n",
    "from scipy.optimize import minimize                         # minimizar, opt\n",
    "\n",
    "import warnings                                             # avisos\n",
    "warnings.filterwarnings('ignore', category=RuntimeWarning)  # elimino un warning por valores NaN en logaritmos o /0"
   ]
  },
  {
   "cell_type": "markdown",
   "metadata": {},
   "source": [
    "**Se crean las funciones de las ecuaciones principales del modelo.**\n",
    "\n",
    "![](data/sigmoide.png)"
   ]
  },
  {
   "cell_type": "code",
   "execution_count": 20,
   "metadata": {},
   "outputs": [],
   "source": [
    "def f(X,a):                                 # funcion logistica, sigmoide, funcion del modelo, con z=X*alfa, el producto escalar\n",
    "    return 1.0/(1.0+np.exp(-np.dot(X,a)))   # Boltzmann con pivote, alfa[i]=0"
   ]
  },
  {
   "cell_type": "markdown",
   "metadata": {},
   "source": [
    "![](data/coste.png)"
   ]
  },
  {
   "cell_type": "code",
   "execution_count": 21,
   "metadata": {},
   "outputs": [],
   "source": [
    "def coste(X,a,y,lambda_reg):              # funcion coste, funcion a minimizar \n",
    "    return -(np.sum(np.log(f(X,a)))+np.dot((y-1).T,(np.dot(X,a))))/y.size+lambda_reg/(2.0*y.size)*np.dot(a[1:],a[1:])"
   ]
  },
  {
   "cell_type": "markdown",
   "metadata": {},
   "source": [
    "![](data/grad_coste.png)"
   ]
  },
  {
   "cell_type": "code",
   "execution_count": 22,
   "metadata": {},
   "outputs": [],
   "source": [
    "def grad_coste(X,a,y,lambda_reg):          # gradiente de la funcion coste con regularizacion\n",
    "    return (np.dot(X.T,(f(X,a)-y)))/y.size+lambda_reg/(2.0*y.size)*np.concatenate(([0], a[1:])).T"
   ]
  },
  {
   "cell_type": "markdown",
   "metadata": {},
   "source": [
    "**Para normalizar los datos.**"
   ]
  },
  {
   "cell_type": "code",
   "execution_count": 23,
   "metadata": {},
   "outputs": [],
   "source": [
    "def normalizador(X):                # normalizador de X\n",
    "    X_media=X.mean(axis=0)          # media de X\n",
    "    X_std=X.std(axis=0)             # desviacion estandar de X\n",
    "    X_std[X_std==0]=1.0             # si hay alguna std=0 ponla a 1\n",
    "    X=(X-X_media)/X_std             # normaliza\n",
    "    X=np.insert(X, 0, 1, axis=1)    # esta linea añade una columna de 1, feature engineering [1, f1, f2.., fn, f1f2...] (mejora un 10%)\n",
    "    return X"
   ]
  },
  {
   "cell_type": "markdown",
   "metadata": {},
   "source": [
    "**Se cargan los datos.**"
   ]
  },
  {
   "cell_type": "code",
   "execution_count": 24,
   "metadata": {},
   "outputs": [
    {
     "name": "stdout",
     "output_type": "stream",
     "text": [
      "Datos leidos...\n"
     ]
    },
    {
     "data": {
      "text/html": [
       "<div>\n",
       "<style scoped>\n",
       "    .dataframe tbody tr th:only-of-type {\n",
       "        vertical-align: middle;\n",
       "    }\n",
       "\n",
       "    .dataframe tbody tr th {\n",
       "        vertical-align: top;\n",
       "    }\n",
       "\n",
       "    .dataframe thead th {\n",
       "        text-align: right;\n",
       "    }\n",
       "</style>\n",
       "<table border=\"1\" class=\"dataframe\">\n",
       "  <thead>\n",
       "    <tr style=\"text-align: right;\">\n",
       "      <th></th>\n",
       "      <th>label</th>\n",
       "      <th>pixel0</th>\n",
       "      <th>pixel1</th>\n",
       "      <th>pixel2</th>\n",
       "      <th>pixel3</th>\n",
       "      <th>pixel4</th>\n",
       "      <th>pixel5</th>\n",
       "      <th>pixel6</th>\n",
       "      <th>pixel7</th>\n",
       "      <th>pixel8</th>\n",
       "      <th>...</th>\n",
       "      <th>pixel774</th>\n",
       "      <th>pixel775</th>\n",
       "      <th>pixel776</th>\n",
       "      <th>pixel777</th>\n",
       "      <th>pixel778</th>\n",
       "      <th>pixel779</th>\n",
       "      <th>pixel780</th>\n",
       "      <th>pixel781</th>\n",
       "      <th>pixel782</th>\n",
       "      <th>pixel783</th>\n",
       "    </tr>\n",
       "  </thead>\n",
       "  <tbody>\n",
       "    <tr>\n",
       "      <td>0</td>\n",
       "      <td>1</td>\n",
       "      <td>0</td>\n",
       "      <td>0</td>\n",
       "      <td>0</td>\n",
       "      <td>0</td>\n",
       "      <td>0</td>\n",
       "      <td>0</td>\n",
       "      <td>0</td>\n",
       "      <td>0</td>\n",
       "      <td>0</td>\n",
       "      <td>...</td>\n",
       "      <td>0</td>\n",
       "      <td>0</td>\n",
       "      <td>0</td>\n",
       "      <td>0</td>\n",
       "      <td>0</td>\n",
       "      <td>0</td>\n",
       "      <td>0</td>\n",
       "      <td>0</td>\n",
       "      <td>0</td>\n",
       "      <td>0</td>\n",
       "    </tr>\n",
       "    <tr>\n",
       "      <td>1</td>\n",
       "      <td>0</td>\n",
       "      <td>0</td>\n",
       "      <td>0</td>\n",
       "      <td>0</td>\n",
       "      <td>0</td>\n",
       "      <td>0</td>\n",
       "      <td>0</td>\n",
       "      <td>0</td>\n",
       "      <td>0</td>\n",
       "      <td>0</td>\n",
       "      <td>...</td>\n",
       "      <td>0</td>\n",
       "      <td>0</td>\n",
       "      <td>0</td>\n",
       "      <td>0</td>\n",
       "      <td>0</td>\n",
       "      <td>0</td>\n",
       "      <td>0</td>\n",
       "      <td>0</td>\n",
       "      <td>0</td>\n",
       "      <td>0</td>\n",
       "    </tr>\n",
       "    <tr>\n",
       "      <td>2</td>\n",
       "      <td>1</td>\n",
       "      <td>0</td>\n",
       "      <td>0</td>\n",
       "      <td>0</td>\n",
       "      <td>0</td>\n",
       "      <td>0</td>\n",
       "      <td>0</td>\n",
       "      <td>0</td>\n",
       "      <td>0</td>\n",
       "      <td>0</td>\n",
       "      <td>...</td>\n",
       "      <td>0</td>\n",
       "      <td>0</td>\n",
       "      <td>0</td>\n",
       "      <td>0</td>\n",
       "      <td>0</td>\n",
       "      <td>0</td>\n",
       "      <td>0</td>\n",
       "      <td>0</td>\n",
       "      <td>0</td>\n",
       "      <td>0</td>\n",
       "    </tr>\n",
       "    <tr>\n",
       "      <td>3</td>\n",
       "      <td>4</td>\n",
       "      <td>0</td>\n",
       "      <td>0</td>\n",
       "      <td>0</td>\n",
       "      <td>0</td>\n",
       "      <td>0</td>\n",
       "      <td>0</td>\n",
       "      <td>0</td>\n",
       "      <td>0</td>\n",
       "      <td>0</td>\n",
       "      <td>...</td>\n",
       "      <td>0</td>\n",
       "      <td>0</td>\n",
       "      <td>0</td>\n",
       "      <td>0</td>\n",
       "      <td>0</td>\n",
       "      <td>0</td>\n",
       "      <td>0</td>\n",
       "      <td>0</td>\n",
       "      <td>0</td>\n",
       "      <td>0</td>\n",
       "    </tr>\n",
       "    <tr>\n",
       "      <td>4</td>\n",
       "      <td>0</td>\n",
       "      <td>0</td>\n",
       "      <td>0</td>\n",
       "      <td>0</td>\n",
       "      <td>0</td>\n",
       "      <td>0</td>\n",
       "      <td>0</td>\n",
       "      <td>0</td>\n",
       "      <td>0</td>\n",
       "      <td>0</td>\n",
       "      <td>...</td>\n",
       "      <td>0</td>\n",
       "      <td>0</td>\n",
       "      <td>0</td>\n",
       "      <td>0</td>\n",
       "      <td>0</td>\n",
       "      <td>0</td>\n",
       "      <td>0</td>\n",
       "      <td>0</td>\n",
       "      <td>0</td>\n",
       "      <td>0</td>\n",
       "    </tr>\n",
       "  </tbody>\n",
       "</table>\n",
       "<p>5 rows × 785 columns</p>\n",
       "</div>"
      ],
      "text/plain": [
       "   label  pixel0  pixel1  pixel2  pixel3  pixel4  pixel5  pixel6  pixel7  \\\n",
       "0      1       0       0       0       0       0       0       0       0   \n",
       "1      0       0       0       0       0       0       0       0       0   \n",
       "2      1       0       0       0       0       0       0       0       0   \n",
       "3      4       0       0       0       0       0       0       0       0   \n",
       "4      0       0       0       0       0       0       0       0       0   \n",
       "\n",
       "   pixel8  ...  pixel774  pixel775  pixel776  pixel777  pixel778  pixel779  \\\n",
       "0       0  ...         0         0         0         0         0         0   \n",
       "1       0  ...         0         0         0         0         0         0   \n",
       "2       0  ...         0         0         0         0         0         0   \n",
       "3       0  ...         0         0         0         0         0         0   \n",
       "4       0  ...         0         0         0         0         0         0   \n",
       "\n",
       "   pixel780  pixel781  pixel782  pixel783  \n",
       "0         0         0         0         0  \n",
       "1         0         0         0         0  \n",
       "2         0         0         0         0  \n",
       "3         0         0         0         0  \n",
       "4         0         0         0         0  \n",
       "\n",
       "[5 rows x 785 columns]"
      ]
     },
     "metadata": {},
     "output_type": "display_data"
    },
    {
     "name": "stdout",
     "output_type": "stream",
     "text": [
      "Dimensiones matriz de datos: (42000, 785)\n"
     ]
    }
   ],
   "source": [
    "datos=pd.read_csv('data/train_Mnist.csv')        # imagenes de numeros\n",
    "print ('Datos leidos...')\n",
    "display(datos.head())\n",
    "matriz_datos=datos.values   \n",
    "print ('Dimensiones matriz de datos: {}'.format(matriz_datos.shape))   "
   ]
  },
  {
   "cell_type": "markdown",
   "metadata": {},
   "source": [
    "**Se visualiza una de las imagenes**"
   ]
  },
  {
   "cell_type": "code",
   "execution_count": 25,
   "metadata": {},
   "outputs": [
    {
     "data": {
      "image/png": "[encoded data removed]",
      "text/plain": [
       "<Figure size 360x360 with 1 Axes>"
      ]
     },
     "metadata": {
      "needs_background": "light"
     },
     "output_type": "display_data"
    }
   ],
   "source": [
    "plt.figure(figsize=(5,5))\n",
    "plt.imshow(matriz_datos[45,1:].reshape(28,28))  \n",
    "plt.show()"
   ]
  },
  {
   "cell_type": "markdown",
   "metadata": {},
   "source": [
    "**Creacion de la matriz Y (variable dependiente, a predecir), (onehot)**"
   ]
  },
  {
   "cell_type": "code",
   "execution_count": 26,
   "metadata": {},
   "outputs": [
    {
     "name": "stdout",
     "output_type": "stream",
     "text": [
      "Dimension de Y: (42000, 10)\n",
      "\n",
      "[[0. 1. 0. 0. 0. 0. 0. 0. 0. 0.]\n",
      " [1. 0. 0. 0. 0. 0. 0. 0. 0. 0.]\n",
      " [0. 1. 0. 0. 0. 0. 0. 0. 0. 0.]\n",
      " [0. 0. 0. 0. 1. 0. 0. 0. 0. 0.]\n",
      " [1. 0. 0. 0. 0. 0. 0. 0. 0. 0.]\n",
      " [1. 0. 0. 0. 0. 0. 0. 0. 0. 0.]\n",
      " [0. 0. 0. 0. 0. 0. 0. 1. 0. 0.]\n",
      " [0. 0. 0. 1. 0. 0. 0. 0. 0. 0.]\n",
      " [0. 0. 0. 0. 0. 1. 0. 0. 0. 0.]\n",
      " [0. 0. 0. 1. 0. 0. 0. 0. 0. 0.]]\n"
     ]
    }
   ],
   "source": [
    "Y=np.zeros((matriz_datos.shape[0],10))   \n",
    "print ('Dimension de Y: {}'.format(Y.shape))  \n",
    "print ('')\n",
    "for i in range(10):\n",
    "    Y[:,i]=np.where(matriz_datos[:,0]==i,1,0)\n",
    "print(Y[0:10,:]) # 10 primeras filas"
   ]
  },
  {
   "cell_type": "markdown",
   "metadata": {},
   "source": [
    "**Se separan las columnas etiqueta y se quitan las columnas que sean todo ceros.**"
   ]
  },
  {
   "cell_type": "code",
   "execution_count": 27,
   "metadata": {},
   "outputs": [
    {
     "name": "stdout",
     "output_type": "stream",
     "text": [
      "Dimension original de X: (42000, 784)\n",
      "\n",
      "Dimension limpia de X: (42000, 708)\n"
     ]
    }
   ],
   "source": [
    "etiquetas=matriz_datos[:,0]        # etiqueta, el numero en si, 42000 etiquetas\n",
    "X=matriz_datos[:,1:]               # datos numericos de los pixeles, cada columna es un pixel (variables indep)\n",
    "print ('Dimension original de X: {}'.format(X.shape)) \n",
    "print ('')\n",
    "X=X[:,X.sum(axis=0)!=0]            # se quitan las columnas=0 (la suma de los elementos es no nulo, no hay informacion)\n",
    "print ('Dimension limpia de X: {}'.format(X.shape)) "
   ]
  },
  {
   "cell_type": "markdown",
   "metadata": {},
   "source": [
    "**Se dividen los datos en train y test.**"
   ]
  },
  {
   "cell_type": "code",
   "execution_count": 28,
   "metadata": {},
   "outputs": [
    {
     "name": "stdout",
     "output_type": "stream",
     "text": [
      "Dimensiones train: X=(30000, 708), Y=(30000, 10)\n",
      "\n",
      "Dimensiones test: X=(12000, 708), Y=(12000, 10)\n"
     ]
    }
   ],
   "source": [
    "X_train, Y_train=X[0:30000,:], Y[0:30000,:]        # datos de entranamiento\n",
    "X_train_sk=X_train.copy()                          # para sklearn\n",
    "\n",
    "X_test, Y_test=X[30000:,:], Y[30000:,:]            # datos de test\n",
    "X_test_sk=X_test.copy()                            # para sklearn\n",
    "\n",
    "print ('Dimensiones train: X={}, Y={}'.format(X_train.shape, Y_train.shape))  \n",
    "print ('')\n",
    "print ('Dimensiones test: X={}, Y={}'.format(X_test.shape, Y_test.shape))"
   ]
  },
  {
   "cell_type": "markdown",
   "metadata": {},
   "source": [
    "**Etiquetas train y test.**"
   ]
  },
  {
   "cell_type": "code",
   "execution_count": 29,
   "metadata": {},
   "outputs": [
    {
     "name": "stdout",
     "output_type": "stream",
     "text": [
      "Dimensiones etiquetas train: (30000,)\n",
      "\n",
      "Dimensiones etiquetas test: (12000,)\n"
     ]
    }
   ],
   "source": [
    "etiquetas_train=etiquetas[0:30000]       # etiquetas para entranamiento\n",
    "etiquetas_test=etiquetas[30000:]         # etiquetas para test\n",
    "\n",
    "print ('Dimensiones etiquetas train: {}'.format(etiquetas_train.shape))\n",
    "print ('')\n",
    "print ('Dimensiones etiquetas test: {}'.format(etiquetas_test.shape))"
   ]
  },
  {
   "cell_type": "markdown",
   "metadata": {},
   "source": [
    "**Normaliza los datos.**"
   ]
  },
  {
   "cell_type": "code",
   "execution_count": 30,
   "metadata": {},
   "outputs": [
    {
     "name": "stdout",
     "output_type": "stream",
     "text": [
      "Datos normalizados.\n"
     ]
    }
   ],
   "source": [
    "X_train=normalizador(X_train)\n",
    "X_test=normalizador(X_test)\n",
    "print ('Datos normalizados.')"
   ]
  },
  {
   "cell_type": "markdown",
   "metadata": {},
   "source": [
    "**Se buscan los parametros optimos para los 10 modelos.**"
   ]
  },
  {
   "cell_type": "code",
   "execution_count": 31,
   "metadata": {},
   "outputs": [],
   "source": [
    "val_inicial=np.random.rand(X_train.shape[1]) # valores iniciales de los parametros alfa\n",
    "\n",
    "A_opt=np.zeros((X_train.shape[1],10))        # se crea la matriz para los parametros optimizados, alfas"
   ]
  },
  {
   "cell_type": "markdown",
   "metadata": {},
   "source": [
    "**Término de regularización L2.**"
   ]
  },
  {
   "cell_type": "code",
   "execution_count": 32,
   "metadata": {},
   "outputs": [],
   "source": [
    "lambda_reg=100.            # valor obtenido desde gridsearching  "
   ]
  },
  {
   "cell_type": "markdown",
   "metadata": {},
   "source": [
    "**Optimización.**"
   ]
  },
  {
   "cell_type": "code",
   "execution_count": 33,
   "metadata": {},
   "outputs": [
    {
     "name": "stdout",
     "output_type": "stream",
     "text": [
      "\n",
      "\n",
      "Optimizando 0 frente al resto.\n",
      "Optimizacion trust-constr...\n",
      "`gtol` termination condition is satisfied.\n",
      "Number of iterations: 61, function evaluations: 61, CG iterations: 343, optimality: 9.12e-05, constraint violation: 0.00e+00, execution time:  2.3 s.\n",
      "Hecho.\n",
      "Tiempo optimizacion: 2.34 segundos.\n",
      "\n",
      "\n",
      "Optimizando 1 frente al resto.\n",
      "Optimizacion trust-constr...\n",
      "`gtol` termination condition is satisfied.\n",
      "Number of iterations: 49, function evaluations: 49, CG iterations: 230, optimality: 9.97e-05, constraint violation: 0.00e+00, execution time:  1.8 s.\n",
      "Hecho.\n",
      "Tiempo optimizacion: 1.86 segundos.\n",
      "\n",
      "\n",
      "Optimizando 2 frente al resto.\n",
      "Optimizacion trust-constr...\n",
      "`gtol` termination condition is satisfied.\n",
      "Number of iterations: 59, function evaluations: 59, CG iterations: 326, optimality: 8.53e-05, constraint violation: 0.00e+00, execution time:  2.2 s.\n",
      "Hecho.\n",
      "Tiempo optimizacion: 2.25 segundos.\n",
      "\n",
      "\n",
      "Optimizando 3 frente al resto.\n",
      "Optimizacion trust-constr...\n",
      "`gtol` termination condition is satisfied.\n",
      "Number of iterations: 54, function evaluations: 54, CG iterations: 290, optimality: 9.80e-05, constraint violation: 0.00e+00, execution time:  2.0 s.\n",
      "Hecho.\n",
      "Tiempo optimizacion: 2.06 segundos.\n",
      "\n",
      "\n",
      "Optimizando 4 frente al resto.\n",
      "Optimizacion trust-constr...\n",
      "`gtol` termination condition is satisfied.\n",
      "Number of iterations: 62, function evaluations: 62, CG iterations: 334, optimality: 8.66e-05, constraint violation: 0.00e+00, execution time:  2.3 s.\n",
      "Hecho.\n",
      "Tiempo optimizacion: 2.38 segundos.\n",
      "\n",
      "\n",
      "Optimizando 5 frente al resto.\n",
      "Optimizacion trust-constr...\n",
      "`gtol` termination condition is satisfied.\n",
      "Number of iterations: 58, function evaluations: 58, CG iterations: 318, optimality: 9.77e-05, constraint violation: 0.00e+00, execution time:  2.2 s.\n",
      "Hecho.\n",
      "Tiempo optimizacion: 2.21 segundos.\n",
      "\n",
      "\n",
      "Optimizando 6 frente al resto.\n",
      "Optimizacion trust-constr...\n",
      "`gtol` termination condition is satisfied.\n",
      "Number of iterations: 56, function evaluations: 56, CG iterations: 289, optimality: 7.11e-05, constraint violation: 0.00e+00, execution time:  2.1 s.\n",
      "Hecho.\n",
      "Tiempo optimizacion: 2.13 segundos.\n",
      "\n",
      "\n",
      "Optimizando 7 frente al resto.\n",
      "Optimizacion trust-constr...\n",
      "`gtol` termination condition is satisfied.\n",
      "Number of iterations: 60, function evaluations: 60, CG iterations: 300, optimality: 8.85e-05, constraint violation: 0.00e+00, execution time:  2.3 s.\n",
      "Hecho.\n",
      "Tiempo optimizacion: 2.37 segundos.\n",
      "\n",
      "\n",
      "Optimizando 8 frente al resto.\n",
      "Optimizacion trust-constr...\n",
      "`gtol` termination condition is satisfied.\n",
      "Number of iterations: 56, function evaluations: 56, CG iterations: 307, optimality: 7.97e-05, constraint violation: 0.00e+00, execution time:  2.1 s.\n",
      "Hecho.\n",
      "Tiempo optimizacion: 2.18 segundos.\n",
      "\n",
      "\n",
      "Optimizando 9 frente al resto.\n",
      "Optimizacion trust-constr...\n",
      "`gtol` termination condition is satisfied.\n",
      "Number of iterations: 70, function evaluations: 70, CG iterations: 440, optimality: 8.87e-05, constraint violation: 0.00e+00, execution time:  2.7 s.\n",
      "Hecho.\n",
      "Tiempo optimizacion: 2.77 segundos.\n",
      "\n",
      "Tiempo total optimizacion custom: 22.55 segundos.\n",
      "\n"
     ]
    }
   ],
   "source": [
    "inicio_opt=time.time()                       # inicio optimizacion\n",
    "for i in range(10):\n",
    "    print ('\\n\\nOptimizando {} frente al resto.'.format(i))\n",
    "\n",
    "    def opt_coste(a):                        # funcion a minimizar\n",
    "        return coste(X_train, a, Y_train[:,i], lambda_reg) \n",
    "\n",
    "    def opt_grad_coste(a):                   # gradiente \n",
    "        return grad_coste(X_train, a, Y_train[:,i], lambda_reg)\t\n",
    "\n",
    "    # metodo Nelder-Mead, Powell, CG, BFGS, Newton-CG, L-BFGS-B, TNC, COBYLA, SLSQP, trust-constr, \n",
    "    # dogleg, trust-ncg, trust-exact, trust-krylov (tambien custom)            \n",
    "    metodo='trust-constr'\n",
    "    print ('Optimizacion {}...'.format(metodo)) # minimizacion, optimizacion\n",
    "    i_opt=time.time() \n",
    "    modelo=minimize(opt_coste, val_inicial, method=metodo, jac=opt_grad_coste, tol=1e-4, options={'disp':True}) \n",
    "    print ('Hecho.')\n",
    "    print (\"Tiempo optimizacion: {:.2f} segundos.\" .format(time.time()-i_opt))  \n",
    "    A_opt[:,i]=modelo.x\n",
    "\n",
    "t_custom=time.time()-inicio_opt   # tiempo desde inicio hasta final minimizacion\n",
    "print ('\\nTiempo total optimizacion custom: {:.2f} segundos.\\n' .format(t_custom)) "
   ]
  },
  {
   "cell_type": "markdown",
   "metadata": {},
   "source": [
    "**Ahora se chequea el modelo.**"
   ]
  },
  {
   "cell_type": "code",
   "execution_count": 34,
   "metadata": {},
   "outputs": [],
   "source": [
    "y_pred=[]                  # etiquetas predichas\n",
    "y_prob=[]                  # probabilidades de las etiquetas predichas\n",
    "\n",
    "def resumen(datos):        # testeo\n",
    "    for e in datos:\n",
    "        nombre, etiqueta, Xs=e         \n",
    "        etiq=etiqueta.size\n",
    "        probs=np.zeros((etiq,2))      # etiquetas con su probabilidad\n",
    "        cuenta=0                      # conteo de aciertos\n",
    "        for muestra in range(etiq): \n",
    "            for n in range(10):\n",
    "                alfa=A_opt[:,n]       # parametros de softmax\n",
    "                probs[n,0]=n\n",
    "                probs[n,1]=f(Xs[muestra,:],alfa)      # evaluacion de la prediccion\n",
    "                \n",
    "            probs=probs[probs[:,1].argsort()[::-1]]   # se pone la prob mas alta al principio\n",
    "            y_pred.append(probs[0,0])\n",
    "            y_prob.append(probs[0,1])\n",
    "            if probs[0,0]==etiqueta[muestra]:         # si se acierta +1\n",
    "                cuenta+=1\n",
    "        print (\"\\n{}\".format(nombre))\n",
    "        print (\"{} correctos de {} ==> {:.4}% correcto\".format(cuenta, etiq, cuenta/etiq*100))"
   ]
  },
  {
   "cell_type": "markdown",
   "metadata": {},
   "source": [
    "**Resultados train y test Custom.**"
   ]
  },
  {
   "cell_type": "code",
   "execution_count": 35,
   "metadata": {},
   "outputs": [
    {
     "name": "stdout",
     "output_type": "stream",
     "text": [
      "\n",
      "Entranamiento  :\n",
      "27949 correctos de 30000 ==> 93.16% correcto\n",
      "\n",
      "Test  :\n",
      "10980 correctos de 12000 ==> 91.5% correcto\n"
     ]
    }
   ],
   "source": [
    "resumen([('Entranamiento  :', etiquetas_train, X_train)])\n",
    "resumen([('Test  :', etiquetas_test, X_test)])"
   ]
  },
  {
   "cell_type": "markdown",
   "metadata": {},
   "source": [
    "**Se guarda el entrenamiento, los alfas, en un csv.**"
   ]
  },
  {
   "cell_type": "code",
   "execution_count": 36,
   "metadata": {},
   "outputs": [
    {
     "name": "stdout",
     "output_type": "stream",
     "text": [
      "Dimensiones matriz de parametros=(709, 10)\n"
     ]
    }
   ],
   "source": [
    "print ('Dimensiones matriz de parametros={}'.format(A_opt.shape))\n",
    "df=pd.DataFrame(A_opt, columns=[i+1 for i in range(A_opt.shape[1])])  # se guardan los parametros softmax en csv\n",
    "#df.to_csv('alfas.csv', index=False)"
   ]
  },
  {
   "cell_type": "markdown",
   "metadata": {},
   "source": [
    "###### Versión SkLearn"
   ]
  },
  {
   "cell_type": "code",
   "execution_count": 37,
   "metadata": {},
   "outputs": [],
   "source": [
    "from sklearn.linear_model import LogisticRegression"
   ]
  },
  {
   "cell_type": "code",
   "execution_count": 38,
   "metadata": {},
   "outputs": [
    {
     "name": "stdout",
     "output_type": "stream",
     "text": [
      "\n",
      "Tiempo total optimizacion sklearn: 5.55 segundos.\n",
      "\n"
     ]
    }
   ],
   "source": [
    "ini_opt_sk=time.time()\n",
    "logreg=LogisticRegression(C=0.01, penalty='l2', tol=0.0001, max_iter=70,\n",
    "                          solver='lbfgs', multi_class='multinomial').fit(X_train_sk, etiquetas_train)\n",
    "t_sklearn=time.time()-ini_opt_sk\n",
    "print ('\\nTiempo total optimizacion sklearn: {:.2f} segundos.\\n' .format(t_sklearn))"
   ]
  },
  {
   "cell_type": "markdown",
   "metadata": {},
   "source": [
    "**Chequeo modelo sklearn.**"
   ]
  },
  {
   "cell_type": "code",
   "execution_count": 39,
   "metadata": {},
   "outputs": [],
   "source": [
    "def resumen_sk(datos):\n",
    "    for e in datos:\n",
    "        nombre, etiqueta, Xs=e\n",
    "        etiq=etiqueta.size\n",
    "        \n",
    "        y_pred_sk=logreg.predict(Xs)\n",
    "        \n",
    "        cuenta=0\n",
    "        for muestra in range(etiq):\n",
    "            if y_pred_sk[muestra]==etiqueta[muestra]:         \n",
    "                cuenta+=1\n",
    "        \n",
    "        print (\"\\n{}\".format(nombre))\n",
    "        print (\"{} correctos de {} ==> {:.4}% correcto\".format(cuenta, etiq, cuenta/etiq*100))"
   ]
  },
  {
   "cell_type": "markdown",
   "metadata": {},
   "source": [
    "**Resultados train y test Custom.**"
   ]
  },
  {
   "cell_type": "code",
   "execution_count": 40,
   "metadata": {},
   "outputs": [
    {
     "name": "stdout",
     "output_type": "stream",
     "text": [
      "\n",
      "Entranamiento  :\n",
      "28108 correctos de 30000 ==> 93.69% correcto\n",
      "\n",
      "Test  :\n",
      "11014 correctos de 12000 ==> 91.78% correcto\n"
     ]
    }
   ],
   "source": [
    "resumen_sk([('Entranamiento  :', etiquetas_train, X_train_sk)])\n",
    "resumen_sk([('Test  :', etiquetas_test, X_test_sk)])"
   ]
  },
  {
   "cell_type": "markdown",
   "metadata": {},
   "source": [
    "**Comparacion en tiempo**"
   ]
  },
  {
   "cell_type": "code",
   "execution_count": 41,
   "metadata": {},
   "outputs": [
    {
     "name": "stdout",
     "output_type": "stream",
     "text": [
      "SkLearn es 4.06 veces más rapido.\n"
     ]
    }
   ],
   "source": [
    "print ('SkLearn es {:.2f} veces más rapido.'.format(t_custom/t_sklearn))"
   ]
  },
  {
   "cell_type": "markdown",
   "metadata": {},
   "source": [
    "**Diferencia absoluta entre ambos modelos.**"
   ]
  },
  {
   "cell_type": "code",
   "execution_count": 42,
   "metadata": {},
   "outputs": [
    {
     "name": "stdout",
     "output_type": "stream",
     "text": [
      "Hay una diferencia entre ambos modelos del 4.86%.\n"
     ]
    }
   ],
   "source": [
    "y_pred_sk=logreg.predict(X_test_sk)\n",
    "comp=[y_pred[30000:][i]==y_pred_sk[i] for i in range(len(y_pred[30000:]))]\n",
    "n_equal=len([e for e in comp if e==False])/len(y_pred_sk)\n",
    "\n",
    "print ('Hay una diferencia entre ambos modelos del {:.2f}%.'.format(n_equal*100))"
   ]
  },
  {
   "cell_type": "markdown",
   "metadata": {},
   "source": [
    "**Acierto en train y test de ambos modelos.**"
   ]
  },
  {
   "cell_type": "code",
   "execution_count": 43,
   "metadata": {},
   "outputs": [
    {
     "name": "stdout",
     "output_type": "stream",
     "text": [
      "\n",
      "Entranamiento Custom:\n",
      "27949 correctos de 30000 ==> 93.16% correcto\n",
      "\n",
      "Test Custom:\n",
      "10980 correctos de 12000 ==> 91.5% correcto\n",
      "\n",
      "\n",
      "Entranamiento SkLearn:\n",
      "28108 correctos de 30000 ==> 93.69% correcto\n",
      "\n",
      "Test SkLearn:\n",
      "11014 correctos de 12000 ==> 91.78% correcto\n"
     ]
    }
   ],
   "source": [
    "resumen([('Entranamiento Custom:', etiquetas_train, X_train)])\n",
    "resumen([('Test Custom:', etiquetas_test, X_test)])\n",
    "print ('')\n",
    "resumen_sk([('Entranamiento SkLearn:', etiquetas_train, X_train_sk)])\n",
    "resumen_sk([('Test SkLearn:', etiquetas_test, X_test_sk)])"
   ]
  },
  {
   "cell_type": "code",
   "execution_count": null,
   "metadata": {},
   "outputs": [],
   "source": []
  },
  {
   "cell_type": "code",
   "execution_count": null,
   "metadata": {},
   "outputs": [],
   "source": []
  },
  {
   "cell_type": "code",
   "execution_count": null,
   "metadata": {},
   "outputs": [],
   "source": []
  }
 ],
 "metadata": {
  "kernelspec": {
   "display_name": "Python 3",
   "language": "python",
   "name": "python3"
  },
  "language_info": {
   "codemirror_mode": {
    "name": "ipython",
    "version": 3
   },
   "file_extension": ".py",
   "mimetype": "text/x-python",
   "name": "python",
   "nbconvert_exporter": "python",
   "pygments_lexer": "ipython3",
   "version": "3.7.6"
  }
 },
 "nbformat": 4,
 "nbformat_minor": 2
}
