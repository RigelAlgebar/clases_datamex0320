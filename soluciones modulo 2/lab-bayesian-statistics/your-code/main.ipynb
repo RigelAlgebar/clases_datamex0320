{
 "cells": [
  {
   "cell_type": "markdown",
   "metadata": {},
   "source": [
    "# Intro to Bayesian Statistics Lab\n",
    "\n",
    "Complete the following set of exercises to solidify your knowledge of Bayesian statistics and Bayesian data analysis."
   ]
  },
  {
   "cell_type": "code",
   "execution_count": 1,
   "metadata": {},
   "outputs": [],
   "source": [
    "import pandas as pd\n",
    "import numpy as np\n",
    "import matplotlib.pyplot as plt"
   ]
  },
  {
   "cell_type": "markdown",
   "metadata": {},
   "source": [
    "## 1. Cookie Problem\n",
    "\n",
    "Suppose we have two bowls of cookies. Bowl 1 contains 30 vanilla cookies and 10 chocolate cookies. Bowl 2 contains 20 of each. You randomly pick one cookie out of one of the bowls, and it is vanilla. Use Bayes Theorem to calculate the probability that the vanilla cookie you picked came from Bowl 1?"
   ]
  },
  {
   "cell_type": "code",
   "execution_count": 2,
   "metadata": {},
   "outputs": [],
   "source": [
    "def bayes(priori, verosimilitud):                    # regla de Bayes\n",
    "    marginal=sum(np.multiply(priori, verosimilitud))\n",
    "    posteriori=np.divide(np.multiply(priori, verosimilitud), marginal)\n",
    "    return posteriori"
   ]
  },
  {
   "cell_type": "code",
   "execution_count": 3,
   "metadata": {},
   "outputs": [],
   "source": [
    "prioris=[1/2, 1/2]         # cuenco de galletas\n",
    "\n",
    "v_vainilla=[3/4, 2/4]      # verosimilitud vainilla\n",
    "v_chocolate=[1/4, 2/4]     # verosimilitud chocolate"
   ]
  },
  {
   "cell_type": "code",
   "execution_count": 4,
   "metadata": {},
   "outputs": [
    {
     "name": "stdout",
     "output_type": "stream",
     "text": [
      "0.6\n"
     ]
    }
   ],
   "source": [
    "print (bayes(prioris, v_vainilla)[0])\n",
    "# 0.6 => 60% de probabilidad de que venga del cuenco de galletas 1."
   ]
  },
  {
   "cell_type": "markdown",
   "metadata": {},
   "source": [
    "What is the probability that it came from Bowl 2?"
   ]
  },
  {
   "cell_type": "code",
   "execution_count": 5,
   "metadata": {},
   "outputs": [
    {
     "name": "stdout",
     "output_type": "stream",
     "text": [
      "0.4\n",
      "0.4\n"
     ]
    }
   ],
   "source": [
    "print (bayes(prioris, v_vainilla)[1])\n",
    "print (1-bayes(prioris, v_vainilla)[0])\n",
    "# 0.4 => 40% de probabilidad de que venga del cuenco de galletas 2."
   ]
  },
  {
   "cell_type": "markdown",
   "metadata": {},
   "source": [
    "What if the cookie you had picked was chocolate? What are the probabilities that the chocolate cookie came from Bowl 1 and Bowl 2 respectively?"
   ]
  },
  {
   "cell_type": "code",
   "execution_count": 6,
   "metadata": {},
   "outputs": [
    {
     "name": "stdout",
     "output_type": "stream",
     "text": [
      "[0.33333333 0.66666667]\n"
     ]
    }
   ],
   "source": [
    "print (bayes(prioris, v_chocolate))\n",
    "# 0.333 => 33.3% de probabilidad de que venga del cuenco de galletas 1.\n",
    "# 0.667 => 66.7% de probabilidad de que venga del cuenco de galletas 2."
   ]
  },
  {
   "cell_type": "markdown",
   "metadata": {},
   "source": [
    "## 2. Candy Problem\n",
    "\n",
    "Suppose you have two bags of candies:\n",
    "\n",
    "- In Bag 1, the mix of colors is:\n",
    "    - Brown - 30%\n",
    "    - Yellow - 20%\n",
    "    - Red - 20%\n",
    "    - Green - 10%\n",
    "    - Orange - 10%\n",
    "    - Tan - 10%\n",
    "    \n",
    "- In Bag 2, the mix of colors is:\n",
    "    - Blue - 24%\n",
    "    - Green - 20%\n",
    "    - Orange - 16%\n",
    "    - Yellow - 14%\n",
    "    - Red - 13%\n",
    "    - Brown - 13%\n",
    "    \n",
    "Not knowing which bag is which, you randomly draw one candy from each bag. One is yellow and one is green. What is the probability that the yellow one came from the Bag 1?\n",
    "\n",
    "*Hint: For the likelihoods, you will need to multiply the probabilities of drawing yellow from one bag and green from the other bag and vice versa.*"
   ]
  },
  {
   "cell_type": "code",
   "execution_count": 7,
   "metadata": {},
   "outputs": [],
   "source": [
    "prioris=[1/2, 1/2]         # bolsas\n",
    "\n",
    "v_marron=[0.3, 0.13]       # verosimilitud marron\n",
    "v_amarillo=[0.2, 0.14]     # verosimilitud amarillo\n",
    "v_rojo=[0.2, 0.13]         # verosimilitud rojo\n",
    "v_verde=[0.1, 0.2]         # verosimilitud verde\n",
    "v_naranja=[0.1, 0.16]      # verosimilitud naranja\n",
    "v_mandarina=[0.1, 0]       # verosimilitud mandarina\n",
    "v_azul=[0, 0.24]           # verosimilitud azul"
   ]
  },
  {
   "cell_type": "code",
   "execution_count": 8,
   "metadata": {},
   "outputs": [
    {
     "name": "stdout",
     "output_type": "stream",
     "text": [
      "0.7407407407407408\n"
     ]
    }
   ],
   "source": [
    "print (bayes(prioris, [v_amarillo[0]*v_verde[1], v_amarillo[1]*v_verde[0]])[0])\n",
    "# 0.7407 => 74.1% de probabilidad de que la amarilla venga de la bolsa 1."
   ]
  },
  {
   "cell_type": "markdown",
   "metadata": {},
   "source": [
    "What is the probability that the yellow candy came from Bag 2?"
   ]
  },
  {
   "cell_type": "code",
   "execution_count": 9,
   "metadata": {},
   "outputs": [
    {
     "name": "stdout",
     "output_type": "stream",
     "text": [
      "0.25925925925925924\n"
     ]
    }
   ],
   "source": [
    "print (bayes(prioris, [v_amarillo[0]*v_verde[1], v_amarillo[1]*v_verde[0]])[1])\n",
    "# 0.259 => 25.9% de probabilidad de que la amarilla venga de la bolsa 2."
   ]
  },
  {
   "cell_type": "markdown",
   "metadata": {},
   "source": [
    "What are the probabilities that the green one came from Bag 1 and Bag 2 respectively?"
   ]
  },
  {
   "cell_type": "markdown",
   "metadata": {},
   "source": [
    "Las probabilidades de la verde son las complementarias de cada una, es decir, la probabilidad de que la verde venga de la bolsa 1 es 0.259 y la probabilidad de que la verde venga de la bolsa 2 es 0.7407. "
   ]
  },
  {
   "cell_type": "markdown",
   "metadata": {},
   "source": [
    "## 3. Monty Hall Problem\n",
    "\n",
    "Suppose you are a contestant on the popular game show *Let's Make a Deal*. The host of the show (Monty Hall) presents you with three doors - Door A, Door B, and Door C. He tells you that there is a sports car behind one of them and if you choose the correct one, you win the car!\n",
    "\n",
    "You select Door A, but then Monty makes things a little more interesting. He opens Door B to reveal that there is no sports car behind it and asks you if you would like to stick with your choice of Door A or switch your choice to Door C. Given this new information, what are the probabilities of you winning the car if you stick with Door A versus if you switch to Door C?"
   ]
  },
  {
   "cell_type": "code",
   "execution_count": 10,
   "metadata": {},
   "outputs": [
    {
     "name": "stdout",
     "output_type": "stream",
     "text": [
      "0.3333333333333333\n",
      "0.6666666666666666\n"
     ]
    }
   ],
   "source": [
    "prioris=[1/3, 1/3, 1/3]         # puertas\n",
    "\n",
    "v_premio=[0, 1/2, 1]            # verosimilitud del premio\n",
    "\n",
    "\n",
    "print (bayes(prioris, v_premio)[1])\n",
    "# si no se cambia de puerta la probabilidad es 1/3\n",
    "\n",
    "print (bayes(prioris, v_premio)[2])\n",
    "# si se cambia de puerta la probabilidad es 2/3"
   ]
  },
  {
   "cell_type": "markdown",
   "metadata": {},
   "source": [
    "## 4. Bayesian Analysis \n",
    "\n",
    "Suppose you work for a landscaping company, and they want to advertise their service online. They create an ad and sit back waiting for the money to roll in. On the first day, the ad sends 100 visitors to the site and 14 of them sign up for landscaping services. Create a generative model to come up with the posterior distribution and produce a visualization of what the posterior distribution would look like given the observed data."
   ]
  },
  {
   "cell_type": "code",
   "execution_count": 11,
   "metadata": {},
   "outputs": [
    {
     "data": {
      "image/png": "[encoded data removed]",
      "text/plain": [
       "<Figure size 432x288 with 1 Axes>"
      ]
     },
     "metadata": {
      "needs_background": "light"
     },
     "output_type": "display_data"
    }
   ],
   "source": [
    "priori=pd.Series(np.random.uniform(0, 1, size=10000))    # distribucion a priori uniforme\n",
    "sign_up=14                                               # 14 personas piden servicio\n",
    "\n",
    "\n",
    "def modelo(param):                           # modelo binomial random\n",
    "    res=np.random.binomial(100, param)       # se suponen 100 visitas\n",
    "    return res\n",
    "\n",
    "\n",
    "datos=[modelo(p) for p in priori]\n",
    "\n",
    "posteriori=priori[list(map(lambda x: x==sign_up, datos))]   # se genera el a posteriori\n",
    "posteriori.hist()\n",
    "plt.show()"
   ]
  },
  {
   "cell_type": "markdown",
   "metadata": {},
   "source": [
    "Produce a set of descriptive statistics for the posterior distribution."
   ]
  },
  {
   "cell_type": "code",
   "execution_count": 12,
   "metadata": {},
   "outputs": [
    {
     "name": "stdout",
     "output_type": "stream",
     "text": [
      "Se describe el a posteriori:\n",
      "count    89.000000\n",
      "mean      0.151021\n",
      "std       0.036390\n",
      "min       0.060042\n",
      "25%       0.127549\n",
      "50%       0.148966\n",
      "75%       0.173635\n",
      "max       0.247753\n",
      "dtype: float64\n"
     ]
    }
   ],
   "source": [
    "print ('Se describe el a posteriori:')\n",
    "print (posteriori.describe())"
   ]
  },
  {
   "cell_type": "markdown",
   "metadata": {},
   "source": [
    "What is the 90% credible interval range?"
   ]
  },
  {
   "cell_type": "code",
   "execution_count": 13,
   "metadata": {},
   "outputs": [
    {
     "name": "stdout",
     "output_type": "stream",
     "text": [
      "Rango intercuantil:  0.10233146553574853 | 0.2066090435104132\n"
     ]
    }
   ],
   "source": [
    "print('Rango intercuantil: ', posteriori.quantile(.05), '|', posteriori.quantile(.95))   \n",
    "# rango intercuantil (90% de confianza)"
   ]
  },
  {
   "cell_type": "markdown",
   "metadata": {},
   "source": [
    "What is the Maximum Likelihood Estimate?"
   ]
  },
  {
   "cell_type": "code",
   "execution_count": 14,
   "metadata": {},
   "outputs": [
    {
     "name": "stdout",
     "output_type": "stream",
     "text": [
      "Estimación máximo-verosímil:  0.13 | 0.1797752808988764\n"
     ]
    }
   ],
   "source": [
    "modo=posteriori.round(2).mode()[0]      #redondeo para maxima verosimilitud proporcion de visitantes...\n",
    "prob=list(posteriori.round(2)).count(modo)/len(posteriori.round(2))  # ....con probabilidad \n",
    "print('Estimación máximo-verosímil: ', modo, '|',prob)"
   ]
  },
  {
   "cell_type": "code",
   "execution_count": null,
   "metadata": {},
   "outputs": [],
   "source": []
  }
 ],
 "metadata": {
  "kernelspec": {
   "display_name": "Python 3",
   "language": "python",
   "name": "python3"
  },
  "language_info": {
   "codemirror_mode": {
    "name": "ipython",
    "version": 3
   },
   "file_extension": ".py",
   "mimetype": "text/x-python",
   "name": "python",
   "nbconvert_exporter": "python",
   "pygments_lexer": "ipython3",
   "version": "3.7.2"
  }
 },
 "nbformat": 4,
 "nbformat_minor": 2
}
