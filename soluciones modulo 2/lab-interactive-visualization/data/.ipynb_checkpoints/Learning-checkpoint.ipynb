{
 "cells": [
  {
   "cell_type": "markdown",
   "metadata": {},
   "source": [
    "# Interactive Data Visualization\n",
    "\n",
    "\n",
    "\n",
    "Lesson Goals\n",
    "\n",
    "    Learn about interactive visualizations.\n",
    "    Introduce the plotly and cufflinks libraries.\n",
    "    Create interactive histograms.\n",
    "    Create interactive bar charts.\n",
    "    Create interactive line charts.\n",
    "    Create interactive scatter plots.\n",
    "    Create interactive bubble charts.\n",
    "    Create interactive heatmaps.\n",
    "\n",
    "Introduction\n",
    "\n",
    "So far in the program, we have covered a variety of ways to visualize information. We have seen histograms, bar charts, line charts, scatter plots, and even some more advanced visualizations like box plots, violin plots, and scatter matrices.\n",
    "\n",
    "However, these visualizations have been static and, while perfectly suitable and informative, the world is moving in the direction of interactive visualization. When we add interactivity to our visualizations, one of the benefits we immediately derive is the ability to view values of different data points simply by hovering over them. We also get the ability to zoom in and out as well as remove and add back different series of data points, which allows us to explore our data in ways that we simply could not with static visualizations.\n",
    "\n",
    "In the past, in order to construct interactive visualizations in the browser, you had to learn D3 or JavaScript. These days, there are Python libraries that sit on top of D3 which give us the ability to generate interactive visualizations directly from Python. In this lesson, we will be using a couple of these new libraries (Plotly and cufflinks) to construct our interactive visualizations. Plotly is an open source visualization library, and cufflinks is a wrapper around Plotly that allows you to easily produce interactive visualizations - often with a single line of code!\n",
    "\n",
    "Before we jump into the lesson, let's make sure both of these libraries are installed.\n",
    "\n",
    "$ pip install plotly\n",
    "\n",
    "$ pip install cufflinks\n",
    "\n",
    "Let's also import the libraries we are going to need for this lesson and set cufflinks to offline mode so that we can just visualize our interactive charts in the Jupyter Notebook. If we did not specify, it would push each visualization created up to your Plotly account.\n",
    "\n"
   ]
  },
  {
   "cell_type": "code",
   "execution_count": null,
   "metadata": {},
   "outputs": [],
   "source": []
  }
 ],
 "metadata": {
  "kernelspec": {
   "display_name": "Python 3",
   "language": "python",
   "name": "python3"
  },
  "language_info": {
   "codemirror_mode": {
    "name": "ipython",
    "version": 3
   },
   "file_extension": ".py",
   "mimetype": "text/x-python",
   "name": "python",
   "nbconvert_exporter": "python",
   "pygments_lexer": "ipython3",
   "version": "3.7.2"
  }
 },
 "nbformat": 4,
 "nbformat_minor": 2
}
